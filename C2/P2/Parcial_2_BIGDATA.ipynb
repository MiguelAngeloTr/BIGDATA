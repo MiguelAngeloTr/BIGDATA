{
  "nbformat": 4,
  "nbformat_minor": 0,
  "metadata": {
    "colab": {
      "provenance": [],
      "include_colab_link": true
    },
    "kernelspec": {
      "name": "python3",
      "display_name": "Python 3"
    },
    "language_info": {
      "name": "python"
    }
  },
  "cells": [
    {
      "cell_type": "markdown",
      "metadata": {
        "id": "view-in-github",
        "colab_type": "text"
      },
      "source": [
        "<a href=\"https://colab.research.google.com/github/MiguelAngeloTr/BIGDATA/blob/main/C2/P2/Parcial_2_BIGDATA.ipynb\" target=\"_parent\"><img src=\"https://colab.research.google.com/assets/colab-badge.svg\" alt=\"Open In Colab\"/></a>"
      ]
    },
    {
      "cell_type": "markdown",
      "source": [
        "\n",
        "##Universidad Autónoma de Occidente\n",
        "\n",
        "##Facultad de Ingenierías y Ciencias Básicas\n",
        "\n",
        "##Curso: Big Data\n",
        "\n",
        "##Profesor: Juan Sebastian Mosquera\n",
        "\n",
        "##Correo: smosquera@uao.edu.co\n",
        "\n",
        "---\n",
        "\n",
        "### **NOMBRE COMPLETO:**\n",
        "\n",
        "###**CODIGO:**\n",
        "\n",
        "### **PROGRAMA:**\n",
        "\n",
        "---\n",
        "\n",
        "### **Condiciones**\n",
        "\n",
        "*   Pueden usar los archivos Google Colab trabajados en clase.\n",
        "*   Utilizar PySpark para el procesamiento de datos y aplicación de la tarea de ML, para gráficos pueden migrar a pandas unicamente las variables seleccionadas.\n",
        "*   No pueden usar IA para buscar las respuetas del examen. Quien sea visto en flagrancia, el examen será **anulado**.\n",
        "*   Pueden usar el material de referencia de UAO virtual\n",
        "*   Subir el archivo con extensión .ipynb a la plataforma antes de las 11:59 PM.\n",
        "\n",
        "# **Examen 2**\n",
        "\n",
        "Se presentan dos conjuntos de datos con multiples características. Se requiere llevar a cabo una tarea de regresión y una de clasificación con cada uno de ellos, es decir, deberá elegir que tarea resolver para el primer dataset y realizar la otra tarea para el segundo.\n",
        "\n",
        "## **Dataset 1**\n",
        "\n",
        "El conjunto de datos es el resultado de un análisis de la estabilidad local de un sistema en estrella de 4 nodos (el productor de electricidad está en el centro) aplicando el concepto de control descentralizado de una red inteligente.\n",
        "\n",
        "Este conjunto comprende 10.000 registros, que permiten determinar la estabilidad del sistema\n",
        "\n",
        "- tau[x]: reaction time of participant (real from the range [0.5,10]s). Tau1 - the value for electricity producer.\n",
        "- p[x]: nominal power consumed(negative)/produced(positive)(real). For consumers from the range [-0.5,-2]s^-2; p1 = abs(p2 + p3 + p4)\n",
        "- g[x]: coefficient (gamma) proportional to price elasticity (real from the range [0.05,1]s^-1). g1 - the value for electricity producer.\n",
        "- **stab:** the maximal real part of the characteristic equation root (if positive - the system is linearly unstable)(real)\n",
        "- **stabf:** the stability label of the system (categorical: stable/unstable)\n",
        "\n",
        "## **Dataset 2**\n",
        "\n",
        "El conjunto de datos continee datos provenientes de un acelerómetro de las vibraciones de un ventilador con pesos en sus aspas.\n",
        "\n",
        "Para generar vibraciones se utilizó un ventilador con pesas en las aspas. A este ventilador se le acopló un acelerómetro para recoger los datos de las vibraciones. Con estos datos, se hicieron predicciones del tiempo de fallo del motor, utilizando una red neuronal artificial. Para generar tres escenarios de vibración distintos, los pesos se distribuyeron de tres maneras diferentes: 1) «rojo» - configuración normal: dos piezas de peso colocadas en palas vecinas; 2) “azul” - configuración perpendicular: dos piezas de peso colocadas en palas que forman un ángulo de 90°; 3) «verde» - configuración opuesta: dos piezas de peso colocadas en palas opuestas.\n",
        "\n",
        "Se establecieron 17 velocidades de rotación, entre el 20% y el 100% de la velocidad máxima del ventilador a intervalos del 5%; para las tres configuraciones de distribución de pesos en las palas del ventilador.\n",
        "\n",
        "Las mediciones de vibración se recogieron a una frecuencia de 20 ms durante 1 min para cada porcentaje, generando 3000 registros por velocidad. Así, en total, se recogieron 153.000 registros de vibración del modelo de simulación.\n",
        "\n",
        "Las variables registradas son las siguientes:\n",
        "\n",
        "- **wconfid:** Weight Configuration ID (1 - 'red' - normal configuration; 2 - 'blue' - perpendicular configuration; 3 - 'green' - opposite configuration)\n",
        "- **pctid:** Cooler Fan RPM Speed Percentage ID (20 means 20%, and so on).\n",
        "- x: Accelerometer x value.\n",
        "- y: Accelerometer y value.\n",
        "- z: Accelerometer z value.\n",
        "\n",
        "### Realice el ajuste a los modelo de ML seleccionados teniendo en cuenta todo el flujo de trabajo visto en clase:\n",
        "\n",
        "* Preprocesado de datos (Vacios, columnas innecesarias, entre otros)\n",
        "* Analisis Exploratorio de Datos (Bien realizada y con escritos apoyados en datos de que sucede en este dataset)\n",
        "* Seleccion de Características (al menos deben ser 2, maximo las que consideren necesarias. Todo debidamente soportado)\n",
        "* Encoding de variables categoricas si aplica.\n",
        "* Entrenamiento del Modelo\n",
        "* Validación del Modelo\n",
        "\n",
        "Finalmente se esperan conclusiones sobre el modelo, donde determinen si los resultados son confiables o no."
      ],
      "metadata": {
        "id": "qWENuOSyocKx"
      }
    },
    {
      "cell_type": "code",
      "source": [
        "\n",
        "\n",
        "!pip install -q pyspark\n",
        "!pip install -q findspark\n"
      ],
      "metadata": {
        "id": "vocGgpz-msDi"
      },
      "execution_count": 3,
      "outputs": []
    },
    {
      "cell_type": "code",
      "source": [
        "import pandas as pd\n",
        "import numpy as np\n",
        "from pyspark.sql import SparkSession\n",
        "import pyspark.sql.functions as F\n",
        "import pyspark.sql.window as W\n",
        "import pyspark.sql.types as T\n",
        "import seaborn as sns\n",
        "import matplotlib.pyplot as plt"
      ],
      "metadata": {
        "id": "vhHWPNlanud3"
      },
      "execution_count": 4,
      "outputs": []
    },
    {
      "cell_type": "code",
      "source": [
        "spark = SparkSession.builder.appName(\"AED PySpark\").getOrCreate()\n",
        "spark\n",
        ""
      ],
      "metadata": {
        "id": "Hi3XgR_ynyeS",
        "outputId": "f42d6853-a79d-455a-c534-b3b62e6f7608",
        "colab": {
          "base_uri": "https://localhost:8080/",
          "height": 219
        }
      },
      "execution_count": 5,
      "outputs": [
        {
          "output_type": "execute_result",
          "data": {
            "text/plain": [
              "<pyspark.sql.session.SparkSession at 0x7cbf27c22590>"
            ],
            "text/html": [
              "\n",
              "            <div>\n",
              "                <p><b>SparkSession - in-memory</b></p>\n",
              "                \n",
              "        <div>\n",
              "            <p><b>SparkContext</b></p>\n",
              "\n",
              "            <p><a href=\"http://b6c9e43815d8:4040\">Spark UI</a></p>\n",
              "\n",
              "            <dl>\n",
              "              <dt>Version</dt>\n",
              "                <dd><code>v3.5.5</code></dd>\n",
              "              <dt>Master</dt>\n",
              "                <dd><code>local[*]</code></dd>\n",
              "              <dt>AppName</dt>\n",
              "                <dd><code>AED PySpark</code></dd>\n",
              "            </dl>\n",
              "        </div>\n",
              "        \n",
              "            </div>\n",
              "        "
            ]
          },
          "metadata": {},
          "execution_count": 5
        }
      ]
    },
    {
      "cell_type": "code",
      "source": [
        "#cargar dataset1\n",
        "\n",
        "import requests\n",
        "path = \"https://raw.githubusercontent.com/MiguelAngeloTr/BIGDATA/refs/heads/main/C2/P2/dataset1.csv\"\n",
        "req = requests.get(path)\n",
        "url_content = req.content\n",
        "\n",
        "csv_file_name = 'dataset1.csv'\n",
        "csv_file = open(csv_file_name, 'wb')\n",
        "\n",
        "csv_file.write(url_content)\n",
        "csv_file.close()\n",
        "\n",
        "\n",
        "\n",
        "#cargar dataset2\n",
        "\n",
        "import requests\n",
        "path = \"https://raw.githubusercontent.com/MiguelAngeloTr/BIGDATA/refs/heads/main/C2/P2/dataset2.csv\"\n",
        "req = requests.get(path)\n",
        "url_content = req.content\n",
        "\n",
        "csv_file_name = 'dataset2.csv'\n",
        "csv_file = open(csv_file_name, 'wb')\n",
        "\n",
        "csv_file.write(url_content)\n",
        "csv_file.close()"
      ],
      "metadata": {
        "id": "hOOUcEeYnkAr"
      },
      "execution_count": 11,
      "outputs": []
    },
    {
      "cell_type": "code",
      "source": [
        "df1 = spark.read.csv('/content/dataset1.csv', header=True, inferSchema=True)\n",
        "print('Shape of the dataset: ', (df1.count(), len(df1.columns)))\n",
        "df1.show(n=10)\n",
        "df2 = spark.read.csv('/content/dataset2.csv', header=True, inferSchema=True)\n",
        "print('Shape of the dataset: ', (df2.count(), len(df2.columns)))\n",
        "df2.show(n=10)"
      ],
      "metadata": {
        "id": "NdHc0Wy1oFcE",
        "outputId": "21b36a96-8936-4831-b5cf-1ba62021e701",
        "colab": {
          "base_uri": "https://localhost:8080/"
        }
      },
      "execution_count": 12,
      "outputs": [
        {
          "output_type": "stream",
          "name": "stdout",
          "text": [
            "Shape of the dataset:  (10000, 14)\n",
            "+-----------------+----------------+----------------+----------------+----------------+------------------+------------------+------------------+-----------------+------------------+-----------------+-----------------+--------------------+--------+\n",
            "|             tau1|            tau2|            tau3|            tau4|              p1|                p2|                p3|                p4|               g1|                g2|               g3|               g4|                stab|   stabf|\n",
            "+-----------------+----------------+----------------+----------------+----------------+------------------+------------------+------------------+-----------------+------------------+-----------------+-----------------+--------------------+--------+\n",
            "| 2.95906002455997|3.07988520422811|8.38102539191882|9.78075443222607|3.76308477206316|-0.782603630987543| -1.25739482958732|  -1.7230863114883|0.650456460887227| 0.859578105752345|0.887444920638513|0.958033987602737|  0.0553474891727752|unstable|\n",
            "|  9.3040972346785|4.90252411201167|3.04754072762177|1.36935735529605|5.06781210427845| -1.94005842705193| -1.87274168559721| -1.25501199162931| 0.41344056837935| 0.862414076352903|0.562139050527675|0.781759910653126|-0.00595746432603695|  stable|\n",
            "| 8.97170690932022|8.84842842134833|3.04647874898866|1.21451813833956|3.40515818001095| -1.20745559234302| -1.27721014673295| -0.92049244093498|0.163041039311334| 0.766688656526962|0.839444015400588|0.109853244952427| 0.00347087904838871|unstable|\n",
            "|0.716414776295121|7.66959964406565|4.48664083058949|2.34056298396795|3.96379106326633| -1.02747330413905|  -1.9389441526466|-0.997373606480681|0.446208906537321| 0.976744082924302|0.929380522872661| 0.36271777426931|   0.028870543444887|unstable|\n",
            "| 3.13411155161342|7.60877161603408|4.94375930178099|9.85757326996638|3.52581081652096| -1.12553095451115| -1.84597485447561|-0.554305007534195|0.797109525792467| 0.455449947148291|0.656946658473716|0.820923486481631|  0.0498603734837059|unstable|\n",
            "| 6.99920870915215|9.10924671643764| 3.7840659093988|4.26778760341917|4.42966882280625| -1.85713917685067|-0.670396827477973| -1.90213281847761|0.261792854117035|0.0779296721686504|0.542883858522323|0.469931041283024| -0.0173849069339299|  stable|\n",
            "| 6.71016636762265|3.76520418352323|6.92931443867021|8.81856192345691|2.39741922937942|-0.614589561907959| -1.20882589139371|-0.574003776077751|0.177889561089242| 0.397976580119618|0.402045952122677|0.376630279179848|  0.0059535705684696|unstable|\n",
            "| 6.95351155782518|1.37912500228657|5.71940003020014|7.87030742603241|3.22449515790325|-0.748997751247627|  -1.1865169283662| -1.28898047828942|0.371384852592056| 0.633203555433068|0.732740894287254|0.380544478575059|  0.0166342974538163|unstable|\n",
            "| 4.68985192749584|4.00774746209312|1.47857287590383|3.73378749230253|4.04129961368168| -1.41034431234687| -1.23820427574315| -1.39275102559166|0.269708270661235| 0.250364217202032|0.164941118523114|0.482439411001001| -0.0386765836142913|  stable|\n",
            "| 9.84149648830214|1.41382159178999|9.76985554870019|7.64161626330592|4.72759504201898| -1.99136336778711|-0.857637206946418| -1.87859446728545|0.376355980566834| 0.544415315810004|0.792039424640656|0.116262822352385|  0.0123834141734175|unstable|\n",
            "+-----------------+----------------+----------------+----------------+----------------+------------------+------------------+------------------+-----------------+------------------+-----------------+-----------------+--------------------+--------+\n",
            "only showing top 10 rows\n",
            "\n",
            "Shape of the dataset:  (153000, 5)\n",
            "+-------+-----+-----+------+------+\n",
            "|wconfid|pctid|    x|     y|     z|\n",
            "+-------+-----+-----+------+------+\n",
            "|      1|   20|1.004|  0.09|-0.125|\n",
            "|      1|   20|1.004|-0.043|-0.125|\n",
            "|      1|   20|0.969|  0.09|-0.121|\n",
            "|      1|   20|0.973|-0.012|-0.137|\n",
            "|      1|   20|  1.0|-0.016|-0.121|\n",
            "|      1|   20|0.961| 0.082|-0.121|\n",
            "|      1|   20|0.973|-0.055|-0.109|\n",
            "|      1|   20|  1.0| 0.012|-0.133|\n",
            "|      1|   20|0.969|-0.102|-0.141|\n",
            "|      1|   20|0.973|-0.059|-0.125|\n",
            "+-------+-----+-----+------+------+\n",
            "only showing top 10 rows\n",
            "\n"
          ]
        }
      ]
    }
  ]
}