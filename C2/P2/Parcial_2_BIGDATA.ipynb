{
  "nbformat": 4,
  "nbformat_minor": 0,
  "metadata": {
    "colab": {
      "provenance": [],
      "include_colab_link": true
    },
    "kernelspec": {
      "name": "python3",
      "display_name": "Python 3"
    },
    "language_info": {
      "name": "python"
    }
  },
  "cells": [
    {
      "cell_type": "markdown",
      "metadata": {
        "id": "view-in-github",
        "colab_type": "text"
      },
      "source": [
        "<a href=\"https://colab.research.google.com/github/MiguelAngeloTr/BIGDATA/blob/main/C2/P2/Parcial_2_BIGDATA.ipynb\" target=\"_parent\"><img src=\"https://colab.research.google.com/assets/colab-badge.svg\" alt=\"Open In Colab\"/></a>"
      ]
    },
    {
      "cell_type": "markdown",
      "source": [
        "\n",
        "##Universidad Autónoma de Occidente\n",
        "\n",
        "##Facultad de Ingenierías y Ciencias Básicas\n",
        "\n",
        "##Curso: Big Data\n",
        "\n",
        "##Profesor: Juan Sebastian Mosquera\n",
        "\n",
        "##Correo: smosquera@uao.edu.co\n",
        "\n",
        "---\n",
        "\n",
        "### **NOMBRE COMPLETO:**\n",
        "\n",
        "###**CODIGO:**\n",
        "\n",
        "### **PROGRAMA:**\n",
        "\n",
        "---\n",
        "\n",
        "### **Condiciones**\n",
        "\n",
        "*   Pueden usar los archivos Google Colab trabajados en clase.\n",
        "*   Utilizar PySpark para el procesamiento de datos y aplicación de la tarea de ML, para gráficos pueden migrar a pandas unicamente las variables seleccionadas.\n",
        "*   No pueden usar IA para buscar las respuetas del examen. Quien sea visto en flagrancia, el examen será **anulado**.\n",
        "*   Pueden usar el material de referencia de UAO virtual\n",
        "*   Subir el archivo con extensión .ipynb a la plataforma antes de las 11:59 PM.\n",
        "\n",
        "# **Examen 2**\n",
        "\n",
        "Se presentan dos conjuntos de datos con multiples características. Se requiere llevar a cabo una tarea de regresión y una de clasificación con cada uno de ellos, es decir, deberá elegir que tarea resolver para el primer dataset y realizar la otra tarea para el segundo.\n",
        "\n",
        "## **Dataset 1**\n",
        "\n",
        "El conjunto de datos es el resultado de un análisis de la estabilidad local de un sistema en estrella de 4 nodos (el productor de electricidad está en el centro) aplicando el concepto de control descentralizado de una red inteligente.\n",
        "\n",
        "Este conjunto comprende 10.000 registros, que permiten determinar la estabilidad del sistema\n",
        "\n",
        "- tau[x]: reaction time of participant (real from the range [0.5,10]s). Tau1 - the value for electricity producer.\n",
        "- p[x]: nominal power consumed(negative)/produced(positive)(real). For consumers from the range [-0.5,-2]s^-2; p1 = abs(p2 + p3 + p4)\n",
        "- g[x]: coefficient (gamma) proportional to price elasticity (real from the range [0.05,1]s^-1). g1 - the value for electricity producer.\n",
        "- **stab:** the maximal real part of the characteristic equation root (if positive - the system is linearly unstable)(real)\n",
        "- **stabf:** the stability label of the system (categorical: stable/unstable)\n",
        "\n",
        "## **Dataset 2**\n",
        "\n",
        "El conjunto de datos continee datos provenientes de un acelerómetro de las vibraciones de un ventilador con pesos en sus aspas.\n",
        "\n",
        "Para generar vibraciones se utilizó un ventilador con pesas en las aspas. A este ventilador se le acopló un acelerómetro para recoger los datos de las vibraciones. Con estos datos, se hicieron predicciones del tiempo de fallo del motor, utilizando una red neuronal artificial. Para generar tres escenarios de vibración distintos, los pesos se distribuyeron de tres maneras diferentes: 1) «rojo» - configuración normal: dos piezas de peso colocadas en palas vecinas; 2) “azul” - configuración perpendicular: dos piezas de peso colocadas en palas que forman un ángulo de 90°; 3) «verde» - configuración opuesta: dos piezas de peso colocadas en palas opuestas.\n",
        "\n",
        "Se establecieron 17 velocidades de rotación, entre el 20% y el 100% de la velocidad máxima del ventilador a intervalos del 5%; para las tres configuraciones de distribución de pesos en las palas del ventilador.\n",
        "\n",
        "Las mediciones de vibración se recogieron a una frecuencia de 20 ms durante 1 min para cada porcentaje, generando 3000 registros por velocidad. Así, en total, se recogieron 153.000 registros de vibración del modelo de simulación.\n",
        "\n",
        "Las variables registradas son las siguientes:\n",
        "\n",
        "- **wconfid:** Weight Configuration ID (1 - 'red' - normal configuration; 2 - 'blue' - perpendicular configuration; 3 - 'green' - opposite configuration)\n",
        "- **pctid:** Cooler Fan RPM Speed Percentage ID (20 means 20%, and so on).\n",
        "- x: Accelerometer x value.\n",
        "- y: Accelerometer y value.\n",
        "- z: Accelerometer z value.\n",
        "\n",
        "### Realice el ajuste a los modelo de ML seleccionados teniendo en cuenta todo el flujo de trabajo visto en clase:\n",
        "\n",
        "* Preprocesado de datos (Vacios, columnas innecesarias, entre otros)\n",
        "* Analisis Exploratorio de Datos (Bien realizada y con escritos apoyados en datos de que sucede en este dataset)\n",
        "* Seleccion de Características (al menos deben ser 2, maximo las que consideren necesarias. Todo debidamente soportado)\n",
        "* Encoding de variables categoricas si aplica.\n",
        "* Entrenamiento del Modelo\n",
        "* Validación del Modelo\n",
        "\n",
        "Finalmente se esperan conclusiones sobre el modelo, donde determinen si los resultados son confiables o no."
      ],
      "metadata": {
        "id": "qWENuOSyocKx"
      }
    }
  ]
}