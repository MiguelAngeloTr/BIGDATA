{
  "nbformat": 4,
  "nbformat_minor": 0,
  "metadata": {
    "colab": {
      "provenance": [],
      "include_colab_link": true
    },
    "kernelspec": {
      "name": "python3",
      "display_name": "Python 3"
    },
    "language_info": {
      "name": "python"
    }
  },
  "cells": [
    {
      "cell_type": "markdown",
      "metadata": {
        "id": "view-in-github",
        "colab_type": "text"
      },
      "source": [
        "<a href=\"https://colab.research.google.com/github/MiguelAngeloTr/BIGDATA/blob/main/C2/ProyectoFinal/Proyectofinal1.ipynb\" target=\"_parent\"><img src=\"https://colab.research.google.com/assets/colab-badge.svg\" alt=\"Open In Colab\"/></a>"
      ]
    },
    {
      "cell_type": "markdown",
      "source": [
        "Info base de datos: https://archive.ics.uci.edu/dataset/222/bank+marketing"
      ],
      "metadata": {
        "id": "iD8lvXt-bUsi"
      }
    },
    {
      "cell_type": "code",
      "source": [
        "!pip install -q pyspark\n",
        "!pip install -q findspark"
      ],
      "metadata": {
        "id": "VRzfBciSJGyh"
      },
      "execution_count": 1,
      "outputs": []
    },
    {
      "cell_type": "code",
      "execution_count": 2,
      "metadata": {
        "id": "jzS7V4P_hYrA"
      },
      "outputs": [],
      "source": [
        "import zipfile\n",
        "import os, pathlib, PIL, shutil, glob\n",
        "from google.colab import files\n",
        "\n",
        "from pyspark.sql import SparkSession\n",
        "import pyspark.sql.functions as F\n",
        "import pyspark.sql.window as W\n",
        "import pyspark.sql.types as T\n",
        "\n",
        "import seaborn as sns\n",
        "import matplotlib.pyplot as plt\n",
        "\n",
        "from pandas.core.dtypes.api import is_numeric_dtype, is_string_dtype\n",
        "from pyspark.ml.feature import OneHotEncoder, StringIndexer, VectorAssembler\n",
        "from pyspark.ml import Pipeline\n",
        "\n",
        "from pyspark.ml.classification import LogisticRegression\n",
        "from mlxtend.plotting import plot_confusion_matrix #falsos positivos falsos negativos\n",
        "from mlxtend.evaluate import confusion_matrix\n",
        "from yellowbrick.classifier import ROCAUC\n",
        "from pyspark.ml.evaluation import BinaryClassificationEvaluator, MulticlassClassificationEvaluator"
      ]
    },
    {
      "cell_type": "code",
      "source": [
        "files.upload()"
      ],
      "metadata": {
        "id": "KqEjDON6diJk",
        "outputId": "c727efa1-1e69-462b-cf11-2f1e2ea5ebd8",
        "colab": {
          "base_uri": "https://localhost:8080/",
          "height": 96
        }
      },
      "execution_count": null,
      "outputs": [
        {
          "output_type": "display_data",
          "data": {
            "text/plain": [
              "<IPython.core.display.HTML object>"
            ],
            "text/html": [
              "\n",
              "     <input type=\"file\" id=\"files-1ea4f9c9-eba5-4bed-9261-81632704ea36\" name=\"files[]\" multiple disabled\n",
              "        style=\"border:none\" />\n",
              "     <output id=\"result-1ea4f9c9-eba5-4bed-9261-81632704ea36\">\n",
              "      Upload widget is only available when the cell has been executed in the\n",
              "      current browser session. Please rerun this cell to enable.\n",
              "      </output>\n",
              "      <script>// Copyright 2017 Google LLC\n",
              "//\n",
              "// Licensed under the Apache License, Version 2.0 (the \"License\");\n",
              "// you may not use this file except in compliance with the License.\n",
              "// You may obtain a copy of the License at\n",
              "//\n",
              "//      http://www.apache.org/licenses/LICENSE-2.0\n",
              "//\n",
              "// Unless required by applicable law or agreed to in writing, software\n",
              "// distributed under the License is distributed on an \"AS IS\" BASIS,\n",
              "// WITHOUT WARRANTIES OR CONDITIONS OF ANY KIND, either express or implied.\n",
              "// See the License for the specific language governing permissions and\n",
              "// limitations under the License.\n",
              "\n",
              "/**\n",
              " * @fileoverview Helpers for google.colab Python module.\n",
              " */\n",
              "(function(scope) {\n",
              "function span(text, styleAttributes = {}) {\n",
              "  const element = document.createElement('span');\n",
              "  element.textContent = text;\n",
              "  for (const key of Object.keys(styleAttributes)) {\n",
              "    element.style[key] = styleAttributes[key];\n",
              "  }\n",
              "  return element;\n",
              "}\n",
              "\n",
              "// Max number of bytes which will be uploaded at a time.\n",
              "const MAX_PAYLOAD_SIZE = 100 * 1024;\n",
              "\n",
              "function _uploadFiles(inputId, outputId) {\n",
              "  const steps = uploadFilesStep(inputId, outputId);\n",
              "  const outputElement = document.getElementById(outputId);\n",
              "  // Cache steps on the outputElement to make it available for the next call\n",
              "  // to uploadFilesContinue from Python.\n",
              "  outputElement.steps = steps;\n",
              "\n",
              "  return _uploadFilesContinue(outputId);\n",
              "}\n",
              "\n",
              "// This is roughly an async generator (not supported in the browser yet),\n",
              "// where there are multiple asynchronous steps and the Python side is going\n",
              "// to poll for completion of each step.\n",
              "// This uses a Promise to block the python side on completion of each step,\n",
              "// then passes the result of the previous step as the input to the next step.\n",
              "function _uploadFilesContinue(outputId) {\n",
              "  const outputElement = document.getElementById(outputId);\n",
              "  const steps = outputElement.steps;\n",
              "\n",
              "  const next = steps.next(outputElement.lastPromiseValue);\n",
              "  return Promise.resolve(next.value.promise).then((value) => {\n",
              "    // Cache the last promise value to make it available to the next\n",
              "    // step of the generator.\n",
              "    outputElement.lastPromiseValue = value;\n",
              "    return next.value.response;\n",
              "  });\n",
              "}\n",
              "\n",
              "/**\n",
              " * Generator function which is called between each async step of the upload\n",
              " * process.\n",
              " * @param {string} inputId Element ID of the input file picker element.\n",
              " * @param {string} outputId Element ID of the output display.\n",
              " * @return {!Iterable<!Object>} Iterable of next steps.\n",
              " */\n",
              "function* uploadFilesStep(inputId, outputId) {\n",
              "  const inputElement = document.getElementById(inputId);\n",
              "  inputElement.disabled = false;\n",
              "\n",
              "  const outputElement = document.getElementById(outputId);\n",
              "  outputElement.innerHTML = '';\n",
              "\n",
              "  const pickedPromise = new Promise((resolve) => {\n",
              "    inputElement.addEventListener('change', (e) => {\n",
              "      resolve(e.target.files);\n",
              "    });\n",
              "  });\n",
              "\n",
              "  const cancel = document.createElement('button');\n",
              "  inputElement.parentElement.appendChild(cancel);\n",
              "  cancel.textContent = 'Cancel upload';\n",
              "  const cancelPromise = new Promise((resolve) => {\n",
              "    cancel.onclick = () => {\n",
              "      resolve(null);\n",
              "    };\n",
              "  });\n",
              "\n",
              "  // Wait for the user to pick the files.\n",
              "  const files = yield {\n",
              "    promise: Promise.race([pickedPromise, cancelPromise]),\n",
              "    response: {\n",
              "      action: 'starting',\n",
              "    }\n",
              "  };\n",
              "\n",
              "  cancel.remove();\n",
              "\n",
              "  // Disable the input element since further picks are not allowed.\n",
              "  inputElement.disabled = true;\n",
              "\n",
              "  if (!files) {\n",
              "    return {\n",
              "      response: {\n",
              "        action: 'complete',\n",
              "      }\n",
              "    };\n",
              "  }\n",
              "\n",
              "  for (const file of files) {\n",
              "    const li = document.createElement('li');\n",
              "    li.append(span(file.name, {fontWeight: 'bold'}));\n",
              "    li.append(span(\n",
              "        `(${file.type || 'n/a'}) - ${file.size} bytes, ` +\n",
              "        `last modified: ${\n",
              "            file.lastModifiedDate ? file.lastModifiedDate.toLocaleDateString() :\n",
              "                                    'n/a'} - `));\n",
              "    const percent = span('0% done');\n",
              "    li.appendChild(percent);\n",
              "\n",
              "    outputElement.appendChild(li);\n",
              "\n",
              "    const fileDataPromise = new Promise((resolve) => {\n",
              "      const reader = new FileReader();\n",
              "      reader.onload = (e) => {\n",
              "        resolve(e.target.result);\n",
              "      };\n",
              "      reader.readAsArrayBuffer(file);\n",
              "    });\n",
              "    // Wait for the data to be ready.\n",
              "    let fileData = yield {\n",
              "      promise: fileDataPromise,\n",
              "      response: {\n",
              "        action: 'continue',\n",
              "      }\n",
              "    };\n",
              "\n",
              "    // Use a chunked sending to avoid message size limits. See b/62115660.\n",
              "    let position = 0;\n",
              "    do {\n",
              "      const length = Math.min(fileData.byteLength - position, MAX_PAYLOAD_SIZE);\n",
              "      const chunk = new Uint8Array(fileData, position, length);\n",
              "      position += length;\n",
              "\n",
              "      const base64 = btoa(String.fromCharCode.apply(null, chunk));\n",
              "      yield {\n",
              "        response: {\n",
              "          action: 'append',\n",
              "          file: file.name,\n",
              "          data: base64,\n",
              "        },\n",
              "      };\n",
              "\n",
              "      let percentDone = fileData.byteLength === 0 ?\n",
              "          100 :\n",
              "          Math.round((position / fileData.byteLength) * 100);\n",
              "      percent.textContent = `${percentDone}% done`;\n",
              "\n",
              "    } while (position < fileData.byteLength);\n",
              "  }\n",
              "\n",
              "  // All done.\n",
              "  yield {\n",
              "    response: {\n",
              "      action: 'complete',\n",
              "    }\n",
              "  };\n",
              "}\n",
              "\n",
              "scope.google = scope.google || {};\n",
              "scope.google.colab = scope.google.colab || {};\n",
              "scope.google.colab._files = {\n",
              "  _uploadFiles,\n",
              "  _uploadFilesContinue,\n",
              "};\n",
              "})(self);\n",
              "</script> "
            ]
          },
          "metadata": {}
        },
        {
          "output_type": "stream",
          "name": "stdout",
          "text": [
            "Saving kaggle.json to kaggle.json\n"
          ]
        },
        {
          "output_type": "execute_result",
          "data": {
            "text/plain": [
              "{'kaggle.json': b'{\"username\":\"bonangelrock\",\"key\":\"799beae43c9c16dfa76c77a938f1711d\"}'}"
            ]
          },
          "metadata": {},
          "execution_count": 7
        }
      ]
    },
    {
      "cell_type": "code",
      "metadata": {
        "id": "KNbyeCbEQT7f"
      },
      "source": [
        "!mkdir -p ~/.kaggle\n",
        "!cp kaggle.json ~/.kaggle/\n",
        "!chmod 600 ~/.kaggle/kaggle.json"
      ],
      "execution_count": null,
      "outputs": []
    },
    {
      "cell_type": "code",
      "metadata": {
        "id": "S35QDVofK5Fp",
        "outputId": "7f0c30bf-9078-4f84-bd10-c9c2b6f1d188",
        "colab": {
          "base_uri": "https://localhost:8080/"
        }
      },
      "source": [
        "!kaggle datasets download -d janiobachmann/bank-marketing-dataset\n",
        "!ls"
      ],
      "execution_count": null,
      "outputs": [
        {
          "output_type": "stream",
          "name": "stdout",
          "text": [
            "Dataset URL: https://www.kaggle.com/datasets/janiobachmann/bank-marketing-dataset\n",
            "License(s): CC0-1.0\n",
            "bank-marketing-dataset.zip  kaggle.json  sample_data\n"
          ]
        }
      ]
    },
    {
      "cell_type": "code",
      "metadata": {
        "id": "AyHm6PvFLHKG"
      },
      "source": [
        "zip_ref = zipfile.ZipFile('bank-marketing-dataset.zip', 'r') #localizar el nombre del archivo .zip y colocarlo\n",
        "zip_ref.extractall('Data') #Extracción de archivos descargados en una carpeta llamada 'files', podria ser cualquier nombre\n",
        "zip_ref.close()"
      ],
      "execution_count": null,
      "outputs": []
    },
    {
      "cell_type": "code",
      "source": [
        "spark = SparkSession.builder.appName(\"LogReg PySpark\").getOrCreate()\n",
        "spark"
      ],
      "metadata": {
        "id": "fLnNS05LRxsT"
      },
      "execution_count": null,
      "outputs": []
    },
    {
      "cell_type": "code",
      "source": [
        "datos = spark.read.csv('/content/Data/bank.csv',inferSchema=True, header=True)\n",
        "datos.show(5, truncate=False)"
      ],
      "metadata": {
        "id": "omvOtBXFRfxk"
      },
      "execution_count": null,
      "outputs": []
    },
    {
      "cell_type": "code",
      "source": [
        "datos.printSchema()"
      ],
      "metadata": {
        "id": "KawCsFHVaTEz"
      },
      "execution_count": null,
      "outputs": []
    },
    {
      "cell_type": "markdown",
      "metadata": {
        "id": "AbUJhmVuuHhs"
      },
      "source": [
        "#Informacion Faltante y Columnas innecesarias\n"
      ]
    },
    {
      "cell_type": "code",
      "source": [
        "datos_f1 = datos.drop(\"duration\")\n",
        "datos_f1.show(5, truncate=False)"
      ],
      "metadata": {
        "id": "P8tWiVhhJj0R"
      },
      "execution_count": null,
      "outputs": []
    },
    {
      "cell_type": "code",
      "source": [
        "def faltantes(df):\n",
        "  falta = df.select([F.sum(F.col(c).isNull().cast('int')).alias(c) for c in df.columns])\n",
        "  return falta.show()"
      ],
      "metadata": {
        "id": "-Szo0b8hTw_J"
      },
      "execution_count": null,
      "outputs": []
    },
    {
      "cell_type": "code",
      "source": [
        "faltantes(datos_f1)"
      ],
      "metadata": {
        "id": "IoOxvjQeTy1Q"
      },
      "execution_count": null,
      "outputs": []
    },
    {
      "cell_type": "markdown",
      "source": [
        "# Analisis Exploratorio de Datos (EDA)"
      ],
      "metadata": {
        "id": "S2QE1U9GPNhS"
      }
    },
    {
      "cell_type": "code",
      "source": [
        "numeric_features = [t[0] for t in datos_f1.dtypes if t[1] == 'int' or t[1] == 'double']\n",
        "datos_f1.select(numeric_features).describe().toPandas().transpose()"
      ],
      "metadata": {
        "id": "CxJ450fecC5i"
      },
      "execution_count": null,
      "outputs": []
    },
    {
      "cell_type": "code",
      "source": [
        "datos_EDA = datos_f1.toPandas()\n",
        "num_list = []\n",
        "cat_list = []\n",
        "\n",
        "fig, axes = plt.subplots(2, len(datos_EDA.columns), figsize=(300, 10))  # Ajusta el tamaño según sea necesario\n",
        "fig.subplots_adjust(hspace=0.4, wspace=0.4)\n",
        "\n",
        "axes = axes.flatten()\n",
        "\n",
        "# Contador para los gráficos\n",
        "graph_count = 0\n",
        "\n",
        "# Iterar sobre las columnas del DataFrame\n",
        "for column in datos_EDA.columns:\n",
        "    if is_numeric_dtype(datos_EDA[column]):\n",
        "        # Histograma en la primera fila\n",
        "        sns.histplot(datos_EDA[column], kde=True, ax=axes[graph_count])\n",
        "        axes[graph_count].set_title(f\"{column}\")\n",
        "\n",
        "        # Boxplot en la segunda fila\n",
        "        sns.boxplot(x=datos_EDA[column], ax=axes[graph_count + len(datos_EDA.columns)])\n",
        "        axes[graph_count + len(datos_EDA.columns)].set_title(f\"{column}\")\n",
        "        num_list.append(column)\n",
        "        graph_count += 1  # Pasar al siguiente gráfico\n",
        "\n",
        "    elif is_string_dtype(datos_EDA[column]):\n",
        "        sns.countplot(data=datos_EDA, x=datos_EDA[column], ax=axes[graph_count])\n",
        "        axes[graph_count].set_title(f\"{column}\")\n",
        "        cat_list.append(column)\n",
        "        axes[graph_count + len(datos_EDA.columns)].axis(\"off\")\n",
        "        graph_count += 1  # Pasar al siguiente gráfico\n",
        "\n",
        "# Mostrar la gráfica\n",
        "plt.show()\n"
      ],
      "metadata": {
        "id": "IzUokGUtdmXR"
      },
      "execution_count": null,
      "outputs": []
    },
    {
      "cell_type": "code",
      "source": [
        "numeric_data = datos.select(numeric_features).toPandas()\n",
        "sns.pairplot(numeric_data, height=1.4)\n",
        "plt.show()"
      ],
      "metadata": {
        "id": "PPmkGklPgJ3f"
      },
      "execution_count": null,
      "outputs": []
    },
    {
      "cell_type": "code",
      "source": [
        "sns.heatmap(numeric_data.corr('spearman'),annot=True)\n",
        "plt.show()"
      ],
      "metadata": {
        "id": "dRUaCQeWgdFk"
      },
      "execution_count": null,
      "outputs": []
    },
    {
      "cell_type": "markdown",
      "source": [
        "Es evidente que no hay variables numéricas altamente correlacionadas. Por lo tanto, las mantendremos todas para el modelo. Sin embargo, las columnas de día y mes no son realmente útiles, eliminaremos estas dos columnas."
      ],
      "metadata": {
        "id": "iWVujrnRpzwV"
      }
    },
    {
      "cell_type": "code",
      "source": [
        "datos_f2 = datos_f1.select('age', 'job', 'marital', 'education', 'default', 'balance', 'housing', 'loan', 'contact','campaign', 'pdays', 'previous', 'poutcome', 'deposit')\n",
        "cols = datos_f2.columns\n",
        "datos_f2.printSchema()"
      ],
      "metadata": {
        "id": "qn2UewKghECr"
      },
      "execution_count": null,
      "outputs": []
    },
    {
      "cell_type": "code",
      "source": [
        "salida = 'deposit'\n",
        "caracteristicas = [car for car in cols if car not in salida]\n",
        "cat_car = [c for c, t in datos_f2.dtypes if t == 'string' and c not in salida]\n",
        "num_car = [c for c, t in datos_f2.dtypes if t in ['int', 'double'] and c not in salida]\n",
        "print('Cat:',cat_car,'\\nNum:', num_car)"
      ],
      "metadata": {
        "id": "7Sxk-23dh216"
      },
      "execution_count": null,
      "outputs": []
    },
    {
      "cell_type": "code",
      "source": [
        "indexers = [StringIndexer(inputCol = col,\n",
        "                          outputCol = \"c_{}\".format(col)) for col in cat_car]\n",
        "\n",
        "encoders = [OneHotEncoder(inputCol = \"c_{}\".format(col),\n",
        "                          outputCol = \"o_{}\".format(col)) for col in cat_car]\n",
        "\n",
        "assembler = VectorAssembler(inputCols = num_car + [\"o_{}\".format(col) for col in cat_car], outputCol = \"features\")\n",
        "\n",
        "labelIndexer = StringIndexer(inputCol=salida, outputCol='label') if salida in datos_f2.columns else None\n",
        "\n",
        "preprocessor = Pipeline(stages = indexers + encoders + [assembler] + [labelIndexer]).fit(datos_f2)\n"
      ],
      "metadata": {
        "id": "PHfZU3hHjnMu"
      },
      "execution_count": null,
      "outputs": []
    },
    {
      "cell_type": "code",
      "source": [
        "datos_f3 = preprocessor.transform(datos_f2)\n",
        "selectedCols = ['label', 'features'] #+ cols\n",
        "datos_f4 = datos_f3.select(selectedCols)\n",
        "datos_f4.printSchema()"
      ],
      "metadata": {
        "id": "JAAT8t9Fp3Z-"
      },
      "execution_count": null,
      "outputs": []
    },
    {
      "cell_type": "code",
      "source": [
        "datos_f4.show(5,truncate=False)"
      ],
      "metadata": {
        "id": "2wtcd3Jtkqw8"
      },
      "execution_count": null,
      "outputs": []
    },
    {
      "cell_type": "markdown",
      "source": [
        "## División de conjuntos de ajuste (entrenamiento) y prueba"
      ],
      "metadata": {
        "id": "EaKZR7hNQ1wg"
      }
    },
    {
      "cell_type": "code",
      "source": [
        "train, test = datos_f4.randomSplit([0.7, 0.3], seed = 2024)\n",
        "print(\"Training Dataset Count: \" + str(train.count()))\n",
        "print(\"Test Dataset Count: \" + str(test.count()))"
      ],
      "metadata": {
        "id": "79xPSfPTZsAD"
      },
      "execution_count": null,
      "outputs": []
    },
    {
      "cell_type": "markdown",
      "source": [
        "#Aplicación del Algoritmo de Clasificación: Regresión Logística"
      ],
      "metadata": {
        "id": "vte8OHOAlxXP"
      }
    },
    {
      "cell_type": "code",
      "source": [
        "lr = LogisticRegression(featuresCol = 'features', labelCol = 'label', maxIter=10)\n",
        "lrModel = lr.fit(train)"
      ],
      "metadata": {
        "id": "03U1Putjlul4"
      },
      "execution_count": null,
      "outputs": []
    },
    {
      "cell_type": "code",
      "source": [
        "print(lrModel.coefficients)"
      ],
      "metadata": {
        "id": "jkBLI9xXl-Cv"
      },
      "execution_count": null,
      "outputs": []
    },
    {
      "cell_type": "markdown",
      "source": [
        "# Evaluación del Modelo"
      ],
      "metadata": {
        "id": "gU6HFAo2uhDA"
      }
    },
    {
      "cell_type": "code",
      "source": [
        "def calculate_metrics(predictions, label_col):\n",
        "    evaluator = BinaryClassificationEvaluator(labelCol=label_col)\n",
        "    auc_roc = evaluator.evaluate(predictions, {evaluator.metricName: \"areaUnderROC\"})\n",
        "\n",
        "    multi_evaluator = MulticlassClassificationEvaluator(labelCol=label_col, predictionCol=\"prediction\")\n",
        "    accuracy = multi_evaluator.evaluate(predictions, {multi_evaluator.metricName: \"accuracy\"})\n",
        "    precision = multi_evaluator.evaluate(predictions, {multi_evaluator.metricName: \"weightedPrecision\"})\n",
        "    recall = multi_evaluator.evaluate(predictions, {multi_evaluator.metricName: \"weightedRecall\"})\n",
        "    f1 = multi_evaluator.evaluate(predictions, {multi_evaluator.metricName: \"f1\"})\n",
        "\n",
        "    return {\n",
        "        \"AUC-ROC\": auc_roc,\n",
        "        \"Accuracy\": accuracy,\n",
        "        \"Precision\": precision,\n",
        "        \"Recall\": recall,\n",
        "        \"F1 Score\": f1\n",
        "    }"
      ],
      "metadata": {
        "id": "g677Wtk6uE5J"
      },
      "execution_count": null,
      "outputs": []
    },
    {
      "cell_type": "code",
      "source": [
        "def conf_matrix(y_log):\n",
        "  fig, ax = plot_confusion_matrix(confusion_matrix(y_log.label, y_log.prediction), show_normed=True,\n",
        "                                  figsize=(3,3))\n",
        "  fig.show()\n"
      ],
      "metadata": {
        "id": "v340qnNg0q-m"
      },
      "execution_count": null,
      "outputs": []
    },
    {
      "cell_type": "code",
      "source": [
        "train_predictions = lrModel.transform(train)\n",
        "test_predictions = lrModel.transform(test)"
      ],
      "metadata": {
        "id": "1ViqkLsUrDAW"
      },
      "execution_count": null,
      "outputs": []
    },
    {
      "cell_type": "markdown",
      "source": [
        "## Datos de Entrenamiento"
      ],
      "metadata": {
        "id": "p9jjUrREFh8T"
      }
    },
    {
      "cell_type": "code",
      "source": [
        "print(\"Métricas en datos de entrenamiento:\\n\")\n",
        "train_metrics = calculate_metrics(train_predictions, 'label')\n",
        "for metric, value in train_metrics.items():\n",
        "    print(f\"{metric}: {value}\")"
      ],
      "metadata": {
        "id": "_7kumZR5uKKo"
      },
      "execution_count": null,
      "outputs": []
    },
    {
      "cell_type": "code",
      "source": [
        "conf_matrix(train_predictions.select('label','prediction').toPandas())"
      ],
      "metadata": {
        "id": "0blfLuWqyQTn"
      },
      "execution_count": null,
      "outputs": []
    },
    {
      "cell_type": "markdown",
      "source": [
        "## Datos de Prueba"
      ],
      "metadata": {
        "id": "mqwrN9OjFpHK"
      }
    },
    {
      "cell_type": "code",
      "source": [
        "print(\"\\nMétricas en datos de prueba:\\n\")\n",
        "test_metrics = calculate_metrics(test_predictions, 'label')\n",
        "for metric, value in test_metrics.items():\n",
        "    print(f\"{metric}: {value}\")"
      ],
      "metadata": {
        "id": "jNEdlq52x8C8"
      },
      "execution_count": null,
      "outputs": []
    },
    {
      "cell_type": "code",
      "source": [
        "conf_matrix(test_predictions.select('label','prediction').toPandas())"
      ],
      "metadata": {
        "id": "4Ayuwj2lx-Vz"
      },
      "execution_count": null,
      "outputs": []
    }
  ]
}