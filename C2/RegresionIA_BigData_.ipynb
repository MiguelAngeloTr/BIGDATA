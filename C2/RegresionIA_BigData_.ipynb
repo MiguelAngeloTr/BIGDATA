{
  "nbformat": 4,
  "nbformat_minor": 0,
  "metadata": {
    "colab": {
      "provenance": [],
      "include_colab_link": true
    },
    "kernelspec": {
      "name": "python3",
      "display_name": "Python 3"
    },
    "language_info": {
      "name": "python"
    }
  },
  "cells": [
    {
      "cell_type": "markdown",
      "metadata": {
        "id": "view-in-github",
        "colab_type": "text"
      },
      "source": [
        "<a href=\"https://colab.research.google.com/github/MiguelAngeloTr/BIGDATA/blob/main/C2/RegresionIA_BigData_.ipynb\" target=\"_parent\"><img src=\"https://colab.research.google.com/assets/colab-badge.svg\" alt=\"Open In Colab\"/></a>"
      ]
    },
    {
      "cell_type": "code",
      "execution_count": null,
      "metadata": {
        "id": "jzS7V4P_hYrA"
      },
      "outputs": [],
      "source": [
        "import pandas as pd\n",
        "import numpy as np\n",
        "import seaborn as sns\n",
        "from sklearn.preprocessing import StandardScaler, MinMaxScaler\n",
        "from sklearn.model_selection import train_test_split\n",
        "from sklearn.metrics import mean_squared_error, r2_score, mean_absolute_error\n",
        "from pandas.core.dtypes.api import is_numeric_dtype, is_string_dtype\n",
        "import matplotlib.pyplot as plt\n",
        "import plotly.graph_objects as go"
      ]
    },
    {
      "cell_type": "code",
      "source": [
        "datos = pd.read_csv('https://raw.githubusercontent.com/justmarkham/scikit-learn-videos/master/data/Advertising.csv')\n",
        "datos.head()"
      ],
      "metadata": {
        "id": "yOhfEEPLhhsx",
        "colab": {
          "base_uri": "https://localhost:8080/",
          "height": 206
        },
        "outputId": "3857dfe6-b547-4389-fd92-90488c884c47"
      },
      "execution_count": null,
      "outputs": [
        {
          "output_type": "execute_result",
          "data": {
            "text/plain": [
              "   Unnamed: 0     TV  Radio  Newspaper  Sales\n",
              "0           1  230.1   37.8       69.2   22.1\n",
              "1           2   44.5   39.3       45.1   10.4\n",
              "2           3   17.2   45.9       69.3    9.3\n",
              "3           4  151.5   41.3       58.5   18.5\n",
              "4           5  180.8   10.8       58.4   12.9"
            ],
            "text/html": [
              "\n",
              "  <div id=\"df-32d2cce9-c90a-4e76-bc6d-bd16317276f3\" class=\"colab-df-container\">\n",
              "    <div>\n",
              "<style scoped>\n",
              "    .dataframe tbody tr th:only-of-type {\n",
              "        vertical-align: middle;\n",
              "    }\n",
              "\n",
              "    .dataframe tbody tr th {\n",
              "        vertical-align: top;\n",
              "    }\n",
              "\n",
              "    .dataframe thead th {\n",
              "        text-align: right;\n",
              "    }\n",
              "</style>\n",
              "<table border=\"1\" class=\"dataframe\">\n",
              "  <thead>\n",
              "    <tr style=\"text-align: right;\">\n",
              "      <th></th>\n",
              "      <th>Unnamed: 0</th>\n",
              "      <th>TV</th>\n",
              "      <th>Radio</th>\n",
              "      <th>Newspaper</th>\n",
              "      <th>Sales</th>\n",
              "    </tr>\n",
              "  </thead>\n",
              "  <tbody>\n",
              "    <tr>\n",
              "      <th>0</th>\n",
              "      <td>1</td>\n",
              "      <td>230.1</td>\n",
              "      <td>37.8</td>\n",
              "      <td>69.2</td>\n",
              "      <td>22.1</td>\n",
              "    </tr>\n",
              "    <tr>\n",
              "      <th>1</th>\n",
              "      <td>2</td>\n",
              "      <td>44.5</td>\n",
              "      <td>39.3</td>\n",
              "      <td>45.1</td>\n",
              "      <td>10.4</td>\n",
              "    </tr>\n",
              "    <tr>\n",
              "      <th>2</th>\n",
              "      <td>3</td>\n",
              "      <td>17.2</td>\n",
              "      <td>45.9</td>\n",
              "      <td>69.3</td>\n",
              "      <td>9.3</td>\n",
              "    </tr>\n",
              "    <tr>\n",
              "      <th>3</th>\n",
              "      <td>4</td>\n",
              "      <td>151.5</td>\n",
              "      <td>41.3</td>\n",
              "      <td>58.5</td>\n",
              "      <td>18.5</td>\n",
              "    </tr>\n",
              "    <tr>\n",
              "      <th>4</th>\n",
              "      <td>5</td>\n",
              "      <td>180.8</td>\n",
              "      <td>10.8</td>\n",
              "      <td>58.4</td>\n",
              "      <td>12.9</td>\n",
              "    </tr>\n",
              "  </tbody>\n",
              "</table>\n",
              "</div>\n",
              "    <div class=\"colab-df-buttons\">\n",
              "\n",
              "  <div class=\"colab-df-container\">\n",
              "    <button class=\"colab-df-convert\" onclick=\"convertToInteractive('df-32d2cce9-c90a-4e76-bc6d-bd16317276f3')\"\n",
              "            title=\"Convert this dataframe to an interactive table.\"\n",
              "            style=\"display:none;\">\n",
              "\n",
              "  <svg xmlns=\"http://www.w3.org/2000/svg\" height=\"24px\" viewBox=\"0 -960 960 960\">\n",
              "    <path d=\"M120-120v-720h720v720H120Zm60-500h600v-160H180v160Zm220 220h160v-160H400v160Zm0 220h160v-160H400v160ZM180-400h160v-160H180v160Zm440 0h160v-160H620v160ZM180-180h160v-160H180v160Zm440 0h160v-160H620v160Z\"/>\n",
              "  </svg>\n",
              "    </button>\n",
              "\n",
              "  <style>\n",
              "    .colab-df-container {\n",
              "      display:flex;\n",
              "      gap: 12px;\n",
              "    }\n",
              "\n",
              "    .colab-df-convert {\n",
              "      background-color: #E8F0FE;\n",
              "      border: none;\n",
              "      border-radius: 50%;\n",
              "      cursor: pointer;\n",
              "      display: none;\n",
              "      fill: #1967D2;\n",
              "      height: 32px;\n",
              "      padding: 0 0 0 0;\n",
              "      width: 32px;\n",
              "    }\n",
              "\n",
              "    .colab-df-convert:hover {\n",
              "      background-color: #E2EBFA;\n",
              "      box-shadow: 0px 1px 2px rgba(60, 64, 67, 0.3), 0px 1px 3px 1px rgba(60, 64, 67, 0.15);\n",
              "      fill: #174EA6;\n",
              "    }\n",
              "\n",
              "    .colab-df-buttons div {\n",
              "      margin-bottom: 4px;\n",
              "    }\n",
              "\n",
              "    [theme=dark] .colab-df-convert {\n",
              "      background-color: #3B4455;\n",
              "      fill: #D2E3FC;\n",
              "    }\n",
              "\n",
              "    [theme=dark] .colab-df-convert:hover {\n",
              "      background-color: #434B5C;\n",
              "      box-shadow: 0px 1px 3px 1px rgba(0, 0, 0, 0.15);\n",
              "      filter: drop-shadow(0px 1px 2px rgba(0, 0, 0, 0.3));\n",
              "      fill: #FFFFFF;\n",
              "    }\n",
              "  </style>\n",
              "\n",
              "    <script>\n",
              "      const buttonEl =\n",
              "        document.querySelector('#df-32d2cce9-c90a-4e76-bc6d-bd16317276f3 button.colab-df-convert');\n",
              "      buttonEl.style.display =\n",
              "        google.colab.kernel.accessAllowed ? 'block' : 'none';\n",
              "\n",
              "      async function convertToInteractive(key) {\n",
              "        const element = document.querySelector('#df-32d2cce9-c90a-4e76-bc6d-bd16317276f3');\n",
              "        const dataTable =\n",
              "          await google.colab.kernel.invokeFunction('convertToInteractive',\n",
              "                                                    [key], {});\n",
              "        if (!dataTable) return;\n",
              "\n",
              "        const docLinkHtml = 'Like what you see? Visit the ' +\n",
              "          '<a target=\"_blank\" href=https://colab.research.google.com/notebooks/data_table.ipynb>data table notebook</a>'\n",
              "          + ' to learn more about interactive tables.';\n",
              "        element.innerHTML = '';\n",
              "        dataTable['output_type'] = 'display_data';\n",
              "        await google.colab.output.renderOutput(dataTable, element);\n",
              "        const docLink = document.createElement('div');\n",
              "        docLink.innerHTML = docLinkHtml;\n",
              "        element.appendChild(docLink);\n",
              "      }\n",
              "    </script>\n",
              "  </div>\n",
              "\n",
              "\n",
              "<div id=\"df-b6df7720-9434-42c2-ac20-37213ad796f6\">\n",
              "  <button class=\"colab-df-quickchart\" onclick=\"quickchart('df-b6df7720-9434-42c2-ac20-37213ad796f6')\"\n",
              "            title=\"Suggest charts\"\n",
              "            style=\"display:none;\">\n",
              "\n",
              "<svg xmlns=\"http://www.w3.org/2000/svg\" height=\"24px\"viewBox=\"0 0 24 24\"\n",
              "     width=\"24px\">\n",
              "    <g>\n",
              "        <path d=\"M19 3H5c-1.1 0-2 .9-2 2v14c0 1.1.9 2 2 2h14c1.1 0 2-.9 2-2V5c0-1.1-.9-2-2-2zM9 17H7v-7h2v7zm4 0h-2V7h2v10zm4 0h-2v-4h2v4z\"/>\n",
              "    </g>\n",
              "</svg>\n",
              "  </button>\n",
              "\n",
              "<style>\n",
              "  .colab-df-quickchart {\n",
              "      --bg-color: #E8F0FE;\n",
              "      --fill-color: #1967D2;\n",
              "      --hover-bg-color: #E2EBFA;\n",
              "      --hover-fill-color: #174EA6;\n",
              "      --disabled-fill-color: #AAA;\n",
              "      --disabled-bg-color: #DDD;\n",
              "  }\n",
              "\n",
              "  [theme=dark] .colab-df-quickchart {\n",
              "      --bg-color: #3B4455;\n",
              "      --fill-color: #D2E3FC;\n",
              "      --hover-bg-color: #434B5C;\n",
              "      --hover-fill-color: #FFFFFF;\n",
              "      --disabled-bg-color: #3B4455;\n",
              "      --disabled-fill-color: #666;\n",
              "  }\n",
              "\n",
              "  .colab-df-quickchart {\n",
              "    background-color: var(--bg-color);\n",
              "    border: none;\n",
              "    border-radius: 50%;\n",
              "    cursor: pointer;\n",
              "    display: none;\n",
              "    fill: var(--fill-color);\n",
              "    height: 32px;\n",
              "    padding: 0;\n",
              "    width: 32px;\n",
              "  }\n",
              "\n",
              "  .colab-df-quickchart:hover {\n",
              "    background-color: var(--hover-bg-color);\n",
              "    box-shadow: 0 1px 2px rgba(60, 64, 67, 0.3), 0 1px 3px 1px rgba(60, 64, 67, 0.15);\n",
              "    fill: var(--button-hover-fill-color);\n",
              "  }\n",
              "\n",
              "  .colab-df-quickchart-complete:disabled,\n",
              "  .colab-df-quickchart-complete:disabled:hover {\n",
              "    background-color: var(--disabled-bg-color);\n",
              "    fill: var(--disabled-fill-color);\n",
              "    box-shadow: none;\n",
              "  }\n",
              "\n",
              "  .colab-df-spinner {\n",
              "    border: 2px solid var(--fill-color);\n",
              "    border-color: transparent;\n",
              "    border-bottom-color: var(--fill-color);\n",
              "    animation:\n",
              "      spin 1s steps(1) infinite;\n",
              "  }\n",
              "\n",
              "  @keyframes spin {\n",
              "    0% {\n",
              "      border-color: transparent;\n",
              "      border-bottom-color: var(--fill-color);\n",
              "      border-left-color: var(--fill-color);\n",
              "    }\n",
              "    20% {\n",
              "      border-color: transparent;\n",
              "      border-left-color: var(--fill-color);\n",
              "      border-top-color: var(--fill-color);\n",
              "    }\n",
              "    30% {\n",
              "      border-color: transparent;\n",
              "      border-left-color: var(--fill-color);\n",
              "      border-top-color: var(--fill-color);\n",
              "      border-right-color: var(--fill-color);\n",
              "    }\n",
              "    40% {\n",
              "      border-color: transparent;\n",
              "      border-right-color: var(--fill-color);\n",
              "      border-top-color: var(--fill-color);\n",
              "    }\n",
              "    60% {\n",
              "      border-color: transparent;\n",
              "      border-right-color: var(--fill-color);\n",
              "    }\n",
              "    80% {\n",
              "      border-color: transparent;\n",
              "      border-right-color: var(--fill-color);\n",
              "      border-bottom-color: var(--fill-color);\n",
              "    }\n",
              "    90% {\n",
              "      border-color: transparent;\n",
              "      border-bottom-color: var(--fill-color);\n",
              "    }\n",
              "  }\n",
              "</style>\n",
              "\n",
              "  <script>\n",
              "    async function quickchart(key) {\n",
              "      const quickchartButtonEl =\n",
              "        document.querySelector('#' + key + ' button');\n",
              "      quickchartButtonEl.disabled = true;  // To prevent multiple clicks.\n",
              "      quickchartButtonEl.classList.add('colab-df-spinner');\n",
              "      try {\n",
              "        const charts = await google.colab.kernel.invokeFunction(\n",
              "            'suggestCharts', [key], {});\n",
              "      } catch (error) {\n",
              "        console.error('Error during call to suggestCharts:', error);\n",
              "      }\n",
              "      quickchartButtonEl.classList.remove('colab-df-spinner');\n",
              "      quickchartButtonEl.classList.add('colab-df-quickchart-complete');\n",
              "    }\n",
              "    (() => {\n",
              "      let quickchartButtonEl =\n",
              "        document.querySelector('#df-b6df7720-9434-42c2-ac20-37213ad796f6 button');\n",
              "      quickchartButtonEl.style.display =\n",
              "        google.colab.kernel.accessAllowed ? 'block' : 'none';\n",
              "    })();\n",
              "  </script>\n",
              "</div>\n",
              "\n",
              "    </div>\n",
              "  </div>\n"
            ],
            "application/vnd.google.colaboratory.intrinsic+json": {
              "type": "dataframe",
              "variable_name": "datos",
              "summary": "{\n  \"name\": \"datos\",\n  \"rows\": 200,\n  \"fields\": [\n    {\n      \"column\": \"Unnamed: 0\",\n      \"properties\": {\n        \"dtype\": \"number\",\n        \"std\": 57,\n        \"min\": 1,\n        \"max\": 200,\n        \"num_unique_values\": 200,\n        \"samples\": [\n          96,\n          16,\n          31\n        ],\n        \"semantic_type\": \"\",\n        \"description\": \"\"\n      }\n    },\n    {\n      \"column\": \"TV\",\n      \"properties\": {\n        \"dtype\": \"number\",\n        \"std\": 85.8542363149081,\n        \"min\": 0.7,\n        \"max\": 296.4,\n        \"num_unique_values\": 190,\n        \"samples\": [\n          287.6,\n          286.0,\n          78.2\n        ],\n        \"semantic_type\": \"\",\n        \"description\": \"\"\n      }\n    },\n    {\n      \"column\": \"Radio\",\n      \"properties\": {\n        \"dtype\": \"number\",\n        \"std\": 14.846809176168723,\n        \"min\": 0.0,\n        \"max\": 49.6,\n        \"num_unique_values\": 167,\n        \"samples\": [\n          8.2,\n          36.9,\n          44.5\n        ],\n        \"semantic_type\": \"\",\n        \"description\": \"\"\n      }\n    },\n    {\n      \"column\": \"Newspaper\",\n      \"properties\": {\n        \"dtype\": \"number\",\n        \"std\": 21.778620838522833,\n        \"min\": 0.3,\n        \"max\": 114.0,\n        \"num_unique_values\": 172,\n        \"samples\": [\n          22.3,\n          5.7,\n          17.0\n        ],\n        \"semantic_type\": \"\",\n        \"description\": \"\"\n      }\n    },\n    {\n      \"column\": \"Sales\",\n      \"properties\": {\n        \"dtype\": \"number\",\n        \"std\": 5.217456565710477,\n        \"min\": 1.6,\n        \"max\": 27.0,\n        \"num_unique_values\": 121,\n        \"samples\": [\n          11.4,\n          21.2,\n          12.9\n        ],\n        \"semantic_type\": \"\",\n        \"description\": \"\"\n      }\n    }\n  ]\n}"
            }
          },
          "metadata": {},
          "execution_count": 2
        }
      ]
    },
    {
      "cell_type": "markdown",
      "metadata": {
        "id": "AbUJhmVuuHhs"
      },
      "source": [
        "#Informacion Faltante y Columnas innecesarias\n"
      ]
    },
    {
      "cell_type": "code",
      "source": [
        "datos = datos.drop(['Unnamed: 0'], axis=1)\n",
        "datos.head()"
      ],
      "metadata": {
        "id": "P8tWiVhhJj0R",
        "colab": {
          "base_uri": "https://localhost:8080/",
          "height": 206
        },
        "outputId": "79f37acd-4141-4011-cb55-ee165046ad27"
      },
      "execution_count": null,
      "outputs": [
        {
          "output_type": "execute_result",
          "data": {
            "text/plain": [
              "      TV  Radio  Newspaper  Sales\n",
              "0  230.1   37.8       69.2   22.1\n",
              "1   44.5   39.3       45.1   10.4\n",
              "2   17.2   45.9       69.3    9.3\n",
              "3  151.5   41.3       58.5   18.5\n",
              "4  180.8   10.8       58.4   12.9"
            ],
            "text/html": [
              "\n",
              "  <div id=\"df-8850d608-1967-47d9-a8f0-22d3fcdd15ef\" class=\"colab-df-container\">\n",
              "    <div>\n",
              "<style scoped>\n",
              "    .dataframe tbody tr th:only-of-type {\n",
              "        vertical-align: middle;\n",
              "    }\n",
              "\n",
              "    .dataframe tbody tr th {\n",
              "        vertical-align: top;\n",
              "    }\n",
              "\n",
              "    .dataframe thead th {\n",
              "        text-align: right;\n",
              "    }\n",
              "</style>\n",
              "<table border=\"1\" class=\"dataframe\">\n",
              "  <thead>\n",
              "    <tr style=\"text-align: right;\">\n",
              "      <th></th>\n",
              "      <th>TV</th>\n",
              "      <th>Radio</th>\n",
              "      <th>Newspaper</th>\n",
              "      <th>Sales</th>\n",
              "    </tr>\n",
              "  </thead>\n",
              "  <tbody>\n",
              "    <tr>\n",
              "      <th>0</th>\n",
              "      <td>230.1</td>\n",
              "      <td>37.8</td>\n",
              "      <td>69.2</td>\n",
              "      <td>22.1</td>\n",
              "    </tr>\n",
              "    <tr>\n",
              "      <th>1</th>\n",
              "      <td>44.5</td>\n",
              "      <td>39.3</td>\n",
              "      <td>45.1</td>\n",
              "      <td>10.4</td>\n",
              "    </tr>\n",
              "    <tr>\n",
              "      <th>2</th>\n",
              "      <td>17.2</td>\n",
              "      <td>45.9</td>\n",
              "      <td>69.3</td>\n",
              "      <td>9.3</td>\n",
              "    </tr>\n",
              "    <tr>\n",
              "      <th>3</th>\n",
              "      <td>151.5</td>\n",
              "      <td>41.3</td>\n",
              "      <td>58.5</td>\n",
              "      <td>18.5</td>\n",
              "    </tr>\n",
              "    <tr>\n",
              "      <th>4</th>\n",
              "      <td>180.8</td>\n",
              "      <td>10.8</td>\n",
              "      <td>58.4</td>\n",
              "      <td>12.9</td>\n",
              "    </tr>\n",
              "  </tbody>\n",
              "</table>\n",
              "</div>\n",
              "    <div class=\"colab-df-buttons\">\n",
              "\n",
              "  <div class=\"colab-df-container\">\n",
              "    <button class=\"colab-df-convert\" onclick=\"convertToInteractive('df-8850d608-1967-47d9-a8f0-22d3fcdd15ef')\"\n",
              "            title=\"Convert this dataframe to an interactive table.\"\n",
              "            style=\"display:none;\">\n",
              "\n",
              "  <svg xmlns=\"http://www.w3.org/2000/svg\" height=\"24px\" viewBox=\"0 -960 960 960\">\n",
              "    <path d=\"M120-120v-720h720v720H120Zm60-500h600v-160H180v160Zm220 220h160v-160H400v160Zm0 220h160v-160H400v160ZM180-400h160v-160H180v160Zm440 0h160v-160H620v160ZM180-180h160v-160H180v160Zm440 0h160v-160H620v160Z\"/>\n",
              "  </svg>\n",
              "    </button>\n",
              "\n",
              "  <style>\n",
              "    .colab-df-container {\n",
              "      display:flex;\n",
              "      gap: 12px;\n",
              "    }\n",
              "\n",
              "    .colab-df-convert {\n",
              "      background-color: #E8F0FE;\n",
              "      border: none;\n",
              "      border-radius: 50%;\n",
              "      cursor: pointer;\n",
              "      display: none;\n",
              "      fill: #1967D2;\n",
              "      height: 32px;\n",
              "      padding: 0 0 0 0;\n",
              "      width: 32px;\n",
              "    }\n",
              "\n",
              "    .colab-df-convert:hover {\n",
              "      background-color: #E2EBFA;\n",
              "      box-shadow: 0px 1px 2px rgba(60, 64, 67, 0.3), 0px 1px 3px 1px rgba(60, 64, 67, 0.15);\n",
              "      fill: #174EA6;\n",
              "    }\n",
              "\n",
              "    .colab-df-buttons div {\n",
              "      margin-bottom: 4px;\n",
              "    }\n",
              "\n",
              "    [theme=dark] .colab-df-convert {\n",
              "      background-color: #3B4455;\n",
              "      fill: #D2E3FC;\n",
              "    }\n",
              "\n",
              "    [theme=dark] .colab-df-convert:hover {\n",
              "      background-color: #434B5C;\n",
              "      box-shadow: 0px 1px 3px 1px rgba(0, 0, 0, 0.15);\n",
              "      filter: drop-shadow(0px 1px 2px rgba(0, 0, 0, 0.3));\n",
              "      fill: #FFFFFF;\n",
              "    }\n",
              "  </style>\n",
              "\n",
              "    <script>\n",
              "      const buttonEl =\n",
              "        document.querySelector('#df-8850d608-1967-47d9-a8f0-22d3fcdd15ef button.colab-df-convert');\n",
              "      buttonEl.style.display =\n",
              "        google.colab.kernel.accessAllowed ? 'block' : 'none';\n",
              "\n",
              "      async function convertToInteractive(key) {\n",
              "        const element = document.querySelector('#df-8850d608-1967-47d9-a8f0-22d3fcdd15ef');\n",
              "        const dataTable =\n",
              "          await google.colab.kernel.invokeFunction('convertToInteractive',\n",
              "                                                    [key], {});\n",
              "        if (!dataTable) return;\n",
              "\n",
              "        const docLinkHtml = 'Like what you see? Visit the ' +\n",
              "          '<a target=\"_blank\" href=https://colab.research.google.com/notebooks/data_table.ipynb>data table notebook</a>'\n",
              "          + ' to learn more about interactive tables.';\n",
              "        element.innerHTML = '';\n",
              "        dataTable['output_type'] = 'display_data';\n",
              "        await google.colab.output.renderOutput(dataTable, element);\n",
              "        const docLink = document.createElement('div');\n",
              "        docLink.innerHTML = docLinkHtml;\n",
              "        element.appendChild(docLink);\n",
              "      }\n",
              "    </script>\n",
              "  </div>\n",
              "\n",
              "\n",
              "<div id=\"df-b74bccb3-6ed0-49c5-bc40-dc8bd7d8b1c6\">\n",
              "  <button class=\"colab-df-quickchart\" onclick=\"quickchart('df-b74bccb3-6ed0-49c5-bc40-dc8bd7d8b1c6')\"\n",
              "            title=\"Suggest charts\"\n",
              "            style=\"display:none;\">\n",
              "\n",
              "<svg xmlns=\"http://www.w3.org/2000/svg\" height=\"24px\"viewBox=\"0 0 24 24\"\n",
              "     width=\"24px\">\n",
              "    <g>\n",
              "        <path d=\"M19 3H5c-1.1 0-2 .9-2 2v14c0 1.1.9 2 2 2h14c1.1 0 2-.9 2-2V5c0-1.1-.9-2-2-2zM9 17H7v-7h2v7zm4 0h-2V7h2v10zm4 0h-2v-4h2v4z\"/>\n",
              "    </g>\n",
              "</svg>\n",
              "  </button>\n",
              "\n",
              "<style>\n",
              "  .colab-df-quickchart {\n",
              "      --bg-color: #E8F0FE;\n",
              "      --fill-color: #1967D2;\n",
              "      --hover-bg-color: #E2EBFA;\n",
              "      --hover-fill-color: #174EA6;\n",
              "      --disabled-fill-color: #AAA;\n",
              "      --disabled-bg-color: #DDD;\n",
              "  }\n",
              "\n",
              "  [theme=dark] .colab-df-quickchart {\n",
              "      --bg-color: #3B4455;\n",
              "      --fill-color: #D2E3FC;\n",
              "      --hover-bg-color: #434B5C;\n",
              "      --hover-fill-color: #FFFFFF;\n",
              "      --disabled-bg-color: #3B4455;\n",
              "      --disabled-fill-color: #666;\n",
              "  }\n",
              "\n",
              "  .colab-df-quickchart {\n",
              "    background-color: var(--bg-color);\n",
              "    border: none;\n",
              "    border-radius: 50%;\n",
              "    cursor: pointer;\n",
              "    display: none;\n",
              "    fill: var(--fill-color);\n",
              "    height: 32px;\n",
              "    padding: 0;\n",
              "    width: 32px;\n",
              "  }\n",
              "\n",
              "  .colab-df-quickchart:hover {\n",
              "    background-color: var(--hover-bg-color);\n",
              "    box-shadow: 0 1px 2px rgba(60, 64, 67, 0.3), 0 1px 3px 1px rgba(60, 64, 67, 0.15);\n",
              "    fill: var(--button-hover-fill-color);\n",
              "  }\n",
              "\n",
              "  .colab-df-quickchart-complete:disabled,\n",
              "  .colab-df-quickchart-complete:disabled:hover {\n",
              "    background-color: var(--disabled-bg-color);\n",
              "    fill: var(--disabled-fill-color);\n",
              "    box-shadow: none;\n",
              "  }\n",
              "\n",
              "  .colab-df-spinner {\n",
              "    border: 2px solid var(--fill-color);\n",
              "    border-color: transparent;\n",
              "    border-bottom-color: var(--fill-color);\n",
              "    animation:\n",
              "      spin 1s steps(1) infinite;\n",
              "  }\n",
              "\n",
              "  @keyframes spin {\n",
              "    0% {\n",
              "      border-color: transparent;\n",
              "      border-bottom-color: var(--fill-color);\n",
              "      border-left-color: var(--fill-color);\n",
              "    }\n",
              "    20% {\n",
              "      border-color: transparent;\n",
              "      border-left-color: var(--fill-color);\n",
              "      border-top-color: var(--fill-color);\n",
              "    }\n",
              "    30% {\n",
              "      border-color: transparent;\n",
              "      border-left-color: var(--fill-color);\n",
              "      border-top-color: var(--fill-color);\n",
              "      border-right-color: var(--fill-color);\n",
              "    }\n",
              "    40% {\n",
              "      border-color: transparent;\n",
              "      border-right-color: var(--fill-color);\n",
              "      border-top-color: var(--fill-color);\n",
              "    }\n",
              "    60% {\n",
              "      border-color: transparent;\n",
              "      border-right-color: var(--fill-color);\n",
              "    }\n",
              "    80% {\n",
              "      border-color: transparent;\n",
              "      border-right-color: var(--fill-color);\n",
              "      border-bottom-color: var(--fill-color);\n",
              "    }\n",
              "    90% {\n",
              "      border-color: transparent;\n",
              "      border-bottom-color: var(--fill-color);\n",
              "    }\n",
              "  }\n",
              "</style>\n",
              "\n",
              "  <script>\n",
              "    async function quickchart(key) {\n",
              "      const quickchartButtonEl =\n",
              "        document.querySelector('#' + key + ' button');\n",
              "      quickchartButtonEl.disabled = true;  // To prevent multiple clicks.\n",
              "      quickchartButtonEl.classList.add('colab-df-spinner');\n",
              "      try {\n",
              "        const charts = await google.colab.kernel.invokeFunction(\n",
              "            'suggestCharts', [key], {});\n",
              "      } catch (error) {\n",
              "        console.error('Error during call to suggestCharts:', error);\n",
              "      }\n",
              "      quickchartButtonEl.classList.remove('colab-df-spinner');\n",
              "      quickchartButtonEl.classList.add('colab-df-quickchart-complete');\n",
              "    }\n",
              "    (() => {\n",
              "      let quickchartButtonEl =\n",
              "        document.querySelector('#df-b74bccb3-6ed0-49c5-bc40-dc8bd7d8b1c6 button');\n",
              "      quickchartButtonEl.style.display =\n",
              "        google.colab.kernel.accessAllowed ? 'block' : 'none';\n",
              "    })();\n",
              "  </script>\n",
              "</div>\n",
              "\n",
              "    </div>\n",
              "  </div>\n"
            ],
            "application/vnd.google.colaboratory.intrinsic+json": {
              "type": "dataframe",
              "variable_name": "datos",
              "summary": "{\n  \"name\": \"datos\",\n  \"rows\": 200,\n  \"fields\": [\n    {\n      \"column\": \"TV\",\n      \"properties\": {\n        \"dtype\": \"number\",\n        \"std\": 85.8542363149081,\n        \"min\": 0.7,\n        \"max\": 296.4,\n        \"num_unique_values\": 190,\n        \"samples\": [\n          287.6,\n          286.0,\n          78.2\n        ],\n        \"semantic_type\": \"\",\n        \"description\": \"\"\n      }\n    },\n    {\n      \"column\": \"Radio\",\n      \"properties\": {\n        \"dtype\": \"number\",\n        \"std\": 14.846809176168723,\n        \"min\": 0.0,\n        \"max\": 49.6,\n        \"num_unique_values\": 167,\n        \"samples\": [\n          8.2,\n          36.9,\n          44.5\n        ],\n        \"semantic_type\": \"\",\n        \"description\": \"\"\n      }\n    },\n    {\n      \"column\": \"Newspaper\",\n      \"properties\": {\n        \"dtype\": \"number\",\n        \"std\": 21.778620838522833,\n        \"min\": 0.3,\n        \"max\": 114.0,\n        \"num_unique_values\": 172,\n        \"samples\": [\n          22.3,\n          5.7,\n          17.0\n        ],\n        \"semantic_type\": \"\",\n        \"description\": \"\"\n      }\n    },\n    {\n      \"column\": \"Sales\",\n      \"properties\": {\n        \"dtype\": \"number\",\n        \"std\": 5.217456565710477,\n        \"min\": 1.6,\n        \"max\": 27.0,\n        \"num_unique_values\": 121,\n        \"samples\": [\n          11.4,\n          21.2,\n          12.9\n        ],\n        \"semantic_type\": \"\",\n        \"description\": \"\"\n      }\n    }\n  ]\n}"
            }
          },
          "metadata": {},
          "execution_count": 3
        }
      ]
    },
    {
      "cell_type": "code",
      "metadata": {
        "id": "UnsbmsqBszMG",
        "colab": {
          "base_uri": "https://localhost:8080/",
          "height": 175
        },
        "outputId": "16126c52-24aa-4452-8015-d599b1988066"
      },
      "source": [
        "total = datos.isnull().sum().sort_values(ascending=False)\n",
        "percent_1 = datos.isnull().sum()/datos.isnull().count()*100\n",
        "percent_2 = (round(percent_1, 1)).sort_values(ascending=False)\n",
        "missing_data = pd.concat([total, percent_2], axis=1, keys=['Total', '%'])\n",
        "missing_data.head(datos.size)"
      ],
      "execution_count": null,
      "outputs": [
        {
          "output_type": "execute_result",
          "data": {
            "text/plain": [
              "           Total    %\n",
              "TV             0  0.0\n",
              "Radio          0  0.0\n",
              "Newspaper      0  0.0\n",
              "Sales          0  0.0"
            ],
            "text/html": [
              "\n",
              "  <div id=\"df-b9020aaf-bdf9-4ba9-836a-0391f3836d43\" class=\"colab-df-container\">\n",
              "    <div>\n",
              "<style scoped>\n",
              "    .dataframe tbody tr th:only-of-type {\n",
              "        vertical-align: middle;\n",
              "    }\n",
              "\n",
              "    .dataframe tbody tr th {\n",
              "        vertical-align: top;\n",
              "    }\n",
              "\n",
              "    .dataframe thead th {\n",
              "        text-align: right;\n",
              "    }\n",
              "</style>\n",
              "<table border=\"1\" class=\"dataframe\">\n",
              "  <thead>\n",
              "    <tr style=\"text-align: right;\">\n",
              "      <th></th>\n",
              "      <th>Total</th>\n",
              "      <th>%</th>\n",
              "    </tr>\n",
              "  </thead>\n",
              "  <tbody>\n",
              "    <tr>\n",
              "      <th>TV</th>\n",
              "      <td>0</td>\n",
              "      <td>0.0</td>\n",
              "    </tr>\n",
              "    <tr>\n",
              "      <th>Radio</th>\n",
              "      <td>0</td>\n",
              "      <td>0.0</td>\n",
              "    </tr>\n",
              "    <tr>\n",
              "      <th>Newspaper</th>\n",
              "      <td>0</td>\n",
              "      <td>0.0</td>\n",
              "    </tr>\n",
              "    <tr>\n",
              "      <th>Sales</th>\n",
              "      <td>0</td>\n",
              "      <td>0.0</td>\n",
              "    </tr>\n",
              "  </tbody>\n",
              "</table>\n",
              "</div>\n",
              "    <div class=\"colab-df-buttons\">\n",
              "\n",
              "  <div class=\"colab-df-container\">\n",
              "    <button class=\"colab-df-convert\" onclick=\"convertToInteractive('df-b9020aaf-bdf9-4ba9-836a-0391f3836d43')\"\n",
              "            title=\"Convert this dataframe to an interactive table.\"\n",
              "            style=\"display:none;\">\n",
              "\n",
              "  <svg xmlns=\"http://www.w3.org/2000/svg\" height=\"24px\" viewBox=\"0 -960 960 960\">\n",
              "    <path d=\"M120-120v-720h720v720H120Zm60-500h600v-160H180v160Zm220 220h160v-160H400v160Zm0 220h160v-160H400v160ZM180-400h160v-160H180v160Zm440 0h160v-160H620v160ZM180-180h160v-160H180v160Zm440 0h160v-160H620v160Z\"/>\n",
              "  </svg>\n",
              "    </button>\n",
              "\n",
              "  <style>\n",
              "    .colab-df-container {\n",
              "      display:flex;\n",
              "      gap: 12px;\n",
              "    }\n",
              "\n",
              "    .colab-df-convert {\n",
              "      background-color: #E8F0FE;\n",
              "      border: none;\n",
              "      border-radius: 50%;\n",
              "      cursor: pointer;\n",
              "      display: none;\n",
              "      fill: #1967D2;\n",
              "      height: 32px;\n",
              "      padding: 0 0 0 0;\n",
              "      width: 32px;\n",
              "    }\n",
              "\n",
              "    .colab-df-convert:hover {\n",
              "      background-color: #E2EBFA;\n",
              "      box-shadow: 0px 1px 2px rgba(60, 64, 67, 0.3), 0px 1px 3px 1px rgba(60, 64, 67, 0.15);\n",
              "      fill: #174EA6;\n",
              "    }\n",
              "\n",
              "    .colab-df-buttons div {\n",
              "      margin-bottom: 4px;\n",
              "    }\n",
              "\n",
              "    [theme=dark] .colab-df-convert {\n",
              "      background-color: #3B4455;\n",
              "      fill: #D2E3FC;\n",
              "    }\n",
              "\n",
              "    [theme=dark] .colab-df-convert:hover {\n",
              "      background-color: #434B5C;\n",
              "      box-shadow: 0px 1px 3px 1px rgba(0, 0, 0, 0.15);\n",
              "      filter: drop-shadow(0px 1px 2px rgba(0, 0, 0, 0.3));\n",
              "      fill: #FFFFFF;\n",
              "    }\n",
              "  </style>\n",
              "\n",
              "    <script>\n",
              "      const buttonEl =\n",
              "        document.querySelector('#df-b9020aaf-bdf9-4ba9-836a-0391f3836d43 button.colab-df-convert');\n",
              "      buttonEl.style.display =\n",
              "        google.colab.kernel.accessAllowed ? 'block' : 'none';\n",
              "\n",
              "      async function convertToInteractive(key) {\n",
              "        const element = document.querySelector('#df-b9020aaf-bdf9-4ba9-836a-0391f3836d43');\n",
              "        const dataTable =\n",
              "          await google.colab.kernel.invokeFunction('convertToInteractive',\n",
              "                                                    [key], {});\n",
              "        if (!dataTable) return;\n",
              "\n",
              "        const docLinkHtml = 'Like what you see? Visit the ' +\n",
              "          '<a target=\"_blank\" href=https://colab.research.google.com/notebooks/data_table.ipynb>data table notebook</a>'\n",
              "          + ' to learn more about interactive tables.';\n",
              "        element.innerHTML = '';\n",
              "        dataTable['output_type'] = 'display_data';\n",
              "        await google.colab.output.renderOutput(dataTable, element);\n",
              "        const docLink = document.createElement('div');\n",
              "        docLink.innerHTML = docLinkHtml;\n",
              "        element.appendChild(docLink);\n",
              "      }\n",
              "    </script>\n",
              "  </div>\n",
              "\n",
              "\n",
              "<div id=\"df-21bb5ca2-fd67-4b76-ad18-9921ad59f289\">\n",
              "  <button class=\"colab-df-quickchart\" onclick=\"quickchart('df-21bb5ca2-fd67-4b76-ad18-9921ad59f289')\"\n",
              "            title=\"Suggest charts\"\n",
              "            style=\"display:none;\">\n",
              "\n",
              "<svg xmlns=\"http://www.w3.org/2000/svg\" height=\"24px\"viewBox=\"0 0 24 24\"\n",
              "     width=\"24px\">\n",
              "    <g>\n",
              "        <path d=\"M19 3H5c-1.1 0-2 .9-2 2v14c0 1.1.9 2 2 2h14c1.1 0 2-.9 2-2V5c0-1.1-.9-2-2-2zM9 17H7v-7h2v7zm4 0h-2V7h2v10zm4 0h-2v-4h2v4z\"/>\n",
              "    </g>\n",
              "</svg>\n",
              "  </button>\n",
              "\n",
              "<style>\n",
              "  .colab-df-quickchart {\n",
              "      --bg-color: #E8F0FE;\n",
              "      --fill-color: #1967D2;\n",
              "      --hover-bg-color: #E2EBFA;\n",
              "      --hover-fill-color: #174EA6;\n",
              "      --disabled-fill-color: #AAA;\n",
              "      --disabled-bg-color: #DDD;\n",
              "  }\n",
              "\n",
              "  [theme=dark] .colab-df-quickchart {\n",
              "      --bg-color: #3B4455;\n",
              "      --fill-color: #D2E3FC;\n",
              "      --hover-bg-color: #434B5C;\n",
              "      --hover-fill-color: #FFFFFF;\n",
              "      --disabled-bg-color: #3B4455;\n",
              "      --disabled-fill-color: #666;\n",
              "  }\n",
              "\n",
              "  .colab-df-quickchart {\n",
              "    background-color: var(--bg-color);\n",
              "    border: none;\n",
              "    border-radius: 50%;\n",
              "    cursor: pointer;\n",
              "    display: none;\n",
              "    fill: var(--fill-color);\n",
              "    height: 32px;\n",
              "    padding: 0;\n",
              "    width: 32px;\n",
              "  }\n",
              "\n",
              "  .colab-df-quickchart:hover {\n",
              "    background-color: var(--hover-bg-color);\n",
              "    box-shadow: 0 1px 2px rgba(60, 64, 67, 0.3), 0 1px 3px 1px rgba(60, 64, 67, 0.15);\n",
              "    fill: var(--button-hover-fill-color);\n",
              "  }\n",
              "\n",
              "  .colab-df-quickchart-complete:disabled,\n",
              "  .colab-df-quickchart-complete:disabled:hover {\n",
              "    background-color: var(--disabled-bg-color);\n",
              "    fill: var(--disabled-fill-color);\n",
              "    box-shadow: none;\n",
              "  }\n",
              "\n",
              "  .colab-df-spinner {\n",
              "    border: 2px solid var(--fill-color);\n",
              "    border-color: transparent;\n",
              "    border-bottom-color: var(--fill-color);\n",
              "    animation:\n",
              "      spin 1s steps(1) infinite;\n",
              "  }\n",
              "\n",
              "  @keyframes spin {\n",
              "    0% {\n",
              "      border-color: transparent;\n",
              "      border-bottom-color: var(--fill-color);\n",
              "      border-left-color: var(--fill-color);\n",
              "    }\n",
              "    20% {\n",
              "      border-color: transparent;\n",
              "      border-left-color: var(--fill-color);\n",
              "      border-top-color: var(--fill-color);\n",
              "    }\n",
              "    30% {\n",
              "      border-color: transparent;\n",
              "      border-left-color: var(--fill-color);\n",
              "      border-top-color: var(--fill-color);\n",
              "      border-right-color: var(--fill-color);\n",
              "    }\n",
              "    40% {\n",
              "      border-color: transparent;\n",
              "      border-right-color: var(--fill-color);\n",
              "      border-top-color: var(--fill-color);\n",
              "    }\n",
              "    60% {\n",
              "      border-color: transparent;\n",
              "      border-right-color: var(--fill-color);\n",
              "    }\n",
              "    80% {\n",
              "      border-color: transparent;\n",
              "      border-right-color: var(--fill-color);\n",
              "      border-bottom-color: var(--fill-color);\n",
              "    }\n",
              "    90% {\n",
              "      border-color: transparent;\n",
              "      border-bottom-color: var(--fill-color);\n",
              "    }\n",
              "  }\n",
              "</style>\n",
              "\n",
              "  <script>\n",
              "    async function quickchart(key) {\n",
              "      const quickchartButtonEl =\n",
              "        document.querySelector('#' + key + ' button');\n",
              "      quickchartButtonEl.disabled = true;  // To prevent multiple clicks.\n",
              "      quickchartButtonEl.classList.add('colab-df-spinner');\n",
              "      try {\n",
              "        const charts = await google.colab.kernel.invokeFunction(\n",
              "            'suggestCharts', [key], {});\n",
              "      } catch (error) {\n",
              "        console.error('Error during call to suggestCharts:', error);\n",
              "      }\n",
              "      quickchartButtonEl.classList.remove('colab-df-spinner');\n",
              "      quickchartButtonEl.classList.add('colab-df-quickchart-complete');\n",
              "    }\n",
              "    (() => {\n",
              "      let quickchartButtonEl =\n",
              "        document.querySelector('#df-21bb5ca2-fd67-4b76-ad18-9921ad59f289 button');\n",
              "      quickchartButtonEl.style.display =\n",
              "        google.colab.kernel.accessAllowed ? 'block' : 'none';\n",
              "    })();\n",
              "  </script>\n",
              "</div>\n",
              "\n",
              "    </div>\n",
              "  </div>\n"
            ],
            "application/vnd.google.colaboratory.intrinsic+json": {
              "type": "dataframe",
              "variable_name": "missing_data",
              "summary": "{\n  \"name\": \"missing_data\",\n  \"rows\": 4,\n  \"fields\": [\n    {\n      \"column\": \"Total\",\n      \"properties\": {\n        \"dtype\": \"number\",\n        \"std\": 0,\n        \"min\": 0,\n        \"max\": 0,\n        \"num_unique_values\": 1,\n        \"samples\": [\n          0\n        ],\n        \"semantic_type\": \"\",\n        \"description\": \"\"\n      }\n    },\n    {\n      \"column\": \"%\",\n      \"properties\": {\n        \"dtype\": \"number\",\n        \"std\": 0.0,\n        \"min\": 0.0,\n        \"max\": 0.0,\n        \"num_unique_values\": 1,\n        \"samples\": [\n          0.0\n        ],\n        \"semantic_type\": \"\",\n        \"description\": \"\"\n      }\n    }\n  ]\n}"
            }
          },
          "metadata": {},
          "execution_count": 4
        }
      ]
    },
    {
      "cell_type": "markdown",
      "source": [
        "# Analisis Exploratorio de Datos (EDA)"
      ],
      "metadata": {
        "id": "S2QE1U9GPNhS"
      }
    },
    {
      "cell_type": "code",
      "source": [
        "datos.describe()"
      ],
      "metadata": {
        "id": "3VZByC0dKrkG",
        "colab": {
          "base_uri": "https://localhost:8080/",
          "height": 300
        },
        "outputId": "42a1ccf2-62e9-4233-c0ae-25f49a98f197"
      },
      "execution_count": null,
      "outputs": [
        {
          "output_type": "execute_result",
          "data": {
            "text/plain": [
              "               TV       Radio   Newspaper       Sales\n",
              "count  200.000000  200.000000  200.000000  200.000000\n",
              "mean   147.042500   23.264000   30.554000   14.022500\n",
              "std     85.854236   14.846809   21.778621    5.217457\n",
              "min      0.700000    0.000000    0.300000    1.600000\n",
              "25%     74.375000    9.975000   12.750000   10.375000\n",
              "50%    149.750000   22.900000   25.750000   12.900000\n",
              "75%    218.825000   36.525000   45.100000   17.400000\n",
              "max    296.400000   49.600000  114.000000   27.000000"
            ],
            "text/html": [
              "\n",
              "  <div id=\"df-23313677-c640-4db4-85b7-6ec83aa3cd77\" class=\"colab-df-container\">\n",
              "    <div>\n",
              "<style scoped>\n",
              "    .dataframe tbody tr th:only-of-type {\n",
              "        vertical-align: middle;\n",
              "    }\n",
              "\n",
              "    .dataframe tbody tr th {\n",
              "        vertical-align: top;\n",
              "    }\n",
              "\n",
              "    .dataframe thead th {\n",
              "        text-align: right;\n",
              "    }\n",
              "</style>\n",
              "<table border=\"1\" class=\"dataframe\">\n",
              "  <thead>\n",
              "    <tr style=\"text-align: right;\">\n",
              "      <th></th>\n",
              "      <th>TV</th>\n",
              "      <th>Radio</th>\n",
              "      <th>Newspaper</th>\n",
              "      <th>Sales</th>\n",
              "    </tr>\n",
              "  </thead>\n",
              "  <tbody>\n",
              "    <tr>\n",
              "      <th>count</th>\n",
              "      <td>200.000000</td>\n",
              "      <td>200.000000</td>\n",
              "      <td>200.000000</td>\n",
              "      <td>200.000000</td>\n",
              "    </tr>\n",
              "    <tr>\n",
              "      <th>mean</th>\n",
              "      <td>147.042500</td>\n",
              "      <td>23.264000</td>\n",
              "      <td>30.554000</td>\n",
              "      <td>14.022500</td>\n",
              "    </tr>\n",
              "    <tr>\n",
              "      <th>std</th>\n",
              "      <td>85.854236</td>\n",
              "      <td>14.846809</td>\n",
              "      <td>21.778621</td>\n",
              "      <td>5.217457</td>\n",
              "    </tr>\n",
              "    <tr>\n",
              "      <th>min</th>\n",
              "      <td>0.700000</td>\n",
              "      <td>0.000000</td>\n",
              "      <td>0.300000</td>\n",
              "      <td>1.600000</td>\n",
              "    </tr>\n",
              "    <tr>\n",
              "      <th>25%</th>\n",
              "      <td>74.375000</td>\n",
              "      <td>9.975000</td>\n",
              "      <td>12.750000</td>\n",
              "      <td>10.375000</td>\n",
              "    </tr>\n",
              "    <tr>\n",
              "      <th>50%</th>\n",
              "      <td>149.750000</td>\n",
              "      <td>22.900000</td>\n",
              "      <td>25.750000</td>\n",
              "      <td>12.900000</td>\n",
              "    </tr>\n",
              "    <tr>\n",
              "      <th>75%</th>\n",
              "      <td>218.825000</td>\n",
              "      <td>36.525000</td>\n",
              "      <td>45.100000</td>\n",
              "      <td>17.400000</td>\n",
              "    </tr>\n",
              "    <tr>\n",
              "      <th>max</th>\n",
              "      <td>296.400000</td>\n",
              "      <td>49.600000</td>\n",
              "      <td>114.000000</td>\n",
              "      <td>27.000000</td>\n",
              "    </tr>\n",
              "  </tbody>\n",
              "</table>\n",
              "</div>\n",
              "    <div class=\"colab-df-buttons\">\n",
              "\n",
              "  <div class=\"colab-df-container\">\n",
              "    <button class=\"colab-df-convert\" onclick=\"convertToInteractive('df-23313677-c640-4db4-85b7-6ec83aa3cd77')\"\n",
              "            title=\"Convert this dataframe to an interactive table.\"\n",
              "            style=\"display:none;\">\n",
              "\n",
              "  <svg xmlns=\"http://www.w3.org/2000/svg\" height=\"24px\" viewBox=\"0 -960 960 960\">\n",
              "    <path d=\"M120-120v-720h720v720H120Zm60-500h600v-160H180v160Zm220 220h160v-160H400v160Zm0 220h160v-160H400v160ZM180-400h160v-160H180v160Zm440 0h160v-160H620v160ZM180-180h160v-160H180v160Zm440 0h160v-160H620v160Z\"/>\n",
              "  </svg>\n",
              "    </button>\n",
              "\n",
              "  <style>\n",
              "    .colab-df-container {\n",
              "      display:flex;\n",
              "      gap: 12px;\n",
              "    }\n",
              "\n",
              "    .colab-df-convert {\n",
              "      background-color: #E8F0FE;\n",
              "      border: none;\n",
              "      border-radius: 50%;\n",
              "      cursor: pointer;\n",
              "      display: none;\n",
              "      fill: #1967D2;\n",
              "      height: 32px;\n",
              "      padding: 0 0 0 0;\n",
              "      width: 32px;\n",
              "    }\n",
              "\n",
              "    .colab-df-convert:hover {\n",
              "      background-color: #E2EBFA;\n",
              "      box-shadow: 0px 1px 2px rgba(60, 64, 67, 0.3), 0px 1px 3px 1px rgba(60, 64, 67, 0.15);\n",
              "      fill: #174EA6;\n",
              "    }\n",
              "\n",
              "    .colab-df-buttons div {\n",
              "      margin-bottom: 4px;\n",
              "    }\n",
              "\n",
              "    [theme=dark] .colab-df-convert {\n",
              "      background-color: #3B4455;\n",
              "      fill: #D2E3FC;\n",
              "    }\n",
              "\n",
              "    [theme=dark] .colab-df-convert:hover {\n",
              "      background-color: #434B5C;\n",
              "      box-shadow: 0px 1px 3px 1px rgba(0, 0, 0, 0.15);\n",
              "      filter: drop-shadow(0px 1px 2px rgba(0, 0, 0, 0.3));\n",
              "      fill: #FFFFFF;\n",
              "    }\n",
              "  </style>\n",
              "\n",
              "    <script>\n",
              "      const buttonEl =\n",
              "        document.querySelector('#df-23313677-c640-4db4-85b7-6ec83aa3cd77 button.colab-df-convert');\n",
              "      buttonEl.style.display =\n",
              "        google.colab.kernel.accessAllowed ? 'block' : 'none';\n",
              "\n",
              "      async function convertToInteractive(key) {\n",
              "        const element = document.querySelector('#df-23313677-c640-4db4-85b7-6ec83aa3cd77');\n",
              "        const dataTable =\n",
              "          await google.colab.kernel.invokeFunction('convertToInteractive',\n",
              "                                                    [key], {});\n",
              "        if (!dataTable) return;\n",
              "\n",
              "        const docLinkHtml = 'Like what you see? Visit the ' +\n",
              "          '<a target=\"_blank\" href=https://colab.research.google.com/notebooks/data_table.ipynb>data table notebook</a>'\n",
              "          + ' to learn more about interactive tables.';\n",
              "        element.innerHTML = '';\n",
              "        dataTable['output_type'] = 'display_data';\n",
              "        await google.colab.output.renderOutput(dataTable, element);\n",
              "        const docLink = document.createElement('div');\n",
              "        docLink.innerHTML = docLinkHtml;\n",
              "        element.appendChild(docLink);\n",
              "      }\n",
              "    </script>\n",
              "  </div>\n",
              "\n",
              "\n",
              "<div id=\"df-9b58358c-d114-4759-905c-aa1bdab3d38d\">\n",
              "  <button class=\"colab-df-quickchart\" onclick=\"quickchart('df-9b58358c-d114-4759-905c-aa1bdab3d38d')\"\n",
              "            title=\"Suggest charts\"\n",
              "            style=\"display:none;\">\n",
              "\n",
              "<svg xmlns=\"http://www.w3.org/2000/svg\" height=\"24px\"viewBox=\"0 0 24 24\"\n",
              "     width=\"24px\">\n",
              "    <g>\n",
              "        <path d=\"M19 3H5c-1.1 0-2 .9-2 2v14c0 1.1.9 2 2 2h14c1.1 0 2-.9 2-2V5c0-1.1-.9-2-2-2zM9 17H7v-7h2v7zm4 0h-2V7h2v10zm4 0h-2v-4h2v4z\"/>\n",
              "    </g>\n",
              "</svg>\n",
              "  </button>\n",
              "\n",
              "<style>\n",
              "  .colab-df-quickchart {\n",
              "      --bg-color: #E8F0FE;\n",
              "      --fill-color: #1967D2;\n",
              "      --hover-bg-color: #E2EBFA;\n",
              "      --hover-fill-color: #174EA6;\n",
              "      --disabled-fill-color: #AAA;\n",
              "      --disabled-bg-color: #DDD;\n",
              "  }\n",
              "\n",
              "  [theme=dark] .colab-df-quickchart {\n",
              "      --bg-color: #3B4455;\n",
              "      --fill-color: #D2E3FC;\n",
              "      --hover-bg-color: #434B5C;\n",
              "      --hover-fill-color: #FFFFFF;\n",
              "      --disabled-bg-color: #3B4455;\n",
              "      --disabled-fill-color: #666;\n",
              "  }\n",
              "\n",
              "  .colab-df-quickchart {\n",
              "    background-color: var(--bg-color);\n",
              "    border: none;\n",
              "    border-radius: 50%;\n",
              "    cursor: pointer;\n",
              "    display: none;\n",
              "    fill: var(--fill-color);\n",
              "    height: 32px;\n",
              "    padding: 0;\n",
              "    width: 32px;\n",
              "  }\n",
              "\n",
              "  .colab-df-quickchart:hover {\n",
              "    background-color: var(--hover-bg-color);\n",
              "    box-shadow: 0 1px 2px rgba(60, 64, 67, 0.3), 0 1px 3px 1px rgba(60, 64, 67, 0.15);\n",
              "    fill: var(--button-hover-fill-color);\n",
              "  }\n",
              "\n",
              "  .colab-df-quickchart-complete:disabled,\n",
              "  .colab-df-quickchart-complete:disabled:hover {\n",
              "    background-color: var(--disabled-bg-color);\n",
              "    fill: var(--disabled-fill-color);\n",
              "    box-shadow: none;\n",
              "  }\n",
              "\n",
              "  .colab-df-spinner {\n",
              "    border: 2px solid var(--fill-color);\n",
              "    border-color: transparent;\n",
              "    border-bottom-color: var(--fill-color);\n",
              "    animation:\n",
              "      spin 1s steps(1) infinite;\n",
              "  }\n",
              "\n",
              "  @keyframes spin {\n",
              "    0% {\n",
              "      border-color: transparent;\n",
              "      border-bottom-color: var(--fill-color);\n",
              "      border-left-color: var(--fill-color);\n",
              "    }\n",
              "    20% {\n",
              "      border-color: transparent;\n",
              "      border-left-color: var(--fill-color);\n",
              "      border-top-color: var(--fill-color);\n",
              "    }\n",
              "    30% {\n",
              "      border-color: transparent;\n",
              "      border-left-color: var(--fill-color);\n",
              "      border-top-color: var(--fill-color);\n",
              "      border-right-color: var(--fill-color);\n",
              "    }\n",
              "    40% {\n",
              "      border-color: transparent;\n",
              "      border-right-color: var(--fill-color);\n",
              "      border-top-color: var(--fill-color);\n",
              "    }\n",
              "    60% {\n",
              "      border-color: transparent;\n",
              "      border-right-color: var(--fill-color);\n",
              "    }\n",
              "    80% {\n",
              "      border-color: transparent;\n",
              "      border-right-color: var(--fill-color);\n",
              "      border-bottom-color: var(--fill-color);\n",
              "    }\n",
              "    90% {\n",
              "      border-color: transparent;\n",
              "      border-bottom-color: var(--fill-color);\n",
              "    }\n",
              "  }\n",
              "</style>\n",
              "\n",
              "  <script>\n",
              "    async function quickchart(key) {\n",
              "      const quickchartButtonEl =\n",
              "        document.querySelector('#' + key + ' button');\n",
              "      quickchartButtonEl.disabled = true;  // To prevent multiple clicks.\n",
              "      quickchartButtonEl.classList.add('colab-df-spinner');\n",
              "      try {\n",
              "        const charts = await google.colab.kernel.invokeFunction(\n",
              "            'suggestCharts', [key], {});\n",
              "      } catch (error) {\n",
              "        console.error('Error during call to suggestCharts:', error);\n",
              "      }\n",
              "      quickchartButtonEl.classList.remove('colab-df-spinner');\n",
              "      quickchartButtonEl.classList.add('colab-df-quickchart-complete');\n",
              "    }\n",
              "    (() => {\n",
              "      let quickchartButtonEl =\n",
              "        document.querySelector('#df-9b58358c-d114-4759-905c-aa1bdab3d38d button');\n",
              "      quickchartButtonEl.style.display =\n",
              "        google.colab.kernel.accessAllowed ? 'block' : 'none';\n",
              "    })();\n",
              "  </script>\n",
              "</div>\n",
              "\n",
              "    </div>\n",
              "  </div>\n"
            ],
            "application/vnd.google.colaboratory.intrinsic+json": {
              "type": "dataframe",
              "summary": "{\n  \"name\": \"datos\",\n  \"rows\": 8,\n  \"fields\": [\n    {\n      \"column\": \"TV\",\n      \"properties\": {\n        \"dtype\": \"number\",\n        \"std\": 93.12930693433862,\n        \"min\": 0.7,\n        \"max\": 296.4,\n        \"num_unique_values\": 8,\n        \"samples\": [\n          147.0425,\n          149.75,\n          200.0\n        ],\n        \"semantic_type\": \"\",\n        \"description\": \"\"\n      }\n    },\n    {\n      \"column\": \"Radio\",\n      \"properties\": {\n        \"dtype\": \"number\",\n        \"std\": 64.62946191825954,\n        \"min\": 0.0,\n        \"max\": 200.0,\n        \"num_unique_values\": 8,\n        \"samples\": [\n          23.264000000000006,\n          22.9,\n          200.0\n        ],\n        \"semantic_type\": \"\",\n        \"description\": \"\"\n      }\n    },\n    {\n      \"column\": \"Newspaper\",\n      \"properties\": {\n        \"dtype\": \"number\",\n        \"std\": 67.53295876114069,\n        \"min\": 0.3,\n        \"max\": 200.0,\n        \"num_unique_values\": 8,\n        \"samples\": [\n          30.553999999999995,\n          25.75,\n          200.0\n        ],\n        \"semantic_type\": \"\",\n        \"description\": \"\"\n      }\n    },\n    {\n      \"column\": \"Sales\",\n      \"properties\": {\n        \"dtype\": \"number\",\n        \"std\": 66.68380930502315,\n        \"min\": 1.6,\n        \"max\": 200.0,\n        \"num_unique_values\": 8,\n        \"samples\": [\n          14.0225,\n          12.9,\n          200.0\n        ],\n        \"semantic_type\": \"\",\n        \"description\": \"\"\n      }\n    }\n  ]\n}"
            }
          },
          "metadata": {},
          "execution_count": 5
        }
      ]
    },
    {
      "cell_type": "markdown",
      "source": [
        "Una forma de establecer variables de utilidad es a través de las matrices de correlación. De este modo con respecto a la salida (Sales), evidenciar que variables presentan el valor absoluto del coeficiente mas alto."
      ],
      "metadata": {
        "id": "NFw-WtqOPoax"
      }
    },
    {
      "cell_type": "code",
      "source": [
        "sns.heatmap(datos.corr('spearman'),annot=True)"
      ],
      "metadata": {
        "id": "1sGoYfgvMx2k",
        "colab": {
          "base_uri": "https://localhost:8080/",
          "height": 452
        },
        "outputId": "0097c046-5dac-4742-d676-11c3091bfded"
      },
      "execution_count": null,
      "outputs": [
        {
          "output_type": "execute_result",
          "data": {
            "text/plain": [
              "<Axes: >"
            ]
          },
          "metadata": {},
          "execution_count": 6
        },
        {
          "output_type": "display_data",
          "data": {
            "text/plain": [
              "<Figure size 640x480 with 2 Axes>"
            ],
            "image/png": "[encoded data removed]"
          },
          "metadata": {}
        }
      ]
    },
    {
      "cell_type": "code",
      "source": [
        "num_list = []\n",
        "cat_list = []\n",
        "for column in datos:\n",
        "  fig, (ax1, ax2) = plt.subplots(1,2, figsize=(12,4))\n",
        "  fig.suptitle(column)\n",
        "  if is_numeric_dtype(datos[column]):\n",
        "    sns.histplot(datos[column],kde=True,ax=ax1)\n",
        "    sns.boxplot(x=datos[column],ax=ax2)\n",
        "    num_list.append(column)\n",
        "  elif is_string_dtype(datos[column]):\n",
        "    sns.countplot(data=datos, x=datos[column], ax=ax1)\n",
        "    cat_list.append(column)\n",
        "  plt.tight_layout()"
      ],
      "metadata": {
        "id": "fkDroVhkEPg_",
        "colab": {
          "base_uri": "https://localhost:8080/",
          "height": 1000
        },
        "outputId": "2e63d639-0176-41e0-9e75-d6467d96f7bb"
      },
      "execution_count": null,
      "outputs": [
        {
          "output_type": "display_data",
          "data": {
            "text/plain": [
              "<Figure size 1200x400 with 2 Axes>"
            ],
            "image/png": "[encoded data removed]"
          },
          "metadata": {}
        },
        {
          "output_type": "display_data",
          "data": {
            "text/plain": [
              "<Figure size 1200x400 with 2 Axes>"
            ],
            "image/png": "[encoded data removed]"
          },
          "metadata": {}
        },
        {
          "output_type": "display_data",
          "data": {
            "text/plain": [
              "<Figure size 1200x400 with 2 Axes>"
            ],
            "image/png": "[encoded data removed]"
          },
          "metadata": {}
        },
        {
          "output_type": "display_data",
          "data": {
            "text/plain": [
              "<Figure size 1200x400 with 2 Axes>"
            ],
            "image/png": "[encoded data removed]"
          },
          "metadata": {}
        }
      ]
    },
    {
      "cell_type": "markdown",
      "source": [
        "# Construcción del Regresor"
      ],
      "metadata": {
        "id": "F7rwWSi_Pj0D"
      }
    },
    {
      "cell_type": "code",
      "source": [
        "y = datos['Sales']\n",
        "#X = np.c_[datos['TV']]\n",
        "X = np.c_[datos['TV'], datos['Radio']]\n",
        "X.shape, y.shape"
      ],
      "metadata": {
        "id": "MbjSBCeDk08l",
        "colab": {
          "base_uri": "https://localhost:8080/"
        },
        "outputId": "cdf9b1a8-05cd-4274-8343-15e4f392dc65"
      },
      "execution_count": null,
      "outputs": [
        {
          "output_type": "execute_result",
          "data": {
            "text/plain": [
              "((200, 2), (200,))"
            ]
          },
          "metadata": {},
          "execution_count": 8
        }
      ]
    },
    {
      "cell_type": "markdown",
      "source": [
        "## Normalización o estandarización de variables\n",
        "\n",
        "Este proceso será necesario cuando los rangos entre las variables excedan las 3 cifras. Es decir, una variable en numeros de 0 a 10 y otra de 0 a 1000.\n",
        "\n",
        "A pesar de mejorar el rendimiento en algunas ocasiones, se pierde la interpretabilidad del modelo"
      ],
      "metadata": {
        "id": "RhTvLitvP5n6"
      }
    },
    {
      "cell_type": "code",
      "source": [
        "#scaler = MinMaxScaler((-1,1))\n",
        "#scaler = StandardScaler()\n",
        "X_scaled = np.c_[np.ones_like(y), X]\n",
        "#X_scaled = np.c_[np.ones_like(y), scaler.fit_transform(X)]"
      ],
      "metadata": {
        "id": "xILDUABphlBv"
      },
      "execution_count": null,
      "outputs": []
    },
    {
      "cell_type": "markdown",
      "source": [
        "## División de conjuntos de ajuste (entrenamiento) y prueba"
      ],
      "metadata": {
        "id": "EaKZR7hNQ1wg"
      }
    },
    {
      "cell_type": "code",
      "source": [
        "x_train, x_test, y_train, y_test = train_test_split(X_scaled, y, test_size=0.2, random_state=20)\n",
        "x_train.shape, x_test.shape"
      ],
      "metadata": {
        "id": "XjQf32Twg34l",
        "colab": {
          "base_uri": "https://localhost:8080/"
        },
        "outputId": "ef6f3c28-e2f3-43ad-dc80-02727483d34c"
      },
      "execution_count": null,
      "outputs": [
        {
          "output_type": "execute_result",
          "data": {
            "text/plain": [
              "((160, 3), (40, 3))"
            ]
          },
          "metadata": {},
          "execution_count": 10
        }
      ]
    },
    {
      "cell_type": "markdown",
      "source": [
        "# Construcción y Ajuste del modelo de regresión\n",
        "\n",
        "![image.png](data:image/png;base64,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)"
      ],
      "metadata": {
        "id": "8qW1Ea5aRKHJ"
      }
    },
    {
      "cell_type": "code",
      "source": [
        "theta = np.linalg.inv(x_train.T @ x_train) @ x_train.T @ y_train\n",
        "theta"
      ],
      "metadata": {
        "id": "deeeb74bQ6xv",
        "colab": {
          "base_uri": "https://localhost:8080/"
        },
        "outputId": "0f238f02-d8fc-4dbc-976c-906677680da8"
      },
      "execution_count": null,
      "outputs": [
        {
          "output_type": "execute_result",
          "data": {
            "text/plain": [
              "array([3.13770947, 0.04424213, 0.18965134])"
            ]
          },
          "metadata": {},
          "execution_count": 11
        }
      ]
    },
    {
      "cell_type": "markdown",
      "source": [
        "## Modelo Ajustado:\n",
        "$\\hat{Sales} =  \\hat{\\theta}_0 +  \\hat{\\theta}_1 \\cdot TV + \\hat{\\theta}_2 \\cdot Radio $\n",
        "\n",
        "$\\hat{Sales} =  3.138 +  0.044 \\cdot TV + 0.190 \\cdot Radio $\n",
        "\n",
        "\n",
        "## Interpretación del modelo\n",
        "Los principales elementos que hay que interpretar en un modelo de regresión lineal son los coeficientes de los predictores:\n",
        "\n",
        "* $\\theta_0$ es la ordenada en el origen o intercept, se corresponde con el valor esperado de la variable respuesta 𝑦 cuando todos los predictores son cero.\n",
        "\n",
        "* $\\theta_j$ los coeficientes de regresión parcial de cada predictor indican el cambio promedio esperado de la variable respuesta  𝑦 al incrementar en una unidad de la variable predictora  $x_j$, manteniéndose constantes el resto de variables.\n",
        "\n",
        "\n",
        "#**Ejercicio:** Interpretar la estimación de los parámetros del ejemplo anterior de acuerdo al contexto del problema"
      ],
      "metadata": {
        "id": "Q-8Thc-hKgIs"
      }
    },
    {
      "cell_type": "markdown",
      "source": [
        "# Validación"
      ],
      "metadata": {
        "id": "izhVatcHJyvz"
      }
    },
    {
      "cell_type": "code",
      "source": [
        "y_gorro_test = x_test @ theta\n",
        "y_gorro_train = x_train @ theta\n",
        "y_gorro_test.shape, y_test.shape"
      ],
      "metadata": {
        "id": "RaygPUDOklRf",
        "colab": {
          "base_uri": "https://localhost:8080/"
        },
        "outputId": "89b89e35-249a-47eb-8472-e209cef13fab"
      },
      "execution_count": null,
      "outputs": [
        {
          "output_type": "execute_result",
          "data": {
            "text/plain": [
              "((40,), (40,))"
            ]
          },
          "metadata": {},
          "execution_count": 12
        }
      ]
    },
    {
      "cell_type": "markdown",
      "source": [
        "## Métricas de Rendimiento"
      ],
      "metadata": {
        "id": "gDvZPy_NJ1_D"
      }
    },
    {
      "cell_type": "markdown",
      "source": [
        "### Entrenamiento"
      ],
      "metadata": {
        "id": "KMFKGhoAMBNp"
      }
    },
    {
      "cell_type": "code",
      "source": [
        "MSE = mean_squared_error(y_train,y_gorro_train)\n",
        "RMSE = np.sqrt(MSE)\n",
        "MAE = mean_absolute_error(y_train,y_gorro_train)\n",
        "R2 = r2_score(y_train,y_gorro_train)"
      ],
      "metadata": {
        "id": "emjkemrLlzWl"
      },
      "execution_count": null,
      "outputs": []
    },
    {
      "cell_type": "code",
      "source": [
        "print(f\"MSE: {MSE:.4f}\")\n",
        "print(f\"RMSE: {RMSE:.4f}\")\n",
        "print(f\"MAE: {MAE:.4f}\")\n",
        "print(f\"R2: {R2*100:.2f}%\")"
      ],
      "metadata": {
        "id": "fxfcGpydmPDh",
        "colab": {
          "base_uri": "https://localhost:8080/"
        },
        "outputId": "06bf66b5-5f87-4e6b-91f1-65870840dd15"
      },
      "execution_count": null,
      "outputs": [
        {
          "output_type": "stream",
          "name": "stdout",
          "text": [
            "MSE: 2.6327\n",
            "RMSE: 1.6226\n",
            "MAE: 1.2039\n",
            "R2: 89.39%\n"
          ]
        }
      ]
    },
    {
      "cell_type": "markdown",
      "source": [
        "### Prueba"
      ],
      "metadata": {
        "id": "QepvEK1fMG9L"
      }
    },
    {
      "cell_type": "code",
      "source": [
        "MSE = mean_squared_error(y_test,y_gorro_test)\n",
        "RMSE = np.sqrt(MSE)\n",
        "MAE = mean_absolute_error(y_test,y_gorro_test)\n",
        "R2 = r2_score(y_test,y_gorro_test)"
      ],
      "metadata": {
        "id": "RPyjOdIMfK1m"
      },
      "execution_count": null,
      "outputs": []
    },
    {
      "cell_type": "code",
      "source": [
        "print(f\"MSE: {MSE:.4f}\")\n",
        "print(f\"RMSE: {RMSE:.4f}\")\n",
        "print(f\"MAE: {MAE:.4f}\")\n",
        "print(f\"R2: {R2*100:.2f}%\")"
      ],
      "metadata": {
        "id": "F6Oe494NfK1n",
        "colab": {
          "base_uri": "https://localhost:8080/"
        },
        "outputId": "b1cc65ef-f997-4794-ec91-036b8242a2bd"
      },
      "execution_count": null,
      "outputs": [
        {
          "output_type": "stream",
          "name": "stdout",
          "text": [
            "MSE: 3.4827\n",
            "RMSE: 1.8662\n",
            "MAE: 1.4046\n",
            "R2: 90.38%\n"
          ]
        }
      ]
    },
    {
      "cell_type": "code",
      "source": [
        "plt.plot(x_test[:,1],y_test,'*r')\n",
        "plt.plot(x_test[:,1],y_gorro_test,'*b')\n",
        "plt.show()"
      ],
      "metadata": {
        "id": "duf1qC9lM7_n",
        "colab": {
          "base_uri": "https://localhost:8080/",
          "height": 430
        },
        "outputId": "5ee217e4-b9b2-4394-8aa2-620492911e63"
      },
      "execution_count": null,
      "outputs": [
        {
          "output_type": "display_data",
          "data": {
            "text/plain": [
              "<Figure size 640x480 with 1 Axes>"
            ],
            "image/png": "[encoded data removed]"
          },
          "metadata": {}
        }
      ]
    },
    {
      "cell_type": "code",
      "source": [
        "diff = y_test - y_gorro_test\n",
        "sns.histplot(diff,kde=True)\n",
        "plt.title('Histogram of prediction errors')\n",
        "plt.xlim(-5,5)\n",
        "plt.xlabel('prediction error')\n",
        "plt.ylabel('Frequency')\n",
        "plt.show()"
      ],
      "metadata": {
        "id": "lq-cN4-uIAbN",
        "colab": {
          "base_uri": "https://localhost:8080/",
          "height": 472
        },
        "outputId": "e7bb65a0-b2cc-44d5-8513-8f9de3998b1f"
      },
      "execution_count": null,
      "outputs": [
        {
          "output_type": "display_data",
          "data": {
            "text/plain": [
              "<Figure size 640x480 with 1 Axes>"
            ],
            "image/png": "[encoded data removed]"
          },
          "metadata": {}
        }
      ]
    }
  ]
}