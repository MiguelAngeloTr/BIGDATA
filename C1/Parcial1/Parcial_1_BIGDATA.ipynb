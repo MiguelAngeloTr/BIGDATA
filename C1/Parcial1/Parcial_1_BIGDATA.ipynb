{
  "nbformat": 4,
  "nbformat_minor": 0,
  "metadata": {
    "colab": {
      "provenance": [],
      "collapsed_sections": [
        "7AYS0MlUvfrI",
        "WNaboQo22HOW",
        "2fj4XecA5nX_",
        "D6Syynf5QCxB",
        "0k8qNqs2T2a0"
      ],
      "include_colab_link": true
    },
    "kernelspec": {
      "name": "python3",
      "display_name": "Python 3"
    },
    "language_info": {
      "name": "python"
    }
  },
  "cells": [
    {
      "cell_type": "markdown",
      "metadata": {
        "id": "view-in-github",
        "colab_type": "text"
      },
      "source": [
        "<a href=\"https://colab.research.google.com/github/MiguelAngeloTr/BIGDATA/blob/main/C1/Parcial1/Parcial_1_BIGDATA.ipynb\" target=\"_parent\"><img src=\"https://colab.research.google.com/assets/colab-badge.svg\" alt=\"Open In Colab\"/></a>"
      ]
    },
    {
      "cell_type": "markdown",
      "source": [
        "\n",
        "##Universidad Autónoma de Occidente\n",
        "\n",
        "##Facultad de Ingenierías y Ciencias Básicas\n",
        "\n",
        "##Curso: Big Data\n",
        "\n",
        "##Autor: Sergio A. Cantillo\n",
        "\n",
        "##Correo: sacantillo@uao.edu.co\n",
        "\n",
        "---\n",
        "\n",
        "### **NOMBRE COMPLETO:Miguel Angel Jimenez Trochez**\n",
        "\n",
        "###**CODIGO:2215407**\n",
        "\n",
        "### **PROGRAMA:Ingenieria Informatica**\n",
        "\n",
        "---\n",
        "\n",
        "### **Condiciones**\n",
        "\n",
        "*   Pueden usar los archivos Google Colab trabajados en clase.\n",
        "*   No pueden usar IA para buscar las respuetas del examen. Quien sea visto en flagrancia, el examen será **anulado**.\n",
        "*   Se contestan las preguntas 1, 2 y 3 Obligatoriamente, del resto se escogen 2 para hacer 5. Si contestan todas las 6 preguntas correctamente bonifican para el segundo parcial.\n",
        "*   Pueden usar el material de referencia de UAO virtual\n",
        "*   Subir el archivo con extensión .ipynb a la plataforma antes de las 12:59 PM.\n",
        "\n",
        "\n",
        "# **Examen 1**\n",
        "\n",
        "El conjunto de datos AB_NYC_2019.csv contiene información acerca de los listados de Airbnb en la ciudad de Nueva York. Incluye variables como el nombre del alojamiento, el nombre del anfitrión, la ubicación geográfica (vecindario y coordenadas), el tipo de habitación, el precio por noche, el número mínimo de noches requeridas para una reserva, la disponibilidad durante el año, entre otros detalles relevantes. El objetivo en este análisis de datos consiste en utilizar las herramientas computacionales y estadísticas vistas hasta el momento en el curso que logren contribuir a la caracterización de estos alojamientos\n",
        "\n"
      ],
      "metadata": {
        "id": "d3Jvt3ee7RBm"
      }
    },
    {
      "cell_type": "code",
      "source": [
        "!sudo apt update\n",
        "!apt-get install openjdk-8-jdk-headless -qq > /dev/null\n",
        "!wget -q https://dlcdn.apache.org/spark/spark-3.5.5/spark-3.5.5-bin-hadoop3.tgz\n",
        "!tar xf spark-3.5.5-bin-hadoop3.tgz\n",
        "!pip install pyspark\n",
        "!pip install py4j\n",
        "!pip install findspark"
      ],
      "metadata": {
        "id": "qVemdWrpmTyH",
        "outputId": "5d1681df-0f7d-4a9f-9dec-5114d8fec795",
        "colab": {
          "base_uri": "https://localhost:8080/"
        }
      },
      "execution_count": 1,
      "outputs": [
        {
          "output_type": "stream",
          "name": "stdout",
          "text": [
            "\u001b[33m\r0% [Working]\u001b[0m\r            \rHit:1 http://archive.ubuntu.com/ubuntu jammy InRelease\n",
            "\u001b[33m\r0% [Waiting for headers] [Connecting to cloud.r-project.org] [Waiting for heade\u001b[0m\r                                                                               \rGet:2 http://archive.ubuntu.com/ubuntu jammy-updates InRelease [128 kB]\n",
            "\r                                                                               \rGet:3 https://developer.download.nvidia.com/compute/cuda/repos/ubuntu2204/x86_64  InRelease [1,581 B]\n",
            "\u001b[33m\r0% [2 InRelease 12.7 kB/128 kB 10%] [Waiting for headers] [Connecting to cloud.\u001b[0m\u001b[33m\r0% [2 InRelease 15.6 kB/128 kB 12%] [Waiting for headers] [Connecting to cloud.\u001b[0m\r                                                                               \rGet:4 http://security.ubuntu.com/ubuntu jammy-security InRelease [129 kB]\n",
            "Get:5 https://r2u.stat.illinois.edu/ubuntu jammy InRelease [6,555 B]\n",
            "Get:6 http://archive.ubuntu.com/ubuntu jammy-backports InRelease [127 kB]\n",
            "Get:7 https://cloud.r-project.org/bin/linux/ubuntu jammy-cran40/ InRelease [3,632 B]\n",
            "Hit:8 https://ppa.launchpadcontent.net/deadsnakes/ppa/ubuntu jammy InRelease\n",
            "Hit:9 https://ppa.launchpadcontent.net/graphics-drivers/ppa/ubuntu jammy InRelease\n",
            "Get:10 https://developer.download.nvidia.com/compute/cuda/repos/ubuntu2204/x86_64  Packages [1,369 kB]\n",
            "Hit:11 https://ppa.launchpadcontent.net/ubuntugis/ppa/ubuntu jammy InRelease\n",
            "Get:12 https://r2u.stat.illinois.edu/ubuntu jammy/main amd64 Packages [2,668 kB]\n",
            "Get:13 http://archive.ubuntu.com/ubuntu jammy-updates/main amd64 Packages [2,988 kB]\n",
            "Get:14 http://archive.ubuntu.com/ubuntu jammy-updates/universe amd64 Packages [1,533 kB]\n",
            "Get:15 https://r2u.stat.illinois.edu/ubuntu jammy/main all Packages [8,731 kB]\n",
            "Get:16 http://archive.ubuntu.com/ubuntu jammy-updates/restricted amd64 Packages [3,934 kB]\n",
            "Get:17 http://archive.ubuntu.com/ubuntu jammy-updates/multiverse amd64 Packages [64.2 kB]\n",
            "Get:18 http://security.ubuntu.com/ubuntu jammy-security/restricted amd64 Packages [3,774 kB]\n",
            "Get:19 http://security.ubuntu.com/ubuntu jammy-security/main amd64 Packages [2,682 kB]\n",
            "Get:20 http://security.ubuntu.com/ubuntu jammy-security/universe amd64 Packages [1,235 kB]\n",
            "Get:21 http://security.ubuntu.com/ubuntu jammy-security/multiverse amd64 Packages [56.4 kB]\n",
            "Fetched 29.4 MB in 4s (8,243 kB/s)\n",
            "Reading package lists... Done\n",
            "Building dependency tree... Done\n",
            "Reading state information... Done\n",
            "33 packages can be upgraded. Run 'apt list --upgradable' to see them.\n",
            "\u001b[1;33mW: \u001b[0mSkipping acquire of configured file 'main/source/Sources' as repository 'https://r2u.stat.illinois.edu/ubuntu jammy InRelease' does not seem to provide it (sources.list entry misspelt?)\u001b[0m\n",
            "Requirement already satisfied: pyspark in /usr/local/lib/python3.11/dist-packages (3.5.5)\n",
            "Requirement already satisfied: py4j==0.10.9.7 in /usr/local/lib/python3.11/dist-packages (from pyspark) (0.10.9.7)\n",
            "Requirement already satisfied: py4j in /usr/local/lib/python3.11/dist-packages (0.10.9.7)\n",
            "Collecting findspark\n",
            "  Downloading findspark-2.0.1-py2.py3-none-any.whl.metadata (352 bytes)\n",
            "Downloading findspark-2.0.1-py2.py3-none-any.whl (4.4 kB)\n",
            "Installing collected packages: findspark\n",
            "Successfully installed findspark-2.0.1\n"
          ]
        }
      ]
    },
    {
      "cell_type": "code",
      "source": [
        "import os\n",
        "os.environ[\"JAVA_HOME\"] = \"/usr/lib/jvm/java-8-openjdk-amd64\"\n",
        "os.environ[\"SPARK_HOME\"] = \"/content/spark-3.5.5-bin-hadoop3\""
      ],
      "metadata": {
        "id": "oqgv5PJzmZ1j"
      },
      "execution_count": 2,
      "outputs": []
    },
    {
      "cell_type": "code",
      "source": [
        "import findspark\n",
        "findspark.init()\n",
        "findspark.find()\n",
        "\n",
        "import pyspark\n",
        "\n",
        "from pyspark.sql import DataFrame, SparkSession\n",
        "from typing import List\n",
        "import pyspark.sql.types as T\n",
        "import pyspark.sql.functions as F\n",
        "\n",
        "spark= SparkSession \\\n",
        "       .builder \\\n",
        "       .appName(\"Parcial 1 Spark\") \\\n",
        "       .getOrCreate()"
      ],
      "metadata": {
        "id": "9CbMyl_pmcmx"
      },
      "execution_count": 3,
      "outputs": []
    },
    {
      "cell_type": "markdown",
      "source": [
        "Comprobar sesión"
      ],
      "metadata": {
        "id": "kw-Q37-5mn1Q"
      }
    },
    {
      "cell_type": "code",
      "source": [
        "spark"
      ],
      "metadata": {
        "id": "KVVR0reJmnSK",
        "outputId": "e8ded278-d665-4c21-d5c9-1d4eeecab979",
        "colab": {
          "base_uri": "https://localhost:8080/",
          "height": 219
        }
      },
      "execution_count": 4,
      "outputs": [
        {
          "output_type": "execute_result",
          "data": {
            "text/plain": [
              "<pyspark.sql.session.SparkSession at 0x7bb4c6f99010>"
            ],
            "text/html": [
              "\n",
              "            <div>\n",
              "                <p><b>SparkSession - in-memory</b></p>\n",
              "                \n",
              "        <div>\n",
              "            <p><b>SparkContext</b></p>\n",
              "\n",
              "            <p><a href=\"http://b2a2643ab5d4:4040\">Spark UI</a></p>\n",
              "\n",
              "            <dl>\n",
              "              <dt>Version</dt>\n",
              "                <dd><code>v3.5.5</code></dd>\n",
              "              <dt>Master</dt>\n",
              "                <dd><code>local[*]</code></dd>\n",
              "              <dt>AppName</dt>\n",
              "                <dd><code>Parcial 1 Spark</code></dd>\n",
              "            </dl>\n",
              "        </div>\n",
              "        \n",
              "            </div>\n",
              "        "
            ]
          },
          "metadata": {},
          "execution_count": 4
        }
      ]
    },
    {
      "cell_type": "code",
      "source": [
        "from pyspark.sql.types import *\n",
        "from pyspark.sql.functions import to_date\n",
        "from pyspark.sql.functions import countDistinct\n",
        "from pyspark.sql.functions import col, regexp_extract, avg, split"
      ],
      "metadata": {
        "id": "eLFoMfkom3y-"
      },
      "execution_count": 5,
      "outputs": []
    },
    {
      "cell_type": "code",
      "source": [
        "#cargar dataset\n",
        "\n",
        "import requests\n",
        "path = \"https://raw.githubusercontent.com/MiguelAngeloTr/BIGDATA/refs/heads/main/C1/Parcial1/AB_NYC_2019.csv\"\n",
        "req = requests.get(path)\n",
        "url_content = req.content\n",
        "\n",
        "csv_file_name = 'AB_NYC_2019.csv'\n",
        "csv_file = open(csv_file_name, 'wb')\n",
        "\n",
        "csv_file.write(url_content)\n",
        "csv_file.close()\n",
        "\n",
        "\n",
        "\n"
      ],
      "metadata": {
        "id": "QL8KEyUmmvq4",
        "outputId": "e7f2dff2-dc16-4325-abd1-0d562ed12305",
        "colab": {
          "base_uri": "https://localhost:8080/"
        }
      },
      "execution_count": 20,
      "outputs": [
        {
          "output_type": "stream",
          "name": "stdout",
          "text": [
            "+----+--------------------+-------+----------------+-------------------+------------------+--------+---------+---------------+-----+--------------+-----------------+-----------+-----------------+------------------------------+----------------+\n",
            "|  id|                name|host_id|       host_name|neighbourhood_group|     neighbourhood|latitude|longitude|      room_type|price|minimum_nights|number_of_reviews|last_review|reviews_per_month|calculated_host_listings_count|availability_365|\n",
            "+----+--------------------+-------+----------------+-------------------+------------------+--------+---------+---------------+-----+--------------+-----------------+-----------+-----------------+------------------------------+----------------+\n",
            "|2539|Clean & quiet apt...|   2787|            John|           Brooklyn|        Kensington|40.64749|-73.97237|   Private room|  149|             1|              9.0| 2018-10-19|             0.21|                             6|           365.0|\n",
            "|2595|Skylit Midtown Ca...|   2845|        Jennifer|          Manhattan|           Midtown|40.75362|-73.98377|Entire home/apt|  225|             1|             45.0| 2019-05-21|             0.38|                             2|           355.0|\n",
            "|3647|THE VILLAGE OF HA...|   4632|       Elisabeth|          Manhattan|            Harlem|40.80902| -73.9419|   Private room|  150|             3|              0.0|       NULL|             NULL|                             1|           365.0|\n",
            "|3831|Cozy Entire Floor...|   4869|     LisaRoxanne|           Brooklyn|      Clinton Hill|40.68514|-73.95976|Entire home/apt|   89|             1|            270.0| 2019-07-05|             4.64|                             1|           194.0|\n",
            "|5022|Entire Apt: Spaci...|   7192|           Laura|          Manhattan|       East Harlem|40.79851|-73.94399|Entire home/apt|   80|            10|              9.0| 2018-11-19|              0.1|                             1|             0.0|\n",
            "|5099|Large Cozy 1 BR A...|   7322|           Chris|          Manhattan|       Murray Hill|40.74767|  -73.975|Entire home/apt|  200|             3|             74.0| 2019-06-22|             0.59|                             1|           129.0|\n",
            "|5121|     BlissArtsSpace!|   7356|           Garon|           Brooklyn|Bedford-Stuyvesant|40.68688|-73.95596|   Private room|   60|            45|             49.0| 2017-10-05|              0.4|                             1|             0.0|\n",
            "|5178|Large Furnished R...|   8967|        Shunichi|          Manhattan|    Hell's Kitchen|40.76489|-73.98493|   Private room|   79|             2|            430.0| 2019-06-24|             3.47|                             1|           220.0|\n",
            "|5203|Cozy Clean Guest ...|   7490|       MaryEllen|          Manhattan|   Upper West Side|40.80178|-73.96723|   Private room|   79|             2|            118.0| 2017-07-21|             0.99|                             1|             0.0|\n",
            "|5238|Cute & Cozy Lower...|   7549|             Ben|          Manhattan|         Chinatown|40.71344|-73.99037|Entire home/apt|  150|             1|            160.0| 2019-06-09|             1.33|                             4|           188.0|\n",
            "|5295|Beautiful 1br on ...|   7702|            Lena|          Manhattan|   Upper West Side|40.80316|-73.96545|Entire home/apt|  135|             5|             53.0| 2019-06-22|             0.43|                             1|             6.0|\n",
            "|5441|Central Manhattan...|   7989|            Kate|          Manhattan|    Hell's Kitchen|40.76076|-73.98867|   Private room|   85|             2|            188.0| 2019-06-23|              1.5|                             1|            39.0|\n",
            "|5803|Lovely Room 1, Ga...|   9744|          Laurie|           Brooklyn|       South Slope|40.66829|-73.98779|   Private room|   89|             4|            167.0| 2019-06-24|             1.34|                             3|           314.0|\n",
            "|6021|Wonderful Guest B...|  11528|         Claudio|          Manhattan|   Upper West Side|40.79826|-73.96113|   Private room|   85|             2|            113.0| 2019-07-05|             0.91|                             1|           333.0|\n",
            "|6090|West Village Nest...|  11975|           Alina|          Manhattan|      West Village| 40.7353|-74.00525|Entire home/apt|  120|            90|             27.0| 2018-10-31|             0.22|                             1|             0.0|\n",
            "|6848|Only 2 stops to M...|  15991|   Allen & Irina|           Brooklyn|      Williamsburg|40.70837|-73.95352|Entire home/apt|  140|             2|            148.0| 2019-06-29|              1.2|                             1|            46.0|\n",
            "|7097|Perfect for Your ...|  17571|            Jane|           Brooklyn|       Fort Greene|40.69169|-73.97185|Entire home/apt|  215|             2|            198.0| 2019-06-28|             1.72|                             1|           321.0|\n",
            "|7322|     Chelsea Perfect|  18946|            Doti|          Manhattan|           Chelsea|40.74192|-73.99501|   Private room|  140|             1|            260.0| 2019-07-01|             2.12|                             1|            12.0|\n",
            "|7726|Hip Historic Brow...|  20950|Adam And Charity|           Brooklyn|     Crown Heights|40.67592|-73.94694|Entire home/apt|   99|             3|             53.0| 2019-06-22|             4.44|                             1|            21.0|\n",
            "|7750|Huge 2 BR Upper E...|  17985|            Sing|          Manhattan|       East Harlem|40.79685|-73.94872|Entire home/apt|  190|             7|              0.0|       NULL|             NULL|                             2|           249.0|\n",
            "+----+--------------------+-------+----------------+-------------------+------------------+--------+---------+---------------+-----+--------------+-----------------+-----------+-----------------+------------------------------+----------------+\n",
            "only showing top 20 rows\n",
            "\n"
          ]
        }
      ]
    },
    {
      "cell_type": "code",
      "source": [
        "schema = StructType([\n",
        "    StructField(\"id\", IntegerType(), True),\n",
        "    StructField(\"name\", StringType(), True),\n",
        "    StructField(\"host_id\", IntegerType(), True),\n",
        "    StructField(\"host_name\", StringType(), True),\n",
        "    StructField(\"neighbourhood_group\", StringType(), True),\n",
        "    StructField(\"neighbourhood\", StringType(), True),\n",
        "    StructField(\"latitude\", DoubleType(), True),\n",
        "    StructField(\"longitude\", DoubleType(), True),\n",
        "    StructField(\"room_type\", StringType(), True),\n",
        "    StructField(\"price\", IntegerType(), True),\n",
        "    StructField(\"minimum_nights\", IntegerType(), True),\n",
        "    StructField(\"number_of_reviews\", IntegerType(), True),\n",
        "    StructField(\"last_review\", StringType(), True),\n",
        "    StructField(\"reviews_per_month\", DoubleType(), True),\n",
        "    StructField(\"calculated_host_listings_count\", IntegerType(), True),\n",
        "    StructField(\"availability_365\", IntegerType(), True)\n",
        "])"
      ],
      "metadata": {
        "id": "2AzSx7SJq06c"
      },
      "execution_count": 22,
      "outputs": []
    },
    {
      "cell_type": "code",
      "source": [
        "df = spark.read.csv('/content/'+csv_file_name, header=True, inferSchema=True, multiLine=True,schema=schema)\n",
        "df.show()"
      ],
      "metadata": {
        "id": "KC0oKz6EqzeN",
        "outputId": "c6db3907-d9a8-478d-cd29-29e99b439967",
        "colab": {
          "base_uri": "https://localhost:8080/"
        }
      },
      "execution_count": 23,
      "outputs": [
        {
          "output_type": "stream",
          "name": "stdout",
          "text": [
            "+----+--------------------+-------+----------------+-------------------+------------------+--------+---------+---------------+-----+--------------+-----------------+-----------+-----------------+------------------------------+----------------+\n",
            "|  id|                name|host_id|       host_name|neighbourhood_group|     neighbourhood|latitude|longitude|      room_type|price|minimum_nights|number_of_reviews|last_review|reviews_per_month|calculated_host_listings_count|availability_365|\n",
            "+----+--------------------+-------+----------------+-------------------+------------------+--------+---------+---------------+-----+--------------+-----------------+-----------+-----------------+------------------------------+----------------+\n",
            "|2539|Clean & quiet apt...|   2787|            John|           Brooklyn|        Kensington|40.64749|-73.97237|   Private room|  149|             1|                9| 2018-10-19|             0.21|                             6|             365|\n",
            "|2595|Skylit Midtown Ca...|   2845|        Jennifer|          Manhattan|           Midtown|40.75362|-73.98377|Entire home/apt|  225|             1|               45| 2019-05-21|             0.38|                             2|             355|\n",
            "|3647|THE VILLAGE OF HA...|   4632|       Elisabeth|          Manhattan|            Harlem|40.80902| -73.9419|   Private room|  150|             3|                0|       NULL|             NULL|                             1|             365|\n",
            "|3831|Cozy Entire Floor...|   4869|     LisaRoxanne|           Brooklyn|      Clinton Hill|40.68514|-73.95976|Entire home/apt|   89|             1|              270| 2019-07-05|             4.64|                             1|             194|\n",
            "|5022|Entire Apt: Spaci...|   7192|           Laura|          Manhattan|       East Harlem|40.79851|-73.94399|Entire home/apt|   80|            10|                9| 2018-11-19|              0.1|                             1|               0|\n",
            "|5099|Large Cozy 1 BR A...|   7322|           Chris|          Manhattan|       Murray Hill|40.74767|  -73.975|Entire home/apt|  200|             3|               74| 2019-06-22|             0.59|                             1|             129|\n",
            "|5121|     BlissArtsSpace!|   7356|           Garon|           Brooklyn|Bedford-Stuyvesant|40.68688|-73.95596|   Private room|   60|            45|               49| 2017-10-05|              0.4|                             1|               0|\n",
            "|5178|Large Furnished R...|   8967|        Shunichi|          Manhattan|    Hell's Kitchen|40.76489|-73.98493|   Private room|   79|             2|              430| 2019-06-24|             3.47|                             1|             220|\n",
            "|5203|Cozy Clean Guest ...|   7490|       MaryEllen|          Manhattan|   Upper West Side|40.80178|-73.96723|   Private room|   79|             2|              118| 2017-07-21|             0.99|                             1|               0|\n",
            "|5238|Cute & Cozy Lower...|   7549|             Ben|          Manhattan|         Chinatown|40.71344|-73.99037|Entire home/apt|  150|             1|              160| 2019-06-09|             1.33|                             4|             188|\n",
            "|5295|Beautiful 1br on ...|   7702|            Lena|          Manhattan|   Upper West Side|40.80316|-73.96545|Entire home/apt|  135|             5|               53| 2019-06-22|             0.43|                             1|               6|\n",
            "|5441|Central Manhattan...|   7989|            Kate|          Manhattan|    Hell's Kitchen|40.76076|-73.98867|   Private room|   85|             2|              188| 2019-06-23|              1.5|                             1|              39|\n",
            "|5803|Lovely Room 1, Ga...|   9744|          Laurie|           Brooklyn|       South Slope|40.66829|-73.98779|   Private room|   89|             4|              167| 2019-06-24|             1.34|                             3|             314|\n",
            "|6021|Wonderful Guest B...|  11528|         Claudio|          Manhattan|   Upper West Side|40.79826|-73.96113|   Private room|   85|             2|              113| 2019-07-05|             0.91|                             1|             333|\n",
            "|6090|West Village Nest...|  11975|           Alina|          Manhattan|      West Village| 40.7353|-74.00525|Entire home/apt|  120|            90|               27| 2018-10-31|             0.22|                             1|               0|\n",
            "|6848|Only 2 stops to M...|  15991|   Allen & Irina|           Brooklyn|      Williamsburg|40.70837|-73.95352|Entire home/apt|  140|             2|              148| 2019-06-29|              1.2|                             1|              46|\n",
            "|7097|Perfect for Your ...|  17571|            Jane|           Brooklyn|       Fort Greene|40.69169|-73.97185|Entire home/apt|  215|             2|              198| 2019-06-28|             1.72|                             1|             321|\n",
            "|7322|     Chelsea Perfect|  18946|            Doti|          Manhattan|           Chelsea|40.74192|-73.99501|   Private room|  140|             1|              260| 2019-07-01|             2.12|                             1|              12|\n",
            "|7726|Hip Historic Brow...|  20950|Adam And Charity|           Brooklyn|     Crown Heights|40.67592|-73.94694|Entire home/apt|   99|             3|               53| 2019-06-22|             4.44|                             1|              21|\n",
            "|7750|Huge 2 BR Upper E...|  17985|            Sing|          Manhattan|       East Harlem|40.79685|-73.94872|Entire home/apt|  190|             7|                0|       NULL|             NULL|                             2|             249|\n",
            "+----+--------------------+-------+----------------+-------------------+------------------+--------+---------+---------------+-----+--------------+-----------------+-----------+-----------------+------------------------------+----------------+\n",
            "only showing top 20 rows\n",
            "\n"
          ]
        }
      ]
    },
    {
      "cell_type": "code",
      "source": [
        "df.printSchema()"
      ],
      "metadata": {
        "id": "8-rRZ71lnTMZ",
        "outputId": "58482983-e7d9-4dc9-f339-eca3d051ed32",
        "colab": {
          "base_uri": "https://localhost:8080/"
        }
      },
      "execution_count": 24,
      "outputs": [
        {
          "output_type": "stream",
          "name": "stdout",
          "text": [
            "root\n",
            " |-- id: integer (nullable = true)\n",
            " |-- name: string (nullable = true)\n",
            " |-- host_id: integer (nullable = true)\n",
            " |-- host_name: string (nullable = true)\n",
            " |-- neighbourhood_group: string (nullable = true)\n",
            " |-- neighbourhood: string (nullable = true)\n",
            " |-- latitude: double (nullable = true)\n",
            " |-- longitude: double (nullable = true)\n",
            " |-- room_type: string (nullable = true)\n",
            " |-- price: integer (nullable = true)\n",
            " |-- minimum_nights: integer (nullable = true)\n",
            " |-- number_of_reviews: integer (nullable = true)\n",
            " |-- last_review: string (nullable = true)\n",
            " |-- reviews_per_month: double (nullable = true)\n",
            " |-- calculated_host_listings_count: integer (nullable = true)\n",
            " |-- availability_365: integer (nullable = true)\n",
            "\n"
          ]
        }
      ]
    },
    {
      "cell_type": "markdown",
      "source": [
        "Manejo de faltantes"
      ],
      "metadata": {
        "id": "FX9ENaaDoBUw"
      }
    },
    {
      "cell_type": "code",
      "source": [
        "def faltantes(df):\n",
        "  falta = df.select([F.sum(F.col(c).isNull().cast('int')).alias(c) for c in df.columns])\n",
        "  return falta.show()"
      ],
      "metadata": {
        "id": "VJXELp3toEmK"
      },
      "execution_count": 14,
      "outputs": []
    },
    {
      "cell_type": "markdown",
      "source": [
        "## **1.**   A partir de la carga del conjunto de datos crudo, realice los procesos de adecuación (Ej. tipos de dato) y limpieza de (Ej. identificación y eliminación de columnas) requeridos.\n",
        "\n",
        "##Responda:\n",
        "\n",
        "## 1.1 ¿Cual es el tamaño (filas,columnas) del conjunto de datos crudo?, y luego de los procesos solicitados?\n",
        "\n",
        "## 1.2 Indique brevemente si fueron eliminadas columnas de la base de datos y el criterio correspondiente.\n",
        "\n",
        "---"
      ],
      "metadata": {
        "id": "JpyZqITvoq08"
      }
    },
    {
      "cell_type": "markdown",
      "source": [
        "**1.1: Respuesta**"
      ],
      "metadata": {
        "id": "T8spz7DPrZ3w"
      }
    },
    {
      "cell_type": "code",
      "source": [
        "print('Tamaño (filas, columnas) del conjunto de datos crudo: ', (df.count(), len(df.columns)))"
      ],
      "metadata": {
        "id": "Zii6V0rvoXps",
        "outputId": "44720673-2131-4f4b-9dbd-ab38b17929a7",
        "colab": {
          "base_uri": "https://localhost:8080/"
        }
      },
      "execution_count": 25,
      "outputs": [
        {
          "output_type": "stream",
          "name": "stdout",
          "text": [
            "Tamaño (filas, columnas) del conjunto de datos crudo:  (48895, 16)\n"
          ]
        }
      ]
    },
    {
      "cell_type": "markdown",
      "source": [
        "1.2 Eliminación de columnas y filas con datos faltantes"
      ],
      "metadata": {
        "id": "iNh1G3-ZrkJt"
      }
    },
    {
      "cell_type": "code",
      "source": [
        "df2= df.drop('id','host_id','last_review').show()\n",
        "print('Tamaño (filas, columnas) del conjunto de datos con columnas eliminadas: ', (df2.count(), len(df.columns)))"
      ],
      "metadata": {
        "id": "MQ533o8-ptWr",
        "outputId": "73043f3d-b6eb-4467-c51b-7bd57ec6540b",
        "colab": {
          "base_uri": "https://localhost:8080/"
        }
      },
      "execution_count": 27,
      "outputs": [
        {
          "output_type": "stream",
          "name": "stdout",
          "text": [
            "+----+-------+-------------------+------------------+--------+---------+---------------+-----+--------------+-----------------+-----------------+------------------------------+----------------+\n",
            "|  id|host_id|neighbourhood_group|     neighbourhood|latitude|longitude|      room_type|price|minimum_nights|number_of_reviews|reviews_per_month|calculated_host_listings_count|availability_365|\n",
            "+----+-------+-------------------+------------------+--------+---------+---------------+-----+--------------+-----------------+-----------------+------------------------------+----------------+\n",
            "|2539|   2787|           Brooklyn|        Kensington|40.64749|-73.97237|   Private room|  149|             1|                9|             0.21|                             6|             365|\n",
            "|2595|   2845|          Manhattan|           Midtown|40.75362|-73.98377|Entire home/apt|  225|             1|               45|             0.38|                             2|             355|\n",
            "|3647|   4632|          Manhattan|            Harlem|40.80902| -73.9419|   Private room|  150|             3|                0|             NULL|                             1|             365|\n",
            "|3831|   4869|           Brooklyn|      Clinton Hill|40.68514|-73.95976|Entire home/apt|   89|             1|              270|             4.64|                             1|             194|\n",
            "|5022|   7192|          Manhattan|       East Harlem|40.79851|-73.94399|Entire home/apt|   80|            10|                9|              0.1|                             1|               0|\n",
            "|5099|   7322|          Manhattan|       Murray Hill|40.74767|  -73.975|Entire home/apt|  200|             3|               74|             0.59|                             1|             129|\n",
            "|5121|   7356|           Brooklyn|Bedford-Stuyvesant|40.68688|-73.95596|   Private room|   60|            45|               49|              0.4|                             1|               0|\n",
            "|5178|   8967|          Manhattan|    Hell's Kitchen|40.76489|-73.98493|   Private room|   79|             2|              430|             3.47|                             1|             220|\n",
            "|5203|   7490|          Manhattan|   Upper West Side|40.80178|-73.96723|   Private room|   79|             2|              118|             0.99|                             1|               0|\n",
            "|5238|   7549|          Manhattan|         Chinatown|40.71344|-73.99037|Entire home/apt|  150|             1|              160|             1.33|                             4|             188|\n",
            "|5295|   7702|          Manhattan|   Upper West Side|40.80316|-73.96545|Entire home/apt|  135|             5|               53|             0.43|                             1|               6|\n",
            "|5441|   7989|          Manhattan|    Hell's Kitchen|40.76076|-73.98867|   Private room|   85|             2|              188|              1.5|                             1|              39|\n",
            "|5803|   9744|           Brooklyn|       South Slope|40.66829|-73.98779|   Private room|   89|             4|              167|             1.34|                             3|             314|\n",
            "|6021|  11528|          Manhattan|   Upper West Side|40.79826|-73.96113|   Private room|   85|             2|              113|             0.91|                             1|             333|\n",
            "|6090|  11975|          Manhattan|      West Village| 40.7353|-74.00525|Entire home/apt|  120|            90|               27|             0.22|                             1|               0|\n",
            "|6848|  15991|           Brooklyn|      Williamsburg|40.70837|-73.95352|Entire home/apt|  140|             2|              148|              1.2|                             1|              46|\n",
            "|7097|  17571|           Brooklyn|       Fort Greene|40.69169|-73.97185|Entire home/apt|  215|             2|              198|             1.72|                             1|             321|\n",
            "|7322|  18946|          Manhattan|           Chelsea|40.74192|-73.99501|   Private room|  140|             1|              260|             2.12|                             1|              12|\n",
            "|7726|  20950|           Brooklyn|     Crown Heights|40.67592|-73.94694|Entire home/apt|   99|             3|               53|             4.44|                             1|              21|\n",
            "|7750|  17985|          Manhattan|       East Harlem|40.79685|-73.94872|Entire home/apt|  190|             7|                0|             NULL|                             2|             249|\n",
            "+----+-------+-------------------+------------------+--------+---------+---------------+-----+--------------+-----------------+-----------------+------------------------------+----------------+\n",
            "only showing top 20 rows\n",
            "\n",
            "Tamaño (filas, columnas) del conjunto de datos con columnas eliminadas:  (48895, 16)\n"
          ]
        }
      ]
    },
    {
      "cell_type": "markdown",
      "source": [
        "## **2.** A partir de la variable precio del alojamiento (price), obtenga los coeficientes de asimetria y forma, ademas grafíquela a través de un histograma y un diagrama de cajas.\n",
        "\n",
        "## Responda:\n",
        "\n",
        "## 2.1 De acuerdo a los coeficientes de asimetria y forma, ¿Qué clasificación presenta esta variable? ¿Corresponde a una distribución normal convencional?\n",
        "\n",
        "---\n",
        "\n"
      ],
      "metadata": {
        "id": "CfdTN3t8of1Y"
      }
    },
    {
      "cell_type": "code",
      "source": [],
      "metadata": {
        "id": "suB3Z-4v8Ofr"
      },
      "execution_count": null,
      "outputs": []
    },
    {
      "cell_type": "markdown",
      "source": [
        "## **3.**   Realice una tabla donde se determine la distribución de los tipos de alojamiento disponibles (room_type) por vecindario (neighborhood_group), incluyendo el precio promedio para cada uno. Asimismo, Grafique esta distribución con un diagrama de barras donde el eje X sean los vecindarios, el eje Y las cantidades. Ademas que existan barras por cada tipo de alojamiento.\n",
        "\n",
        "## Responda:\n",
        "\n",
        "## 3.1 ¿Qué se puede decir acerca de la relación entre el precio y tipo de alojamiento respecto del vecindario donde estan ubicados?\n",
        "\n",
        "## 3.2 ¿Qué vecindarios presentan la mayor cantidad de alojamientos tipo Private room?\n",
        "\n",
        "## 3.3 ¿Qué se puede decir de la distribución de los alojamientos en manhattan con respecto a los demas vecindarios?\n",
        "\n",
        "---\n",
        "\n"
      ],
      "metadata": {
        "id": "G1LgZioMUjoI"
      }
    },
    {
      "cell_type": "code",
      "source": [],
      "metadata": {
        "id": "cbqARmRL8PLT"
      },
      "execution_count": null,
      "outputs": []
    },
    {
      "cell_type": "markdown",
      "source": [
        "## **4.**   Realice una tabla donde se determine por vecindario (neighbourhood_group) la cantidad de alojamientos totales, su equivalente porcentual y su disponibilidad promedio (availability_365). Ordene los resultados de acuerdo al porcentaje (mayor a menor)\n",
        "\n",
        "## Responda:\n",
        "\n",
        "## 4.1. Teniendo en cuenta la información de esta tabla, ¿En cuál vecindario seria más probable encontrar alojamiento disponible?\n",
        "\n",
        "## 4.2 ¿Qué se puede decir acerca de la relación de los alojamientos totales y la disponibilidad promedio en los vecindarios?\n",
        "\n",
        "---\n",
        "\n",
        "\n"
      ],
      "metadata": {
        "id": "rAT4-nwTjq5P"
      }
    },
    {
      "cell_type": "code",
      "source": [],
      "metadata": {
        "id": "kwgcKpyb-NJa"
      },
      "execution_count": null,
      "outputs": []
    },
    {
      "cell_type": "markdown",
      "source": [
        "## **5.** Construya una matriz de correlación considerando el precio, la disponibilidad, y el numero de noches minimo de alojamiento.\n",
        "## Responda:\n",
        "## 5.1 ¿Cómo afecta la disponibilidad (minimum_nights) al precio de los alojamientos en Airbnb NYC?"
      ],
      "metadata": {
        "id": "DPDqWJjCUwbP"
      }
    },
    {
      "cell_type": "code",
      "source": [],
      "metadata": {
        "id": "zmgWIeJI-UT5"
      },
      "execution_count": null,
      "outputs": []
    },
    {
      "cell_type": "markdown",
      "source": [
        "## **6.** A partir de la variable availability_365, realice una recodificación las siguientes condiciones y añadala a dataframe con el nombre de \"availability level\":\n",
        "\n",
        "* Low disp: 0 a 119 días\n",
        "* Med disp: 120 a 240 días\n",
        "* High disp: 241 a 360 días\n",
        "\n",
        "## 6.1 A partir de este nuevo dataframe, entregue una tabla donde por este nivel de disponibilidad se muestre el total de alojamientos. ¿Que se puede decir acerca de esta información?"
      ],
      "metadata": {
        "id": "7r7OIYNQ0fBx"
      }
    },
    {
      "cell_type": "code",
      "source": [],
      "metadata": {
        "id": "sVb61PHY-XNJ"
      },
      "execution_count": null,
      "outputs": []
    }
  ]
}