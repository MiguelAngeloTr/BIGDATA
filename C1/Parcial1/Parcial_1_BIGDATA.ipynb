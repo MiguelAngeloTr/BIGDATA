{
  "nbformat": 4,
  "nbformat_minor": 0,
  "metadata": {
    "colab": {
      "provenance": [],
      "collapsed_sections": [
        "7AYS0MlUvfrI",
        "WNaboQo22HOW",
        "2fj4XecA5nX_",
        "D6Syynf5QCxB",
        "0k8qNqs2T2a0"
      ],
      "include_colab_link": true
    },
    "kernelspec": {
      "name": "python3",
      "display_name": "Python 3"
    },
    "language_info": {
      "name": "python"
    }
  },
  "cells": [
    {
      "cell_type": "markdown",
      "metadata": {
        "id": "view-in-github",
        "colab_type": "text"
      },
      "source": [
        "<a href=\"https://colab.research.google.com/github/MiguelAngeloTr/BIGDATA/blob/main/C1/Parcial1/Parcial_1_BIGDATA.ipynb\" target=\"_parent\"><img src=\"https://colab.research.google.com/assets/colab-badge.svg\" alt=\"Open In Colab\"/></a>"
      ]
    },
    {
      "cell_type": "markdown",
      "source": [
        "\n",
        "##Universidad Autónoma de Occidente\n",
        "\n",
        "##Facultad de Ingenierías y Ciencias Básicas\n",
        "\n",
        "##Curso: Big Data\n",
        "\n",
        "##Autor: Sergio A. Cantillo\n",
        "\n",
        "##Correo: sacantillo@uao.edu.co\n",
        "\n",
        "---\n",
        "\n",
        "### **NOMBRE COMPLETO:Miguel Angel Jimenez Trochez**\n",
        "\n",
        "###**CODIGO:2215407**\n",
        "\n",
        "### **PROGRAMA:Ingenieria Informatica**\n",
        "\n",
        "---\n",
        "\n",
        "### **Condiciones**\n",
        "\n",
        "*   Pueden usar los archivos Google Colab trabajados en clase.\n",
        "*   No pueden usar IA para buscar las respuetas del examen. Quien sea visto en flagrancia, el examen será **anulado**.\n",
        "*   Se contestan las preguntas 1, 2 y 3 Obligatoriamente, del resto se escogen 2 para hacer 5. Si contestan todas las 6 preguntas correctamente bonifican para el segundo parcial.\n",
        "*   Pueden usar el material de referencia de UAO virtual\n",
        "*   Subir el archivo con extensión .ipynb a la plataforma antes de las 12:59 PM.\n",
        "\n",
        "\n",
        "# **Examen 1**\n",
        "\n",
        "El conjunto de datos AB_NYC_2019.csv contiene información acerca de los listados de Airbnb en la ciudad de Nueva York. Incluye variables como el nombre del alojamiento, el nombre del anfitrión, la ubicación geográfica (vecindario y coordenadas), el tipo de habitación, el precio por noche, el número mínimo de noches requeridas para una reserva, la disponibilidad durante el año, entre otros detalles relevantes. El objetivo en este análisis de datos consiste en utilizar las herramientas computacionales y estadísticas vistas hasta el momento en el curso que logren contribuir a la caracterización de estos alojamientos\n",
        "\n"
      ],
      "metadata": {
        "id": "d3Jvt3ee7RBm"
      }
    },
    {
      "cell_type": "code",
      "source": [
        "!sudo apt update\n",
        "!apt-get install openjdk-8-jdk-headless -qq > /dev/null\n",
        "!wget -q https://dlcdn.apache.org/spark/spark-3.5.5/spark-3.5.5-bin-hadoop3.tgz\n",
        "!tar xf spark-3.5.5-bin-hadoop3.tgz\n",
        "!pip install pyspark\n",
        "!pip install py4j\n",
        "!pip install findspark"
      ],
      "metadata": {
        "colab": {
          "base_uri": "https://localhost:8080/"
        },
        "id": "qVemdWrpmTyH",
        "outputId": "606e66a9-cdd9-44ed-dc54-0cc3021f3712"
      },
      "execution_count": 28,
      "outputs": [
        {
          "output_type": "stream",
          "name": "stdout",
          "text": [
            "\u001b[33m\r0% [Working]\u001b[0m\r            \rHit:1 http://security.ubuntu.com/ubuntu jammy-security InRelease\n",
            "\u001b[33m\r0% [Waiting for headers] [Connected to cloud.r-project.org (108.157.173.89)] [C\u001b[0m\r                                                                               \rHit:2 http://archive.ubuntu.com/ubuntu jammy InRelease\n",
            "\r                                                                               \rHit:3 http://archive.ubuntu.com/ubuntu jammy-updates InRelease\n",
            "\u001b[33m\r0% [Waiting for headers] [Waiting for headers] [Connected to r2u.stat.illinois.\u001b[0m\r                                                                               \rHit:4 https://cloud.r-project.org/bin/linux/ubuntu jammy-cran40/ InRelease\n",
            "Hit:5 http://archive.ubuntu.com/ubuntu jammy-backports InRelease\n",
            "Hit:6 https://developer.download.nvidia.com/compute/cuda/repos/ubuntu2204/x86_64  InRelease\n",
            "Hit:7 https://r2u.stat.illinois.edu/ubuntu jammy InRelease\n",
            "Hit:8 https://ppa.launchpadcontent.net/deadsnakes/ppa/ubuntu jammy InRelease\n",
            "Hit:9 https://ppa.launchpadcontent.net/graphics-drivers/ppa/ubuntu jammy InRelease\n",
            "Hit:10 https://ppa.launchpadcontent.net/ubuntugis/ppa/ubuntu jammy InRelease\n",
            "Reading package lists... Done\n",
            "Building dependency tree... Done\n",
            "Reading state information... Done\n",
            "33 packages can be upgraded. Run 'apt list --upgradable' to see them.\n",
            "\u001b[1;33mW: \u001b[0mSkipping acquire of configured file 'main/source/Sources' as repository 'https://r2u.stat.illinois.edu/ubuntu jammy InRelease' does not seem to provide it (sources.list entry misspelt?)\u001b[0m\n",
            "Requirement already satisfied: pyspark in /usr/local/lib/python3.11/dist-packages (3.5.5)\n",
            "Requirement already satisfied: py4j==0.10.9.7 in /usr/local/lib/python3.11/dist-packages (from pyspark) (0.10.9.7)\n",
            "Requirement already satisfied: py4j in /usr/local/lib/python3.11/dist-packages (0.10.9.7)\n",
            "Requirement already satisfied: findspark in /usr/local/lib/python3.11/dist-packages (2.0.1)\n"
          ]
        }
      ]
    },
    {
      "cell_type": "code",
      "source": [
        "import os\n",
        "os.environ[\"JAVA_HOME\"] = \"/usr/lib/jvm/java-8-openjdk-amd64\"\n",
        "os.environ[\"SPARK_HOME\"] = \"/content/spark-3.5.5-bin-hadoop3\""
      ],
      "metadata": {
        "id": "oqgv5PJzmZ1j"
      },
      "execution_count": 29,
      "outputs": []
    },
    {
      "cell_type": "code",
      "source": [
        "import findspark\n",
        "findspark.init()\n",
        "findspark.find()\n",
        "\n",
        "import pyspark\n",
        "\n",
        "from pyspark.sql import DataFrame, SparkSession\n",
        "from typing import List\n",
        "import pyspark.sql.types as T\n",
        "import pyspark.sql.functions as F\n",
        "\n",
        "spark= SparkSession \\\n",
        "       .builder \\\n",
        "       .appName(\"Parcial 1 Spark\") \\\n",
        "       .getOrCreate()"
      ],
      "metadata": {
        "id": "9CbMyl_pmcmx"
      },
      "execution_count": 30,
      "outputs": []
    },
    {
      "cell_type": "markdown",
      "source": [
        "Comprobar sesión"
      ],
      "metadata": {
        "id": "kw-Q37-5mn1Q"
      }
    },
    {
      "cell_type": "code",
      "source": [
        "spark"
      ],
      "metadata": {
        "colab": {
          "base_uri": "https://localhost:8080/",
          "height": 219
        },
        "id": "KVVR0reJmnSK",
        "outputId": "afe726f6-9c8e-4d88-be20-e59f1be6c01a"
      },
      "execution_count": 31,
      "outputs": [
        {
          "output_type": "execute_result",
          "data": {
            "text/plain": [
              "<pyspark.sql.session.SparkSession at 0x7bb4c6f99010>"
            ],
            "text/html": [
              "\n",
              "            <div>\n",
              "                <p><b>SparkSession - in-memory</b></p>\n",
              "                \n",
              "        <div>\n",
              "            <p><b>SparkContext</b></p>\n",
              "\n",
              "            <p><a href=\"http://b2a2643ab5d4:4040\">Spark UI</a></p>\n",
              "\n",
              "            <dl>\n",
              "              <dt>Version</dt>\n",
              "                <dd><code>v3.5.5</code></dd>\n",
              "              <dt>Master</dt>\n",
              "                <dd><code>local[*]</code></dd>\n",
              "              <dt>AppName</dt>\n",
              "                <dd><code>Parcial 1 Spark</code></dd>\n",
              "            </dl>\n",
              "        </div>\n",
              "        \n",
              "            </div>\n",
              "        "
            ]
          },
          "metadata": {},
          "execution_count": 31
        }
      ]
    },
    {
      "cell_type": "code",
      "source": [
        "from pyspark.sql.types import *\n",
        "from pyspark.sql.functions import to_date\n",
        "from pyspark.sql.functions import countDistinct\n",
        "from pyspark.sql.functions import col, regexp_extract, avg, split"
      ],
      "metadata": {
        "id": "eLFoMfkom3y-"
      },
      "execution_count": 32,
      "outputs": []
    },
    {
      "cell_type": "code",
      "source": [
        "import pandas as pd\n",
        "import numpy as np\n",
        "import seaborn as sns\n",
        "import matplotlib.pyplot as plt"
      ],
      "metadata": {
        "id": "lRI9dhYQvGUh"
      },
      "execution_count": 58,
      "outputs": []
    },
    {
      "cell_type": "code",
      "source": [
        "#cargar dataset\n",
        "\n",
        "import requests\n",
        "path = \"https://raw.githubusercontent.com/MiguelAngeloTr/BIGDATA/refs/heads/main/C1/Parcial1/AB_NYC_2019.csv\"\n",
        "req = requests.get(path)\n",
        "url_content = req.content\n",
        "\n",
        "csv_file_name = 'AB_NYC_2019.csv'\n",
        "csv_file = open(csv_file_name, 'wb')\n",
        "\n",
        "csv_file.write(url_content)\n",
        "csv_file.close()\n",
        "\n",
        "\n",
        "\n"
      ],
      "metadata": {
        "id": "QL8KEyUmmvq4"
      },
      "execution_count": 44,
      "outputs": []
    },
    {
      "cell_type": "code",
      "source": [
        "schema = StructType([\n",
        "    StructField(\"id\", IntegerType(), True),\n",
        "    StructField(\"name\", StringType(), True),\n",
        "    StructField(\"host_id\", IntegerType(), True),\n",
        "    StructField(\"host_name\", StringType(), True),\n",
        "    StructField(\"neighbourhood_group\", StringType(), True),\n",
        "    StructField(\"neighbourhood\", StringType(), True),\n",
        "    StructField(\"latitude\", DoubleType(), True),\n",
        "    StructField(\"longitude\", DoubleType(), True),\n",
        "    StructField(\"room_type\", StringType(), True),\n",
        "    StructField(\"price\", IntegerType(), True),\n",
        "    StructField(\"minimum_nights\", IntegerType(), True),\n",
        "    StructField(\"number_of_reviews\", IntegerType(), True),\n",
        "    StructField(\"last_review\", StringType(), True),\n",
        "    StructField(\"reviews_per_month\", DoubleType(), True),\n",
        "    StructField(\"calculated_host_listings_count\", IntegerType(), True),\n",
        "    StructField(\"availability_365\", IntegerType(), True)\n",
        "])"
      ],
      "metadata": {
        "id": "2AzSx7SJq06c"
      },
      "execution_count": 45,
      "outputs": []
    },
    {
      "cell_type": "code",
      "source": [
        "df = spark.read.csv('/content/'+csv_file_name, header=True, inferSchema=True, multiLine=True,schema=schema)\n",
        "df.show()"
      ],
      "metadata": {
        "colab": {
          "base_uri": "https://localhost:8080/"
        },
        "id": "KC0oKz6EqzeN",
        "outputId": "cf8d6f29-219d-4b8b-df3c-b25629df3eaa"
      },
      "execution_count": 46,
      "outputs": [
        {
          "output_type": "stream",
          "name": "stdout",
          "text": [
            "+----+--------------------+-------+----------------+-------------------+------------------+--------+---------+---------------+-----+--------------+-----------------+-----------+-----------------+------------------------------+----------------+\n",
            "|  id|                name|host_id|       host_name|neighbourhood_group|     neighbourhood|latitude|longitude|      room_type|price|minimum_nights|number_of_reviews|last_review|reviews_per_month|calculated_host_listings_count|availability_365|\n",
            "+----+--------------------+-------+----------------+-------------------+------------------+--------+---------+---------------+-----+--------------+-----------------+-----------+-----------------+------------------------------+----------------+\n",
            "|2539|Clean & quiet apt...|   2787|            John|           Brooklyn|        Kensington|40.64749|-73.97237|   Private room|  149|             1|                9| 2018-10-19|             0.21|                             6|             365|\n",
            "|2595|Skylit Midtown Ca...|   2845|        Jennifer|          Manhattan|           Midtown|40.75362|-73.98377|Entire home/apt|  225|             1|               45| 2019-05-21|             0.38|                             2|             355|\n",
            "|3647|THE VILLAGE OF HA...|   4632|       Elisabeth|          Manhattan|            Harlem|40.80902| -73.9419|   Private room|  150|             3|                0|       NULL|             NULL|                             1|             365|\n",
            "|3831|Cozy Entire Floor...|   4869|     LisaRoxanne|           Brooklyn|      Clinton Hill|40.68514|-73.95976|Entire home/apt|   89|             1|              270| 2019-07-05|             4.64|                             1|             194|\n",
            "|5022|Entire Apt: Spaci...|   7192|           Laura|          Manhattan|       East Harlem|40.79851|-73.94399|Entire home/apt|   80|            10|                9| 2018-11-19|              0.1|                             1|               0|\n",
            "|5099|Large Cozy 1 BR A...|   7322|           Chris|          Manhattan|       Murray Hill|40.74767|  -73.975|Entire home/apt|  200|             3|               74| 2019-06-22|             0.59|                             1|             129|\n",
            "|5121|     BlissArtsSpace!|   7356|           Garon|           Brooklyn|Bedford-Stuyvesant|40.68688|-73.95596|   Private room|   60|            45|               49| 2017-10-05|              0.4|                             1|               0|\n",
            "|5178|Large Furnished R...|   8967|        Shunichi|          Manhattan|    Hell's Kitchen|40.76489|-73.98493|   Private room|   79|             2|              430| 2019-06-24|             3.47|                             1|             220|\n",
            "|5203|Cozy Clean Guest ...|   7490|       MaryEllen|          Manhattan|   Upper West Side|40.80178|-73.96723|   Private room|   79|             2|              118| 2017-07-21|             0.99|                             1|               0|\n",
            "|5238|Cute & Cozy Lower...|   7549|             Ben|          Manhattan|         Chinatown|40.71344|-73.99037|Entire home/apt|  150|             1|              160| 2019-06-09|             1.33|                             4|             188|\n",
            "|5295|Beautiful 1br on ...|   7702|            Lena|          Manhattan|   Upper West Side|40.80316|-73.96545|Entire home/apt|  135|             5|               53| 2019-06-22|             0.43|                             1|               6|\n",
            "|5441|Central Manhattan...|   7989|            Kate|          Manhattan|    Hell's Kitchen|40.76076|-73.98867|   Private room|   85|             2|              188| 2019-06-23|              1.5|                             1|              39|\n",
            "|5803|Lovely Room 1, Ga...|   9744|          Laurie|           Brooklyn|       South Slope|40.66829|-73.98779|   Private room|   89|             4|              167| 2019-06-24|             1.34|                             3|             314|\n",
            "|6021|Wonderful Guest B...|  11528|         Claudio|          Manhattan|   Upper West Side|40.79826|-73.96113|   Private room|   85|             2|              113| 2019-07-05|             0.91|                             1|             333|\n",
            "|6090|West Village Nest...|  11975|           Alina|          Manhattan|      West Village| 40.7353|-74.00525|Entire home/apt|  120|            90|               27| 2018-10-31|             0.22|                             1|               0|\n",
            "|6848|Only 2 stops to M...|  15991|   Allen & Irina|           Brooklyn|      Williamsburg|40.70837|-73.95352|Entire home/apt|  140|             2|              148| 2019-06-29|              1.2|                             1|              46|\n",
            "|7097|Perfect for Your ...|  17571|            Jane|           Brooklyn|       Fort Greene|40.69169|-73.97185|Entire home/apt|  215|             2|              198| 2019-06-28|             1.72|                             1|             321|\n",
            "|7322|     Chelsea Perfect|  18946|            Doti|          Manhattan|           Chelsea|40.74192|-73.99501|   Private room|  140|             1|              260| 2019-07-01|             2.12|                             1|              12|\n",
            "|7726|Hip Historic Brow...|  20950|Adam And Charity|           Brooklyn|     Crown Heights|40.67592|-73.94694|Entire home/apt|   99|             3|               53| 2019-06-22|             4.44|                             1|              21|\n",
            "|7750|Huge 2 BR Upper E...|  17985|            Sing|          Manhattan|       East Harlem|40.79685|-73.94872|Entire home/apt|  190|             7|                0|       NULL|             NULL|                             2|             249|\n",
            "+----+--------------------+-------+----------------+-------------------+------------------+--------+---------+---------------+-----+--------------+-----------------+-----------+-----------------+------------------------------+----------------+\n",
            "only showing top 20 rows\n",
            "\n"
          ]
        }
      ]
    },
    {
      "cell_type": "code",
      "source": [
        "df.printSchema()"
      ],
      "metadata": {
        "colab": {
          "base_uri": "https://localhost:8080/"
        },
        "id": "8-rRZ71lnTMZ",
        "outputId": "58dd6ac5-d04e-4480-a74a-d0319aa2b903"
      },
      "execution_count": 47,
      "outputs": [
        {
          "output_type": "stream",
          "name": "stdout",
          "text": [
            "root\n",
            " |-- id: integer (nullable = true)\n",
            " |-- name: string (nullable = true)\n",
            " |-- host_id: integer (nullable = true)\n",
            " |-- host_name: string (nullable = true)\n",
            " |-- neighbourhood_group: string (nullable = true)\n",
            " |-- neighbourhood: string (nullable = true)\n",
            " |-- latitude: double (nullable = true)\n",
            " |-- longitude: double (nullable = true)\n",
            " |-- room_type: string (nullable = true)\n",
            " |-- price: integer (nullable = true)\n",
            " |-- minimum_nights: integer (nullable = true)\n",
            " |-- number_of_reviews: integer (nullable = true)\n",
            " |-- last_review: string (nullable = true)\n",
            " |-- reviews_per_month: double (nullable = true)\n",
            " |-- calculated_host_listings_count: integer (nullable = true)\n",
            " |-- availability_365: integer (nullable = true)\n",
            "\n"
          ]
        }
      ]
    },
    {
      "cell_type": "markdown",
      "source": [
        "Manejo de faltantes"
      ],
      "metadata": {
        "id": "FX9ENaaDoBUw"
      }
    },
    {
      "cell_type": "code",
      "source": [
        "def faltantes(df):\n",
        "  falta = df.select([F.sum(F.col(c).isNull().cast('int')).alias(c) for c in df.columns])\n",
        "  return falta.show()"
      ],
      "metadata": {
        "id": "VJXELp3toEmK"
      },
      "execution_count": 48,
      "outputs": []
    },
    {
      "cell_type": "markdown",
      "source": [
        "## **1.**   A partir de la carga del conjunto de datos crudo, realice los procesos de adecuación (Ej. tipos de dato) y limpieza de (Ej. identificación y eliminación de columnas) requeridos.\n",
        "\n",
        "##Responda:\n",
        "\n",
        "## 1.1 ¿Cual es el tamaño (filas,columnas) del conjunto de datos crudo?, y luego de los procesos solicitados?\n",
        "\n",
        "## 1.2 Indique brevemente si fueron eliminadas columnas de la base de datos y el criterio correspondiente.\n",
        "\n",
        "---"
      ],
      "metadata": {
        "id": "JpyZqITvoq08"
      }
    },
    {
      "cell_type": "markdown",
      "source": [
        "**1.1: Respuesta**"
      ],
      "metadata": {
        "id": "T8spz7DPrZ3w"
      }
    },
    {
      "cell_type": "code",
      "source": [
        "print('Tamaño (filas, columnas) del conjunto de datos crudo: ', (df.count(), len(df.columns)))"
      ],
      "metadata": {
        "colab": {
          "base_uri": "https://localhost:8080/"
        },
        "id": "Zii6V0rvoXps",
        "outputId": "49e0f576-5773-4985-f6a0-6f00a5952952"
      },
      "execution_count": 49,
      "outputs": [
        {
          "output_type": "stream",
          "name": "stdout",
          "text": [
            "Tamaño (filas, columnas) del conjunto de datos crudo:  (48895, 16)\n"
          ]
        }
      ]
    },
    {
      "cell_type": "markdown",
      "source": [
        "1.2 Eliminación de columnas y filas con datos faltantes"
      ],
      "metadata": {
        "id": "iNh1G3-ZrkJt"
      }
    },
    {
      "cell_type": "code",
      "source": [
        "df2= df.drop('id','host_id', 'last_review', 'reviews_per_month')\n",
        "print('Se eliminan id, host id, last_review, reviews_per_month  por que no aportan al analisis de los datos ')\n",
        "df2.show()\n",
        "\n",
        "print('Tamaño (filas, columnas) del conjunto de datos crudo: ', (df2.count(), len(df2.columns)))\n",
        "\n"
      ],
      "metadata": {
        "colab": {
          "base_uri": "https://localhost:8080/"
        },
        "id": "MQ533o8-ptWr",
        "outputId": "74ff4463-4a8d-41fd-9139-42bc8a2ce736"
      },
      "execution_count": 70,
      "outputs": [
        {
          "output_type": "stream",
          "name": "stdout",
          "text": [
            "Se eliminan id, host id, last_review, reviews_per_month  por que no aportan al analisis de los datos \n",
            "+--------------------+----------------+-------------------+------------------+--------+---------+---------------+-----+--------------+-----------------+------------------------------+----------------+\n",
            "|                name|       host_name|neighbourhood_group|     neighbourhood|latitude|longitude|      room_type|price|minimum_nights|number_of_reviews|calculated_host_listings_count|availability_365|\n",
            "+--------------------+----------------+-------------------+------------------+--------+---------+---------------+-----+--------------+-----------------+------------------------------+----------------+\n",
            "|Clean & quiet apt...|            John|           Brooklyn|        Kensington|40.64749|-73.97237|   Private room|  149|             1|                9|                             6|             365|\n",
            "|Skylit Midtown Ca...|        Jennifer|          Manhattan|           Midtown|40.75362|-73.98377|Entire home/apt|  225|             1|               45|                             2|             355|\n",
            "|THE VILLAGE OF HA...|       Elisabeth|          Manhattan|            Harlem|40.80902| -73.9419|   Private room|  150|             3|                0|                             1|             365|\n",
            "|Cozy Entire Floor...|     LisaRoxanne|           Brooklyn|      Clinton Hill|40.68514|-73.95976|Entire home/apt|   89|             1|              270|                             1|             194|\n",
            "|Entire Apt: Spaci...|           Laura|          Manhattan|       East Harlem|40.79851|-73.94399|Entire home/apt|   80|            10|                9|                             1|               0|\n",
            "|Large Cozy 1 BR A...|           Chris|          Manhattan|       Murray Hill|40.74767|  -73.975|Entire home/apt|  200|             3|               74|                             1|             129|\n",
            "|     BlissArtsSpace!|           Garon|           Brooklyn|Bedford-Stuyvesant|40.68688|-73.95596|   Private room|   60|            45|               49|                             1|               0|\n",
            "|Large Furnished R...|        Shunichi|          Manhattan|    Hell's Kitchen|40.76489|-73.98493|   Private room|   79|             2|              430|                             1|             220|\n",
            "|Cozy Clean Guest ...|       MaryEllen|          Manhattan|   Upper West Side|40.80178|-73.96723|   Private room|   79|             2|              118|                             1|               0|\n",
            "|Cute & Cozy Lower...|             Ben|          Manhattan|         Chinatown|40.71344|-73.99037|Entire home/apt|  150|             1|              160|                             4|             188|\n",
            "|Beautiful 1br on ...|            Lena|          Manhattan|   Upper West Side|40.80316|-73.96545|Entire home/apt|  135|             5|               53|                             1|               6|\n",
            "|Central Manhattan...|            Kate|          Manhattan|    Hell's Kitchen|40.76076|-73.98867|   Private room|   85|             2|              188|                             1|              39|\n",
            "|Lovely Room 1, Ga...|          Laurie|           Brooklyn|       South Slope|40.66829|-73.98779|   Private room|   89|             4|              167|                             3|             314|\n",
            "|Wonderful Guest B...|         Claudio|          Manhattan|   Upper West Side|40.79826|-73.96113|   Private room|   85|             2|              113|                             1|             333|\n",
            "|West Village Nest...|           Alina|          Manhattan|      West Village| 40.7353|-74.00525|Entire home/apt|  120|            90|               27|                             1|               0|\n",
            "|Only 2 stops to M...|   Allen & Irina|           Brooklyn|      Williamsburg|40.70837|-73.95352|Entire home/apt|  140|             2|              148|                             1|              46|\n",
            "|Perfect for Your ...|            Jane|           Brooklyn|       Fort Greene|40.69169|-73.97185|Entire home/apt|  215|             2|              198|                             1|             321|\n",
            "|     Chelsea Perfect|            Doti|          Manhattan|           Chelsea|40.74192|-73.99501|   Private room|  140|             1|              260|                             1|              12|\n",
            "|Hip Historic Brow...|Adam And Charity|           Brooklyn|     Crown Heights|40.67592|-73.94694|Entire home/apt|   99|             3|               53|                             1|              21|\n",
            "|Huge 2 BR Upper E...|            Sing|          Manhattan|       East Harlem|40.79685|-73.94872|Entire home/apt|  190|             7|                0|                             2|             249|\n",
            "+--------------------+----------------+-------------------+------------------+--------+---------+---------------+-----+--------------+-----------------+------------------------------+----------------+\n",
            "only showing top 20 rows\n",
            "\n",
            "Tamaño (filas, columnas) del conjunto de datos crudo:  (48895, 12)\n"
          ]
        }
      ]
    },
    {
      "cell_type": "code",
      "source": [
        "faltantes(df2)"
      ],
      "metadata": {
        "id": "590HO3qtuX_3",
        "outputId": "9d047ecd-8865-4d18-e92b-58854f7aac5b",
        "colab": {
          "base_uri": "https://localhost:8080/"
        }
      },
      "execution_count": 71,
      "outputs": [
        {
          "output_type": "stream",
          "name": "stdout",
          "text": [
            "+----+---------+-------------------+-------------+--------+---------+---------+-----+--------------+-----------------+------------------------------+----------------+\n",
            "|name|host_name|neighbourhood_group|neighbourhood|latitude|longitude|room_type|price|minimum_nights|number_of_reviews|calculated_host_listings_count|availability_365|\n",
            "+----+---------+-------------------+-------------+--------+---------+---------+-----+--------------+-----------------+------------------------------+----------------+\n",
            "|  16|       21|                  0|            0|       6|        1|        0|    6|             2|                1|                             5|               1|\n",
            "+----+---------+-------------------+-------------+--------+---------+---------+-----+--------------+-----------------+------------------------------+----------------+\n",
            "\n"
          ]
        }
      ]
    },
    {
      "cell_type": "code",
      "source": [
        "df2 = df2.na.drop()\n",
        "faltantes(df2)\n",
        "print('Tamaño (filas, columnas) del conjunto de datos sin faltantes: ', (df2.count(), len(df2.columns)))"
      ],
      "metadata": {
        "id": "4DluGVfPwykd",
        "outputId": "ed8fa1aa-93be-4254-81be-1d9acbb41b97",
        "colab": {
          "base_uri": "https://localhost:8080/"
        }
      },
      "execution_count": 75,
      "outputs": [
        {
          "output_type": "stream",
          "name": "stdout",
          "text": [
            "+----+---------+-------------------+-------------+--------+---------+---------+-----+--------------+-----------------+------------------------------+----------------+\n",
            "|name|host_name|neighbourhood_group|neighbourhood|latitude|longitude|room_type|price|minimum_nights|number_of_reviews|calculated_host_listings_count|availability_365|\n",
            "+----+---------+-------------------+-------------+--------+---------+---------+-----+--------------+-----------------+------------------------------+----------------+\n",
            "|   0|        0|                  0|            0|       0|        0|        0|    0|             0|                0|                             0|               0|\n",
            "+----+---------+-------------------+-------------+--------+---------+---------+-----+--------------+-----------------+------------------------------+----------------+\n",
            "\n",
            "Tamaño (filas, columnas) del conjunto de datos sin faltantes:  (48852, 12)\n"
          ]
        }
      ]
    },
    {
      "cell_type": "markdown",
      "source": [
        "## **2.** A partir de la variable precio del alojamiento (price), obtenga los coeficientes de asimetria y forma, ademas grafíquela a través de un histograma y un diagrama de cajas.\n",
        "\n",
        "## Responda:\n",
        "\n",
        "## 2.1 De acuerdo a los coeficientes de asimetria y forma, ¿Qué clasificación presenta esta variable? ¿Corresponde a una distribución normal convencional?\n",
        "\n",
        "---\n",
        "\n"
      ],
      "metadata": {
        "id": "CfdTN3t8of1Y"
      }
    },
    {
      "cell_type": "markdown",
      "source": [
        "2.1 Coeficientes de asimetria y forma"
      ],
      "metadata": {
        "id": "zBjw_STquf88"
      }
    },
    {
      "cell_type": "code",
      "source": [
        "df_Price = np.log1p(df2.select('price').toPandas())\n",
        "plt.figure(figsize=(7, 4))\n",
        "plt.subplot(1, 2, 1)\n",
        "sns.histplot(df_Price, kde=True, bins=10, color='blue')\n",
        "plt.title('Histograma')\n",
        "plt.subplot(1, 2, 2)\n",
        "\n",
        "sns.boxplot(df_Price, color='orange')\n",
        "plt.title('Diagrama de Caja')\n",
        "plt.tight_layout()\n",
        "plt.show()\n",
        "\n",
        "print('\\n La kurtosis nos muestra que la distribución de la forma es leptocurtica y tiene una asimetria con sesgo positivo ' )\n",
        "df.select(F.skewness('price'),F.kurtosis('price')).show()"
      ],
      "metadata": {
        "id": "qgCOyizjuc7T",
        "outputId": "490f17dc-120e-45da-b114-84522e56c2aa",
        "colab": {
          "base_uri": "https://localhost:8080/",
          "height": 546
        }
      },
      "execution_count": 91,
      "outputs": [
        {
          "output_type": "display_data",
          "data": {
            "text/plain": [
              "<Figure size 700x400 with 2 Axes>"
            ],
            "image/png": "[encoded data removed]"
          },
          "metadata": {}
        },
        {
          "output_type": "stream",
          "name": "stdout",
          "text": [
            "\n",
            " La kurtosis nos muestra que la distribución de la forma es leptocurtica y tiene una asimetria con sesgo positivo \n",
            "+-----------------+----------------+\n",
            "|  skewness(price)| kurtosis(price)|\n",
            "+-----------------+----------------+\n",
            "|19.11735786784322|585.549049095065|\n",
            "+-----------------+----------------+\n",
            "\n"
          ]
        }
      ]
    },
    {
      "cell_type": "markdown",
      "source": [
        "## **3.**   Realice una tabla donde se determine la distribución de los tipos de alojamiento disponibles (room_type) por vecindario (neighborhood_group), incluyendo el precio promedio para cada uno. Asimismo, Grafique esta distribución con un diagrama de barras donde el eje X sean los vecindarios, el eje Y las cantidades. Ademas que existan barras por cada tipo de alojamiento.\n",
        "\n",
        "## Responda:\n",
        "\n",
        "## 3.1 ¿Qué se puede decir acerca de la relación entre el precio y tipo de alojamiento respecto del vecindario donde estan ubicados?\n",
        "\n",
        "## 3.2 ¿Qué vecindarios presentan la mayor cantidad de alojamientos tipo Private room?\n",
        "\n",
        "## 3.3 ¿Qué se puede decir de la distribución de los alojamientos en manhattan con respecto a los demas vecindarios?\n",
        "\n",
        "---\n",
        "\n"
      ],
      "metadata": {
        "id": "G1LgZioMUjoI"
      }
    },
    {
      "cell_type": "markdown",
      "source": [
        "3.1"
      ],
      "metadata": {
        "id": "6atD_XOT1hj4"
      }
    },
    {
      "cell_type": "code",
      "source": [
        "import pyspark.sql.window as W\n",
        "\n",
        "res = df2.groupBy('neighbourhood_group','room_type').agg(F.avg('price').alias('avg_price')).orderBy('neighbourhood_group', 'room_type')\n",
        "window= W.Window.partitionBy('neighbourhood_group').orderBy('room_type')\n",
        "result = res.withColumn(\"row\", F.row_number().over(window)) \\\n",
        "               .withColumn(\"neighbourhood_group\", F.when(F.col(\"row\") == 1, F.col(\"neighbourhood_group\")).otherwise(F.lit(\"\"))) \\\n",
        "               .drop(\"row\")\n",
        "result.show()\n"
      ],
      "metadata": {
        "id": "oa9-bTC-2Eza",
        "outputId": "160ad855-a6e2-4781-95bd-0cd5520cd9fe",
        "colab": {
          "base_uri": "https://localhost:8080/"
        }
      },
      "execution_count": 131,
      "outputs": [
        {
          "output_type": "stream",
          "name": "stdout",
          "text": [
            "+-------------------+---------------+------------------+\n",
            "|neighbourhood_group|      room_type|         avg_price|\n",
            "+-------------------+---------------+------------------+\n",
            "|              Bronx|Entire home/apt|127.64550264550265|\n",
            "|                   |   Private room| 66.78834355828221|\n",
            "|                   |    Shared room|58.610169491525426|\n",
            "|           Brooklyn|Entire home/apt|178.37535336613968|\n",
            "|                   |   Private room| 76.51061938160625|\n",
            "|                   |    Shared room| 50.52784503631961|\n",
            "|          Manhattan|Entire home/apt|249.24383956327242|\n",
            "|                   |   Private room|116.82409033877039|\n",
            "|                   |    Shared room| 88.97708333333334|\n",
            "|             Queens|Entire home/apt|147.05057251908397|\n",
            "|                   |   Private room| 71.77685459940653|\n",
            "|                   |    Shared room| 69.02020202020202|\n",
            "|      Staten Island|Entire home/apt| 173.8465909090909|\n",
            "|                   |   Private room| 62.29255319148936|\n",
            "|                   |    Shared room| 57.44444444444444|\n",
            "+-------------------+---------------+------------------+\n",
            "\n"
          ]
        }
      ]
    },
    {
      "cell_type": "code",
      "source": [
        " df_class_fare = df2.select('neighbourhood_group','room_type','price').toPandas()\n",
        " plt.figure(figsize=(10, 6))\n",
        " sns.countplot(x='neighbourhood_group', hue='room_type', data=df_class_fare)\n",
        "\n"
      ],
      "metadata": {
        "id": "ZTUyRdbR4QtV",
        "outputId": "7a9b6d20-a3a9-403a-e13d-229ffff07407",
        "colab": {
          "base_uri": "https://localhost:8080/",
          "height": 559
        }
      },
      "execution_count": 137,
      "outputs": [
        {
          "output_type": "execute_result",
          "data": {
            "text/plain": [
              "<Axes: xlabel='neighbourhood_group', ylabel='count'>"
            ]
          },
          "metadata": {},
          "execution_count": 137
        },
        {
          "output_type": "display_data",
          "data": {
            "text/plain": [
              "<Figure size 1000x600 with 1 Axes>"
            ],
            "image/png": "[encoded data removed]"
          },
          "metadata": {}
        }
      ]
    },
    {
      "cell_type": "markdown",
      "source": [
        "\n",
        "\n",
        "*  3.2: Los vecindarios que presentan mayor cantidad de alojamientos tipo private_room estan ubicados en brooklyn\n",
        "*   3.3 Manhattan tiene la mayor cantidad de alojamientos tipo Entire home/apt\n",
        "\n"
      ],
      "metadata": {
        "id": "nCbD274q__Yv"
      }
    },
    {
      "cell_type": "markdown",
      "source": [
        "## **4.**   Realice una tabla donde se determine por vecindario (neighbourhood_group) la cantidad de alojamientos totales, su equivalente porcentual y su disponibilidad promedio (availability_365). Ordene los resultados de acuerdo al porcentaje (mayor a menor)\n",
        "\n",
        "## Responda:\n",
        "\n",
        "## 4.1. Teniendo en cuenta la información de esta tabla, ¿En cuál vecindario seria más probable encontrar alojamiento disponible?\n",
        "\n",
        "## 4.2 ¿Qué se puede decir acerca de la relación de los alojamientos totales y la disponibilidad promedio en los vecindarios?\n",
        "\n",
        "---\n",
        "\n",
        "\n"
      ],
      "metadata": {
        "id": "rAT4-nwTjq5P"
      }
    },
    {
      "cell_type": "code",
      "source": [
        "df2.printSchema()"
      ],
      "metadata": {
        "id": "kwgcKpyb-NJa",
        "colab": {
          "base_uri": "https://localhost:8080/"
        },
        "outputId": "b9ae34e5-1940-4630-df02-8070e8781908"
      },
      "execution_count": 154,
      "outputs": [
        {
          "output_type": "stream",
          "name": "stdout",
          "text": [
            "root\n",
            " |-- name: string (nullable = true)\n",
            " |-- host_name: string (nullable = true)\n",
            " |-- neighbourhood_group: string (nullable = true)\n",
            " |-- neighbourhood: string (nullable = true)\n",
            " |-- latitude: double (nullable = true)\n",
            " |-- longitude: double (nullable = true)\n",
            " |-- room_type: string (nullable = true)\n",
            " |-- price: integer (nullable = true)\n",
            " |-- minimum_nights: integer (nullable = true)\n",
            " |-- number_of_reviews: integer (nullable = true)\n",
            " |-- calculated_host_listings_count: integer (nullable = true)\n",
            " |-- availability_365: integer (nullable = true)\n",
            " |-- availability level: string (nullable = true)\n",
            "\n"
          ]
        }
      ]
    },
    {
      "cell_type": "code",
      "source": [
        "window = W.Window.rowsBetween(W.Window.unboundedPreceding,W.Window.unboundedFollowing)\n",
        "tab = df2.select(['neighbourhood_group','availability_365']). \\\n",
        "          groupBy('neighbourhood_group'). \\\n",
        "          agg(F.count('availability_365').alias('Quantity'),\n",
        "              F.mean('availability_365').alias('availability_mean')). \\\n",
        "          withColumn('Total',F.sum(F.col('Quantity')).over(window)). \\\n",
        "          withColumn('Percent',F.col('Quantity')*100/F.col('Total')). \\\n",
        "          drop(F.col('Total')).orderBy(\"Percent\", ascending=False)\n",
        "tab.show()"
      ],
      "metadata": {
        "id": "gP71am2YEc3d",
        "outputId": "78d4d026-578d-4763-a217-73baf0a38bf6",
        "colab": {
          "base_uri": "https://localhost:8080/"
        }
      },
      "execution_count": 150,
      "outputs": [
        {
          "output_type": "stream",
          "name": "stdout",
          "text": [
            "+-------------------+--------+------------------+------------------+\n",
            "|neighbourhood_group|Quantity| availability_mean|           Percent|\n",
            "+-------------------+--------+------------------+------------------+\n",
            "|          Manhattan|   21639|112.01506539119183| 44.29501351019405|\n",
            "|           Brooklyn|   20087| 100.2368198337233|  41.1180709080488|\n",
            "|             Queens|    5664|144.48728813559322|11.594202898550725|\n",
            "|              Bronx|    1089|165.70431588613405|2.2291820191599117|\n",
            "|      Staten Island|     373|199.67828418230562|0.7635306640465078|\n",
            "+-------------------+--------+------------------+------------------+\n",
            "\n"
          ]
        }
      ]
    },
    {
      "cell_type": "markdown",
      "source": [
        "4.1 El vecindario que es mas probable de encontrar alojamiento disponible es Staten Island debido a que su porcentaje promedio es de 199%, pero teniendo en cuenta que las demas regiones tienen una mayor cantidad de personas, el que tienen un mayor porcentaje de disponibilidad es Manhattan con un 44 %\n",
        "\n",
        "4.2 Se puede decir que la relacion entre los alojamientos totales y la disponibilidad promedio en los vecindarios es que entre mayor cantidad de alojamientos mayor porcentaje de disponibilidad"
      ],
      "metadata": {
        "id": "GOvfB80HFhhE"
      }
    },
    {
      "cell_type": "markdown",
      "source": [
        "## **5.** Construya una matriz de correlación considerando el precio, la disponibilidad, y el numero de noches minimo de alojamiento.\n",
        "## Responda:\n",
        "## 5.1 ¿Cómo afecta la disponibilidad y minimum_nights al precio de los alojamientos en Airbnb NYC?"
      ],
      "metadata": {
        "id": "DPDqWJjCUwbP"
      }
    },
    {
      "cell_type": "code",
      "source": [
        "df_full = df2.select('availability_365','minimum_nights','price').toPandas()\n",
        "sns.heatmap(df_full.corr(), annot=True)\n",
        "plt.show()"
      ],
      "metadata": {
        "id": "zmgWIeJI-UT5",
        "colab": {
          "base_uri": "https://localhost:8080/",
          "height": 435
        },
        "outputId": "6264b6dc-f807-4df0-8a43-ba8732fcf62d"
      },
      "execution_count": 93,
      "outputs": [
        {
          "output_type": "display_data",
          "data": {
            "text/plain": [
              "<Figure size 640x480 with 2 Axes>"
            ],
            "image/png": "[encoded data removed]"
          },
          "metadata": {}
        }
      ]
    },
    {
      "cell_type": "markdown",
      "source": [
        "5.1 El precio y la disponibilidad estan altamente correlacionados esto puede significar  , mientras el precio y el minimo de noches estan relativamente correlacionados"
      ],
      "metadata": {
        "id": "0h6eCp4xKNHl"
      }
    },
    {
      "cell_type": "markdown",
      "source": [
        "## **6.** A partir de la variable availability_365, realice una recodificación las siguientes condiciones y añadala a dataframe con el nombre de \"availability level\":\n",
        "\n",
        "* Low disp: 0 a 119 días\n",
        "* Med disp: 120 a 240 días\n",
        "* High disp: 241 a 360 días\n",
        "\n",
        "## 6.1 A partir de este nuevo dataframe, entregue una tabla donde por este nivel de disponibilidad se muestre el total de alojamientos. ¿Que se puede decir acerca de esta información?"
      ],
      "metadata": {
        "id": "7r7OIYNQ0fBx"
      }
    },
    {
      "cell_type": "code",
      "source": [
        "def NivelDisponibilidad(x):\n",
        "  if x <= 119 & x >= 0:\n",
        "    return 'Low disp'\n",
        "  elif x <= 240 & x >= 120:\n",
        "    return 'Med disp'\n",
        "  elif x <= 360 & x >= 241:\n",
        "    return 'High disp'\n",
        "\n",
        "\n",
        "\n",
        "\n"
      ],
      "metadata": {
        "id": "sVb61PHY-XNJ"
      },
      "execution_count": 174,
      "outputs": []
    },
    {
      "cell_type": "code",
      "source": [
        "dis_udf= F.udf(lambda x: NivelDisponibilidad(x), StringType())\n",
        "df2= df2.withColumn(\"level_availability\", dis_udf(df2[\"availability_365\"]))"
      ],
      "metadata": {
        "id": "PBNj6_Ma_kxD",
        "outputId": "8a1b23a9-5c18-494f-ac60-72dd7aad84cc",
        "colab": {
          "base_uri": "https://localhost:8080/",
          "height": 391
        }
      },
      "execution_count": 178,
      "outputs": [
        {
          "output_type": "error",
          "ename": "PythonException",
          "evalue": "\n  An exception was thrown from the Python worker. Please see the stack trace below.\nTraceback (most recent call last):\n  File \"<ipython-input-152-fd109d199655>\", line 1, in <lambda>\nNameError: name 'NivelDisponibilidad' is not defined\n",
          "traceback": [
            "\u001b[0;31m---------------------------------------------------------------------------\u001b[0m",
            "\u001b[0;31mPythonException\u001b[0m                           Traceback (most recent call last)",
            "\u001b[0;32m<ipython-input-178-e18c369229eb>\u001b[0m in \u001b[0;36m<cell line: 0>\u001b[0;34m()\u001b[0m\n\u001b[1;32m      1\u001b[0m \u001b[0mdis_udf\u001b[0m\u001b[0;34m=\u001b[0m \u001b[0mF\u001b[0m\u001b[0;34m.\u001b[0m\u001b[0mudf\u001b[0m\u001b[0;34m(\u001b[0m\u001b[0;32mlambda\u001b[0m \u001b[0mx\u001b[0m\u001b[0;34m:\u001b[0m \u001b[0mNivelDisponibilidad\u001b[0m\u001b[0;34m(\u001b[0m\u001b[0mx\u001b[0m\u001b[0;34m)\u001b[0m\u001b[0;34m,\u001b[0m \u001b[0mStringType\u001b[0m\u001b[0;34m(\u001b[0m\u001b[0;34m)\u001b[0m\u001b[0;34m)\u001b[0m\u001b[0;34m\u001b[0m\u001b[0;34m\u001b[0m\u001b[0m\n\u001b[1;32m      2\u001b[0m \u001b[0mdf2\u001b[0m\u001b[0;34m=\u001b[0m \u001b[0mdf2\u001b[0m\u001b[0;34m.\u001b[0m\u001b[0mwithColumn\u001b[0m\u001b[0;34m(\u001b[0m\u001b[0;34m\"level_availability\"\u001b[0m\u001b[0;34m,\u001b[0m \u001b[0mdis_udf\u001b[0m\u001b[0;34m(\u001b[0m\u001b[0mdf2\u001b[0m\u001b[0;34m[\u001b[0m\u001b[0;34m\"availability_365\"\u001b[0m\u001b[0;34m]\u001b[0m\u001b[0;34m)\u001b[0m\u001b[0;34m)\u001b[0m\u001b[0;34m\u001b[0m\u001b[0;34m\u001b[0m\u001b[0m\n\u001b[0;32m----> 3\u001b[0;31m \u001b[0mdf2\u001b[0m\u001b[0;34m.\u001b[0m\u001b[0mshow\u001b[0m\u001b[0;34m(\u001b[0m\u001b[0;36m5\u001b[0m\u001b[0;34m)\u001b[0m\u001b[0;34m\u001b[0m\u001b[0;34m\u001b[0m\u001b[0m\n\u001b[0m",
            "\u001b[0;32m/content/spark-3.5.5-bin-hadoop3/python/pyspark/sql/dataframe.py\u001b[0m in \u001b[0;36mshow\u001b[0;34m(self, n, truncate, vertical)\u001b[0m\n\u001b[1;32m    945\u001b[0m         \u001b[0mname\u001b[0m \u001b[0;34m|\u001b[0m \u001b[0mBob\u001b[0m\u001b[0;34m\u001b[0m\u001b[0;34m\u001b[0m\u001b[0m\n\u001b[1;32m    946\u001b[0m         \"\"\"\n\u001b[0;32m--> 947\u001b[0;31m         \u001b[0mprint\u001b[0m\u001b[0;34m(\u001b[0m\u001b[0mself\u001b[0m\u001b[0;34m.\u001b[0m\u001b[0m_show_string\u001b[0m\u001b[0;34m(\u001b[0m\u001b[0mn\u001b[0m\u001b[0;34m,\u001b[0m \u001b[0mtruncate\u001b[0m\u001b[0;34m,\u001b[0m \u001b[0mvertical\u001b[0m\u001b[0;34m)\u001b[0m\u001b[0;34m)\u001b[0m\u001b[0;34m\u001b[0m\u001b[0;34m\u001b[0m\u001b[0m\n\u001b[0m\u001b[1;32m    948\u001b[0m \u001b[0;34m\u001b[0m\u001b[0m\n\u001b[1;32m    949\u001b[0m     def _show_string(\n",
            "\u001b[0;32m/content/spark-3.5.5-bin-hadoop3/python/pyspark/sql/dataframe.py\u001b[0m in \u001b[0;36m_show_string\u001b[0;34m(self, n, truncate, vertical)\u001b[0m\n\u001b[1;32m    963\u001b[0m \u001b[0;34m\u001b[0m\u001b[0m\n\u001b[1;32m    964\u001b[0m         \u001b[0;32mif\u001b[0m \u001b[0misinstance\u001b[0m\u001b[0;34m(\u001b[0m\u001b[0mtruncate\u001b[0m\u001b[0;34m,\u001b[0m \u001b[0mbool\u001b[0m\u001b[0;34m)\u001b[0m \u001b[0;32mand\u001b[0m \u001b[0mtruncate\u001b[0m\u001b[0;34m:\u001b[0m\u001b[0;34m\u001b[0m\u001b[0;34m\u001b[0m\u001b[0m\n\u001b[0;32m--> 965\u001b[0;31m             \u001b[0;32mreturn\u001b[0m \u001b[0mself\u001b[0m\u001b[0;34m.\u001b[0m\u001b[0m_jdf\u001b[0m\u001b[0;34m.\u001b[0m\u001b[0mshowString\u001b[0m\u001b[0;34m(\u001b[0m\u001b[0mn\u001b[0m\u001b[0;34m,\u001b[0m \u001b[0;36m20\u001b[0m\u001b[0;34m,\u001b[0m \u001b[0mvertical\u001b[0m\u001b[0;34m)\u001b[0m\u001b[0;34m\u001b[0m\u001b[0;34m\u001b[0m\u001b[0m\n\u001b[0m\u001b[1;32m    966\u001b[0m         \u001b[0;32melse\u001b[0m\u001b[0;34m:\u001b[0m\u001b[0;34m\u001b[0m\u001b[0;34m\u001b[0m\u001b[0m\n\u001b[1;32m    967\u001b[0m             \u001b[0;32mtry\u001b[0m\u001b[0;34m:\u001b[0m\u001b[0;34m\u001b[0m\u001b[0;34m\u001b[0m\u001b[0m\n",
            "\u001b[0;32m/content/spark-3.5.5-bin-hadoop3/python/lib/py4j-0.10.9.7-src.zip/py4j/java_gateway.py\u001b[0m in \u001b[0;36m__call__\u001b[0;34m(self, *args)\u001b[0m\n\u001b[1;32m   1320\u001b[0m \u001b[0;34m\u001b[0m\u001b[0m\n\u001b[1;32m   1321\u001b[0m         \u001b[0manswer\u001b[0m \u001b[0;34m=\u001b[0m \u001b[0mself\u001b[0m\u001b[0;34m.\u001b[0m\u001b[0mgateway_client\u001b[0m\u001b[0;34m.\u001b[0m\u001b[0msend_command\u001b[0m\u001b[0;34m(\u001b[0m\u001b[0mcommand\u001b[0m\u001b[0;34m)\u001b[0m\u001b[0;34m\u001b[0m\u001b[0;34m\u001b[0m\u001b[0m\n\u001b[0;32m-> 1322\u001b[0;31m         return_value = get_return_value(\n\u001b[0m\u001b[1;32m   1323\u001b[0m             answer, self.gateway_client, self.target_id, self.name)\n\u001b[1;32m   1324\u001b[0m \u001b[0;34m\u001b[0m\u001b[0m\n",
            "\u001b[0;32m/content/spark-3.5.5-bin-hadoop3/python/pyspark/errors/exceptions/captured.py\u001b[0m in \u001b[0;36mdeco\u001b[0;34m(*a, **kw)\u001b[0m\n\u001b[1;32m    183\u001b[0m                 \u001b[0;31m# Hide where the exception came from that shows a non-Pythonic\u001b[0m\u001b[0;34m\u001b[0m\u001b[0;34m\u001b[0m\u001b[0m\n\u001b[1;32m    184\u001b[0m                 \u001b[0;31m# JVM exception message.\u001b[0m\u001b[0;34m\u001b[0m\u001b[0;34m\u001b[0m\u001b[0m\n\u001b[0;32m--> 185\u001b[0;31m                 \u001b[0;32mraise\u001b[0m \u001b[0mconverted\u001b[0m \u001b[0;32mfrom\u001b[0m \u001b[0;32mNone\u001b[0m\u001b[0;34m\u001b[0m\u001b[0;34m\u001b[0m\u001b[0m\n\u001b[0m\u001b[1;32m    186\u001b[0m             \u001b[0;32melse\u001b[0m\u001b[0;34m:\u001b[0m\u001b[0;34m\u001b[0m\u001b[0;34m\u001b[0m\u001b[0m\n\u001b[1;32m    187\u001b[0m                 \u001b[0;32mraise\u001b[0m\u001b[0;34m\u001b[0m\u001b[0;34m\u001b[0m\u001b[0m\n",
            "\u001b[0;31mPythonException\u001b[0m: \n  An exception was thrown from the Python worker. Please see the stack trace below.\nTraceback (most recent call last):\n  File \"<ipython-input-152-fd109d199655>\", line 1, in <lambda>\nNameError: name 'NivelDisponibilidad' is not defined\n"
          ]
        }
      ]
    }
  ]
}