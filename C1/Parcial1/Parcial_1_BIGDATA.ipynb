{
  "nbformat": 4,
  "nbformat_minor": 0,
  "metadata": {
    "colab": {
      "provenance": [],
      "collapsed_sections": [
        "7AYS0MlUvfrI",
        "WNaboQo22HOW",
        "2fj4XecA5nX_",
        "D6Syynf5QCxB",
        "0k8qNqs2T2a0"
      ],
      "include_colab_link": true
    },
    "kernelspec": {
      "name": "python3",
      "display_name": "Python 3"
    },
    "language_info": {
      "name": "python"
    }
  },
  "cells": [
    {
      "cell_type": "markdown",
      "metadata": {
        "id": "view-in-github",
        "colab_type": "text"
      },
      "source": [
        "<a href=\"https://colab.research.google.com/github/MiguelAngeloTr/BIGDATA/blob/main/C1/Parcial1/Parcial_1_BIGDATA.ipynb\" target=\"_parent\"><img src=\"https://colab.research.google.com/assets/colab-badge.svg\" alt=\"Open In Colab\"/></a>"
      ]
    },
    {
      "cell_type": "markdown",
      "source": [
        "\n",
        "##Universidad Autónoma de Occidente\n",
        "\n",
        "##Facultad de Ingenierías y Ciencias Básicas\n",
        "\n",
        "##Curso: Big Data\n",
        "\n",
        "##Autor: Sergio A. Cantillo\n",
        "\n",
        "##Correo: sacantillo@uao.edu.co\n",
        "\n",
        "---\n",
        "\n",
        "### **NOMBRE COMPLETO:**\n",
        "\n",
        "###**CODIGO:**\n",
        "\n",
        "### **PROGRAMA:**\n",
        "\n",
        "---\n",
        "\n",
        "### **Condiciones**\n",
        "\n",
        "*   Pueden usar los archivos Google Colab trabajados en clase.\n",
        "*   No pueden usar IA para buscar las respuetas del examen. Quien sea visto en flagrancia, el examen será **anulado**.\n",
        "*   Se contestan las preguntas 1, 2 y 3 Obligatoriamente, del resto se escogen 2 para hacer 5. Si contestan todas las 6 preguntas correctamente bonifican para el segundo parcial.\n",
        "*   Pueden usar el material de referencia de UAO virtual\n",
        "*   Subir el archivo con extensión .ipynb a la plataforma antes de las 12:59 PM.\n",
        "\n",
        "\n",
        "# **Examen 1**\n",
        "\n",
        "El conjunto de datos AB_NYC_2019.csv contiene información acerca de los listados de Airbnb en la ciudad de Nueva York. Incluye variables como el nombre del alojamiento, el nombre del anfitrión, la ubicación geográfica (vecindario y coordenadas), el tipo de habitación, el precio por noche, el número mínimo de noches requeridas para una reserva, la disponibilidad durante el año, entre otros detalles relevantes. El objetivo en este análisis de datos consiste en utilizar las herramientas computacionales y estadísticas vistas hasta el momento en el curso que logren contribuir a la caracterización de estos alojamientos\n",
        "\n"
      ],
      "metadata": {
        "id": "d3Jvt3ee7RBm"
      }
    },
    {
      "cell_type": "markdown",
      "source": [
        "## **1.**   A partir de la carga del conjunto de datos crudo, realice los procesos de adecuación (Ej. tipos de dato) y limpieza de (Ej. identificación y eliminación de columnas) requeridos.\n",
        "\n",
        "##Responda:\n",
        "\n",
        "## 1.1 ¿Cual es el tamaño (filas,columnas) del conjunto de datos crudo?, y luego de los procesos solicitados?\n",
        "\n",
        "## 1.2 Indique brevemente si fueron eliminadas columnas de la base de datos y el criterio correspondiente.\n",
        "\n",
        "---\n",
        "\n"
      ],
      "metadata": {
        "id": "ZIR4LUi5Z-HW"
      }
    },
    {
      "cell_type": "code",
      "source": [],
      "metadata": {
        "id": "0SGtWs9B8N-M"
      },
      "execution_count": null,
      "outputs": []
    },
    {
      "cell_type": "markdown",
      "source": [
        "## **2.** A partir de la variable precio del alojamiento (price), obtenga los coeficientes de asimetria y forma, ademas grafíquela a través de un histograma y un diagrama de cajas.\n",
        "\n",
        "## Responda:\n",
        "\n",
        "## 2.1 De acuerdo a los coeficientes de asimetria y forma, ¿Qué clasificación presenta esta variable? ¿Corresponde a una distribución normal convencional?\n",
        "\n",
        "---\n",
        "\n"
      ],
      "metadata": {
        "id": "CfdTN3t8of1Y"
      }
    },
    {
      "cell_type": "code",
      "source": [],
      "metadata": {
        "id": "suB3Z-4v8Ofr"
      },
      "execution_count": null,
      "outputs": []
    },
    {
      "cell_type": "markdown",
      "source": [
        "## **3.**   Realice una tabla donde se determine la distribución de los tipos de alojamiento disponibles (room_type) por vecindario (neighborhood_group), incluyendo el precio promedio para cada uno. Asimismo, Grafique esta distribución con un diagrama de barras donde el eje X sean los vecindarios, el eje Y las cantidades. Ademas que existan barras por cada tipo de alojamiento.\n",
        "\n",
        "## Responda:\n",
        "\n",
        "## 3.1 ¿Qué se puede decir acerca de la relación entre el precio y tipo de alojamiento respecto del vecindario donde estan ubicados?\n",
        "\n",
        "## 3.2 ¿Qué vecindarios presentan la mayor cantidad de alojamientos tipo Private room?\n",
        "\n",
        "## 3.3 ¿Qué se puede decir de la distribución de los alojamientos en manhattan con respecto a los demas vecindarios?\n",
        "\n",
        "---\n",
        "\n"
      ],
      "metadata": {
        "id": "G1LgZioMUjoI"
      }
    },
    {
      "cell_type": "code",
      "source": [],
      "metadata": {
        "id": "cbqARmRL8PLT"
      },
      "execution_count": null,
      "outputs": []
    },
    {
      "cell_type": "markdown",
      "source": [
        "## **4.**   Realice una tabla donde se determine por vecindario (neighbourhood_group) la cantidad de alojamientos totales, su equivalente porcentual y su disponibilidad promedio (availability_365). Ordene los resultados de acuerdo al porcentaje (mayor a menor)\n",
        "\n",
        "## Responda:\n",
        "\n",
        "## 4.1. Teniendo en cuenta la información de esta tabla, ¿En cuál vecindario seria más probable encontrar alojamiento disponible?\n",
        "\n",
        "## 4.2 ¿Qué se puede decir acerca de la relación de los alojamientos totales y la disponibilidad promedio en los vecindarios?\n",
        "\n",
        "---\n",
        "\n",
        "\n"
      ],
      "metadata": {
        "id": "rAT4-nwTjq5P"
      }
    },
    {
      "cell_type": "code",
      "source": [],
      "metadata": {
        "id": "kwgcKpyb-NJa"
      },
      "execution_count": null,
      "outputs": []
    },
    {
      "cell_type": "markdown",
      "source": [
        "## **5.** Construya una matriz de correlación considerando el precio, la disponibilidad, y el numero de noches minimo de alojamiento.\n",
        "## Responda:\n",
        "## 5.1 ¿Cómo afecta la disponibilidad (minimum_nights) al precio de los alojamientos en Airbnb NYC?"
      ],
      "metadata": {
        "id": "DPDqWJjCUwbP"
      }
    },
    {
      "cell_type": "code",
      "source": [],
      "metadata": {
        "id": "zmgWIeJI-UT5"
      },
      "execution_count": null,
      "outputs": []
    },
    {
      "cell_type": "markdown",
      "source": [
        "## **6.** A partir de la variable availability_365, realice una recodificación las siguientes condiciones y añadala a dataframe con el nombre de \"availability level\":\n",
        "\n",
        "* Low disp: 0 a 119 días\n",
        "* Med disp: 120 a 240 días\n",
        "* High disp: 241 a 360 días\n",
        "\n",
        "## 6.1 A partir de este nuevo dataframe, entregue una tabla donde por este nivel de disponibilidad se muestre el total de alojamientos. ¿Que se puede decir acerca de esta información?"
      ],
      "metadata": {
        "id": "7r7OIYNQ0fBx"
      }
    },
    {
      "cell_type": "code",
      "source": [],
      "metadata": {
        "id": "sVb61PHY-XNJ"
      },
      "execution_count": null,
      "outputs": []
    }
  ]
}