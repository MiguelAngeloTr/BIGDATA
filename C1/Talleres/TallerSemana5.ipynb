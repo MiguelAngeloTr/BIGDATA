{
  "nbformat": 4,
  "nbformat_minor": 0,
  "metadata": {
    "colab": {
      "provenance": []
    },
    "kernelspec": {
      "name": "python3",
      "display_name": "Python 3"
    },
    "language_info": {
      "name": "python"
    }
  },
  "cells": [
    {
      "cell_type": "markdown",
      "source": [
        "- Christian David Cardenas orozco\n",
        "- Miguel Angel Jimenez trochez\n",
        "- Juan pablo castaño   \n"
      ],
      "metadata": {
        "id": "8LLSC8ZSHhPO"
      }
    },
    {
      "cell_type": "markdown",
      "source": [
        "#Instalar Pyspark"
      ],
      "metadata": {
        "id": "w-B9CxCgx6Oz"
      }
    },
    {
      "cell_type": "code",
      "execution_count": null,
      "metadata": {
        "id": "xc435vT-fM5S",
        "colab": {
          "base_uri": "https://localhost:8080/"
        },
        "outputId": "93d9d902-84c8-4d0f-ccd2-147b5a4422d3"
      },
      "outputs": [
        {
          "output_type": "stream",
          "name": "stdout",
          "text": [
            "\u001b[33m\r0% [Working]\u001b[0m\r            \rHit:1 http://archive.ubuntu.com/ubuntu jammy InRelease\n",
            "\u001b[33m\r0% [Waiting for headers] [Connecting to security.ubuntu.com (185.125.190.82)] [\u001b[0m\r                                                                               \rHit:2 http://archive.ubuntu.com/ubuntu jammy-updates InRelease\n",
            "\r                                                                               \rHit:3 http://archive.ubuntu.com/ubuntu jammy-backports InRelease\n",
            "\r                                                                               \rHit:4 https://cloud.r-project.org/bin/linux/ubuntu jammy-cran40/ InRelease\n",
            "\u001b[33m\r0% [Waiting for headers] [Connected to r2u.stat.illinois.edu (192.17.190.167)] \u001b[0m\r                                                                               \rHit:5 https://developer.download.nvidia.com/compute/cuda/repos/ubuntu2204/x86_64  InRelease\n",
            "Hit:6 http://security.ubuntu.com/ubuntu jammy-security InRelease\n",
            "Get:7 https://r2u.stat.illinois.edu/ubuntu jammy InRelease [6,555 B]\n",
            "Hit:8 https://ppa.launchpadcontent.net/deadsnakes/ppa/ubuntu jammy InRelease\n",
            "Hit:9 https://ppa.launchpadcontent.net/graphics-drivers/ppa/ubuntu jammy InRelease\n",
            "Hit:10 https://ppa.launchpadcontent.net/ubuntugis/ppa/ubuntu jammy InRelease\n",
            "Get:11 https://r2u.stat.illinois.edu/ubuntu jammy/main all Packages [8,696 kB]\n",
            "Get:12 https://r2u.stat.illinois.edu/ubuntu jammy/main amd64 Packages [2,659 kB]\n",
            "Fetched 11.4 MB in 2s (5,961 kB/s)\n"
          ]
        }
      ],
      "source": [
        "!sudo apt update\n",
        "!apt-get install openjdk-8-jdk-headless -qq > /dev/null\n",
        "!wget -q https://dlcdn.apache.org/spark/spark-3.5.4/spark-3.5.4-bin-hadoop3.tgz\n",
        "!tar xf spark-3.5.4-bin-hadoop3.tgz\n",
        "!pip install pyspark\n",
        "!pip install py4j\n",
        "!pip install findspark"
      ]
    },
    {
      "cell_type": "markdown",
      "source": [
        "# Crear ambiente y sesion de Spark"
      ],
      "metadata": {
        "id": "QYow64BlyKez"
      }
    },
    {
      "cell_type": "code",
      "source": [
        "import os\n",
        "os.environ[\"JAVA_HOME\"] = \"/usr/lib/jvm/java-8-openjdk-amd64\"\n",
        "os.environ[\"SPARK_HOME\"] = \"/content/spark-3.5.4-bin-hadoop3\""
      ],
      "metadata": {
        "id": "IIayk6mXkyuc"
      },
      "execution_count": null,
      "outputs": []
    },
    {
      "cell_type": "code",
      "source": [
        "import findspark\n",
        "findspark.init()\n",
        "findspark.find()\n",
        "\n",
        "import pyspark\n",
        "\n",
        "from pyspark.sql import DataFrame, SparkSession\n",
        "from typing import List\n",
        "import pyspark.sql.types as T\n",
        "import pyspark.sql.functions as F\n",
        "\n",
        "spark= SparkSession \\\n",
        "       .builder \\\n",
        "       .appName(\"Taller Semana 3 Spark\") \\\n",
        "       .getOrCreate()"
      ],
      "metadata": {
        "id": "R_emVAegk9Jk"
      },
      "execution_count": null,
      "outputs": []
    },
    {
      "cell_type": "markdown",
      "source": [
        "Comprobar la sesion"
      ],
      "metadata": {
        "id": "0UlyNwZAyR-D"
      }
    },
    {
      "cell_type": "code",
      "source": [
        "spark"
      ],
      "metadata": {
        "id": "0ajAyRbJldet"
      },
      "execution_count": null,
      "outputs": []
    },
    {
      "cell_type": "markdown",
      "source": [
        "Instalar dependencias necesarias de pyspark sql"
      ],
      "metadata": {
        "id": "A3-G2L3WzgfT"
      }
    },
    {
      "cell_type": "code",
      "source": [
        "from pyspark.sql.types import *\n",
        "from pyspark.sql.functions import to_date\n",
        "from pyspark.sql.functions import countDistinct\n",
        "from pyspark.sql.functions import col, regexp_extract, avg, split"
      ],
      "metadata": {
        "id": "mnWBDvQpv_68"
      },
      "execution_count": null,
      "outputs": []
    },
    {
      "cell_type": "markdown",
      "source": [
        "Crear la estructura del schema"
      ],
      "metadata": {
        "id": "-UQMfhH1z2De"
      }
    },
    {
      "cell_type": "code",
      "source": [
        "schema = StructType([\n",
        "    StructField(\"show_id\", StringType(), True),\n",
        "    StructField(\"type\", StringType(), True),\n",
        "    StructField(\"title\", StringType(), True),\n",
        "    StructField(\"director\", StringType(), True),\n",
        "    StructField(\"cast\", StringType(), True),\n",
        "    StructField(\"country\", StringType(), True),\n",
        "    StructField(\"date_added\", StringType(), True),  # Luego se puede convertir a DateType si es necesario\n",
        "    StructField(\"release_year\", IntegerType(), True),\n",
        "    StructField(\"rating\", StringType(), True),\n",
        "    StructField(\"duration\", StringType(), True),  # Se puede dividir en minutos o temporadas si es necesario\n",
        "    StructField(\"listed_in\", StringType(), True),\n",
        "    StructField(\"description\", StringType(), True)\n",
        "])"
      ],
      "metadata": {
        "id": "T14Z96J8vPaw"
      },
      "execution_count": null,
      "outputs": []
    },
    {
      "cell_type": "markdown",
      "source": [
        "Leer el dataset de netflix y aplicarle el schema"
      ],
      "metadata": {
        "id": "BsoReOMF0-HE"
      }
    },
    {
      "cell_type": "code",
      "source": [
        "df = spark.read.csv('netflix_titles.csv', header=True, sep=\",\", inferSchema=True, multiLine=True, schema= schema)\n",
        "df.show()"
      ],
      "metadata": {
        "id": "K93p9CH1l87l"
      },
      "execution_count": null,
      "outputs": []
    },
    {
      "cell_type": "code",
      "source": [
        "df.printSchema()"
      ],
      "metadata": {
        "id": "ZlcBmQTv8Yw4"
      },
      "execution_count": null,
      "outputs": []
    },
    {
      "cell_type": "markdown",
      "source": [
        "Leer el dataset de disney+ y aplicarle el schema"
      ],
      "metadata": {
        "id": "JX_SNg729mRr"
      }
    },
    {
      "cell_type": "code",
      "source": [
        "dfd = spark.read.csv('disney_plus_titles.csv', header=True, sep=\",\", inferSchema=True, multiLine=True, schema=schema)\n",
        "dfd.show()"
      ],
      "metadata": {
        "id": "bGxyiaKo67OA"
      },
      "execution_count": null,
      "outputs": []
    },
    {
      "cell_type": "code",
      "source": [
        "dfd.printSchema()"
      ],
      "metadata": {
        "id": "gMngYFt0oTZc"
      },
      "execution_count": null,
      "outputs": []
    },
    {
      "cell_type": "markdown",
      "source": [
        "Aplicar el formaato correcto de fecha a los datasets"
      ],
      "metadata": {
        "id": "19nKaywI9ogC"
      }
    },
    {
      "cell_type": "code",
      "source": [
        "df = df.withColumn(\"date_added\", to_date(df[\"date_added\"], \"MMMM d, yyyy\"))\n",
        "dfd = dfd.withColumn(\"date_added\", to_date(dfd[\"date_added\"], \"MMMM d, yyyy\"))"
      ],
      "metadata": {
        "id": "O9b61pLzwc9l"
      },
      "execution_count": null,
      "outputs": []
    },
    {
      "cell_type": "markdown",
      "source": [
        "Eliminar filas con datos nulos"
      ],
      "metadata": {
        "id": "b6yUqGnv9y1K"
      }
    },
    {
      "cell_type": "code",
      "source": [
        "#dfd = dfd.dropna() esta tiene muy pocos valores para borrarlos\n",
        "df = df.dropna()"
      ],
      "metadata": {
        "id": "xdmA8p5my3gM"
      },
      "execution_count": null,
      "outputs": []
    },
    {
      "cell_type": "markdown",
      "source": [
        "Analisis previo de las columnas"
      ],
      "metadata": {
        "id": "O5QUnHne-LI6"
      }
    },
    {
      "cell_type": "code",
      "source": [
        "df.summary().show()"
      ],
      "metadata": {
        "id": "mEDvz3IPnKN2"
      },
      "execution_count": null,
      "outputs": []
    },
    {
      "cell_type": "code",
      "source": [
        "dfd.summary().show()"
      ],
      "metadata": {
        "id": "f_I4dGJ3yfWr"
      },
      "execution_count": null,
      "outputs": []
    },
    {
      "cell_type": "markdown",
      "source": [
        "\n",
        "1 ¿Cuál es la proporción entre películas y series en el catálogo de Disney+?\n"
      ],
      "metadata": {
        "id": "JM9CTHsssC2m"
      }
    },
    {
      "cell_type": "code",
      "source": [
        "conteo_tipo = dfd.groupBy(\"type\").count()\n",
        "\n",
        "conteo_tipo.show()\n",
        "\n",
        "total_movies = conteo_tipo.filter(col(\"type\") == \"Movie\").select(\"count\").collect()[0][0]\n",
        "total_shows = conteo_tipo.filter(col(\"type\") == \"TV Show\").select(\"count\").collect()[0][0]\n",
        "\n",
        "proporcion = total_movies / total_shows if total_shows != 0 else \"No hay series en el dataset\"\n",
        "print(f\"Proporción Películas/Series: {proporcion:.2f}\")\n",
        "\n",
        "#Respuesta: La proporcion entre peliculas y series esta en 1052 Peliculas y 398 series\n"
      ],
      "metadata": {
        "id": "737PXi0AsMm3",
        "colab": {
          "base_uri": "https://localhost:8080/"
        },
        "outputId": "152e6686-6f63-4f0b-eb0a-0f155e9a478a"
      },
      "execution_count": null,
      "outputs": [
        {
          "output_type": "stream",
          "name": "stdout",
          "text": [
            "+-------+-----+\n",
            "|   type|count|\n",
            "+-------+-----+\n",
            "|TV Show|  398|\n",
            "|  Movie| 1052|\n",
            "+-------+-----+\n",
            "\n",
            "Proporción Películas/Series: 2.64\n"
          ]
        }
      ]
    },
    {
      "cell_type": "markdown",
      "source": [
        "2 ¿Qué países tienen el mayor número de producciones en Disney+?"
      ],
      "metadata": {
        "id": "qbE7jI1IDx_2"
      }
    },
    {
      "cell_type": "code",
      "source": [
        "\n",
        "disney_countries = dfd.withColumn(\"country\", split(col(\"country\"), \", \")) \\\n",
        "    .selectExpr(\"explode(country) as country\") \\\n",
        "    .groupBy(\"country\").count() \\\n",
        "    .orderBy(col(\"count\").desc())\n",
        "disney_countries.show(10)\n",
        "\n",
        "\n",
        "#El mayor numero de producciones de disney lo tiene Estados Unidos"
      ],
      "metadata": {
        "id": "hqpRvHVF0WxX",
        "colab": {
          "base_uri": "https://localhost:8080/"
        },
        "outputId": "21e2c99a-a90c-4f54-c156-2f3cce6c853e"
      },
      "execution_count": null,
      "outputs": [
        {
          "output_type": "stream",
          "name": "stdout",
          "text": [
            "+--------------+-----+\n",
            "|       country|count|\n",
            "+--------------+-----+\n",
            "| United States| 1182|\n",
            "|United Kingdom|  101|\n",
            "|        Canada|   77|\n",
            "|     Australia|   23|\n",
            "|        France|   22|\n",
            "|   South Korea|   13|\n",
            "|         China|   10|\n",
            "|         Japan|   10|\n",
            "|       Germany|    9|\n",
            "|       Ireland|    8|\n",
            "+--------------+-----+\n",
            "only showing top 10 rows\n",
            "\n"
          ]
        }
      ]
    },
    {
      "cell_type": "markdown",
      "source": [
        "¿Quiénes son los directores con más títulos en el catálogo de Disney+?"
      ],
      "metadata": {
        "id": "n0SG3nHqGPNA"
      }
    },
    {
      "cell_type": "code",
      "source": [
        "\n",
        "# 3.\n",
        "disney_directors = dfd.filter(col(\"director\").isNotNull()) \\\n",
        "    .groupBy(\"director\").count() \\\n",
        "    .orderBy(col(\"count\").desc())\n",
        "disney_directors.show(10)\n",
        "\n",
        "\n",
        "\n"
      ],
      "metadata": {
        "id": "L-chuqh20gIm",
        "colab": {
          "base_uri": "https://localhost:8080/"
        },
        "outputId": "6efa3f53-909a-47b9-ee4d-ecf9fc9b2811"
      },
      "execution_count": null,
      "outputs": [
        {
          "output_type": "stream",
          "name": "stdout",
          "text": [
            "+----------------+-----+\n",
            "|        director|count|\n",
            "+----------------+-----+\n",
            "|     Jack Hannah|   17|\n",
            "|   John Lasseter|   16|\n",
            "|       Paul Hoen|   16|\n",
            "| Charles Nichols|   12|\n",
            "|Robert Stevenson|   12|\n",
            "|Vincent McEveety|   10|\n",
            "|    Bob Peterson|   10|\n",
            "|     James Algar|    9|\n",
            "|    Kenny Ortega|    9|\n",
            "| Wilfred Jackson|    9|\n",
            "+----------------+-----+\n",
            "only showing top 10 rows\n",
            "\n"
          ]
        }
      ]
    },
    {
      "cell_type": "markdown",
      "source": [
        "¿Cómo ha cambiado el número de lanzamientos de contenido en Disney+ a lo largo de los años?"
      ],
      "metadata": {
        "id": "O1sA7mn8GSy_"
      }
    },
    {
      "cell_type": "code",
      "source": [
        "# 4.\n",
        "\n",
        "disney_years = dfd.withColumn(\"release_year\", col(\"release_year\")) \\\n",
        "    .groupBy(\"release_year\").count() \\\n",
        "    .orderBy(col(\"release_year\"))\n",
        "disney_years.show(99)\n"
      ],
      "metadata": {
        "id": "ci8VOks7BsYk",
        "colab": {
          "base_uri": "https://localhost:8080/"
        },
        "outputId": "49358dfe-4b80-441b-bf2f-d356e60bb8f9"
      },
      "execution_count": null,
      "outputs": [
        {
          "output_type": "stream",
          "name": "stdout",
          "text": [
            "+------------+-----+\n",
            "|release_year|count|\n",
            "+------------+-----+\n",
            "|        NULL|    3|\n",
            "|        1928|    1|\n",
            "|        1932|    3|\n",
            "|        1933|    3|\n",
            "|        1934|    4|\n",
            "|        1935|    4|\n",
            "|        1936|    6|\n",
            "|        1937|    6|\n",
            "|        1938|    5|\n",
            "|        1939|    5|\n",
            "|        1940|    7|\n",
            "|        1941|    7|\n",
            "|        1942|    6|\n",
            "|        1943|    2|\n",
            "|        1944|    1|\n",
            "|        1945|    1|\n",
            "|        1946|    2|\n",
            "|        1947|    5|\n",
            "|        1948|    5|\n",
            "|        1949|    5|\n",
            "|        1950|    6|\n",
            "|        1951|    4|\n",
            "|        1952|    8|\n",
            "|        1953|    6|\n",
            "|        1954|    4|\n",
            "|        1955|    9|\n",
            "|        1956|    4|\n",
            "|        1957|    4|\n",
            "|        1959|    5|\n",
            "|        1960|    3|\n",
            "|        1961|    5|\n",
            "|        1962|    3|\n",
            "|        1963|    3|\n",
            "|        1964|    3|\n",
            "|        1965|    3|\n",
            "|        1966|    2|\n",
            "|        1967|    2|\n",
            "|        1968|    1|\n",
            "|        1969|    4|\n",
            "|        1970|    1|\n",
            "|        1971|    3|\n",
            "|        1972|    3|\n",
            "|        1973|    2|\n",
            "|        1974|    4|\n",
            "|        1975|    4|\n",
            "|        1976|    4|\n",
            "|        1977|    6|\n",
            "|        1978|    4|\n",
            "|        1979|    5|\n",
            "|        1980|    4|\n",
            "|        1981|    3|\n",
            "|        1982|    2|\n",
            "|        1983|    2|\n",
            "|        1984|    4|\n",
            "|        1985|    8|\n",
            "|        1986|    7|\n",
            "|        1987|    6|\n",
            "|        1988|    6|\n",
            "|        1989|    7|\n",
            "|        1990|    5|\n",
            "|        1991|    6|\n",
            "|        1992|   10|\n",
            "|        1993|   14|\n",
            "|        1994|   14|\n",
            "|        1995|   13|\n",
            "|        1996|   17|\n",
            "|        1997|   17|\n",
            "|        1998|   20|\n",
            "|        1999|   22|\n",
            "|        2000|   26|\n",
            "|        2001|   18|\n",
            "|        2002|   21|\n",
            "|        2003|   29|\n",
            "|        2004|   28|\n",
            "|        2005|   32|\n",
            "|        2006|   32|\n",
            "|        2007|   23|\n",
            "|        2008|   33|\n",
            "|        2009|   35|\n",
            "|        2010|   39|\n",
            "|        2011|   52|\n",
            "|        2012|   41|\n",
            "|        2013|   32|\n",
            "|        2014|   50|\n",
            "|        2015|   46|\n",
            "|        2016|   60|\n",
            "|        2017|   69|\n",
            "|        2018|   65|\n",
            "|        2019|   99|\n",
            "|        2020|  113|\n",
            "|        2021|  124|\n",
            "+------------+-----+\n",
            "\n"
          ]
        }
      ]
    },
    {
      "cell_type": "markdown",
      "source": [
        "¿Cuál es la duración promedio de las películas en Disney+?"
      ],
      "metadata": {
        "id": "qU2_jVXcGZ-P"
      }
    },
    {
      "cell_type": "code",
      "source": [
        "\n",
        "#5\n",
        "\n",
        "disney_movies = dfd.filter(col(\"type\") == \"Movie\")\n",
        "\n",
        "disney_movies = disney_movies.filter(col(\"duration\").isNotNull())\n",
        "\n",
        "disney_movies = disney_movies.withColumn(\"duration\", regexp_extract(col(\"duration\"), r\"(\\d+)\", 1).cast(\"int\"))\n",
        "\n",
        "disney_movies.select(avg(\"duration\").alias(\"Promedio_Duracion_Minutos\")).show()\n",
        "\n",
        "\n"
      ],
      "metadata": {
        "id": "0RImswLEB44X",
        "colab": {
          "base_uri": "https://localhost:8080/",
          "height": 211
        },
        "outputId": "348fefa2-fde4-45d9-8a10-b42219ba5127"
      },
      "execution_count": null,
      "outputs": [
        {
          "output_type": "error",
          "ename": "NameError",
          "evalue": "name 'regexp_extract' is not defined",
          "traceback": [
            "\u001b[0;31m---------------------------------------------------------------------------\u001b[0m",
            "\u001b[0;31mNameError\u001b[0m                                 Traceback (most recent call last)",
            "\u001b[0;32m<ipython-input-242-563c29b40507>\u001b[0m in \u001b[0;36m<cell line: 0>\u001b[0;34m()\u001b[0m\n\u001b[1;32m      5\u001b[0m \u001b[0mdisney_movies\u001b[0m \u001b[0;34m=\u001b[0m \u001b[0mdisney_movies\u001b[0m\u001b[0;34m.\u001b[0m\u001b[0mfilter\u001b[0m\u001b[0;34m(\u001b[0m\u001b[0mcol\u001b[0m\u001b[0;34m(\u001b[0m\u001b[0;34m\"duration\"\u001b[0m\u001b[0;34m)\u001b[0m\u001b[0;34m.\u001b[0m\u001b[0misNotNull\u001b[0m\u001b[0;34m(\u001b[0m\u001b[0;34m)\u001b[0m\u001b[0;34m)\u001b[0m\u001b[0;34m\u001b[0m\u001b[0;34m\u001b[0m\u001b[0m\n\u001b[1;32m      6\u001b[0m \u001b[0;34m\u001b[0m\u001b[0m\n\u001b[0;32m----> 7\u001b[0;31m \u001b[0mdisney_movies\u001b[0m \u001b[0;34m=\u001b[0m \u001b[0mdisney_movies\u001b[0m\u001b[0;34m.\u001b[0m\u001b[0mwithColumn\u001b[0m\u001b[0;34m(\u001b[0m\u001b[0;34m\"duration\"\u001b[0m\u001b[0;34m,\u001b[0m \u001b[0mregexp_extract\u001b[0m\u001b[0;34m(\u001b[0m\u001b[0mcol\u001b[0m\u001b[0;34m(\u001b[0m\u001b[0;34m\"duration\"\u001b[0m\u001b[0;34m)\u001b[0m\u001b[0;34m,\u001b[0m \u001b[0;34mr\"(\\d+)\"\u001b[0m\u001b[0;34m,\u001b[0m \u001b[0;36m1\u001b[0m\u001b[0;34m)\u001b[0m\u001b[0;34m.\u001b[0m\u001b[0mcast\u001b[0m\u001b[0;34m(\u001b[0m\u001b[0;34m\"int\"\u001b[0m\u001b[0;34m)\u001b[0m\u001b[0;34m)\u001b[0m\u001b[0;34m\u001b[0m\u001b[0;34m\u001b[0m\u001b[0m\n\u001b[0m\u001b[1;32m      8\u001b[0m \u001b[0;34m\u001b[0m\u001b[0m\n\u001b[1;32m      9\u001b[0m \u001b[0mdisney_movies\u001b[0m\u001b[0;34m.\u001b[0m\u001b[0mselect\u001b[0m\u001b[0;34m(\u001b[0m\u001b[0mavg\u001b[0m\u001b[0;34m(\u001b[0m\u001b[0;34m\"duration\"\u001b[0m\u001b[0;34m)\u001b[0m\u001b[0;34m.\u001b[0m\u001b[0malias\u001b[0m\u001b[0;34m(\u001b[0m\u001b[0;34m\"Promedio_Duracion_Minutos\"\u001b[0m\u001b[0;34m)\u001b[0m\u001b[0;34m)\u001b[0m\u001b[0;34m.\u001b[0m\u001b[0mshow\u001b[0m\u001b[0;34m(\u001b[0m\u001b[0;34m)\u001b[0m\u001b[0;34m\u001b[0m\u001b[0;34m\u001b[0m\u001b[0m\n",
            "\u001b[0;31mNameError\u001b[0m: name 'regexp_extract' is not defined"
          ]
        }
      ]
    },
    {
      "cell_type": "markdown",
      "source": [
        " 7 ¿Cuáles son los géneros más comunes en el catálogo de Disney+?\n"
      ],
      "metadata": {
        "id": "OwEpOzgPGjjP"
      }
    },
    {
      "cell_type": "code",
      "source": [
        "\n",
        "#7\n",
        "\n",
        "\n",
        "disney_genres = dfd.withColumn(\"listed_in\", split(col(\"listed_in\"), \", \")) \\\n",
        "    .selectExpr(\"explode(listed_in) as genre\") \\\n",
        "    .groupBy(\"genre\").count() \\\n",
        "    .orderBy(col(\"count\").desc())\n",
        "disney_genres.show(10)\n"
      ],
      "metadata": {
        "id": "RzuAoCZLCQIg",
        "colab": {
          "base_uri": "https://localhost:8080/"
        },
        "outputId": "34289065-dd7a-4414-ad8c-5a3568a246a1"
      },
      "execution_count": null,
      "outputs": [
        {
          "output_type": "stream",
          "name": "stdout",
          "text": [
            "+----------------+-----+\n",
            "|           genre|count|\n",
            "+----------------+-----+\n",
            "|          Family|  631|\n",
            "|       Animation|  539|\n",
            "|          Comedy|  525|\n",
            "|Action-Adventure|  451|\n",
            "|Animals & Nature|  208|\n",
            "|   Coming of Age|  205|\n",
            "|         Fantasy|  191|\n",
            "|     Documentary|  174|\n",
            "|            Kids|  141|\n",
            "|           Drama|  134|\n",
            "+----------------+-----+\n",
            "only showing top 10 rows\n",
            "\n"
          ]
        }
      ]
    },
    {
      "cell_type": "markdown",
      "source": [],
      "metadata": {
        "id": "YrgGAoRxGoLw"
      }
    },
    {
      "cell_type": "code",
      "source": [
        "#8\n",
        "\n",
        "disney_us = dfd.filter(col(\"country\").contains(\"United States\")).count()\n",
        "disney_total = dfd.count()\n",
        "print(f\"Proporción de contenido internacional en Disney+: {1 - (disney_us / disney_total):.2%}\")\n"
      ],
      "metadata": {
        "id": "42_TLk4SCW7n",
        "colab": {
          "base_uri": "https://localhost:8080/"
        },
        "outputId": "a0bb1553-b3d8-49d7-9868-18a0d76f5e8f"
      },
      "execution_count": null,
      "outputs": [
        {
          "output_type": "stream",
          "name": "stdout",
          "text": [
            "Proporción de contenido internacional en Disney+: 18.48%\n"
          ]
        }
      ]
    },
    {
      "cell_type": "markdown",
      "source": [
        "# Dataset Netflix\n",
        "\n",
        "Proporcion peliculas y series\n"
      ],
      "metadata": {
        "id": "KryAmW4T-48r"
      }
    },
    {
      "cell_type": "code",
      "source": [
        "#9\n",
        "conteo_tipo = df.groupBy(\"type\").count()\n",
        "\n",
        "conteo_tipo.show()\n",
        "\n",
        "total_movies = conteo_tipo.filter(col(\"type\") == \"Movie\").select(\"count\").collect()[0][0]\n",
        "total_shows = conteo_tipo.filter(col(\"type\") == \"TV Show\").select(\"count\").collect()[0][0]\n",
        "\n",
        "proporcion = total_movies / total_shows if total_shows != 0 else \"No hay series en el dataset\"\n",
        "print(f\"Proporción Películas/Series: {proporcion:.2f}\")"
      ],
      "metadata": {
        "id": "KrNOaqMI-3xc"
      },
      "execution_count": null,
      "outputs": []
    },
    {
      "cell_type": "code",
      "source": [
        "#10\n",
        "netflix_countries = df.withColumn(\"country\", split(col(\"country\"), \", \")) \\\n",
        "    .selectExpr(\"explode(country) as country\") \\\n",
        "    .groupBy(\"country\").count() \\\n",
        "    .orderBy(col(\"count\").desc())\n",
        "netflix_countries.show(10)\n",
        "\n"
      ],
      "metadata": {
        "id": "32kGYI5lC0dA"
      },
      "execution_count": null,
      "outputs": []
    },
    {
      "cell_type": "code",
      "source": [
        "#11\n",
        "netflix_years = df.withColumn(\"release_year\", col(\"release_year\")) \\\n",
        "    .groupBy(\"release_year\").count() \\\n",
        "    .orderBy(col(\"release_year\"))\n",
        "netflix_years.show(10)\n"
      ],
      "metadata": {
        "id": "ltWpdXJ6C_el"
      },
      "execution_count": null,
      "outputs": []
    },
    {
      "cell_type": "code",
      "source": [
        "#12\n",
        "netflix_series = df.filter(col(\"type\") == \"TV Show\")\n",
        "\n",
        "netflix_series = netflix_series.filter(col(\"duration\").isNotNull())\n",
        "\n",
        "netflix_series = netflix_series.withColumn(\"duration\", regexp_extract(col(\"duration\"), r\"(\\d+)\", 1).cast(\"int\"))\n",
        "\n",
        "netflix_series.select(avg(\"duration\").alias(\"Promedio_Temporadas\")).show()\n"
      ],
      "metadata": {
        "id": "uGzuy0O7DFs3",
        "colab": {
          "base_uri": "https://localhost:8080/"
        },
        "outputId": "3271b9c5-fbe1-4278-8d10-d4466b5bbb59"
      },
      "execution_count": null,
      "outputs": [
        {
          "output_type": "stream",
          "name": "stdout",
          "text": [
            "+-------------------+\n",
            "|Promedio_Temporadas|\n",
            "+-------------------+\n",
            "| 1.7700074794315632|\n",
            "+-------------------+\n",
            "\n"
          ]
        }
      ]
    },
    {
      "cell_type": "code",
      "source": [
        "#13\n",
        "print(f\"Proporción de contenido producido en EE.UU. en Disney+: {disney_us / disney_total:.2%}\")\n"
      ],
      "metadata": {
        "id": "DeA0N5AbDK47",
        "colab": {
          "base_uri": "https://localhost:8080/"
        },
        "outputId": "83984819-a629-4c74-980d-12dc711f246c"
      },
      "execution_count": null,
      "outputs": [
        {
          "output_type": "stream",
          "name": "stdout",
          "text": [
            "Proporción de contenido producido en EE.UU. en Disney+: 81.52%\n"
          ]
        }
      ]
    },
    {
      "cell_type": "code",
      "source": [
        "#14\n",
        "netflix_actors = df.withColumn(\"cast\", split(col(\"cast\"), \", \")) \\\n",
        "    .selectExpr(\"explode(cast) as actor\") \\\n",
        "    .groupBy(\"actor\").count() \\\n",
        "    .orderBy(col(\"count\").desc())\n",
        "netflix_actors.show(10)\n"
      ],
      "metadata": {
        "id": "yX9KV1UDDPfV",
        "colab": {
          "base_uri": "https://localhost:8080/"
        },
        "outputId": "02b153b7-ebaf-4f23-d3b1-fc10790c724f"
      },
      "execution_count": null,
      "outputs": [
        {
          "output_type": "stream",
          "name": "stdout",
          "text": [
            "+----------------+-----+\n",
            "|           actor|count|\n",
            "+----------------+-----+\n",
            "|     Anupam Kher|   43|\n",
            "|  Shah Rukh Khan|   35|\n",
            "|   Julie Tejwani|   33|\n",
            "|Takahiro Sakurai|   32|\n",
            "|Naseeruddin Shah|   32|\n",
            "|    Rupa Bhimani|   31|\n",
            "|    Akshay Kumar|   30|\n",
            "|         Om Puri|   30|\n",
            "|       Yuki Kaji|   29|\n",
            "|Amitabh Bachchan|   28|\n",
            "+----------------+-----+\n",
            "only showing top 10 rows\n",
            "\n"
          ]
        }
      ]
    }
  ]
}