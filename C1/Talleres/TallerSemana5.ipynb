{
  "nbformat": 4,
  "nbformat_minor": 0,
  "metadata": {
    "colab": {
      "provenance": [],
      "include_colab_link": true
    },
    "kernelspec": {
      "name": "python3",
      "display_name": "Python 3"
    },
    "language_info": {
      "name": "python"
    }
  },
  "cells": [
    {
      "cell_type": "markdown",
      "metadata": {
        "id": "view-in-github",
        "colab_type": "text"
      },
      "source": [
        "<a href=\"https://colab.research.google.com/github/MiguelAngeloTr/BIGDATA/blob/main/C1/Talleres/TallerSemana5.ipynb\" target=\"_parent\"><img src=\"https://colab.research.google.com/assets/colab-badge.svg\" alt=\"Open In Colab\"/></a>"
      ]
    },
    {
      "cell_type": "markdown",
      "source": [
        "- Christian David Cardenas orozco\n",
        "- Miguel Angel Jimenez trochez\n",
        "- Juan pablo castaño   \n"
      ],
      "metadata": {
        "id": "8LLSC8ZSHhPO"
      }
    },
    {
      "cell_type": "markdown",
      "source": [
        "#Instalar Pyspark"
      ],
      "metadata": {
        "id": "w-B9CxCgx6Oz"
      }
    },
    {
      "cell_type": "code",
      "execution_count": 1,
      "metadata": {
        "id": "xc435vT-fM5S",
        "colab": {
          "base_uri": "https://localhost:8080/"
        },
        "outputId": "4f833d75-c9aa-45a0-92f6-07e811a97c77"
      },
      "outputs": [
        {
          "output_type": "stream",
          "name": "stdout",
          "text": [
            "Get:1 http://security.ubuntu.com/ubuntu jammy-security InRelease [129 kB]\n",
            "Hit:2 http://archive.ubuntu.com/ubuntu jammy InRelease\n",
            "Get:3 https://cloud.r-project.org/bin/linux/ubuntu jammy-cran40/ InRelease [3,632 B]\n",
            "Get:4 http://archive.ubuntu.com/ubuntu jammy-updates InRelease [128 kB]\n",
            "Get:5 https://developer.download.nvidia.com/compute/cuda/repos/ubuntu2204/x86_64  InRelease [1,581 B]\n",
            "Get:6 https://r2u.stat.illinois.edu/ubuntu jammy InRelease [6,555 B]\n",
            "Hit:7 https://ppa.launchpadcontent.net/deadsnakes/ppa/ubuntu jammy InRelease\n",
            "Hit:8 https://ppa.launchpadcontent.net/graphics-drivers/ppa/ubuntu jammy InRelease\n",
            "Hit:9 https://ppa.launchpadcontent.net/ubuntugis/ppa/ubuntu jammy InRelease\n",
            "Get:10 http://archive.ubuntu.com/ubuntu jammy-backports InRelease [127 kB]\n",
            "Get:11 http://security.ubuntu.com/ubuntu jammy-security/universe amd64 Packages [1,235 kB]\n",
            "Get:12 http://security.ubuntu.com/ubuntu jammy-security/main amd64 Packages [2,649 kB]\n",
            "Get:13 http://security.ubuntu.com/ubuntu jammy-security/restricted amd64 Packages [3,688 kB]\n",
            "Get:14 https://developer.download.nvidia.com/compute/cuda/repos/ubuntu2204/x86_64  Packages [1,321 kB]\n",
            "Get:15 https://r2u.stat.illinois.edu/ubuntu jammy/main all Packages [8,708 kB]\n",
            "Get:16 https://r2u.stat.illinois.edu/ubuntu jammy/main amd64 Packages [2,664 kB]\n",
            "Get:17 http://archive.ubuntu.com/ubuntu jammy-updates/main amd64 Packages [2,956 kB]\n",
            "Get:18 http://archive.ubuntu.com/ubuntu jammy-updates/restricted amd64 Packages [3,830 kB]\n",
            "Get:19 http://archive.ubuntu.com/ubuntu jammy-updates/universe amd64 Packages [1,533 kB]\n",
            "Fetched 29.0 MB in 8s (3,639 kB/s)\n",
            "Reading package lists... Done\n",
            "Building dependency tree... Done\n",
            "Reading state information... Done\n",
            "32 packages can be upgraded. Run 'apt list --upgradable' to see them.\n",
            "\u001b[1;33mW: \u001b[0mSkipping acquire of configured file 'main/source/Sources' as repository 'https://r2u.stat.illinois.edu/ubuntu jammy InRelease' does not seem to provide it (sources.list entry misspelt?)\u001b[0m\n",
            "tar: spark-3.5.4-bin-hadoop3.tgz: Cannot open: No such file or directory\n",
            "tar: Error is not recoverable: exiting now\n",
            "Requirement already satisfied: pyspark in /usr/local/lib/python3.11/dist-packages (3.5.4)\n",
            "Requirement already satisfied: py4j==0.10.9.7 in /usr/local/lib/python3.11/dist-packages (from pyspark) (0.10.9.7)\n",
            "Requirement already satisfied: py4j in /usr/local/lib/python3.11/dist-packages (0.10.9.7)\n",
            "Collecting findspark\n",
            "  Downloading findspark-2.0.1-py2.py3-none-any.whl.metadata (352 bytes)\n",
            "Downloading findspark-2.0.1-py2.py3-none-any.whl (4.4 kB)\n",
            "Installing collected packages: findspark\n",
            "Successfully installed findspark-2.0.1\n"
          ]
        }
      ],
      "source": [
        "!sudo apt update\n",
        "!apt-get install openjdk-8-jdk-headless -qq > /dev/null\n",
        "!wget -q https://dlcdn.apache.org/spark/spark-3.5.4/spark-3.5.4-bin-hadoop3.tgz\n",
        "!tar xf spark-3.5.4-bin-hadoop3.tgz\n",
        "!pip install pyspark\n",
        "!pip install py4j\n",
        "!pip install findspark"
      ]
    },
    {
      "cell_type": "markdown",
      "source": [
        "# Crear ambiente y sesion de Spark"
      ],
      "metadata": {
        "id": "QYow64BlyKez"
      }
    },
    {
      "cell_type": "code",
      "source": [
        "import os\n",
        "os.environ[\"JAVA_HOME\"] = \"/usr/lib/jvm/java-8-openjdk-amd64\"\n",
        "os.environ[\"SPARK_HOME\"] = \"/content/spark-3.5.4-bin-hadoop3\""
      ],
      "metadata": {
        "id": "IIayk6mXkyuc"
      },
      "execution_count": 4,
      "outputs": []
    },
    {
      "cell_type": "code",
      "source": [
        "import findspark\n",
        "findspark.init()\n",
        "findspark.find()\n",
        "\n",
        "import pyspark\n",
        "\n",
        "from pyspark.sql import DataFrame, SparkSession\n",
        "from typing import List\n",
        "import pyspark.sql.types as T\n",
        "import pyspark.sql.functions as F\n",
        "\n",
        "spark= SparkSession \\\n",
        "       .builder \\\n",
        "       .appName(\"Taller Semana 3 Spark\") \\\n",
        "       .getOrCreate()"
      ],
      "metadata": {
        "id": "R_emVAegk9Jk"
      },
      "execution_count": 3,
      "outputs": []
    },
    {
      "cell_type": "markdown",
      "source": [
        "Comprobar la sesion"
      ],
      "metadata": {
        "id": "0UlyNwZAyR-D"
      }
    },
    {
      "cell_type": "code",
      "source": [
        "spark"
      ],
      "metadata": {
        "id": "0ajAyRbJldet",
        "outputId": "2b023ecc-d86f-4a69-a035-d200b97785ab",
        "colab": {
          "base_uri": "https://localhost:8080/",
          "height": 219
        }
      },
      "execution_count": 6,
      "outputs": [
        {
          "output_type": "execute_result",
          "data": {
            "text/plain": [
              "<pyspark.sql.session.SparkSession at 0x7d78956d03d0>"
            ],
            "text/html": [
              "\n",
              "            <div>\n",
              "                <p><b>SparkSession - in-memory</b></p>\n",
              "                \n",
              "        <div>\n",
              "            <p><b>SparkContext</b></p>\n",
              "\n",
              "            <p><a href=\"http://6bf98b546f2d:4040\">Spark UI</a></p>\n",
              "\n",
              "            <dl>\n",
              "              <dt>Version</dt>\n",
              "                <dd><code>v3.5.4</code></dd>\n",
              "              <dt>Master</dt>\n",
              "                <dd><code>local[*]</code></dd>\n",
              "              <dt>AppName</dt>\n",
              "                <dd><code>Taller Semana 3 Spark</code></dd>\n",
              "            </dl>\n",
              "        </div>\n",
              "        \n",
              "            </div>\n",
              "        "
            ]
          },
          "metadata": {},
          "execution_count": 6
        }
      ]
    },
    {
      "cell_type": "markdown",
      "source": [
        "Instalar dependencias necesarias de pyspark sql"
      ],
      "metadata": {
        "id": "A3-G2L3WzgfT"
      }
    },
    {
      "cell_type": "code",
      "source": [
        "from pyspark.sql.types import *\n",
        "from pyspark.sql.functions import to_date\n",
        "from pyspark.sql.functions import countDistinct\n",
        "from pyspark.sql.functions import col, regexp_extract, avg, split"
      ],
      "metadata": {
        "id": "mnWBDvQpv_68"
      },
      "execution_count": 7,
      "outputs": []
    },
    {
      "cell_type": "markdown",
      "source": [
        "Crear la estructura del schema"
      ],
      "metadata": {
        "id": "-UQMfhH1z2De"
      }
    },
    {
      "cell_type": "code",
      "source": [
        "schema = StructType([\n",
        "    StructField(\"show_id\", StringType(), True),\n",
        "    StructField(\"type\", StringType(), True),\n",
        "    StructField(\"title\", StringType(), True),\n",
        "    StructField(\"director\", StringType(), True),\n",
        "    StructField(\"cast\", StringType(), True),\n",
        "    StructField(\"country\", StringType(), True),\n",
        "    StructField(\"date_added\", StringType(), True),  # Luego se puede convertir a DateType si es necesario\n",
        "    StructField(\"release_year\", IntegerType(), True),\n",
        "    StructField(\"rating\", StringType(), True),\n",
        "    StructField(\"duration\", StringType(), True),  # Se puede dividir en minutos o temporadas si es necesario\n",
        "    StructField(\"listed_in\", StringType(), True),\n",
        "    StructField(\"description\", StringType(), True)\n",
        "])"
      ],
      "metadata": {
        "id": "T14Z96J8vPaw"
      },
      "execution_count": 8,
      "outputs": []
    },
    {
      "cell_type": "markdown",
      "source": [
        "Leer el dataset de netflix y aplicarle el schema"
      ],
      "metadata": {
        "id": "BsoReOMF0-HE"
      }
    },
    {
      "cell_type": "code",
      "source": [
        "\n",
        "import requests\n",
        "path = \"https://raw.githubusercontent.com/MiguelAngeloTr/BIGDATA/refs/heads/main/C1/Talleres/netflix_titles.csv\"\n",
        "req = requests.get(path)\n",
        "url_content = req.content\n",
        "\n",
        "csv_file_name = 'netflix_titles.csv'\n",
        "csv_file = open(csv_file_name, 'wb')\n",
        "\n",
        "csv_file.write(url_content)\n",
        "csv_file.close()\n",
        "\n",
        "df = spark.read.csv('/content/'+csv_file_name, header=True, inferSchema=True)\n",
        "df.show()\n",
        "\n",
        "#Segundo Data set\n",
        "path = \"https://raw.githubusercontent.com/MiguelAngeloTr/BIGDATA/refs/heads/main/C1/Talleres/disney_plus_titles.csv\"\n",
        "req = requests.get(path)\n",
        "url_content = req.content\n",
        "\n",
        "csv_file_name = 'disney_plus_titles.csv'\n",
        "csv_file = open(csv_file_name, 'wb')\n",
        "\n",
        "csv_file.write(url_content)\n",
        "csv_file.close()\n",
        "\n",
        "df = spark.read.csv('/content/'+csv_file_name, header=True, inferSchema=True)\n",
        "df.show()\n",
        "\n",
        ""
      ],
      "metadata": {
        "id": "K93p9CH1l87l",
        "outputId": "0ae6cf21-44ad-4309-b3f1-82e39536c94e",
        "colab": {
          "base_uri": "https://localhost:8080/"
        }
      },
      "execution_count": 19,
      "outputs": [
        {
          "output_type": "stream",
          "name": "stdout",
          "text": [
            "+-------+-------+--------------------+--------------------+--------------------+--------------------+------------------+------------+------+---------+--------------------+--------------------+\n",
            "|show_id|   type|               title|            director|                cast|             country|        date_added|release_year|rating| duration|           listed_in|         description|\n",
            "+-------+-------+--------------------+--------------------+--------------------+--------------------+------------------+------------+------+---------+--------------------+--------------------+\n",
            "|     s1|  Movie|Dick Johnson Is Dead|     Kirsten Johnson|                NULL|       United States|September 25, 2021|        2020| PG-13|   90 min|       Documentaries|As her father nea...|\n",
            "|     s2|TV Show|       Blood & Water|                NULL|Ama Qamata, Khosi...|        South Africa|September 24, 2021|        2021| TV-MA|2 Seasons|International TV ...|After crossing pa...|\n",
            "|     s3|TV Show|           Ganglands|     Julien Leclercq|Sami Bouajila, Tr...|                NULL|September 24, 2021|        2021| TV-MA| 1 Season|Crime TV Shows, I...|To protect his fa...|\n",
            "|     s4|TV Show|Jailbirds New Orl...|                NULL|                NULL|                NULL|September 24, 2021|        2021| TV-MA| 1 Season|Docuseries, Reali...|Feuds, flirtation...|\n",
            "|     s5|TV Show|        Kota Factory|                NULL|Mayur More, Jiten...|               India|September 24, 2021|        2021| TV-MA|2 Seasons|International TV ...|In a city of coac...|\n",
            "|     s6|TV Show|       Midnight Mass|       Mike Flanagan|Kate Siegel, Zach...|                NULL|September 24, 2021|        2021| TV-MA| 1 Season|TV Dramas, TV Hor...|The arrival of a ...|\n",
            "|     s7|  Movie|My Little Pony: A...|Robert Cullen, Jo...|Vanessa Hudgens, ...|                NULL|September 24, 2021|        2021|    PG|   91 min|Children & Family...|Equestria's divid...|\n",
            "|     s8|  Movie|             Sankofa|        Haile Gerima|Kofi Ghanaba, Oya...|United States, Gh...|September 24, 2021|        1993| TV-MA|  125 min|Dramas, Independe...|On a photo shoot ...|\n",
            "|     s9|TV Show|The Great British...|     Andy Devonshire|Mel Giedroyc, Sue...|      United Kingdom|September 24, 2021|        2021| TV-14|9 Seasons|British TV Shows,...|A talented batch ...|\n",
            "|    s10|  Movie|        The Starling|      Theodore Melfi|Melissa McCarthy,...|       United States|September 24, 2021|        2021| PG-13|  104 min|    Comedies, Dramas|A woman adjusting...|\n",
            "|    s11|TV Show|Vendetta: Truth, ...|                NULL|                NULL|                NULL|September 24, 2021|        2021| TV-MA| 1 Season|Crime TV Shows, D...|\"Sicily boasts a ...|\n",
            "|    s12|TV Show|    Bangkok Breaking|   Kongkiat Komesiri|Sukollawat Kanaro...|                NULL|September 23, 2021|        2021| TV-MA| 1 Season|Crime TV Shows, I...|Struggling to ear...|\n",
            "|    s13|  Movie|        Je Suis Karl| Christian Schwochow|Luna Wedler, Jann...|Germany, Czech Re...|September 23, 2021|        2021| TV-MA|  127 min|Dramas, Internati...|After most of her...|\n",
            "|    s14|  Movie|Confessions of an...|       Bruno Garotti|Klara Castanho, L...|                NULL|September 22, 2021|        2021| TV-PG|   91 min|Children & Family...|When the clever b...|\n",
            "|    s15|TV Show|Crime Stories: In...|                NULL|                NULL|                NULL|September 22, 2021|        2021| TV-MA| 1 Season|British TV Shows,...|Cameras following...|\n",
            "|    s16|TV Show|   Dear White People|                NULL|Logan Browning, B...|       United States|September 22, 2021|        2021| TV-MA|4 Seasons|TV Comedies, TV D...|\"Students of colo...|\n",
            "|    s17|  Movie|Europe's Most Dan...|Pedro de Echave G...|                NULL|                NULL|September 22, 2021|        2020| TV-MA|   67 min|Documentaries, In...|Declassified docu...|\n",
            "|    s18|TV Show|     Falsa identidad|                NULL|Luis Ernesto Fran...|              Mexico|September 22, 2021|        2020| TV-MA|2 Seasons|Crime TV Shows, S...|Strangers Diego a...|\n",
            "|    s19|  Movie|           Intrusion|          Adam Salky|Freida Pinto, Log...|                NULL|September 22, 2021|        2021| TV-14|   94 min|           Thrillers|After a deadly ho...|\n",
            "|    s20|TV Show|              Jaguar|                NULL|Blanca Suárez, Iv...|                NULL|September 22, 2021|        2021| TV-MA| 1 Season|International TV ...|In the 1960s, a H...|\n",
            "+-------+-------+--------------------+--------------------+--------------------+--------------------+------------------+------------+------+---------+--------------------+--------------------+\n",
            "only showing top 20 rows\n",
            "\n",
            "+-------+-------+--------------------+--------------------+--------------------+--------------------+-----------------+------------+------+----------+--------------------+--------------------+\n",
            "|show_id|   type|               title|            director|                cast|             country|       date_added|release_year|rating|  duration|           listed_in|         description|\n",
            "+-------+-------+--------------------+--------------------+--------------------+--------------------+-----------------+------------+------+----------+--------------------+--------------------+\n",
            "|     s1|  Movie|Duck the Halls: A...|Alonso Ramirez Ra...|Chris Diamantopou...|                NULL|November 26, 2021|        2016|  TV-G|    23 min|   Animation, Family|Join Mickey and t...|\n",
            "|     s2|  Movie|Ernest Saves Chri...|         John Cherry|Jim Varney, Noell...|                NULL|November 26, 2021|        1988|    PG|    91 min|              Comedy|Santa Claus passe...|\n",
            "|     s3|  Movie|Ice Age: A Mammot...|        Karen Disher|Raymond Albert Ro...|       United States|November 26, 2021|        2011|  TV-G|    23 min|Animation, Comedy...|Sid the Sloth is ...|\n",
            "|     s4|  Movie|The Queen Family ...|     Hamish Hamilton|Darren Criss, Ada...|                NULL|November 26, 2021|        2021| TV-PG|    41 min|             Musical|This is real life...|\n",
            "|     s5|TV Show|The Beatles: Get ...|                NULL|John Lennon, Paul...|                NULL|November 25, 2021|        2021|  NULL|  1 Season|Docuseries, Histo...|A three-part docu...|\n",
            "|     s6|  Movie|   Becoming Cousteau|          Liz Garbus|Jacques Yves Cous...|       United States|November 24, 2021|        2021| PG-13|    94 min|Biographical, Doc...|An inside look at...|\n",
            "|     s7|TV Show|             Hawkeye|                NULL|Jeremy Renner, Ha...|                NULL|November 24, 2021|        2021| TV-14|  1 Season|Action-Adventure,...|Clint Barton/Hawk...|\n",
            "|     s8|TV Show|Port Protection A...|                NULL|Gary Muehlberger,...|       United States|November 24, 2021|        2015| TV-14| 2 Seasons|Docuseries, Reali...|Residents of Port...|\n",
            "|     s9|TV Show|Secrets of the Zo...|                NULL|Dr. Ray Ball, Dr....|       United States|November 24, 2021|        2019| TV-PG| 2 Seasons|Animals & Nature,...|A day in the life...|\n",
            "|    s10|  Movie|A Muppets Christm...|    Kirk R. Thatcher|Steve Whitmire, D...|       United States|November 19, 2021|        2008|     G|    45 min|Comedy, Family, M...|Celebrate the hol...|\n",
            "|    s11|  Movie|Adventure Thru th...|          John Gleim|Don Hahn, Kathryn...|                NULL|November 19, 2021|        2020| TV-PG|    59 min|         Documentary|Explore the treas...|\n",
            "|    s12|  Movie|  Puppy for Hanukkah|                NULL|                NULL|                NULL|November 19, 2021|        2020|  TV-G|     4 min|Comedy, Family, M...|\"Check out Daveed...|\n",
            "|    s13|  Movie|     The Pixar Story|       Leslie Iwerks|Stacy Keach, John...|       United States|November 19, 2021|        2007|     G|    91 min| Documentary, Family|A groundbreaking ...|\n",
            "|    s14|TV Show|Dr. Oakley, Yukon...|                NULL|Dr. Michelle Oakl...|       United States|November 17, 2021|        2013| TV-PG|10 Seasons|Action-Adventure,...|Meet Dr. Michelle...|\n",
            "|    s15|  Movie|America the Beaut...|                NULL|   Michael B. Jordan|                NULL|November 12, 2021|        2021| TV-PG|     2 min|    Animals & Nature|Epic, grand portr...|\n",
            "|    s16|  Movie|             Baymax!|                NULL|                NULL|                NULL|November 12, 2021|        2021|  TV-G|     1 min|           Animation|“Baymax!” premier...|\n",
            "|    s17|  Movie|        Ciao Alberto|      McKenna Harris|Jack Dylan Grazer...|                NULL|November 12, 2021|        2021| TV-PG|     8 min|Animation, Comedy...|Fun-loving sea mo...|\n",
            "|    s18|TV Show|  Disney Fancy Nancy|                NULL|Mia Jenness, Alys...|United States, Ca...|November 12, 2021|        2018| TV-PG| 3 Seasons|     Animation, Kids|Nancy makes every...|\n",
            "|    s19|TV Show|  Disney Intertwined|                NULL|Carolina Domenech...|                NULL|November 12, 2021|        2021| TV-PG|  1 Season|Comedy, Coming of...|Allegra is ready ...|\n",
            "|    s20|  Movie|           Enchanted|          Kevin Lima|Amy Adams, Patric...|       United States|November 12, 2021|        2007|    PG|   110 min|Comedy, Family, F...|An animated princ...|\n",
            "+-------+-------+--------------------+--------------------+--------------------+--------------------+-----------------+------------+------+----------+--------------------+--------------------+\n",
            "only showing top 20 rows\n",
            "\n"
          ]
        }
      ]
    },
    {
      "cell_type": "code",
      "source": [
        "df.printSchema()"
      ],
      "metadata": {
        "id": "ZlcBmQTv8Yw4",
        "outputId": "0212bb79-af17-430b-d811-018758fdb487",
        "colab": {
          "base_uri": "https://localhost:8080/"
        }
      },
      "execution_count": 21,
      "outputs": [
        {
          "output_type": "stream",
          "name": "stdout",
          "text": [
            "root\n",
            " |-- show_id: string (nullable = true)\n",
            " |-- type: string (nullable = true)\n",
            " |-- title: string (nullable = true)\n",
            " |-- director: string (nullable = true)\n",
            " |-- cast: string (nullable = true)\n",
            " |-- country: string (nullable = true)\n",
            " |-- date_added: string (nullable = true)\n",
            " |-- release_year: string (nullable = true)\n",
            " |-- rating: string (nullable = true)\n",
            " |-- duration: string (nullable = true)\n",
            " |-- listed_in: string (nullable = true)\n",
            " |-- description: string (nullable = true)\n",
            "\n"
          ]
        }
      ]
    },
    {
      "cell_type": "markdown",
      "source": [
        "Leer el dataset de disney+ y aplicarle el schema"
      ],
      "metadata": {
        "id": "JX_SNg729mRr"
      }
    },
    {
      "cell_type": "code",
      "source": [
        "dfd = spark.read.csv('disney_plus_titles.csv', header=True, sep=\",\", inferSchema=True, multiLine=True, schema=schema)\n",
        "dfd.show()"
      ],
      "metadata": {
        "id": "bGxyiaKo67OA",
        "outputId": "2d864f32-638d-447b-ec37-1e884b96e982",
        "colab": {
          "base_uri": "https://localhost:8080/"
        }
      },
      "execution_count": 20,
      "outputs": [
        {
          "output_type": "stream",
          "name": "stdout",
          "text": [
            "+-------+-------+--------------------+--------------------+--------------------+--------------------+-----------------+------------+------+----------+--------------------+--------------------+\n",
            "|show_id|   type|               title|            director|                cast|             country|       date_added|release_year|rating|  duration|           listed_in|         description|\n",
            "+-------+-------+--------------------+--------------------+--------------------+--------------------+-----------------+------------+------+----------+--------------------+--------------------+\n",
            "|     s1|  Movie|Duck the Halls: A...|Alonso Ramirez Ra...|Chris Diamantopou...|                NULL|November 26, 2021|        2016|  TV-G|    23 min|   Animation, Family|Join Mickey and t...|\n",
            "|     s2|  Movie|Ernest Saves Chri...|         John Cherry|Jim Varney, Noell...|                NULL|November 26, 2021|        1988|    PG|    91 min|              Comedy|Santa Claus passe...|\n",
            "|     s3|  Movie|Ice Age: A Mammot...|        Karen Disher|Raymond Albert Ro...|       United States|November 26, 2021|        2011|  TV-G|    23 min|Animation, Comedy...|Sid the Sloth is ...|\n",
            "|     s4|  Movie|The Queen Family ...|     Hamish Hamilton|Darren Criss, Ada...|                NULL|November 26, 2021|        2021| TV-PG|    41 min|             Musical|This is real life...|\n",
            "|     s5|TV Show|The Beatles: Get ...|                NULL|John Lennon, Paul...|                NULL|November 25, 2021|        2021|  NULL|  1 Season|Docuseries, Histo...|A three-part docu...|\n",
            "|     s6|  Movie|   Becoming Cousteau|          Liz Garbus|Jacques Yves Cous...|       United States|November 24, 2021|        2021| PG-13|    94 min|Biographical, Doc...|An inside look at...|\n",
            "|     s7|TV Show|             Hawkeye|                NULL|Jeremy Renner, Ha...|                NULL|November 24, 2021|        2021| TV-14|  1 Season|Action-Adventure,...|Clint Barton/Hawk...|\n",
            "|     s8|TV Show|Port Protection A...|                NULL|Gary Muehlberger,...|       United States|November 24, 2021|        2015| TV-14| 2 Seasons|Docuseries, Reali...|Residents of Port...|\n",
            "|     s9|TV Show|Secrets of the Zo...|                NULL|Dr. Ray Ball, Dr....|       United States|November 24, 2021|        2019| TV-PG| 2 Seasons|Animals & Nature,...|A day in the life...|\n",
            "|    s10|  Movie|A Muppets Christm...|    Kirk R. Thatcher|Steve Whitmire, D...|       United States|November 19, 2021|        2008|     G|    45 min|Comedy, Family, M...|Celebrate the hol...|\n",
            "|    s11|  Movie|Adventure Thru th...|          John Gleim|Don Hahn, Kathryn...|                NULL|November 19, 2021|        2020| TV-PG|    59 min|         Documentary|Explore the treas...|\n",
            "|    s12|  Movie|  Puppy for Hanukkah|                NULL|                NULL|                NULL|November 19, 2021|        2020|  TV-G|     4 min|Comedy, Family, M...|\"Check out Daveed...|\n",
            "|    s13|  Movie|     The Pixar Story|       Leslie Iwerks|Stacy Keach, John...|       United States|November 19, 2021|        2007|     G|    91 min| Documentary, Family|A groundbreaking ...|\n",
            "|    s14|TV Show|Dr. Oakley, Yukon...|                NULL|Dr. Michelle Oakl...|       United States|November 17, 2021|        2013| TV-PG|10 Seasons|Action-Adventure,...|Meet Dr. Michelle...|\n",
            "|    s15|  Movie|America the Beaut...|                NULL|   Michael B. Jordan|                NULL|November 12, 2021|        2021| TV-PG|     2 min|    Animals & Nature|Epic, grand portr...|\n",
            "|    s16|  Movie|             Baymax!|                NULL|                NULL|                NULL|November 12, 2021|        2021|  TV-G|     1 min|           Animation|“Baymax!” premier...|\n",
            "|    s17|  Movie|        Ciao Alberto|      McKenna Harris|Jack Dylan Grazer...|                NULL|November 12, 2021|        2021| TV-PG|     8 min|Animation, Comedy...|Fun-loving sea mo...|\n",
            "|    s18|TV Show|  Disney Fancy Nancy|                NULL|Mia Jenness, Alys...|United States, Ca...|November 12, 2021|        2018| TV-PG| 3 Seasons|     Animation, Kids|Nancy makes every...|\n",
            "|    s19|TV Show|  Disney Intertwined|                NULL|Carolina Domenech...|                NULL|November 12, 2021|        2021| TV-PG|  1 Season|Comedy, Coming of...|Allegra is ready ...|\n",
            "|    s20|  Movie|           Enchanted|          Kevin Lima|Amy Adams, Patric...|       United States|November 12, 2021|        2007|    PG|   110 min|Comedy, Family, F...|An animated princ...|\n",
            "+-------+-------+--------------------+--------------------+--------------------+--------------------+-----------------+------------+------+----------+--------------------+--------------------+\n",
            "only showing top 20 rows\n",
            "\n"
          ]
        }
      ]
    },
    {
      "cell_type": "code",
      "source": [
        "dfd.printSchema()"
      ],
      "metadata": {
        "id": "gMngYFt0oTZc",
        "outputId": "2147d2a2-82cd-452e-d1d5-b8d246577918",
        "colab": {
          "base_uri": "https://localhost:8080/"
        }
      },
      "execution_count": 22,
      "outputs": [
        {
          "output_type": "stream",
          "name": "stdout",
          "text": [
            "root\n",
            " |-- show_id: string (nullable = true)\n",
            " |-- type: string (nullable = true)\n",
            " |-- title: string (nullable = true)\n",
            " |-- director: string (nullable = true)\n",
            " |-- cast: string (nullable = true)\n",
            " |-- country: string (nullable = true)\n",
            " |-- date_added: string (nullable = true)\n",
            " |-- release_year: integer (nullable = true)\n",
            " |-- rating: string (nullable = true)\n",
            " |-- duration: string (nullable = true)\n",
            " |-- listed_in: string (nullable = true)\n",
            " |-- description: string (nullable = true)\n",
            "\n"
          ]
        }
      ]
    },
    {
      "cell_type": "markdown",
      "source": [
        "Aplicar el formaato correcto de fecha a los datasets"
      ],
      "metadata": {
        "id": "19nKaywI9ogC"
      }
    },
    {
      "cell_type": "code",
      "source": [
        "df = df.withColumn(\"date_added\", to_date(df[\"date_added\"], \"MMMM d, yyyy\"))\n",
        "dfd = dfd.withColumn(\"date_added\", to_date(dfd[\"date_added\"], \"MMMM d, yyyy\"))"
      ],
      "metadata": {
        "id": "O9b61pLzwc9l"
      },
      "execution_count": 23,
      "outputs": []
    },
    {
      "cell_type": "markdown",
      "source": [
        "Eliminar filas con datos nulos"
      ],
      "metadata": {
        "id": "b6yUqGnv9y1K"
      }
    },
    {
      "cell_type": "code",
      "source": [
        "#dfd = dfd.dropna() esta tiene muy pocos valores para borrarlos\n",
        "df = df.dropna()"
      ],
      "metadata": {
        "id": "xdmA8p5my3gM"
      },
      "execution_count": 24,
      "outputs": []
    },
    {
      "cell_type": "markdown",
      "source": [
        "Analisis previo de las columnas"
      ],
      "metadata": {
        "id": "O5QUnHne-LI6"
      }
    },
    {
      "cell_type": "code",
      "source": [
        "df.summary().show()"
      ],
      "metadata": {
        "id": "mEDvz3IPnKN2",
        "outputId": "f37cf4aa-c065-4650-9296-73bf93639118",
        "colab": {
          "base_uri": "https://localhost:8080/"
        }
      },
      "execution_count": 25,
      "outputs": [
        {
          "output_type": "stream",
          "name": "stdout",
          "text": [
            "+-------+-------+-----+--------------------+--------------------+-----------------------------+--------------------+------------------+--------+--------+--------------------+--------------------+\n",
            "|summary|show_id| type|               title|            director|                         cast|             country|      release_year|  rating|duration|           listed_in|         description|\n",
            "+-------+-------+-----+--------------------+--------------------+-----------------------------+--------------------+------------------+--------+--------+--------------------+--------------------+\n",
            "|  count|    817|  817|                 817|                 817|                          817|                 817|               817|     817|     817|                 817|                 817|\n",
            "|   mean|   NULL| NULL|                NULL|                NULL|                         NULL|                NULL|1999.7992656058752|    NULL|    NULL|                NULL|                NULL|\n",
            "| stddev|   NULL| NULL|                NULL|                NULL|                         NULL|                NULL|20.327137020741535|    NULL|    NULL|                NULL|                NULL|\n",
            "|    min|    s10|Movie|10 Things I Hate ...|Aaron Blaise, Rob...|         \"Kevin Jonas, Joe...|Australia, United...|              1928|       G|  10 min|Action-Adventure,...|\"\"\"Fauci\"\" reveal...|\n",
            "|    25%|   NULL| NULL|                NULL|                NULL|                         NULL|                NULL|            1995.0|    NULL|    NULL|                NULL|                NULL|\n",
            "|    50%|   NULL| NULL|                NULL|                NULL|                         NULL|                NULL|            2006.0|    NULL|    NULL|                NULL|                NULL|\n",
            "|    75%|   NULL| NULL|                NULL|                NULL|                         NULL|                NULL|            2014.0|    NULL|    NULL|                NULL|                NULL|\n",
            "|    max|   s999|Movie|            Zootopia|     朱家欣 , 钟智行|劳奕嘉 , 朱祺隆 , 郭凯敏 ,...|United States, Un...|              2021|TV-Y7-FV|  99 min|              Sports|“Timmy Failure” f...|\n",
            "+-------+-------+-----+--------------------+--------------------+-----------------------------+--------------------+------------------+--------+--------+--------------------+--------------------+\n",
            "\n"
          ]
        }
      ]
    },
    {
      "cell_type": "code",
      "source": [
        "dfd.summary().show()"
      ],
      "metadata": {
        "id": "f_I4dGJ3yfWr",
        "outputId": "98504029-f66c-4a87-9e9d-d44749626ce5",
        "colab": {
          "base_uri": "https://localhost:8080/"
        }
      },
      "execution_count": 26,
      "outputs": [
        {
          "output_type": "stream",
          "name": "stdout",
          "text": [
            "+-------+-------+-------+--------------------+--------------------+------------------------------+--------------------+------------------+---------------+-----------------+---------+--------------------+\n",
            "|summary|show_id|   type|               title|            director|                          cast|             country|      release_year|         rating|         duration|listed_in|         description|\n",
            "+-------+-------+-------+--------------------+--------------------+------------------------------+--------------------+------------------+---------------+-----------------+---------+--------------------+\n",
            "|  count|   1450|   1450|                1450|                 977|                          1260|                1232|              1447|           1447|             1450|     1449|                1450|\n",
            "|   mean|   NULL|   NULL|                NULL|                NULL|                          NULL|                NULL|2003.0587422252936|           NULL|           2020.0|   2016.0|                NULL|\n",
            "| stddev|   NULL|   NULL|                NULL|                NULL|                          NULL|                NULL|21.870580081600902|           NULL|             NULL|     NULL|                NULL|\n",
            "|    min|     s1|  Movie|\"Maggie Simpson i...|Aaron Blaise, Rob...|          \"Ashley Eckstein,...|    Bryce Papenbrook|              1928| Todd Haberkorn|   Max Mittelman\"|     2016|\"\"\"Fauci\"\" reveal...|\n",
            "|    25%|   NULL|   NULL|                NULL|                NULL|                          NULL|                NULL|              1999|           NULL|           2020.0|   2016.0|                NULL|\n",
            "|    50%|   NULL|   NULL|                NULL|                NULL|                          NULL|                NULL|              2011|           NULL|           2020.0|   2016.0|                NULL|\n",
            "|    75%|   NULL|   NULL|                NULL|                NULL|                          NULL|                NULL|              2018|           NULL|           2020.0|   2016.0|                NULL|\n",
            "|    max|   s999|TV Show|            Zootopia|     朱家欣 , 钟智行|英司 花輪, 一博 中谷, 康之 ...|United States, Un...|              2021|  United States|November 12, 2019|  Variety|“What If…?” flips...|\n",
            "+-------+-------+-------+--------------------+--------------------+------------------------------+--------------------+------------------+---------------+-----------------+---------+--------------------+\n",
            "\n"
          ]
        }
      ]
    },
    {
      "cell_type": "markdown",
      "source": [
        "\n",
        "1 ¿Cuál es la proporción entre películas y series en el catálogo de Disney+?\n"
      ],
      "metadata": {
        "id": "JM9CTHsssC2m"
      }
    },
    {
      "cell_type": "code",
      "source": [
        "conteo_tipo = dfd.groupBy(\"type\").count()\n",
        "\n",
        "conteo_tipo.show()\n",
        "\n",
        "total_movies = conteo_tipo.filter(col(\"type\") == \"Movie\").select(\"count\").collect()[0][0]\n",
        "total_shows = conteo_tipo.filter(col(\"type\") == \"TV Show\").select(\"count\").collect()[0][0]\n",
        "\n",
        "proporcion = total_movies / total_shows if total_shows != 0 else \"No hay series en el dataset\"\n",
        "print(f\"Proporción Películas/Series: {proporcion:.2f}\")\n",
        "\n",
        "#Respuesta: La proporcion entre peliculas y series esta en 1052 Peliculas y 398 series\n"
      ],
      "metadata": {
        "id": "737PXi0AsMm3",
        "colab": {
          "base_uri": "https://localhost:8080/"
        },
        "outputId": "366a6c43-6032-457d-e6fc-773bb5911999"
      },
      "execution_count": 27,
      "outputs": [
        {
          "output_type": "stream",
          "name": "stdout",
          "text": [
            "+-------+-----+\n",
            "|   type|count|\n",
            "+-------+-----+\n",
            "|TV Show|  398|\n",
            "|  Movie| 1052|\n",
            "+-------+-----+\n",
            "\n",
            "Proporción Películas/Series: 2.64\n"
          ]
        }
      ]
    },
    {
      "cell_type": "markdown",
      "source": [
        "2 ¿Qué países tienen el mayor número de producciones en Disney+?"
      ],
      "metadata": {
        "id": "qbE7jI1IDx_2"
      }
    },
    {
      "cell_type": "code",
      "source": [
        "\n",
        "disney_countries = dfd.withColumn(\"country\", split(col(\"country\"), \", \")) \\\n",
        "    .selectExpr(\"explode(country) as country\") \\\n",
        "    .groupBy(\"country\").count() \\\n",
        "    .orderBy(col(\"count\").desc())\n",
        "disney_countries.show(10)\n",
        "\n",
        "\n",
        "#El mayor numero de producciones de disney lo tiene Estados Unidos"
      ],
      "metadata": {
        "id": "hqpRvHVF0WxX",
        "colab": {
          "base_uri": "https://localhost:8080/"
        },
        "outputId": "21e2c99a-a90c-4f54-c156-2f3cce6c853e"
      },
      "execution_count": null,
      "outputs": [
        {
          "output_type": "stream",
          "name": "stdout",
          "text": [
            "+--------------+-----+\n",
            "|       country|count|\n",
            "+--------------+-----+\n",
            "| United States| 1182|\n",
            "|United Kingdom|  101|\n",
            "|        Canada|   77|\n",
            "|     Australia|   23|\n",
            "|        France|   22|\n",
            "|   South Korea|   13|\n",
            "|         China|   10|\n",
            "|         Japan|   10|\n",
            "|       Germany|    9|\n",
            "|       Ireland|    8|\n",
            "+--------------+-----+\n",
            "only showing top 10 rows\n",
            "\n"
          ]
        }
      ]
    },
    {
      "cell_type": "markdown",
      "source": [
        "¿Quiénes son los directores con más títulos en el catálogo de Disney+?"
      ],
      "metadata": {
        "id": "n0SG3nHqGPNA"
      }
    },
    {
      "cell_type": "code",
      "source": [
        "\n",
        "# 3.\n",
        "disney_directors = dfd.filter(col(\"director\").isNotNull()) \\\n",
        "    .groupBy(\"director\").count() \\\n",
        "    .orderBy(col(\"count\").desc())\n",
        "disney_directors.show(10)\n",
        "\n",
        "\n",
        "\n"
      ],
      "metadata": {
        "id": "L-chuqh20gIm",
        "colab": {
          "base_uri": "https://localhost:8080/"
        },
        "outputId": "6efa3f53-909a-47b9-ee4d-ecf9fc9b2811"
      },
      "execution_count": null,
      "outputs": [
        {
          "output_type": "stream",
          "name": "stdout",
          "text": [
            "+----------------+-----+\n",
            "|        director|count|\n",
            "+----------------+-----+\n",
            "|     Jack Hannah|   17|\n",
            "|   John Lasseter|   16|\n",
            "|       Paul Hoen|   16|\n",
            "| Charles Nichols|   12|\n",
            "|Robert Stevenson|   12|\n",
            "|Vincent McEveety|   10|\n",
            "|    Bob Peterson|   10|\n",
            "|     James Algar|    9|\n",
            "|    Kenny Ortega|    9|\n",
            "| Wilfred Jackson|    9|\n",
            "+----------------+-----+\n",
            "only showing top 10 rows\n",
            "\n"
          ]
        }
      ]
    },
    {
      "cell_type": "markdown",
      "source": [
        "¿Cómo ha cambiado el número de lanzamientos de contenido en Disney+ a lo largo de los años?"
      ],
      "metadata": {
        "id": "O1sA7mn8GSy_"
      }
    },
    {
      "cell_type": "code",
      "source": [
        "# 4.\n",
        "\n",
        "disney_years = dfd.withColumn(\"release_year\", col(\"release_year\")) \\\n",
        "    .groupBy(\"release_year\").count() \\\n",
        "    .orderBy(col(\"release_year\"))\n",
        "disney_years.show(99)\n"
      ],
      "metadata": {
        "id": "ci8VOks7BsYk",
        "colab": {
          "base_uri": "https://localhost:8080/"
        },
        "outputId": "49358dfe-4b80-441b-bf2f-d356e60bb8f9"
      },
      "execution_count": null,
      "outputs": [
        {
          "output_type": "stream",
          "name": "stdout",
          "text": [
            "+------------+-----+\n",
            "|release_year|count|\n",
            "+------------+-----+\n",
            "|        NULL|    3|\n",
            "|        1928|    1|\n",
            "|        1932|    3|\n",
            "|        1933|    3|\n",
            "|        1934|    4|\n",
            "|        1935|    4|\n",
            "|        1936|    6|\n",
            "|        1937|    6|\n",
            "|        1938|    5|\n",
            "|        1939|    5|\n",
            "|        1940|    7|\n",
            "|        1941|    7|\n",
            "|        1942|    6|\n",
            "|        1943|    2|\n",
            "|        1944|    1|\n",
            "|        1945|    1|\n",
            "|        1946|    2|\n",
            "|        1947|    5|\n",
            "|        1948|    5|\n",
            "|        1949|    5|\n",
            "|        1950|    6|\n",
            "|        1951|    4|\n",
            "|        1952|    8|\n",
            "|        1953|    6|\n",
            "|        1954|    4|\n",
            "|        1955|    9|\n",
            "|        1956|    4|\n",
            "|        1957|    4|\n",
            "|        1959|    5|\n",
            "|        1960|    3|\n",
            "|        1961|    5|\n",
            "|        1962|    3|\n",
            "|        1963|    3|\n",
            "|        1964|    3|\n",
            "|        1965|    3|\n",
            "|        1966|    2|\n",
            "|        1967|    2|\n",
            "|        1968|    1|\n",
            "|        1969|    4|\n",
            "|        1970|    1|\n",
            "|        1971|    3|\n",
            "|        1972|    3|\n",
            "|        1973|    2|\n",
            "|        1974|    4|\n",
            "|        1975|    4|\n",
            "|        1976|    4|\n",
            "|        1977|    6|\n",
            "|        1978|    4|\n",
            "|        1979|    5|\n",
            "|        1980|    4|\n",
            "|        1981|    3|\n",
            "|        1982|    2|\n",
            "|        1983|    2|\n",
            "|        1984|    4|\n",
            "|        1985|    8|\n",
            "|        1986|    7|\n",
            "|        1987|    6|\n",
            "|        1988|    6|\n",
            "|        1989|    7|\n",
            "|        1990|    5|\n",
            "|        1991|    6|\n",
            "|        1992|   10|\n",
            "|        1993|   14|\n",
            "|        1994|   14|\n",
            "|        1995|   13|\n",
            "|        1996|   17|\n",
            "|        1997|   17|\n",
            "|        1998|   20|\n",
            "|        1999|   22|\n",
            "|        2000|   26|\n",
            "|        2001|   18|\n",
            "|        2002|   21|\n",
            "|        2003|   29|\n",
            "|        2004|   28|\n",
            "|        2005|   32|\n",
            "|        2006|   32|\n",
            "|        2007|   23|\n",
            "|        2008|   33|\n",
            "|        2009|   35|\n",
            "|        2010|   39|\n",
            "|        2011|   52|\n",
            "|        2012|   41|\n",
            "|        2013|   32|\n",
            "|        2014|   50|\n",
            "|        2015|   46|\n",
            "|        2016|   60|\n",
            "|        2017|   69|\n",
            "|        2018|   65|\n",
            "|        2019|   99|\n",
            "|        2020|  113|\n",
            "|        2021|  124|\n",
            "+------------+-----+\n",
            "\n"
          ]
        }
      ]
    },
    {
      "cell_type": "markdown",
      "source": [
        "¿Cuál es la duración promedio de las películas en Disney+?"
      ],
      "metadata": {
        "id": "qU2_jVXcGZ-P"
      }
    },
    {
      "cell_type": "code",
      "source": [
        "\n",
        "#5\n",
        "\n",
        "disney_movies = dfd.filter(col(\"type\") == \"Movie\")\n",
        "\n",
        "disney_movies = disney_movies.filter(col(\"duration\").isNotNull())\n",
        "\n",
        "disney_movies = disney_movies.withColumn(\"duration\", regexp_extract(col(\"duration\"), r\"(\\d+)\", 1).cast(\"int\"))\n",
        "\n",
        "disney_movies.select(avg(\"duration\").alias(\"Promedio_Duracion_Minutos\")).show()\n",
        "\n",
        "\n"
      ],
      "metadata": {
        "id": "0RImswLEB44X",
        "colab": {
          "base_uri": "https://localhost:8080/",
          "height": 211
        },
        "outputId": "348fefa2-fde4-45d9-8a10-b42219ba5127"
      },
      "execution_count": null,
      "outputs": [
        {
          "output_type": "error",
          "ename": "NameError",
          "evalue": "name 'regexp_extract' is not defined",
          "traceback": [
            "\u001b[0;31m---------------------------------------------------------------------------\u001b[0m",
            "\u001b[0;31mNameError\u001b[0m                                 Traceback (most recent call last)",
            "\u001b[0;32m<ipython-input-242-563c29b40507>\u001b[0m in \u001b[0;36m<cell line: 0>\u001b[0;34m()\u001b[0m\n\u001b[1;32m      5\u001b[0m \u001b[0mdisney_movies\u001b[0m \u001b[0;34m=\u001b[0m \u001b[0mdisney_movies\u001b[0m\u001b[0;34m.\u001b[0m\u001b[0mfilter\u001b[0m\u001b[0;34m(\u001b[0m\u001b[0mcol\u001b[0m\u001b[0;34m(\u001b[0m\u001b[0;34m\"duration\"\u001b[0m\u001b[0;34m)\u001b[0m\u001b[0;34m.\u001b[0m\u001b[0misNotNull\u001b[0m\u001b[0;34m(\u001b[0m\u001b[0;34m)\u001b[0m\u001b[0;34m)\u001b[0m\u001b[0;34m\u001b[0m\u001b[0;34m\u001b[0m\u001b[0m\n\u001b[1;32m      6\u001b[0m \u001b[0;34m\u001b[0m\u001b[0m\n\u001b[0;32m----> 7\u001b[0;31m \u001b[0mdisney_movies\u001b[0m \u001b[0;34m=\u001b[0m \u001b[0mdisney_movies\u001b[0m\u001b[0;34m.\u001b[0m\u001b[0mwithColumn\u001b[0m\u001b[0;34m(\u001b[0m\u001b[0;34m\"duration\"\u001b[0m\u001b[0;34m,\u001b[0m \u001b[0mregexp_extract\u001b[0m\u001b[0;34m(\u001b[0m\u001b[0mcol\u001b[0m\u001b[0;34m(\u001b[0m\u001b[0;34m\"duration\"\u001b[0m\u001b[0;34m)\u001b[0m\u001b[0;34m,\u001b[0m \u001b[0;34mr\"(\\d+)\"\u001b[0m\u001b[0;34m,\u001b[0m \u001b[0;36m1\u001b[0m\u001b[0;34m)\u001b[0m\u001b[0;34m.\u001b[0m\u001b[0mcast\u001b[0m\u001b[0;34m(\u001b[0m\u001b[0;34m\"int\"\u001b[0m\u001b[0;34m)\u001b[0m\u001b[0;34m)\u001b[0m\u001b[0;34m\u001b[0m\u001b[0;34m\u001b[0m\u001b[0m\n\u001b[0m\u001b[1;32m      8\u001b[0m \u001b[0;34m\u001b[0m\u001b[0m\n\u001b[1;32m      9\u001b[0m \u001b[0mdisney_movies\u001b[0m\u001b[0;34m.\u001b[0m\u001b[0mselect\u001b[0m\u001b[0;34m(\u001b[0m\u001b[0mavg\u001b[0m\u001b[0;34m(\u001b[0m\u001b[0;34m\"duration\"\u001b[0m\u001b[0;34m)\u001b[0m\u001b[0;34m.\u001b[0m\u001b[0malias\u001b[0m\u001b[0;34m(\u001b[0m\u001b[0;34m\"Promedio_Duracion_Minutos\"\u001b[0m\u001b[0;34m)\u001b[0m\u001b[0;34m)\u001b[0m\u001b[0;34m.\u001b[0m\u001b[0mshow\u001b[0m\u001b[0;34m(\u001b[0m\u001b[0;34m)\u001b[0m\u001b[0;34m\u001b[0m\u001b[0;34m\u001b[0m\u001b[0m\n",
            "\u001b[0;31mNameError\u001b[0m: name 'regexp_extract' is not defined"
          ]
        }
      ]
    },
    {
      "cell_type": "markdown",
      "source": [
        " 7 ¿Cuáles son los géneros más comunes en el catálogo de Disney+?\n"
      ],
      "metadata": {
        "id": "OwEpOzgPGjjP"
      }
    },
    {
      "cell_type": "code",
      "source": [
        "\n",
        "#7\n",
        "\n",
        "\n",
        "disney_genres = dfd.withColumn(\"listed_in\", split(col(\"listed_in\"), \", \")) \\\n",
        "    .selectExpr(\"explode(listed_in) as genre\") \\\n",
        "    .groupBy(\"genre\").count() \\\n",
        "    .orderBy(col(\"count\").desc())\n",
        "disney_genres.show(10)\n"
      ],
      "metadata": {
        "id": "RzuAoCZLCQIg",
        "colab": {
          "base_uri": "https://localhost:8080/"
        },
        "outputId": "34289065-dd7a-4414-ad8c-5a3568a246a1"
      },
      "execution_count": null,
      "outputs": [
        {
          "output_type": "stream",
          "name": "stdout",
          "text": [
            "+----------------+-----+\n",
            "|           genre|count|\n",
            "+----------------+-----+\n",
            "|          Family|  631|\n",
            "|       Animation|  539|\n",
            "|          Comedy|  525|\n",
            "|Action-Adventure|  451|\n",
            "|Animals & Nature|  208|\n",
            "|   Coming of Age|  205|\n",
            "|         Fantasy|  191|\n",
            "|     Documentary|  174|\n",
            "|            Kids|  141|\n",
            "|           Drama|  134|\n",
            "+----------------+-----+\n",
            "only showing top 10 rows\n",
            "\n"
          ]
        }
      ]
    },
    {
      "cell_type": "markdown",
      "source": [],
      "metadata": {
        "id": "YrgGAoRxGoLw"
      }
    },
    {
      "cell_type": "code",
      "source": [
        "#8\n",
        "\n",
        "disney_us = dfd.filter(col(\"country\").contains(\"United States\")).count()\n",
        "disney_total = dfd.count()\n",
        "print(f\"Proporción de contenido internacional en Disney+: {1 - (disney_us / disney_total):.2%}\")\n"
      ],
      "metadata": {
        "id": "42_TLk4SCW7n",
        "colab": {
          "base_uri": "https://localhost:8080/"
        },
        "outputId": "a0bb1553-b3d8-49d7-9868-18a0d76f5e8f"
      },
      "execution_count": null,
      "outputs": [
        {
          "output_type": "stream",
          "name": "stdout",
          "text": [
            "Proporción de contenido internacional en Disney+: 18.48%\n"
          ]
        }
      ]
    },
    {
      "cell_type": "markdown",
      "source": [
        "# Dataset Netflix\n",
        "\n",
        "Proporcion peliculas y series\n"
      ],
      "metadata": {
        "id": "KryAmW4T-48r"
      }
    },
    {
      "cell_type": "code",
      "source": [
        "#9\n",
        "conteo_tipo = df.groupBy(\"type\").count()\n",
        "\n",
        "conteo_tipo.show()\n",
        "\n",
        "total_movies = conteo_tipo.filter(col(\"type\") == \"Movie\").select(\"count\").collect()[0][0]\n",
        "total_shows = conteo_tipo.filter(col(\"type\") == \"TV Show\").select(\"count\").collect()[0][0]\n",
        "\n",
        "proporcion = total_movies / total_shows if total_shows != 0 else \"No hay series en el dataset\"\n",
        "print(f\"Proporción Películas/Series: {proporcion:.2f}\")"
      ],
      "metadata": {
        "id": "KrNOaqMI-3xc"
      },
      "execution_count": null,
      "outputs": []
    },
    {
      "cell_type": "code",
      "source": [
        "#10\n",
        "netflix_countries = df.withColumn(\"country\", split(col(\"country\"), \", \")) \\\n",
        "    .selectExpr(\"explode(country) as country\") \\\n",
        "    .groupBy(\"country\").count() \\\n",
        "    .orderBy(col(\"count\").desc())\n",
        "netflix_countries.show(10)\n",
        "\n"
      ],
      "metadata": {
        "id": "32kGYI5lC0dA"
      },
      "execution_count": null,
      "outputs": []
    },
    {
      "cell_type": "code",
      "source": [
        "#11\n",
        "netflix_years = df.withColumn(\"release_year\", col(\"release_year\")) \\\n",
        "    .groupBy(\"release_year\").count() \\\n",
        "    .orderBy(col(\"release_year\"))\n",
        "netflix_years.show(10)\n"
      ],
      "metadata": {
        "id": "ltWpdXJ6C_el"
      },
      "execution_count": null,
      "outputs": []
    },
    {
      "cell_type": "code",
      "source": [
        "#12\n",
        "netflix_series = df.filter(col(\"type\") == \"TV Show\")\n",
        "\n",
        "netflix_series = netflix_series.filter(col(\"duration\").isNotNull())\n",
        "\n",
        "netflix_series = netflix_series.withColumn(\"duration\", regexp_extract(col(\"duration\"), r\"(\\d+)\", 1).cast(\"int\"))\n",
        "\n",
        "netflix_series.select(avg(\"duration\").alias(\"Promedio_Temporadas\")).show()\n"
      ],
      "metadata": {
        "id": "uGzuy0O7DFs3",
        "colab": {
          "base_uri": "https://localhost:8080/"
        },
        "outputId": "3271b9c5-fbe1-4278-8d10-d4466b5bbb59"
      },
      "execution_count": null,
      "outputs": [
        {
          "output_type": "stream",
          "name": "stdout",
          "text": [
            "+-------------------+\n",
            "|Promedio_Temporadas|\n",
            "+-------------------+\n",
            "| 1.7700074794315632|\n",
            "+-------------------+\n",
            "\n"
          ]
        }
      ]
    },
    {
      "cell_type": "code",
      "source": [
        "#13\n",
        "print(f\"Proporción de contenido producido en EE.UU. en Disney+: {disney_us / disney_total:.2%}\")\n"
      ],
      "metadata": {
        "id": "DeA0N5AbDK47",
        "colab": {
          "base_uri": "https://localhost:8080/"
        },
        "outputId": "83984819-a629-4c74-980d-12dc711f246c"
      },
      "execution_count": null,
      "outputs": [
        {
          "output_type": "stream",
          "name": "stdout",
          "text": [
            "Proporción de contenido producido en EE.UU. en Disney+: 81.52%\n"
          ]
        }
      ]
    },
    {
      "cell_type": "code",
      "source": [
        "#14\n",
        "netflix_actors = df.withColumn(\"cast\", split(col(\"cast\"), \", \")) \\\n",
        "    .selectExpr(\"explode(cast) as actor\") \\\n",
        "    .groupBy(\"actor\").count() \\\n",
        "    .orderBy(col(\"count\").desc())\n",
        "netflix_actors.show(10)\n"
      ],
      "metadata": {
        "id": "yX9KV1UDDPfV",
        "colab": {
          "base_uri": "https://localhost:8080/"
        },
        "outputId": "02b153b7-ebaf-4f23-d3b1-fc10790c724f"
      },
      "execution_count": null,
      "outputs": [
        {
          "output_type": "stream",
          "name": "stdout",
          "text": [
            "+----------------+-----+\n",
            "|           actor|count|\n",
            "+----------------+-----+\n",
            "|     Anupam Kher|   43|\n",
            "|  Shah Rukh Khan|   35|\n",
            "|   Julie Tejwani|   33|\n",
            "|Takahiro Sakurai|   32|\n",
            "|Naseeruddin Shah|   32|\n",
            "|    Rupa Bhimani|   31|\n",
            "|    Akshay Kumar|   30|\n",
            "|         Om Puri|   30|\n",
            "|       Yuki Kaji|   29|\n",
            "|Amitabh Bachchan|   28|\n",
            "+----------------+-----+\n",
            "only showing top 10 rows\n",
            "\n"
          ]
        }
      ]
    }
  ]
}