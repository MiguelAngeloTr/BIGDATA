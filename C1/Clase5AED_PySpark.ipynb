{
  "nbformat": 4,
  "nbformat_minor": 0,
  "metadata": {
    "colab": {
      "provenance": [],
      "collapsed_sections": [
        "7AYS0MlUvfrI",
        "WNaboQo22HOW",
        "2fj4XecA5nX_",
        "D6Syynf5QCxB",
        "0k8qNqs2T2a0"
      ],
      "include_colab_link": true
    },
    "kernelspec": {
      "name": "python3",
      "display_name": "Python 3"
    },
    "language_info": {
      "name": "python"
    }
  },
  "cells": [
    {
      "cell_type": "markdown",
      "metadata": {
        "id": "view-in-github",
        "colab_type": "text"
      },
      "source": [
        "<a href=\"https://colab.research.google.com/github/MiguelAngeloTr/BIGDATA/blob/main/C1/Clase5AED_PySpark.ipynb\" target=\"_parent\"><img src=\"https://colab.research.google.com/assets/colab-badge.svg\" alt=\"Open In Colab\"/></a>"
      ]
    },
    {
      "cell_type": "code",
      "source": [
        "!pip install -q pyspark\n",
        "!pip install -q findspark"
      ],
      "metadata": {
        "id": "eX_Ip0m16P9C"
      },
      "execution_count": null,
      "outputs": []
    },
    {
      "cell_type": "code",
      "source": [
        "import pandas as pd\n",
        "import numpy as np\n",
        "from pyspark.sql import SparkSession\n",
        "import pyspark.sql.functions as F\n",
        "import pyspark.sql.window as W\n",
        "import pyspark.sql.types as T\n",
        "import seaborn as sns\n",
        "import matplotlib.pyplot as plt"
      ],
      "metadata": {
        "id": "JYdWQkIb7Zv0"
      },
      "execution_count": null,
      "outputs": []
    },
    {
      "cell_type": "code",
      "metadata": {
        "id": "hcOCBgQo2Pqf"
      },
      "source": [
        "spark = SparkSession.builder.appName(\"AED PySpark\").getOrCreate()\n",
        "spark"
      ],
      "execution_count": null,
      "outputs": []
    },
    {
      "cell_type": "code",
      "source": [
        "df = spark.read.csv('/content/titanic.csv', header=True, inferSchema=True)\n",
        "print('Shape of the dataset: ', (df.count(), len(df.columns)))\n",
        "df.show(n=10)"
      ],
      "metadata": {
        "id": "L4uLXJfQ70K6"
      },
      "execution_count": null,
      "outputs": []
    },
    {
      "cell_type": "code",
      "source": [
        "df.columns"
      ],
      "metadata": {
        "id": "_eszJxuO8eEI"
      },
      "execution_count": null,
      "outputs": []
    },
    {
      "cell_type": "code",
      "metadata": {
        "id": "t-PgzP3IjZsV"
      },
      "source": [
        "#Viewing the dataframe schema\n",
        "df.printSchema()"
      ],
      "execution_count": null,
      "outputs": []
    },
    {
      "cell_type": "code",
      "source": [
        "df.describe().show()"
      ],
      "metadata": {
        "id": "0xyk7UVp82kQ"
      },
      "execution_count": null,
      "outputs": []
    },
    {
      "cell_type": "markdown",
      "source": [
        "# Manejo de datos faltantes"
      ],
      "metadata": {
        "id": "hxFfQuXNjw0V"
      }
    },
    {
      "cell_type": "code",
      "source": [
        "def faltantes(df):\n",
        "  falta = df.select([F.sum(F.col(c).isNull().cast('int')).alias(c) for c in df.columns])\n",
        "  return falta.show()"
      ],
      "metadata": {
        "id": "bteUaGvrh3Kc"
      },
      "execution_count": null,
      "outputs": []
    },
    {
      "cell_type": "code",
      "source": [
        "faltantes(df)"
      ],
      "metadata": {
        "id": "KPf-e53LdG9C"
      },
      "execution_count": null,
      "outputs": []
    },
    {
      "cell_type": "code",
      "source": [
        "df_f1 = df.drop(\"Cabin\",\"PassengerId\",'Name')\n",
        "faltantes(df_f1)\n",
        "print('Shape of the dataset: ', (df_f1.count(), len(df_f1.columns)))"
      ],
      "metadata": {
        "id": "dI1VoUZ4ir-4"
      },
      "execution_count": null,
      "outputs": []
    },
    {
      "cell_type": "code",
      "source": [
        "df_f2 = df_f1.na.drop()\n",
        "#df_f2 = df_f1.na.fill(0)\n",
        "faltantes(df_f2)\n",
        "print('Shape of the dataset: ', (df_f2.count(), len(df_f2.columns)))"
      ],
      "metadata": {
        "id": "vnqymeALkuKB"
      },
      "execution_count": null,
      "outputs": []
    },
    {
      "cell_type": "markdown",
      "source": [
        "# Algunas Consultas"
      ],
      "metadata": {
        "id": "_0ksb7AuUgx5"
      }
    },
    {
      "cell_type": "markdown",
      "source": [
        "## 1. Cuantas personas por clase y lugar de abordaje ingresaron al barco?"
      ],
      "metadata": {
        "id": "G1LgZioMUjoI"
      }
    },
    {
      "cell_type": "code",
      "source": [
        "res = df_f2.groupby(\"PClass\",\"Embarked\").count().orderBy(\"Pclass\", \"Embarked\")\n",
        "window = W.Window.partitionBy(\"Pclass\").orderBy(\"Embarked\")\n",
        "result = res.withColumn(\"row\", F.row_number().over(window)) \\\n",
        "               .withColumn(\"Pclass\", F.when(F.col(\"row\") == 1, F.col(\"Pclass\")).otherwise(F.lit(\"\"))) \\\n",
        "#               .drop(\"row\")\n",
        "\n",
        "# Mostrar el resultado\n",
        "res.show()\n",
        "#result.show(truncate=False)"
      ],
      "metadata": {
        "id": "WHBDDETGk-Iw"
      },
      "execution_count": null,
      "outputs": []
    },
    {
      "cell_type": "markdown",
      "source": [
        "## 2. Cuál es la edad promedio por sexo en cada clase en el barco?"
      ],
      "metadata": {
        "id": "DPDqWJjCUwbP"
      }
    },
    {
      "cell_type": "code",
      "source": [
        "res = df_f2.groupby('Pclass', 'Sex').agg(F.mean('Age').alias('mean_Age')).orderBy('Pclass', 'Sex')\n",
        "window = W.Window.partitionBy(\"Pclass\").orderBy(\"Sex\")\n",
        "result = res.withColumn(\"row\", F.row_number().over(window)) \\\n",
        "               .withColumn(\"Pclass\", F.when(F.col(\"row\") == 1, F.col(\"Pclass\")).otherwise(F.lit(\"\"))) \\\n",
        "               .drop(\"row\")\n",
        "result.show(truncate=False)"
      ],
      "metadata": {
        "id": "zzWrE9SPBwQ6"
      },
      "execution_count": null,
      "outputs": []
    },
    {
      "cell_type": "markdown",
      "source": [
        "## 3. Cuál es el costo promedio del tiquete por sexo en cada clase en el barco?"
      ],
      "metadata": {
        "id": "fJz7oMh0VAvr"
      }
    },
    {
      "cell_type": "code",
      "source": [
        "res = df_f2.groupby('Pclass', 'Sex').agg(F.mean('Fare').alias('mean_Fare')).orderBy('Pclass', 'Sex')\n",
        "window = W.Window.partitionBy(\"Pclass\").orderBy(\"Sex\")\n",
        "result = res.withColumn(\"row\", F.row_number().over(window)) \\\n",
        "               .withColumn(\"Pclass\", F.when(F.col(\"row\") == 1, F.col(\"Pclass\")).otherwise(F.lit(\"\"))) \\\n",
        "               .drop(\"row\")\n",
        "result.show(truncate=False)"
      ],
      "metadata": {
        "id": "r3Zn8hD_VACY"
      },
      "execution_count": null,
      "outputs": []
    },
    {
      "cell_type": "markdown",
      "source": [
        "# Recodificación de Variables"
      ],
      "metadata": {
        "id": "7dzmUcpvU5NI"
      }
    },
    {
      "cell_type": "markdown",
      "source": [
        "## Creación de una variable Age_class, la cual a partir de la columna edad existente se obtenga una variable a partir de rangos de edad"
      ],
      "metadata": {
        "id": "URHQoZ5EW5cH"
      }
    },
    {
      "cell_type": "code",
      "source": [
        "def age_condition(x):\n",
        "    if x<18:\n",
        "        return \"18-\"\n",
        "    elif 18 <= x <= 25:\n",
        "        return \"18-25\"\n",
        "    elif 25 <= x <= 34:\n",
        "        return \"25-34\"\n",
        "    elif 35 <= x <= 44:\n",
        "        return \"35-44\"\n",
        "    elif 45 <= x <= 54:\n",
        "        return \"45-54\"\n",
        "    else:\n",
        "        return \"55+\""
      ],
      "metadata": {
        "id": "qhZQ8OAyOwzR"
      },
      "execution_count": null,
      "outputs": []
    },
    {
      "cell_type": "code",
      "source": [
        "age_udf = F.udf(lambda x: age_condition(x), T.StringType())\n",
        "df_f3 = df_f2.withColumn(\"age_class\", age_udf(\"Age\"))\n",
        "df_f3.show(5)"
      ],
      "metadata": {
        "id": "xJF00Mh1Pakb"
      },
      "execution_count": null,
      "outputs": []
    },
    {
      "cell_type": "markdown",
      "source": [
        "## 4. Realice de forma detallada por rango de edad, cuantas personas ingresaron en el barco y que porcentaje representan. Ademas, cual fue el costo máximo, mínimo y promedio de los tiquetes en cada caso"
      ],
      "metadata": {
        "id": "d3vLPBfHVWqI"
      }
    },
    {
      "cell_type": "code",
      "source": [
        "window = W.Window.rowsBetween(W.Window.unboundedPreceding,W.Window.unboundedFollowing)\n",
        "tab = df_f3.select(['age_class','Fare']).\\\n",
        "      groupBy('age_class').\\\n",
        "      agg(F.count('Fare').alias('Quantity'),\n",
        "      F.mean('Fare').alias('Fare_avg'),\n",
        "      F.min('Fare').alias('Fare_min'),\n",
        "      F.max('Fare').alias('Fare_max')).\\\n",
        "      withColumn('Total',F.sum(F.col('Quantity')).over(window)).\\\n",
        "      withColumn('Percent',F.col('Quantity')*100/F.col('Total')).\\\n",
        "      drop(F.col('Total')).orderBy(\"age_class\")\n",
        "tab.show()"
      ],
      "metadata": {
        "id": "2z3EguE0P8Gs"
      },
      "execution_count": null,
      "outputs": []
    },
    {
      "cell_type": "markdown",
      "source": [
        "## ¿Como la tabla anterior podría ser desagregada por clase (primera, segunda y tercera clase)?"
      ],
      "metadata": {
        "id": "9PzCW_nYTD3k"
      }
    },
    {
      "cell_type": "code",
      "source": [],
      "metadata": {
        "id": "7R5FQavpXb6d"
      },
      "execution_count": null,
      "outputs": []
    },
    {
      "cell_type": "markdown",
      "source": [
        "# Gráficos: Cajas e Histogramas"
      ],
      "metadata": {
        "id": "aIU7lPViUb55"
      }
    },
    {
      "cell_type": "code",
      "source": [
        "df_Age = df_f2.select('Age').toPandas()\n",
        "df.select(F.skewness('Age'),F.kurtosis('Age')).show()\n",
        "plt.figure(figsize=(7, 4))\n",
        "plt.subplot(1, 2, 1)\n",
        "sns.histplot(df_Age, kde=True, bins=10, color='blue')\n",
        "plt.title('Histograma')\n",
        "\n",
        "# Diagrama de caja (boxplot)\n",
        "plt.subplot(1, 2, 2)\n",
        "sns.boxplot(df_Age, color='orange')\n",
        "plt.title('Diagrama de Caja')\n",
        "\n",
        "# Mostrar los gráficos\n",
        "plt.tight_layout()\n",
        "plt.show()"
      ],
      "metadata": {
        "id": "PVmw7SRiFkhH"
      },
      "execution_count": null,
      "outputs": []
    },
    {
      "cell_type": "code",
      "source": [
        "df_Fare = np.log1p(df_f2.select('Fare').toPandas())\n",
        "df.select(F.skewness('Fare'),F.kurtosis('Fare')).show()\n",
        "plt.figure(figsize=(7, 4))\n",
        "plt.subplot(1, 2, 1)\n",
        "sns.histplot(df_Fare, kde=True, bins=10, color='blue')\n",
        "plt.title('Histograma')\n",
        "\n",
        "plt.subplot(1, 2, 2)\n",
        "sns.boxplot(df_Fare, color='orange')\n",
        "plt.title('Diagrama de Caja')\n",
        "\n",
        "plt.tight_layout()\n",
        "plt.show()"
      ],
      "metadata": {
        "id": "F163mLrDLG3M"
      },
      "execution_count": null,
      "outputs": []
    },
    {
      "cell_type": "markdown",
      "source": [
        "## Cual fue el costo del tiquete en relacion a la clase en el barco?"
      ],
      "metadata": {
        "id": "wj3JiSRcWcmP"
      }
    },
    {
      "cell_type": "code",
      "source": [
        "df_class_fare = df_f2.select('Pclass','Fare').toPandas()\n",
        "sns.boxplot(x='Pclass', y='Fare', data=df_class_fare, hue='Pclass')"
      ],
      "metadata": {
        "id": "oFrieGIvNkfh"
      },
      "execution_count": null,
      "outputs": []
    },
    {
      "cell_type": "markdown",
      "source": [
        "## Cual fue la proporción de hombres y mujeres en el barco?"
      ],
      "metadata": {
        "id": "oAfeXl5kWA76"
      }
    },
    {
      "cell_type": "code",
      "source": [
        "df_Sex = df_f3.select('Sex','age_class').toPandas()\n",
        "plt.figure(figsize=(7, 5))\n",
        "sns.countplot(x='Sex', data=df_Sex, hue='age_class')\n",
        "plt.show()"
      ],
      "metadata": {
        "id": "TCPZ23F9HKQ-"
      },
      "execution_count": null,
      "outputs": []
    },
    {
      "cell_type": "markdown",
      "source": [
        "## Existe alguna relación entre la edad y el costo del tiquete para el pasajero?"
      ],
      "metadata": {
        "id": "ThmV2CWCWFt3"
      }
    },
    {
      "cell_type": "code",
      "source": [
        "df_fare = df_f2.select('Age','Fare','Sex').toPandas()\n",
        "plt.figure(figsize=(7, 5))\n",
        "sns.scatterplot(x='Age', y='Fare', data=df_fare, hue='Sex')\n",
        "plt.show()"
      ],
      "metadata": {
        "id": "tTxQz2bLJP1q"
      },
      "execution_count": null,
      "outputs": []
    },
    {
      "cell_type": "markdown",
      "source": [
        "## Que variables tuvieron relación con la superviviencia de las personas en el barco?"
      ],
      "metadata": {
        "id": "L3vsZfhAV1xg"
      }
    },
    {
      "cell_type": "code",
      "source": [
        "df_full = df_f2.select('Age','Fare','SibSp','Parch','PClass','Survived').toPandas()\n",
        "sns.heatmap(df_full.corr(), annot=True)\n",
        "plt.show()"
      ],
      "metadata": {
        "id": "LUkKSR8AMjlb"
      },
      "execution_count": null,
      "outputs": []
    }
  ]
}