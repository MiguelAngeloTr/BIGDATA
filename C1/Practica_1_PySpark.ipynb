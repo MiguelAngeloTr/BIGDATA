{
  "nbformat": 4,
  "nbformat_minor": 0,
  "metadata": {
    "colab": {
      "provenance": [],
      "include_colab_link": true
    },
    "kernelspec": {
      "name": "python3",
      "display_name": "Python 3"
    },
    "language_info": {
      "name": "python"
    }
  },
  "cells": [
    {
      "cell_type": "markdown",
      "metadata": {
        "id": "view-in-github",
        "colab_type": "text"
      },
      "source": [
        "<a href=\"https://colab.research.google.com/github/MiguelAngeloTr/BIGDATA/blob/main/C1/Practica_1_PySpark.ipynb\" target=\"_parent\"><img src=\"https://colab.research.google.com/assets/colab-badge.svg\" alt=\"Open In Colab\"/></a>"
      ]
    },
    {
      "cell_type": "markdown",
      "source": [
        "# 1. Primeros pasos\n",
        "\n",
        "En este notebook haremos una revisión de los conceptos básicos de Spark con Python."
      ],
      "metadata": {
        "id": "c0bhC0IedROg"
      }
    },
    {
      "cell_type": "markdown",
      "source": [
        "## 1.1 Introduccion\n",
        "\n",
        "### _¿Qué es Apache Spark?_\n",
        "\n",
        "Apache spark es un _framework_ de programación para el procesamiento de datos distribuidos (computacion en cluster) _open source_. Spark fue originalmente desarrolado por la Universidad de California Berkeley quien posteriomente donó el codigo del proyecto a la _Apache Software Foundation_, quien desde entonces se encarga de su mantenimiento.\n",
        "\n",
        "Spark proporciona APIs para ser empleado en conjunto con lenguajes de programación como Java, Python, Scala y R. Además, cuenta con herramientas para la realización de tareas de alto nivel como Spark SQL (para el procesamiento de datos estructurados basado en SQL), MLlib (para la implementación de modelos de aprendizaje máquina), GraphX (para el procesamiento de grafos), etc.\n",
        "\n",
        "### _¿Qué es PySpark?_\n",
        "\n",
        "PySpark es una herramienta que nos deja usar Spark encima de Python. Permitiendonos combinar el proceso de datos distribuidos de Spark con la simplicidad de Python para el análisis de conjuntos masivos de datos (_big data_).\n",
        "\n",
        "###¿Cómo usar PySpark en Google Colab?\n",
        "\n",
        "Instalar PySpark y usarlo dentro de un Jupyter notebooks requiere de un poco más que solo correr `pip install pyspark` en la terminal. Para tratar de darle la vuelta al problema de la instalación de nuestro entorno de programación usaremos Colab, que nos proprociona un entorno _más controlado_ en el cual podemos instalar las bibliotecas necesarias de una forma más facil.\n",
        "\n",
        "Sin embargo, si el lector requiere hacer una instalación de PySpark de forma local, los siguientes links pueden ser de ayuda:\n",
        "\n",
        "* [macOS](https://medium.com/@yajieli/installing-spark-pyspark-on-mac-and-fix-of-some-common-errors-355a9050f735)\n",
        "* [Windows](https://changhsinlee.com/install-pyspark-windows-jupyter/)\n",
        "* [Linux](https://py.plainenglish.io/apache-spark-using-jupyter-in-linux-installation-and-setup-b2cacc6c7701)\n",
        "\n",
        "\n",
        "En Colab podemos configurar nuestro ambiente de desarrollo simplemente ejecutando el contenido de la siguiente celda"
      ],
      "metadata": {
        "id": "NH748vfvFpB0"
      }
    },
    {
      "cell_type": "markdown",
      "source": [
        "Para empezar a hacer uso de PySpark es necesario crear una `SparkSession`, dicho objeto es el que nos permitira crear RDDs o DataFrames, que son los objetos con los que más estaremos trabajando"
      ],
      "metadata": {
        "id": "Fa8-qXhrdX8I"
      }
    },
    {
      "cell_type": "markdown",
      "source": [
        "### 1.1.1 Instalación"
      ],
      "metadata": {
        "id": "QOqAU2UDFsyq"
      }
    },
    {
      "cell_type": "code",
      "execution_count": null,
      "metadata": {
        "id": "a--_rYordMlR",
        "colab": {
          "base_uri": "https://localhost:8080/"
        },
        "outputId": "d883d815-e6a0-4b2e-f0ed-f9656e94e2b1"
      },
      "outputs": [
        {
          "output_type": "stream",
          "name": "stdout",
          "text": [
            "Collecting pyspark\n",
            "  Downloading pyspark-3.5.1.tar.gz (317.0 MB)\n",
            "\u001b[2K     \u001b[90m━━━━━━━━━━━━━━━━━━━━━━━━━━━━━━━━━━━━━━━━\u001b[0m \u001b[32m317.0/317.0 MB\u001b[0m \u001b[31m4.3 MB/s\u001b[0m eta \u001b[36m0:00:00\u001b[0m\n",
            "\u001b[?25h  Preparing metadata (setup.py) ... \u001b[?25l\u001b[?25hdone\n",
            "Requirement already satisfied: py4j==0.10.9.7 in /usr/local/lib/python3.10/dist-packages (from pyspark) (0.10.9.7)\n",
            "Building wheels for collected packages: pyspark\n",
            "  Building wheel for pyspark (setup.py) ... \u001b[?25l\u001b[?25hdone\n",
            "  Created wheel for pyspark: filename=pyspark-3.5.1-py2.py3-none-any.whl size=317488490 sha256=a7fbcc47478a4f3b79f02d41611503d8cc87dc3b7b2a6363d103953f1d42acee\n",
            "  Stored in directory: /root/.cache/pip/wheels/80/1d/60/2c256ed38dddce2fdd93be545214a63e02fbd8d74fb0b7f3a6\n",
            "Successfully built pyspark\n",
            "Installing collected packages: pyspark\n",
            "Successfully installed pyspark-3.5.1\n",
            "The following additional packages will be installed:\n",
            "  libxtst6 openjdk-8-jre-headless\n",
            "Suggested packages:\n",
            "  openjdk-8-demo openjdk-8-source libnss-mdns fonts-dejavu-extra fonts-nanum fonts-ipafont-gothic\n",
            "  fonts-ipafont-mincho fonts-wqy-microhei fonts-wqy-zenhei fonts-indic\n",
            "The following NEW packages will be installed:\n",
            "  libxtst6 openjdk-8-jdk-headless openjdk-8-jre-headless\n",
            "0 upgraded, 3 newly installed, 0 to remove and 45 not upgraded.\n",
            "Need to get 39.6 MB of archives.\n",
            "After this operation, 144 MB of additional disk space will be used.\n",
            "Selecting previously unselected package libxtst6:amd64.\n",
            "(Reading database ... 123598 files and directories currently installed.)\n",
            "Preparing to unpack .../libxtst6_2%3a1.2.3-1build4_amd64.deb ...\n",
            "Unpacking libxtst6:amd64 (2:1.2.3-1build4) ...\n",
            "Selecting previously unselected package openjdk-8-jre-headless:amd64.\n",
            "Preparing to unpack .../openjdk-8-jre-headless_8u422-b05-1~22.04_amd64.deb ...\n",
            "Unpacking openjdk-8-jre-headless:amd64 (8u422-b05-1~22.04) ...\n",
            "Selecting previously unselected package openjdk-8-jdk-headless:amd64.\n",
            "Preparing to unpack .../openjdk-8-jdk-headless_8u422-b05-1~22.04_amd64.deb ...\n",
            "Unpacking openjdk-8-jdk-headless:amd64 (8u422-b05-1~22.04) ...\n",
            "Setting up libxtst6:amd64 (2:1.2.3-1build4) ...\n",
            "Setting up openjdk-8-jre-headless:amd64 (8u422-b05-1~22.04) ...\n",
            "update-alternatives: using /usr/lib/jvm/java-8-openjdk-amd64/jre/bin/orbd to provide /usr/bin/orbd (orbd) in auto mode\n",
            "update-alternatives: using /usr/lib/jvm/java-8-openjdk-amd64/jre/bin/servertool to provide /usr/bin/servertool (servertool) in auto mode\n",
            "update-alternatives: using /usr/lib/jvm/java-8-openjdk-amd64/jre/bin/tnameserv to provide /usr/bin/tnameserv (tnameserv) in auto mode\n",
            "Setting up openjdk-8-jdk-headless:amd64 (8u422-b05-1~22.04) ...\n",
            "update-alternatives: using /usr/lib/jvm/java-8-openjdk-amd64/bin/clhsdb to provide /usr/bin/clhsdb (clhsdb) in auto mode\n",
            "update-alternatives: using /usr/lib/jvm/java-8-openjdk-amd64/bin/extcheck to provide /usr/bin/extcheck (extcheck) in auto mode\n",
            "update-alternatives: using /usr/lib/jvm/java-8-openjdk-amd64/bin/hsdb to provide /usr/bin/hsdb (hsdb) in auto mode\n",
            "update-alternatives: using /usr/lib/jvm/java-8-openjdk-amd64/bin/idlj to provide /usr/bin/idlj (idlj) in auto mode\n",
            "update-alternatives: using /usr/lib/jvm/java-8-openjdk-amd64/bin/javah to provide /usr/bin/javah (javah) in auto mode\n",
            "update-alternatives: using /usr/lib/jvm/java-8-openjdk-amd64/bin/jhat to provide /usr/bin/jhat (jhat) in auto mode\n",
            "update-alternatives: using /usr/lib/jvm/java-8-openjdk-amd64/bin/jsadebugd to provide /usr/bin/jsadebugd (jsadebugd) in auto mode\n",
            "update-alternatives: using /usr/lib/jvm/java-8-openjdk-amd64/bin/native2ascii to provide /usr/bin/native2ascii (native2ascii) in auto mode\n",
            "update-alternatives: using /usr/lib/jvm/java-8-openjdk-amd64/bin/schemagen to provide /usr/bin/schemagen (schemagen) in auto mode\n",
            "update-alternatives: using /usr/lib/jvm/java-8-openjdk-amd64/bin/wsgen to provide /usr/bin/wsgen (wsgen) in auto mode\n",
            "update-alternatives: using /usr/lib/jvm/java-8-openjdk-amd64/bin/wsimport to provide /usr/bin/wsimport (wsimport) in auto mode\n",
            "update-alternatives: using /usr/lib/jvm/java-8-openjdk-amd64/bin/xjc to provide /usr/bin/xjc (xjc) in auto mode\n",
            "Processing triggers for libc-bin (2.35-0ubuntu3.4) ...\n",
            "/sbin/ldconfig.real: /usr/local/lib/libtbbmalloc_proxy.so.2 is not a symbolic link\n",
            "\n",
            "/sbin/ldconfig.real: /usr/local/lib/libtbbbind_2_5.so.3 is not a symbolic link\n",
            "\n",
            "/sbin/ldconfig.real: /usr/local/lib/libur_adapter_level_zero.so.0 is not a symbolic link\n",
            "\n",
            "/sbin/ldconfig.real: /usr/local/lib/libur_loader.so.0 is not a symbolic link\n",
            "\n",
            "/sbin/ldconfig.real: /usr/local/lib/libtbbbind.so.3 is not a symbolic link\n",
            "\n",
            "/sbin/ldconfig.real: /usr/local/lib/libtbbbind_2_0.so.3 is not a symbolic link\n",
            "\n",
            "/sbin/ldconfig.real: /usr/local/lib/libtbbmalloc.so.2 is not a symbolic link\n",
            "\n",
            "/sbin/ldconfig.real: /usr/local/lib/libtbb.so.12 is not a symbolic link\n",
            "\n",
            "/sbin/ldconfig.real: /usr/local/lib/libur_adapter_opencl.so.0 is not a symbolic link\n",
            "\n"
          ]
        }
      ],
      "source": [
        "!pip install pyspark\n",
        "!pip install -U -q PyDrive\n",
        "!apt install openjdk-8-jdk-headless -qq\n",
        "import os\n",
        "os.environ[\"JAVA_HOME\"] = \"/usr/lib/jvm/java-8-openjdk-amd64\""
      ]
    },
    {
      "cell_type": "markdown",
      "source": [
        "Para empezar a hacer uso de PySpark es necesario crear una SparkSession, dicho objeto es el que nos permitira crear RDDs o DataFrames, que son los objetos con los que más estaremos trabajando"
      ],
      "metadata": {
        "id": "0PnYaOiAd1xU"
      }
    },
    {
      "cell_type": "code",
      "source": [
        "import pyspark\n",
        "# Carga funciones extra\n",
        "from pyspark.sql.functions import *\n",
        "from pyspark.sql import SparkSession\n",
        "spark = SparkSession.builder.appName('primeros_pasos').getOrCreate()"
      ],
      "metadata": {
        "id": "QHFd6Onld2Vr"
      },
      "execution_count": null,
      "outputs": []
    },
    {
      "cell_type": "code",
      "source": [
        "s = spark.sparkContext.parallelize([\"hola\", \"hi\", \"ciao\"])\n",
        "s.take(5)"
      ],
      "metadata": {
        "colab": {
          "base_uri": "https://localhost:8080/"
        },
        "id": "vDSvmLESELIt",
        "outputId": "f79abfba-e008-4eba-c59c-c6c1a8be5191"
      },
      "execution_count": null,
      "outputs": [
        {
          "output_type": "execute_result",
          "data": {
            "text/plain": [
              "['hola', 'hi', 'ciao']"
            ]
          },
          "metadata": {},
          "execution_count": 7
        }
      ]
    },
    {
      "cell_type": "markdown",
      "source": [
        "## 1.2 RDDs\n",
        "\n",
        "La forma más elemental de trabajar con datos en PySpark es haciendo uso de un RDD (_Resilient Distributed Dataset_), el cual nos da la capacidad de manejar los datos y realizar cálculos con ellos de forma distribuida en varios nodos de un cluster.\n",
        "\n",
        "Para realizar los ejemplos de este notebook haremos uso de una base de datos que cuenta con datos de los jugadores del juego FIFA20, dichos datos fueron tomados este [concurso de kaggle](https://www.kaggle.com/stefanoleone992/fifa-20-complete-player-dataset?select=players_20.csv) donde podrán encontrar una descripción detalalda de cada campo de la base datos.\n",
        "\n",
        "Podemos crear un RDD a partir de un archivo CSV de la siguiente manera"
      ],
      "metadata": {
        "id": "N1UiFJmUd_Uz"
      }
    },
    {
      "cell_type": "code",
      "source": [
        "datos_crudos = spark.sparkContext.textFile('/content/drive/MyDrive/UAO/Pregrado/Big Data/Semana 2/players_20.csv')"
      ],
      "metadata": {
        "id": "H5VztJmjeBqy"
      },
      "execution_count": null,
      "outputs": []
    },
    {
      "cell_type": "markdown",
      "source": [
        "Una de las desventajas de los RDDs es que solo proveen a los datos de la estructura minima para poder trabajar con ellos. Imprimamos los primeros dos elementos del RDD para ver en que condicion se encuentran nuestros datos"
      ],
      "metadata": {
        "id": "Rlc24e4MfP6k"
      }
    },
    {
      "cell_type": "code",
      "source": [
        "for renglon in datos_crudos.take(3):\n",
        "  print(renglon)"
      ],
      "metadata": {
        "id": "cDdIipy9fQpK",
        "colab": {
          "base_uri": "https://localhost:8080/"
        },
        "outputId": "ce6de9c7-66a7-4b9c-d2ba-ac6c347d4c2f"
      },
      "execution_count": null,
      "outputs": [
        {
          "output_type": "stream",
          "name": "stdout",
          "text": [
            "sofifa_id,player_url,short_name,long_name,age,dob,height_cm,weight_kg,nationality,club,overall,potential,value_eur,wage_eur,player_positions,preferred_foot,international_reputation,weak_foot,skill_moves,work_rate,body_type,real_face,release_clause_eur,player_tags,team_position,team_jersey_number,loaned_from,joined,contract_valid_until,nation_position,nation_jersey_number,pace,shooting,passing,dribbling,defending,physic,gk_diving,gk_handling,gk_kicking,gk_reflexes,gk_speed,gk_positioning,player_traits,attacking_crossing,attacking_finishing,attacking_heading_accuracy,attacking_short_passing,attacking_volleys,skill_dribbling,skill_curve,skill_fk_accuracy,skill_long_passing,skill_ball_control,movement_acceleration,movement_sprint_speed,movement_agility,movement_reactions,movement_balance,power_shot_power,power_jumping,power_stamina,power_strength,power_long_shots,mentality_aggression,mentality_interceptions,mentality_positioning,mentality_vision,mentality_penalties,mentality_composure,defending_marking,defending_standing_tackle,defending_sliding_tackle,goalkeeping_diving,goalkeeping_handling,goalkeeping_kicking,goalkeeping_positioning,goalkeeping_reflexes,ls,st,rs,lw,lf,cf,rf,rw,lam,cam,ram,lm,lcm,cm,rcm,rm,lwb,ldm,cdm,rdm,rwb,lb,lcb,cb,rcb,rb\n",
            "158023,https://sofifa.com/player/158023/lionel-messi/20/159586,L. Messi,Lionel Andrés Messi Cuccittini,32,1987-06-24,170,72,Argentina,FC Barcelona,94,94,95500000,565000,\"RW, CF, ST\",Left,5,4,4,Medium/Low,Messi,Yes,195800000,\"#Dribbler, #Distance Shooter, #Crosser, #FK Specialist, #Acrobat, #Clinical Finisher, #Complete Forward\",RW,10,,2004-07-01,2021,,,87,92,92,96,39,66,,,,,,,\"Beat Offside Trap, Argues with Officials, Early Crosser, Finesse Shot, Speed Dribbler (CPU AI Only), 1-on-1 Rush, Giant Throw-in, Outside Foot Shot\",88,95,70,92,88,97,93,94,92,96,91,84,93,95,95,86,68,75,68,94,48,40,94,94,75,96,33,37,26,6,11,15,14,8,89+2,89+2,89+2,93+2,93+2,93+2,93+2,93+2,93+2,93+2,93+2,92+2,87+2,87+2,87+2,92+2,68+2,66+2,66+2,66+2,68+2,63+2,52+2,52+2,52+2,63+2\n",
            "20801,https://sofifa.com/player/20801/c-ronaldo-dos-santos-aveiro/20/159586,Cristiano Ronaldo,Cristiano Ronaldo dos Santos Aveiro,34,1985-02-05,187,83,Portugal,Juventus,93,93,58500000,405000,\"ST, LW\",Right,5,4,5,High/Low,C. Ronaldo,Yes,96500000,\"#Speedster, #Dribbler, #Distance Shooter, #Acrobat, #Clinical Finisher, #Complete Forward\",LW,7,,2018-07-10,2022,LS,7,90,93,82,89,35,78,,,,,,,\"Long Throw-in, Selfish, Argues with Officials, Early Crosser, Speed Dribbler (CPU AI Only), Skilled Dribbling\",84,94,89,83,87,89,81,76,77,92,89,91,87,96,71,95,95,85,78,93,63,29,95,82,85,95,28,32,24,7,11,15,14,11,91+3,91+3,91+3,89+3,90+3,90+3,90+3,89+3,88+3,88+3,88+3,88+3,81+3,81+3,81+3,88+3,65+3,61+3,61+3,61+3,65+3,61+3,53+3,53+3,53+3,61+3\n"
          ]
        }
      ]
    },
    {
      "cell_type": "markdown",
      "source": [
        "Como podemos ver, los elementos del RDD son solo los renglones del archivo CSV sin formato. Siendo el primer elemento los nombres de los campos de la base de datos, el mantener a los nombres de los campos como valores dentro del RDD puede derivar en problemas más adelante, así que por el momento los removeremos para quedarnos solamente con los valores."
      ],
      "metadata": {
        "id": "12I9D3rAfjOt"
      }
    },
    {
      "cell_type": "markdown",
      "source": [
        "### 1.2.1 Procesamiento básico de RDDs"
      ],
      "metadata": {
        "id": "yx9OyOgUHgfL"
      }
    },
    {
      "cell_type": "code",
      "source": [
        "# Guarda el primer elemento\n",
        "columnas = datos_crudos.take(1)[0]\n",
        "# Guarda en todos los elementos de datos_crudos menos el primero correspondiente a las columnas\n",
        "datos_crudos = datos_crudos.filter(lambda renglon : renglon != columnas)"
      ],
      "metadata": {
        "id": "d__SfkIUfk1M"
      },
      "execution_count": null,
      "outputs": []
    },
    {
      "cell_type": "markdown",
      "source": [
        "Ahora podemos darle un poco más de estructura a nuestros datos. Primero separemos los campos de cada renglon, sabiendo que estan separados por comas, y quedandonos con solo un subconjunto de dichos campos, digamos... su nombre, edad, estatura, peso, nacionalidad, equipo y su ranking. Para esto definamos la siguiente función"
      ],
      "metadata": {
        "id": "VHhm6BPHfpL1"
      }
    },
    {
      "cell_type": "code",
      "source": [
        "def separar_campos(renglon):\n",
        "    renglon_separado = renglon.split(',')\n",
        "    # Extrae los campos que queremos\n",
        "    nombre = str(renglon_separado[2])\n",
        "    edad = int(renglon_separado[4])\n",
        "    estatura = int(renglon_separado[6])\n",
        "    peso = int(renglon_separado[7])\n",
        "    nacionalidad = str(renglon_separado[8])\n",
        "    equipo = str(renglon_separado[9])\n",
        "    rank = int(renglon_separado[10])\n",
        "\n",
        "    return (nombre, edad, estatura, peso, nacionalidad, equipo, rank)"
      ],
      "metadata": {
        "id": "QqnNeYzvfppt"
      },
      "execution_count": null,
      "outputs": []
    },
    {
      "cell_type": "markdown",
      "source": [
        "Aplicamos dicha función a cada renglon"
      ],
      "metadata": {
        "id": "J-WODVdPfuAd"
      }
    },
    {
      "cell_type": "code",
      "source": [
        "rdd_fifa = datos_crudos.map(separar_campos)\n",
        "\n",
        "# Imprimimos una muestra de los datos\n",
        "for renglon in rdd_fifa.take(5):\n",
        "  print(renglon)"
      ],
      "metadata": {
        "colab": {
          "base_uri": "https://localhost:8080/"
        },
        "id": "DNR4hpnyfxUV",
        "outputId": "4e670195-52f7-4ff5-a9df-6ce0dc5413af"
      },
      "execution_count": null,
      "outputs": [
        {
          "output_type": "stream",
          "name": "stdout",
          "text": [
            "('L. Messi', 32, 170, 72, 'Argentina', 'FC Barcelona', 94)\n",
            "('Cristiano Ronaldo', 34, 187, 83, 'Portugal', 'Juventus', 93)\n",
            "('Neymar Jr', 27, 175, 68, 'Brazil', 'Paris Saint-Germain', 92)\n",
            "('J. Oblak', 26, 188, 87, 'Slovenia', 'Atlético Madrid', 91)\n",
            "('E. Hazard', 28, 175, 74, 'Belgium', 'Real Madrid', 91)\n"
          ]
        }
      ]
    },
    {
      "cell_type": "markdown",
      "source": [
        "Hasta ahora, hemos realizado diferentes operaciones sobre nuestro RDD para poder darle un formato más tratable a los datos que contiene. Sin embargo, no hemos detallado nada sobre la naturaleza de dichas operaciones. Enfoquemonos ahora en hacer más explícitos estos detalles.\n",
        "\n",
        "Existen dos operaciones básicas que pueden ser aplicadas a los RDD:\n",
        "\n",
        "* Acciones: Son operaciones que accionan la realización de cálculos y regresan valores explícitos del RDD.\n",
        "\n",
        "* Transformaciones: Son operaciones que devuelven otro RDD. Este tipo de operaciones no se ejecutan como tal sino hasta que es llamada una acción. Por esta razón se dice que las transformaciones son de evaluacion perezosa (_lazy evaluation_).\n",
        "\n",
        "En el caso de la celda anterior, `map()` es una transformación que aplica la función dada a los elementos del RDD y `take()` es la acción que nos devuelve los $n$ primeros elementos.\n",
        "\n",
        "Veamos más ejemplos. Podríamos querer saber cuantos jugadores existen por país en la base de datos. Para lograr esto primero necesitamos convertir nuestros datos en pares `(key, value)`, donde la `key`será el pais y el `value` nos indicará que ese registro pertenece a un jugador de dicho país"
      ],
      "metadata": {
        "id": "94t64lanf2Wm"
      }
    },
    {
      "cell_type": "code",
      "source": [
        "# Nos quedamos solo con la entrada corresponiente al país\n",
        "rdd_nacionalidades = rdd_fifa.map(lambda renglon: (renglon[4], 1))\n",
        "rdd_nacionalidades.take(3)"
      ],
      "metadata": {
        "id": "c56Vwz4af3rO",
        "colab": {
          "base_uri": "https://localhost:8080/"
        },
        "outputId": "aee8a459-8ec7-42c2-d41b-1975e0141fb1"
      },
      "execution_count": null,
      "outputs": [
        {
          "output_type": "execute_result",
          "data": {
            "text/plain": [
              "[('Argentina', 1), ('Portugal', 1), ('Brazil', 1)]"
            ]
          },
          "metadata": {},
          "execution_count": 11
        }
      ]
    },
    {
      "cell_type": "markdown",
      "source": [
        "Usando los países como llaves y la transfromación llamada reduceByKey, sumaremos todos los valores para cada país."
      ],
      "metadata": {
        "id": "2NvkZ00kf9KO"
      }
    },
    {
      "cell_type": "code",
      "source": [
        "rdd_nacionalidades = rdd_nacionalidades.reduceByKey(lambda val_1 , val_2: val_1 + val_2)"
      ],
      "metadata": {
        "id": "Zk_fbI4wf_vG"
      },
      "execution_count": null,
      "outputs": []
    },
    {
      "cell_type": "markdown",
      "source": [
        "Hasta el momento hemos usado las transformaciones `map()` y `reduceByKey()`, para obtener resultados necesitamos efectuar una acción, en este caso usaremos la acción `collect()`, que nos devuelve todo el contenido del RDD. Esta acción debe usarse con cuidado, en casos donde el RDD contenga una gran cantidad de registros, cargar todo el contenido del RDD puede dejar al sistema sin memoria."
      ],
      "metadata": {
        "id": "Os6V2YDLgDnX"
      }
    },
    {
      "cell_type": "code",
      "source": [
        "resultados = rdd_nacionalidades.collect()\n",
        "\n",
        "for renglon in resultados[:10]:\n",
        "  print(renglon)"
      ],
      "metadata": {
        "colab": {
          "base_uri": "https://localhost:8080/"
        },
        "id": "mt_8Oe8ogBtW",
        "outputId": "163782a0-c8e7-425d-e765-dfe507cedfcc"
      },
      "execution_count": null,
      "outputs": [
        {
          "output_type": "stream",
          "name": "stdout",
          "text": [
            "('Argentina', 886)\n",
            "('Portugal', 344)\n",
            "('Brazil', 824)\n",
            "('Slovenia', 61)\n",
            "('Belgium', 268)\n",
            "('Netherlands', 416)\n",
            "('France', 984)\n",
            "('Uruguay', 164)\n",
            "('Poland', 324)\n",
            "('Denmark', 345)\n"
          ]
        }
      ]
    },
    {
      "cell_type": "markdown",
      "source": [
        "Aunque los resultados obtenidos son buenos, sería interesante poder ordenar a los paises por la cantidad de jugadores. En la siguiente celda imprimimos los 10 países con más jugadores registrados en el juego de FIFA20"
      ],
      "metadata": {
        "id": "ioooT6o-gPjI"
      }
    },
    {
      "cell_type": "code",
      "source": [
        "# Pedimos que ordene por total de jugadores\n",
        "rdd_nacionalidades = rdd_nacionalidades.sortBy(lambda renglon: renglon[1], ascending = False)\n",
        "\n",
        "print (\"{:<12} {:<15}\".format('PAIS', 'TOTAL JUGADORES'))\n",
        "\n",
        "for renglon in rdd_nacionalidades.take(10):\n",
        "  pais = renglon[0]\n",
        "  total_jugadores = renglon[1]\n",
        "\n",
        "  print (\"{:<12} {:<15}\".format(pais, total_jugadores))"
      ],
      "metadata": {
        "colab": {
          "base_uri": "https://localhost:8080/"
        },
        "id": "uKxZMgJigQO4",
        "outputId": "5720efa0-7d98-4e8a-d140-3006d20a60fd"
      },
      "execution_count": null,
      "outputs": [
        {
          "output_type": "stream",
          "name": "stdout",
          "text": [
            "PAIS         TOTAL JUGADORES\n",
            "England      1667           \n",
            "Germany      1216           \n",
            "Spain        1035           \n",
            "France       984            \n",
            "Argentina    886            \n",
            "Brazil       824            \n",
            "Italy        732            \n",
            "Colombia     591            \n",
            "Japan        453            \n",
            "Netherlands  416            \n"
          ]
        }
      ]
    },
    {
      "cell_type": "markdown",
      "source": [
        "Además de las transformaciones y acciones empleadas aquí existen muchas más, sin embargo, los ejemplos expuestos aqui pueden ayudar a familiarizarse con su uso **(Consejo, revisar la documentación)**.\n",
        "\n",
        "Como el lector habrá notado, aunque los RDDs nos proveen de la capacidad de manipular y hacer calculos con datos distribuidos, éstos carecen de las funcionalidades y la estructura que tienen herramientas de un poco más alto nivel, como los DataFrame de Pandas, para el manejo de datos.\n",
        "\n",
        "En PySpark existe un tipo de objetos, igual llamados DataFrames, los cuales nos ayudan a dotar a nuestros datos con más funcionalidades y estructura, en comparación a los RDDs, al mismo tiempo que seguir trabajando de forma distribuida con ellos. Por esta razon, procederemos a dar una introducción a los DataFrames de PySpark que son los entes con los cuales más trabajaremos a lo largo del curso."
      ],
      "metadata": {
        "id": "gbClUn1igbI9"
      }
    },
    {
      "cell_type": "markdown",
      "source": [
        "## 1.3 DataFrames\n",
        "\n",
        "A diferencia de los RDDs, los DataFrames nos permiten estructurar a una collección de datos distribuidos en forma de tabla (con columnas y filas).\n",
        "\n",
        "Podemos crear un DataFrame a partir de un archivo CSV de la siguiente manera"
      ],
      "metadata": {
        "id": "1IFMgn4XgbnV"
      }
    },
    {
      "cell_type": "code",
      "source": [
        "df_fifa = spark.read.csv('/content/drive/MyDrive/UAO/Pregrado/Big Data/Semana 2/players_20.csv', header = True, inferSchema = True)"
      ],
      "metadata": {
        "id": "8ozZ5N2xgdwF"
      },
      "execution_count": null,
      "outputs": []
    },
    {
      "cell_type": "markdown",
      "source": [
        "Seleccionemos solo un subconjunto. Para esto usaremos la función `select()`, la cual devuelve un DataFrame con solo las columnas seleccionadas.\n",
        "\n",
        "Es importante destacar que, dada la estructrua que el DataFrame da a los datos, podemos hacer referencia a las columnas por su nombre en el archivo CSV."
      ],
      "metadata": {
        "id": "DJxBugkhglhj"
      }
    },
    {
      "cell_type": "code",
      "source": [
        "df_fifa.select(['long_name','age','weight_kg']).show(3)"
      ],
      "metadata": {
        "colab": {
          "base_uri": "https://localhost:8080/"
        },
        "id": "6BzzbtvD_YhA",
        "outputId": "cf3125c0-a11f-49b6-b744-94a983711e05"
      },
      "execution_count": null,
      "outputs": [
        {
          "output_type": "stream",
          "name": "stdout",
          "text": [
            "+--------------------+---+---------+\n",
            "|           long_name|age|weight_kg|\n",
            "+--------------------+---+---------+\n",
            "|Lionel Andrés Mes...| 32|       72|\n",
            "|Cristiano Ronaldo...| 34|       83|\n",
            "|Neymar da Silva S...| 27|       68|\n",
            "+--------------------+---+---------+\n",
            "only showing top 3 rows\n",
            "\n"
          ]
        }
      ]
    },
    {
      "cell_type": "markdown",
      "source": [
        "### 1.3.1 Visualizar datos\n",
        "\n",
        "Algo que es de vital importancia a la hora de manejar datos es poder visualizar, al menos, una pequeña muestra de éstos. Aquí algunas opciones."
      ],
      "metadata": {
        "id": "BRfp6YANhSmK"
      }
    },
    {
      "cell_type": "code",
      "source": [
        "df_fifa.show(10)"
      ],
      "metadata": {
        "colab": {
          "base_uri": "https://localhost:8080/"
        },
        "id": "xvOqqqgrhTIy",
        "outputId": "82b8f49e-6293-4a99-ace9-12703279b0f5"
      },
      "execution_count": null,
      "outputs": [
        {
          "output_type": "stream",
          "name": "stdout",
          "text": [
            "+---------+--------------------+-----------------+--------------------+---+----------+---------+---------+-----------+-------------------+-------+---------+---------+--------+----------------+--------------+------------------------+---------+-----------+-------------+-------------------+---------+------------------+--------------------+-------------+------------------+-----------+----------+--------------------+---------------+--------------------+----+--------+-------+---------+---------+------+---------+-----------+----------+-----------+--------+--------------+--------------------+------------------+-------------------+--------------------------+-----------------------+-----------------+---------------+-----------+-----------------+------------------+------------------+---------------------+---------------------+----------------+------------------+----------------+----------------+-------------+-------------+--------------+----------------+--------------------+-----------------------+---------------------+----------------+-------------------+-------------------+-----------------+-------------------------+------------------------+------------------+--------------------+-------------------+-----------------------+--------------------+----+----+----+----+----+----+----+----+----+----+----+----+----+----+----+----+----+----+----+----+----+----+----+----+----+----+\n",
            "|sofifa_id|          player_url|       short_name|           long_name|age|       dob|height_cm|weight_kg|nationality|               club|overall|potential|value_eur|wage_eur|player_positions|preferred_foot|international_reputation|weak_foot|skill_moves|    work_rate|          body_type|real_face|release_clause_eur|         player_tags|team_position|team_jersey_number|loaned_from|    joined|contract_valid_until|nation_position|nation_jersey_number|pace|shooting|passing|dribbling|defending|physic|gk_diving|gk_handling|gk_kicking|gk_reflexes|gk_speed|gk_positioning|       player_traits|attacking_crossing|attacking_finishing|attacking_heading_accuracy|attacking_short_passing|attacking_volleys|skill_dribbling|skill_curve|skill_fk_accuracy|skill_long_passing|skill_ball_control|movement_acceleration|movement_sprint_speed|movement_agility|movement_reactions|movement_balance|power_shot_power|power_jumping|power_stamina|power_strength|power_long_shots|mentality_aggression|mentality_interceptions|mentality_positioning|mentality_vision|mentality_penalties|mentality_composure|defending_marking|defending_standing_tackle|defending_sliding_tackle|goalkeeping_diving|goalkeeping_handling|goalkeeping_kicking|goalkeeping_positioning|goalkeeping_reflexes|  ls|  st|  rs|  lw|  lf|  cf|  rf|  rw| lam| cam| ram|  lm| lcm|  cm| rcm|  rm| lwb| ldm| cdm| rdm| rwb|  lb| lcb|  cb| rcb|  rb|\n",
            "+---------+--------------------+-----------------+--------------------+---+----------+---------+---------+-----------+-------------------+-------+---------+---------+--------+----------------+--------------+------------------------+---------+-----------+-------------+-------------------+---------+------------------+--------------------+-------------+------------------+-----------+----------+--------------------+---------------+--------------------+----+--------+-------+---------+---------+------+---------+-----------+----------+-----------+--------+--------------+--------------------+------------------+-------------------+--------------------------+-----------------------+-----------------+---------------+-----------+-----------------+------------------+------------------+---------------------+---------------------+----------------+------------------+----------------+----------------+-------------+-------------+--------------+----------------+--------------------+-----------------------+---------------------+----------------+-------------------+-------------------+-----------------+-------------------------+------------------------+------------------+--------------------+-------------------+-----------------------+--------------------+----+----+----+----+----+----+----+----+----+----+----+----+----+----+----+----+----+----+----+----+----+----+----+----+----+----+\n",
            "|   158023|https://sofifa.co...|         L. Messi|Lionel Andrés Mes...| 32|1987-06-24|      170|       72|  Argentina|       FC Barcelona|     94|       94| 95500000|  565000|      RW, CF, ST|          Left|                       5|        4|          4|   Medium/Low|              Messi|      Yes|         195800000|#Dribbler, #Dista...|           RW|                10|       NULL|2004-07-01|                2021|           NULL|                NULL|  87|      92|     92|       96|       39|    66|     NULL|       NULL|      NULL|       NULL|    NULL|          NULL|Beat Offside Trap...|                88|                 95|                        70|                     92|               88|             97|         93|               94|                92|                96|                   91|                   84|              93|                95|              95|              86|           68|           75|            68|              94|                  48|                     40|                   94|              94|                 75|                 96|               33|                       37|                      26|                 6|                  11|                 15|                     14|                   8|89+2|89+2|89+2|93+2|93+2|93+2|93+2|93+2|93+2|93+2|93+2|92+2|87+2|87+2|87+2|92+2|68+2|66+2|66+2|66+2|68+2|63+2|52+2|52+2|52+2|63+2|\n",
            "|    20801|https://sofifa.co...|Cristiano Ronaldo|Cristiano Ronaldo...| 34|1985-02-05|      187|       83|   Portugal|           Juventus|     93|       93| 58500000|  405000|          ST, LW|         Right|                       5|        4|          5|     High/Low|         C. Ronaldo|      Yes|          96500000|#Speedster, #Drib...|           LW|                 7|       NULL|2018-07-10|                2022|             LS|                   7|  90|      93|     82|       89|       35|    78|     NULL|       NULL|      NULL|       NULL|    NULL|          NULL|Long Throw-in, Se...|                84|                 94|                        89|                     83|               87|             89|         81|               76|                77|                92|                   89|                   91|              87|                96|              71|              95|           95|           85|            78|              93|                  63|                     29|                   95|              82|                 85|                 95|               28|                       32|                      24|                 7|                  11|                 15|                     14|                  11|91+3|91+3|91+3|89+3|90+3|90+3|90+3|89+3|88+3|88+3|88+3|88+3|81+3|81+3|81+3|88+3|65+3|61+3|61+3|61+3|65+3|61+3|53+3|53+3|53+3|61+3|\n",
            "|   190871|https://sofifa.co...|        Neymar Jr|Neymar da Silva S...| 27|1992-02-05|      175|       68|     Brazil|Paris Saint-Germain|     92|       92|105500000|  290000|         LW, CAM|         Right|                       5|        5|          5|  High/Medium|             Neymar|      Yes|         195200000|#Speedster, #Drib...|          CAM|                10|       NULL|2017-08-03|                2022|             LW|                  10|  91|      85|     87|       95|       32|    58|     NULL|       NULL|      NULL|       NULL|    NULL|          NULL|Power Free-Kick, ...|                87|                 87|                        62|                     87|               87|             96|         88|               87|                81|                95|                   94|                   89|              96|                92|              84|              80|           61|           81|            49|              84|                  51|                     36|                   87|              90|                 90|                 94|               27|                       26|                      29|                 9|                   9|                 15|                     15|                  11|84+3|84+3|84+3|90+3|89+3|89+3|89+3|90+3|90+3|90+3|90+3|89+3|82+3|82+3|82+3|89+3|66+3|61+3|61+3|61+3|66+3|61+3|46+3|46+3|46+3|61+3|\n",
            "|   200389|https://sofifa.co...|         J. Oblak|           Jan Oblak| 26|1993-01-07|      188|       87|   Slovenia|    Atlético Madrid|     91|       93| 77500000|  125000|              GK|         Right|                       3|        3|          1|Medium/Medium|             Normal|      Yes|         164700000|                NULL|           GK|                13|       NULL|2014-07-16|                2023|             GK|                   1|NULL|    NULL|   NULL|     NULL|     NULL|  NULL|       87|         92|        78|         89|      52|            90|Flair, Acrobatic ...|                13|                 11|                        15|                     43|               13|             12|         13|               14|                40|                30|                   43|                   60|              67|                88|              49|              59|           78|           41|            78|              12|                  34|                     19|                   11|              65|                 11|                 68|               27|                       12|                      18|                87|                  92|                 78|                     90|                  89|NULL|NULL|NULL|NULL|NULL|NULL|NULL|NULL|NULL|NULL|NULL|NULL|NULL|NULL|NULL|NULL|NULL|NULL|NULL|NULL|NULL|NULL|NULL|NULL|NULL|NULL|\n",
            "|   183277|https://sofifa.co...|        E. Hazard|         Eden Hazard| 28|1991-01-07|      175|       74|    Belgium|        Real Madrid|     91|       91| 90000000|  470000|          LW, CF|         Right|                       4|        4|          4|  High/Medium|             Normal|      Yes|         184500000|#Speedster, #Drib...|           LW|                 7|       NULL|2019-07-01|                2024|             LF|                  10|  91|      83|     86|       94|       35|    66|     NULL|       NULL|      NULL|       NULL|    NULL|          NULL|Beat Offside Trap...|                81|                 84|                        61|                     89|               83|             95|         83|               79|                83|                94|                   94|                   88|              95|                90|              94|              82|           56|           84|            63|              80|                  54|                     41|                   87|              89|                 88|                 91|               34|                       27|                      22|                11|                  12|                  6|                      8|                   8|83+3|83+3|83+3|89+3|88+3|88+3|88+3|89+3|89+3|89+3|89+3|89+3|83+3|83+3|83+3|89+3|66+3|63+3|63+3|63+3|66+3|61+3|49+3|49+3|49+3|61+3|\n",
            "|   192985|https://sofifa.co...|     K. De Bruyne|     Kevin De Bruyne| 28|1991-06-28|      181|       70|    Belgium|    Manchester City|     91|       91| 90000000|  370000|         CAM, CM|         Right|                       4|        5|          4|    High/High|             Normal|      Yes|         166500000|#Dribbler, #Playm...|          RCM|                17|       NULL|2015-08-30|                2023|            RCM|                   7|  76|      86|     92|       86|       61|    78|     NULL|       NULL|      NULL|       NULL|    NULL|          NULL|Power Free-Kick, ...|                93|                 82|                        55|                     92|               82|             86|         85|               83|                91|                91|                   77|                   76|              78|                91|              76|              91|           63|           89|            74|              90|                  76|                     61|                   88|              94|                 79|                 91|               68|                       58|                      51|                15|                  13|                  5|                     10|                  13|82+3|82+3|82+3|87+3|87+3|87+3|87+3|87+3|88+3|88+3|88+3|88+3|87+3|87+3|87+3|88+3|77+3|77+3|77+3|77+3|77+3|73+3|66+3|66+3|66+3|73+3|\n",
            "|   192448|https://sofifa.co...|    M. ter Stegen|Marc-André ter St...| 27|1992-04-30|      187|       85|    Germany|       FC Barcelona|     90|       93| 67500000|  250000|              GK|         Right|                       3|        4|          1|Medium/Medium|             Normal|      Yes|         143400000|                NULL|           GK|                 1|       NULL|2014-07-01|                2022|            SUB|                  22|NULL|    NULL|   NULL|     NULL|     NULL|  NULL|       88|         85|        88|         90|      45|            88|Swerve Pass, Acro...|                18|                 14|                        11|                     61|               14|             21|         18|               12|                63|                30|                   38|                   50|              37|                86|              43|              66|           79|           35|            78|              10|                  43|                     22|                   11|              70|                 25|                 70|               25|                       13|                      10|                88|                  85|                 88|                     88|                  90|NULL|NULL|NULL|NULL|NULL|NULL|NULL|NULL|NULL|NULL|NULL|NULL|NULL|NULL|NULL|NULL|NULL|NULL|NULL|NULL|NULL|NULL|NULL|NULL|NULL|NULL|\n",
            "|   203376|https://sofifa.co...|      V. van Dijk|     Virgil van Dijk| 27|1991-07-08|      193|       92|Netherlands|          Liverpool|     90|       91| 78000000|  200000|              CB|         Right|                       3|        3|          2|Medium/Medium|             Normal|      Yes|         150200000|#Tackling , #Tact...|          LCB|                 4|       NULL|2018-01-01|                2023|            LCB|                   4|  77|      60|     70|       71|       90|    86|     NULL|       NULL|      NULL|       NULL|    NULL|          NULL|Diver, Avoids Usi...|                53|                 52|                        86|                     78|               45|             70|         60|               70|                81|                76|                   74|                   79|              61|                88|              53|              81|           90|           75|            92|              64|                  82|                     89|                   47|              65|                 62|                 89|               91|                       92|                      85|                13|                  10|                 13|                     11|                  11|69+3|69+3|69+3|67+3|69+3|69+3|69+3|67+3|69+3|69+3|69+3|69+3|74+3|74+3|74+3|69+3|79+3|83+3|83+3|83+3|79+3|81+3|87+3|87+3|87+3|81+3|\n",
            "|   177003|https://sofifa.co...|        L. Modrić|         Luka Modrić| 33|1985-09-09|      172|       66|    Croatia|        Real Madrid|     90|       90| 45000000|  340000|              CM|         Right|                       4|        4|          4|    High/High|               Lean|      Yes|          92300000|#Dribbler, #Playm...|          RCM|                10|       NULL|2012-08-01|                2020|           NULL|                NULL|  74|      76|     89|       89|       72|    66|     NULL|       NULL|      NULL|       NULL|    NULL|          NULL|Argues with Offic...|                86|                 72|                        55|                     92|               76|             87|         85|               78|                88|                92|                   77|                   71|              92|                89|              93|              79|           68|           85|            58|              82|                  62|                     82|                   79|              91|                 82|                 92|               68|                       76|                      71|                13|                   9|                  7|                     14|                   9|77+3|77+3|77+3|84+3|83+3|83+3|83+3|84+3|86+3|86+3|86+3|85+3|87+3|87+3|87+3|85+3|81+3|81+3|81+3|81+3|81+3|79+3|72+3|72+3|72+3|79+3|\n",
            "|   209331|https://sofifa.co...|         M. Salah|Mohamed  Salah Ghaly| 27|1992-06-15|      175|       71|      Egypt|          Liverpool|     90|       90| 80500000|  240000|          RW, ST|          Left|                       3|        3|          4|  High/Medium|PLAYER_BODY_TYPE_25|      Yes|         148900000|#Speedster, #Drib...|           RW|                11|       NULL|2017-07-01|                2023|             RW|                  10|  93|      86|     81|       89|       45|    74|     NULL|       NULL|      NULL|       NULL|    NULL|          NULL|Beat Offside Trap...|                79|                 90|                        59|                     84|               79|             89|         83|               69|                75|                89|                   94|                   92|              91|                92|              88|              80|           69|           85|            73|              84|                  63|                     55|                   92|              84|                 77|                 91|               38|                       43|                      41|                14|                  14|                  9|                     11|                  14|84+3|84+3|84+3|88+3|88+3|88+3|88+3|88+3|87+3|87+3|87+3|87+3|81+3|81+3|81+3|87+3|70+3|67+3|67+3|67+3|70+3|66+3|57+3|57+3|57+3|66+3|\n",
            "+---------+--------------------+-----------------+--------------------+---+----------+---------+---------+-----------+-------------------+-------+---------+---------+--------+----------------+--------------+------------------------+---------+-----------+-------------+-------------------+---------+------------------+--------------------+-------------+------------------+-----------+----------+--------------------+---------------+--------------------+----+--------+-------+---------+---------+------+---------+-----------+----------+-----------+--------+--------------+--------------------+------------------+-------------------+--------------------------+-----------------------+-----------------+---------------+-----------+-----------------+------------------+------------------+---------------------+---------------------+----------------+------------------+----------------+----------------+-------------+-------------+--------------+----------------+--------------------+-----------------------+---------------------+----------------+-------------------+-------------------+-----------------+-------------------------+------------------------+------------------+--------------------+-------------------+-----------------------+--------------------+----+----+----+----+----+----+----+----+----+----+----+----+----+----+----+----+----+----+----+----+----+----+----+----+----+----+\n",
            "only showing top 10 rows\n",
            "\n"
          ]
        }
      ]
    },
    {
      "cell_type": "markdown",
      "source": [
        "Si el contenido del DataFrame es lo suficientemente pequeño podemos transformar su contenido a un DataFrame de Pandas."
      ],
      "metadata": {
        "id": "KViodOanhe6S"
      }
    },
    {
      "cell_type": "code",
      "source": [
        "df_pequeño = df_fifa.limit(10)\n",
        "df_pandas = df_pequeño.toPandas()\n",
        "df_pandas.tail(5)"
      ],
      "metadata": {
        "colab": {
          "base_uri": "https://localhost:8080/",
          "height": 377
        },
        "id": "V0StvKRE_sAg",
        "outputId": "f9920520-c880-4f9d-bdc3-cffdd41cc5f6"
      },
      "execution_count": null,
      "outputs": [
        {
          "output_type": "execute_result",
          "data": {
            "text/plain": [
              "   sofifa_id                                         player_url  \\\n",
              "5     192985  https://sofifa.com/player/192985/kevin-de-bruy...   \n",
              "6     192448  https://sofifa.com/player/192448/marc-andre-te...   \n",
              "7     203376  https://sofifa.com/player/203376/virgil-van-di...   \n",
              "8     177003  https://sofifa.com/player/177003/luka-modric/2...   \n",
              "9     209331  https://sofifa.com/player/209331/mohamed-salah...   \n",
              "\n",
              "      short_name              long_name  age         dob  height_cm  \\\n",
              "5   K. De Bruyne        Kevin De Bruyne   28  1991-06-28        181   \n",
              "6  M. ter Stegen  Marc-André ter Stegen   27  1992-04-30        187   \n",
              "7    V. van Dijk        Virgil van Dijk   27  1991-07-08        193   \n",
              "8      L. Modrić            Luka Modrić   33  1985-09-09        172   \n",
              "9       M. Salah   Mohamed  Salah Ghaly   27  1992-06-15        175   \n",
              "\n",
              "   weight_kg  nationality             club  ...   lwb   ldm   cdm   rdm   rwb  \\\n",
              "5         70      Belgium  Manchester City  ...  77+3  77+3  77+3  77+3  77+3   \n",
              "6         85      Germany     FC Barcelona  ...  None  None  None  None  None   \n",
              "7         92  Netherlands        Liverpool  ...  79+3  83+3  83+3  83+3  79+3   \n",
              "8         66      Croatia      Real Madrid  ...  81+3  81+3  81+3  81+3  81+3   \n",
              "9         71        Egypt        Liverpool  ...  70+3  67+3  67+3  67+3  70+3   \n",
              "\n",
              "     lb   lcb    cb   rcb    rb  \n",
              "5  73+3  66+3  66+3  66+3  73+3  \n",
              "6  None  None  None  None  None  \n",
              "7  81+3  87+3  87+3  87+3  81+3  \n",
              "8  79+3  72+3  72+3  72+3  79+3  \n",
              "9  66+3  57+3  57+3  57+3  66+3  \n",
              "\n",
              "[5 rows x 104 columns]"
            ],
            "text/html": [
              "\n",
              "  <div id=\"df-3fcb1bae-9d63-43a9-bd87-2bc9efe1e300\" class=\"colab-df-container\">\n",
              "    <div>\n",
              "<style scoped>\n",
              "    .dataframe tbody tr th:only-of-type {\n",
              "        vertical-align: middle;\n",
              "    }\n",
              "\n",
              "    .dataframe tbody tr th {\n",
              "        vertical-align: top;\n",
              "    }\n",
              "\n",
              "    .dataframe thead th {\n",
              "        text-align: right;\n",
              "    }\n",
              "</style>\n",
              "<table border=\"1\" class=\"dataframe\">\n",
              "  <thead>\n",
              "    <tr style=\"text-align: right;\">\n",
              "      <th></th>\n",
              "      <th>sofifa_id</th>\n",
              "      <th>player_url</th>\n",
              "      <th>short_name</th>\n",
              "      <th>long_name</th>\n",
              "      <th>age</th>\n",
              "      <th>dob</th>\n",
              "      <th>height_cm</th>\n",
              "      <th>weight_kg</th>\n",
              "      <th>nationality</th>\n",
              "      <th>club</th>\n",
              "      <th>...</th>\n",
              "      <th>lwb</th>\n",
              "      <th>ldm</th>\n",
              "      <th>cdm</th>\n",
              "      <th>rdm</th>\n",
              "      <th>rwb</th>\n",
              "      <th>lb</th>\n",
              "      <th>lcb</th>\n",
              "      <th>cb</th>\n",
              "      <th>rcb</th>\n",
              "      <th>rb</th>\n",
              "    </tr>\n",
              "  </thead>\n",
              "  <tbody>\n",
              "    <tr>\n",
              "      <th>5</th>\n",
              "      <td>192985</td>\n",
              "      <td>https://sofifa.com/player/192985/kevin-de-bruy...</td>\n",
              "      <td>K. De Bruyne</td>\n",
              "      <td>Kevin De Bruyne</td>\n",
              "      <td>28</td>\n",
              "      <td>1991-06-28</td>\n",
              "      <td>181</td>\n",
              "      <td>70</td>\n",
              "      <td>Belgium</td>\n",
              "      <td>Manchester City</td>\n",
              "      <td>...</td>\n",
              "      <td>77+3</td>\n",
              "      <td>77+3</td>\n",
              "      <td>77+3</td>\n",
              "      <td>77+3</td>\n",
              "      <td>77+3</td>\n",
              "      <td>73+3</td>\n",
              "      <td>66+3</td>\n",
              "      <td>66+3</td>\n",
              "      <td>66+3</td>\n",
              "      <td>73+3</td>\n",
              "    </tr>\n",
              "    <tr>\n",
              "      <th>6</th>\n",
              "      <td>192448</td>\n",
              "      <td>https://sofifa.com/player/192448/marc-andre-te...</td>\n",
              "      <td>M. ter Stegen</td>\n",
              "      <td>Marc-André ter Stegen</td>\n",
              "      <td>27</td>\n",
              "      <td>1992-04-30</td>\n",
              "      <td>187</td>\n",
              "      <td>85</td>\n",
              "      <td>Germany</td>\n",
              "      <td>FC Barcelona</td>\n",
              "      <td>...</td>\n",
              "      <td>None</td>\n",
              "      <td>None</td>\n",
              "      <td>None</td>\n",
              "      <td>None</td>\n",
              "      <td>None</td>\n",
              "      <td>None</td>\n",
              "      <td>None</td>\n",
              "      <td>None</td>\n",
              "      <td>None</td>\n",
              "      <td>None</td>\n",
              "    </tr>\n",
              "    <tr>\n",
              "      <th>7</th>\n",
              "      <td>203376</td>\n",
              "      <td>https://sofifa.com/player/203376/virgil-van-di...</td>\n",
              "      <td>V. van Dijk</td>\n",
              "      <td>Virgil van Dijk</td>\n",
              "      <td>27</td>\n",
              "      <td>1991-07-08</td>\n",
              "      <td>193</td>\n",
              "      <td>92</td>\n",
              "      <td>Netherlands</td>\n",
              "      <td>Liverpool</td>\n",
              "      <td>...</td>\n",
              "      <td>79+3</td>\n",
              "      <td>83+3</td>\n",
              "      <td>83+3</td>\n",
              "      <td>83+3</td>\n",
              "      <td>79+3</td>\n",
              "      <td>81+3</td>\n",
              "      <td>87+3</td>\n",
              "      <td>87+3</td>\n",
              "      <td>87+3</td>\n",
              "      <td>81+3</td>\n",
              "    </tr>\n",
              "    <tr>\n",
              "      <th>8</th>\n",
              "      <td>177003</td>\n",
              "      <td>https://sofifa.com/player/177003/luka-modric/2...</td>\n",
              "      <td>L. Modrić</td>\n",
              "      <td>Luka Modrić</td>\n",
              "      <td>33</td>\n",
              "      <td>1985-09-09</td>\n",
              "      <td>172</td>\n",
              "      <td>66</td>\n",
              "      <td>Croatia</td>\n",
              "      <td>Real Madrid</td>\n",
              "      <td>...</td>\n",
              "      <td>81+3</td>\n",
              "      <td>81+3</td>\n",
              "      <td>81+3</td>\n",
              "      <td>81+3</td>\n",
              "      <td>81+3</td>\n",
              "      <td>79+3</td>\n",
              "      <td>72+3</td>\n",
              "      <td>72+3</td>\n",
              "      <td>72+3</td>\n",
              "      <td>79+3</td>\n",
              "    </tr>\n",
              "    <tr>\n",
              "      <th>9</th>\n",
              "      <td>209331</td>\n",
              "      <td>https://sofifa.com/player/209331/mohamed-salah...</td>\n",
              "      <td>M. Salah</td>\n",
              "      <td>Mohamed  Salah Ghaly</td>\n",
              "      <td>27</td>\n",
              "      <td>1992-06-15</td>\n",
              "      <td>175</td>\n",
              "      <td>71</td>\n",
              "      <td>Egypt</td>\n",
              "      <td>Liverpool</td>\n",
              "      <td>...</td>\n",
              "      <td>70+3</td>\n",
              "      <td>67+3</td>\n",
              "      <td>67+3</td>\n",
              "      <td>67+3</td>\n",
              "      <td>70+3</td>\n",
              "      <td>66+3</td>\n",
              "      <td>57+3</td>\n",
              "      <td>57+3</td>\n",
              "      <td>57+3</td>\n",
              "      <td>66+3</td>\n",
              "    </tr>\n",
              "  </tbody>\n",
              "</table>\n",
              "<p>5 rows × 104 columns</p>\n",
              "</div>\n",
              "    <div class=\"colab-df-buttons\">\n",
              "\n",
              "  <div class=\"colab-df-container\">\n",
              "    <button class=\"colab-df-convert\" onclick=\"convertToInteractive('df-3fcb1bae-9d63-43a9-bd87-2bc9efe1e300')\"\n",
              "            title=\"Convert this dataframe to an interactive table.\"\n",
              "            style=\"display:none;\">\n",
              "\n",
              "  <svg xmlns=\"http://www.w3.org/2000/svg\" height=\"24px\" viewBox=\"0 -960 960 960\">\n",
              "    <path d=\"M120-120v-720h720v720H120Zm60-500h600v-160H180v160Zm220 220h160v-160H400v160Zm0 220h160v-160H400v160ZM180-400h160v-160H180v160Zm440 0h160v-160H620v160ZM180-180h160v-160H180v160Zm440 0h160v-160H620v160Z\"/>\n",
              "  </svg>\n",
              "    </button>\n",
              "\n",
              "  <style>\n",
              "    .colab-df-container {\n",
              "      display:flex;\n",
              "      gap: 12px;\n",
              "    }\n",
              "\n",
              "    .colab-df-convert {\n",
              "      background-color: #E8F0FE;\n",
              "      border: none;\n",
              "      border-radius: 50%;\n",
              "      cursor: pointer;\n",
              "      display: none;\n",
              "      fill: #1967D2;\n",
              "      height: 32px;\n",
              "      padding: 0 0 0 0;\n",
              "      width: 32px;\n",
              "    }\n",
              "\n",
              "    .colab-df-convert:hover {\n",
              "      background-color: #E2EBFA;\n",
              "      box-shadow: 0px 1px 2px rgba(60, 64, 67, 0.3), 0px 1px 3px 1px rgba(60, 64, 67, 0.15);\n",
              "      fill: #174EA6;\n",
              "    }\n",
              "\n",
              "    .colab-df-buttons div {\n",
              "      margin-bottom: 4px;\n",
              "    }\n",
              "\n",
              "    [theme=dark] .colab-df-convert {\n",
              "      background-color: #3B4455;\n",
              "      fill: #D2E3FC;\n",
              "    }\n",
              "\n",
              "    [theme=dark] .colab-df-convert:hover {\n",
              "      background-color: #434B5C;\n",
              "      box-shadow: 0px 1px 3px 1px rgba(0, 0, 0, 0.15);\n",
              "      filter: drop-shadow(0px 1px 2px rgba(0, 0, 0, 0.3));\n",
              "      fill: #FFFFFF;\n",
              "    }\n",
              "  </style>\n",
              "\n",
              "    <script>\n",
              "      const buttonEl =\n",
              "        document.querySelector('#df-3fcb1bae-9d63-43a9-bd87-2bc9efe1e300 button.colab-df-convert');\n",
              "      buttonEl.style.display =\n",
              "        google.colab.kernel.accessAllowed ? 'block' : 'none';\n",
              "\n",
              "      async function convertToInteractive(key) {\n",
              "        const element = document.querySelector('#df-3fcb1bae-9d63-43a9-bd87-2bc9efe1e300');\n",
              "        const dataTable =\n",
              "          await google.colab.kernel.invokeFunction('convertToInteractive',\n",
              "                                                    [key], {});\n",
              "        if (!dataTable) return;\n",
              "\n",
              "        const docLinkHtml = 'Like what you see? Visit the ' +\n",
              "          '<a target=\"_blank\" href=https://colab.research.google.com/notebooks/data_table.ipynb>data table notebook</a>'\n",
              "          + ' to learn more about interactive tables.';\n",
              "        element.innerHTML = '';\n",
              "        dataTable['output_type'] = 'display_data';\n",
              "        await google.colab.output.renderOutput(dataTable, element);\n",
              "        const docLink = document.createElement('div');\n",
              "        docLink.innerHTML = docLinkHtml;\n",
              "        element.appendChild(docLink);\n",
              "      }\n",
              "    </script>\n",
              "  </div>\n",
              "\n",
              "\n",
              "<div id=\"df-52c8a986-9101-417d-913a-28d2ee2e68cd\">\n",
              "  <button class=\"colab-df-quickchart\" onclick=\"quickchart('df-52c8a986-9101-417d-913a-28d2ee2e68cd')\"\n",
              "            title=\"Suggest charts\"\n",
              "            style=\"display:none;\">\n",
              "\n",
              "<svg xmlns=\"http://www.w3.org/2000/svg\" height=\"24px\"viewBox=\"0 0 24 24\"\n",
              "     width=\"24px\">\n",
              "    <g>\n",
              "        <path d=\"M19 3H5c-1.1 0-2 .9-2 2v14c0 1.1.9 2 2 2h14c1.1 0 2-.9 2-2V5c0-1.1-.9-2-2-2zM9 17H7v-7h2v7zm4 0h-2V7h2v10zm4 0h-2v-4h2v4z\"/>\n",
              "    </g>\n",
              "</svg>\n",
              "  </button>\n",
              "\n",
              "<style>\n",
              "  .colab-df-quickchart {\n",
              "      --bg-color: #E8F0FE;\n",
              "      --fill-color: #1967D2;\n",
              "      --hover-bg-color: #E2EBFA;\n",
              "      --hover-fill-color: #174EA6;\n",
              "      --disabled-fill-color: #AAA;\n",
              "      --disabled-bg-color: #DDD;\n",
              "  }\n",
              "\n",
              "  [theme=dark] .colab-df-quickchart {\n",
              "      --bg-color: #3B4455;\n",
              "      --fill-color: #D2E3FC;\n",
              "      --hover-bg-color: #434B5C;\n",
              "      --hover-fill-color: #FFFFFF;\n",
              "      --disabled-bg-color: #3B4455;\n",
              "      --disabled-fill-color: #666;\n",
              "  }\n",
              "\n",
              "  .colab-df-quickchart {\n",
              "    background-color: var(--bg-color);\n",
              "    border: none;\n",
              "    border-radius: 50%;\n",
              "    cursor: pointer;\n",
              "    display: none;\n",
              "    fill: var(--fill-color);\n",
              "    height: 32px;\n",
              "    padding: 0;\n",
              "    width: 32px;\n",
              "  }\n",
              "\n",
              "  .colab-df-quickchart:hover {\n",
              "    background-color: var(--hover-bg-color);\n",
              "    box-shadow: 0 1px 2px rgba(60, 64, 67, 0.3), 0 1px 3px 1px rgba(60, 64, 67, 0.15);\n",
              "    fill: var(--button-hover-fill-color);\n",
              "  }\n",
              "\n",
              "  .colab-df-quickchart-complete:disabled,\n",
              "  .colab-df-quickchart-complete:disabled:hover {\n",
              "    background-color: var(--disabled-bg-color);\n",
              "    fill: var(--disabled-fill-color);\n",
              "    box-shadow: none;\n",
              "  }\n",
              "\n",
              "  .colab-df-spinner {\n",
              "    border: 2px solid var(--fill-color);\n",
              "    border-color: transparent;\n",
              "    border-bottom-color: var(--fill-color);\n",
              "    animation:\n",
              "      spin 1s steps(1) infinite;\n",
              "  }\n",
              "\n",
              "  @keyframes spin {\n",
              "    0% {\n",
              "      border-color: transparent;\n",
              "      border-bottom-color: var(--fill-color);\n",
              "      border-left-color: var(--fill-color);\n",
              "    }\n",
              "    20% {\n",
              "      border-color: transparent;\n",
              "      border-left-color: var(--fill-color);\n",
              "      border-top-color: var(--fill-color);\n",
              "    }\n",
              "    30% {\n",
              "      border-color: transparent;\n",
              "      border-left-color: var(--fill-color);\n",
              "      border-top-color: var(--fill-color);\n",
              "      border-right-color: var(--fill-color);\n",
              "    }\n",
              "    40% {\n",
              "      border-color: transparent;\n",
              "      border-right-color: var(--fill-color);\n",
              "      border-top-color: var(--fill-color);\n",
              "    }\n",
              "    60% {\n",
              "      border-color: transparent;\n",
              "      border-right-color: var(--fill-color);\n",
              "    }\n",
              "    80% {\n",
              "      border-color: transparent;\n",
              "      border-right-color: var(--fill-color);\n",
              "      border-bottom-color: var(--fill-color);\n",
              "    }\n",
              "    90% {\n",
              "      border-color: transparent;\n",
              "      border-bottom-color: var(--fill-color);\n",
              "    }\n",
              "  }\n",
              "</style>\n",
              "\n",
              "  <script>\n",
              "    async function quickchart(key) {\n",
              "      const quickchartButtonEl =\n",
              "        document.querySelector('#' + key + ' button');\n",
              "      quickchartButtonEl.disabled = true;  // To prevent multiple clicks.\n",
              "      quickchartButtonEl.classList.add('colab-df-spinner');\n",
              "      try {\n",
              "        const charts = await google.colab.kernel.invokeFunction(\n",
              "            'suggestCharts', [key], {});\n",
              "      } catch (error) {\n",
              "        console.error('Error during call to suggestCharts:', error);\n",
              "      }\n",
              "      quickchartButtonEl.classList.remove('colab-df-spinner');\n",
              "      quickchartButtonEl.classList.add('colab-df-quickchart-complete');\n",
              "    }\n",
              "    (() => {\n",
              "      let quickchartButtonEl =\n",
              "        document.querySelector('#df-52c8a986-9101-417d-913a-28d2ee2e68cd button');\n",
              "      quickchartButtonEl.style.display =\n",
              "        google.colab.kernel.accessAllowed ? 'block' : 'none';\n",
              "    })();\n",
              "  </script>\n",
              "</div>\n",
              "\n",
              "    </div>\n",
              "  </div>\n"
            ],
            "application/vnd.google.colaboratory.intrinsic+json": {
              "type": "dataframe"
            }
          },
          "metadata": {},
          "execution_count": 19
        }
      ]
    },
    {
      "cell_type": "markdown",
      "source": [
        "Con Spark podemos concatenar las operaciones de la celda pasada de la siguiente forma."
      ],
      "metadata": {
        "id": "Bc5upmpGhkGS"
      }
    },
    {
      "cell_type": "code",
      "source": [
        "df_fifa.limit(10).toPandas().tail(5)"
      ],
      "metadata": {
        "colab": {
          "base_uri": "https://localhost:8080/",
          "height": 377
        },
        "id": "5DzWJV51hkga",
        "outputId": "f6a2acd7-4df1-40ca-9407-d2067fe11f5f"
      },
      "execution_count": null,
      "outputs": [
        {
          "output_type": "execute_result",
          "data": {
            "text/plain": [
              "   sofifa_id                                         player_url  \\\n",
              "5     192985  https://sofifa.com/player/192985/kevin-de-bruy...   \n",
              "6     192448  https://sofifa.com/player/192448/marc-andre-te...   \n",
              "7     203376  https://sofifa.com/player/203376/virgil-van-di...   \n",
              "8     177003  https://sofifa.com/player/177003/luka-modric/2...   \n",
              "9     209331  https://sofifa.com/player/209331/mohamed-salah...   \n",
              "\n",
              "      short_name              long_name  age         dob  height_cm  \\\n",
              "5   K. De Bruyne        Kevin De Bruyne   28  1991-06-28        181   \n",
              "6  M. ter Stegen  Marc-André ter Stegen   27  1992-04-30        187   \n",
              "7    V. van Dijk        Virgil van Dijk   27  1991-07-08        193   \n",
              "8      L. Modrić            Luka Modrić   33  1985-09-09        172   \n",
              "9       M. Salah   Mohamed  Salah Ghaly   27  1992-06-15        175   \n",
              "\n",
              "   weight_kg  nationality             club  ...   lwb   ldm   cdm   rdm   rwb  \\\n",
              "5         70      Belgium  Manchester City  ...  77+3  77+3  77+3  77+3  77+3   \n",
              "6         85      Germany     FC Barcelona  ...  None  None  None  None  None   \n",
              "7         92  Netherlands        Liverpool  ...  79+3  83+3  83+3  83+3  79+3   \n",
              "8         66      Croatia      Real Madrid  ...  81+3  81+3  81+3  81+3  81+3   \n",
              "9         71        Egypt        Liverpool  ...  70+3  67+3  67+3  67+3  70+3   \n",
              "\n",
              "     lb   lcb    cb   rcb    rb  \n",
              "5  73+3  66+3  66+3  66+3  73+3  \n",
              "6  None  None  None  None  None  \n",
              "7  81+3  87+3  87+3  87+3  81+3  \n",
              "8  79+3  72+3  72+3  72+3  79+3  \n",
              "9  66+3  57+3  57+3  57+3  66+3  \n",
              "\n",
              "[5 rows x 104 columns]"
            ],
            "text/html": [
              "\n",
              "  <div id=\"df-a01a7b55-9aef-4828-9ee9-b212d10ee3d0\" class=\"colab-df-container\">\n",
              "    <div>\n",
              "<style scoped>\n",
              "    .dataframe tbody tr th:only-of-type {\n",
              "        vertical-align: middle;\n",
              "    }\n",
              "\n",
              "    .dataframe tbody tr th {\n",
              "        vertical-align: top;\n",
              "    }\n",
              "\n",
              "    .dataframe thead th {\n",
              "        text-align: right;\n",
              "    }\n",
              "</style>\n",
              "<table border=\"1\" class=\"dataframe\">\n",
              "  <thead>\n",
              "    <tr style=\"text-align: right;\">\n",
              "      <th></th>\n",
              "      <th>sofifa_id</th>\n",
              "      <th>player_url</th>\n",
              "      <th>short_name</th>\n",
              "      <th>long_name</th>\n",
              "      <th>age</th>\n",
              "      <th>dob</th>\n",
              "      <th>height_cm</th>\n",
              "      <th>weight_kg</th>\n",
              "      <th>nationality</th>\n",
              "      <th>club</th>\n",
              "      <th>...</th>\n",
              "      <th>lwb</th>\n",
              "      <th>ldm</th>\n",
              "      <th>cdm</th>\n",
              "      <th>rdm</th>\n",
              "      <th>rwb</th>\n",
              "      <th>lb</th>\n",
              "      <th>lcb</th>\n",
              "      <th>cb</th>\n",
              "      <th>rcb</th>\n",
              "      <th>rb</th>\n",
              "    </tr>\n",
              "  </thead>\n",
              "  <tbody>\n",
              "    <tr>\n",
              "      <th>5</th>\n",
              "      <td>192985</td>\n",
              "      <td>https://sofifa.com/player/192985/kevin-de-bruy...</td>\n",
              "      <td>K. De Bruyne</td>\n",
              "      <td>Kevin De Bruyne</td>\n",
              "      <td>28</td>\n",
              "      <td>1991-06-28</td>\n",
              "      <td>181</td>\n",
              "      <td>70</td>\n",
              "      <td>Belgium</td>\n",
              "      <td>Manchester City</td>\n",
              "      <td>...</td>\n",
              "      <td>77+3</td>\n",
              "      <td>77+3</td>\n",
              "      <td>77+3</td>\n",
              "      <td>77+3</td>\n",
              "      <td>77+3</td>\n",
              "      <td>73+3</td>\n",
              "      <td>66+3</td>\n",
              "      <td>66+3</td>\n",
              "      <td>66+3</td>\n",
              "      <td>73+3</td>\n",
              "    </tr>\n",
              "    <tr>\n",
              "      <th>6</th>\n",
              "      <td>192448</td>\n",
              "      <td>https://sofifa.com/player/192448/marc-andre-te...</td>\n",
              "      <td>M. ter Stegen</td>\n",
              "      <td>Marc-André ter Stegen</td>\n",
              "      <td>27</td>\n",
              "      <td>1992-04-30</td>\n",
              "      <td>187</td>\n",
              "      <td>85</td>\n",
              "      <td>Germany</td>\n",
              "      <td>FC Barcelona</td>\n",
              "      <td>...</td>\n",
              "      <td>None</td>\n",
              "      <td>None</td>\n",
              "      <td>None</td>\n",
              "      <td>None</td>\n",
              "      <td>None</td>\n",
              "      <td>None</td>\n",
              "      <td>None</td>\n",
              "      <td>None</td>\n",
              "      <td>None</td>\n",
              "      <td>None</td>\n",
              "    </tr>\n",
              "    <tr>\n",
              "      <th>7</th>\n",
              "      <td>203376</td>\n",
              "      <td>https://sofifa.com/player/203376/virgil-van-di...</td>\n",
              "      <td>V. van Dijk</td>\n",
              "      <td>Virgil van Dijk</td>\n",
              "      <td>27</td>\n",
              "      <td>1991-07-08</td>\n",
              "      <td>193</td>\n",
              "      <td>92</td>\n",
              "      <td>Netherlands</td>\n",
              "      <td>Liverpool</td>\n",
              "      <td>...</td>\n",
              "      <td>79+3</td>\n",
              "      <td>83+3</td>\n",
              "      <td>83+3</td>\n",
              "      <td>83+3</td>\n",
              "      <td>79+3</td>\n",
              "      <td>81+3</td>\n",
              "      <td>87+3</td>\n",
              "      <td>87+3</td>\n",
              "      <td>87+3</td>\n",
              "      <td>81+3</td>\n",
              "    </tr>\n",
              "    <tr>\n",
              "      <th>8</th>\n",
              "      <td>177003</td>\n",
              "      <td>https://sofifa.com/player/177003/luka-modric/2...</td>\n",
              "      <td>L. Modrić</td>\n",
              "      <td>Luka Modrić</td>\n",
              "      <td>33</td>\n",
              "      <td>1985-09-09</td>\n",
              "      <td>172</td>\n",
              "      <td>66</td>\n",
              "      <td>Croatia</td>\n",
              "      <td>Real Madrid</td>\n",
              "      <td>...</td>\n",
              "      <td>81+3</td>\n",
              "      <td>81+3</td>\n",
              "      <td>81+3</td>\n",
              "      <td>81+3</td>\n",
              "      <td>81+3</td>\n",
              "      <td>79+3</td>\n",
              "      <td>72+3</td>\n",
              "      <td>72+3</td>\n",
              "      <td>72+3</td>\n",
              "      <td>79+3</td>\n",
              "    </tr>\n",
              "    <tr>\n",
              "      <th>9</th>\n",
              "      <td>209331</td>\n",
              "      <td>https://sofifa.com/player/209331/mohamed-salah...</td>\n",
              "      <td>M. Salah</td>\n",
              "      <td>Mohamed  Salah Ghaly</td>\n",
              "      <td>27</td>\n",
              "      <td>1992-06-15</td>\n",
              "      <td>175</td>\n",
              "      <td>71</td>\n",
              "      <td>Egypt</td>\n",
              "      <td>Liverpool</td>\n",
              "      <td>...</td>\n",
              "      <td>70+3</td>\n",
              "      <td>67+3</td>\n",
              "      <td>67+3</td>\n",
              "      <td>67+3</td>\n",
              "      <td>70+3</td>\n",
              "      <td>66+3</td>\n",
              "      <td>57+3</td>\n",
              "      <td>57+3</td>\n",
              "      <td>57+3</td>\n",
              "      <td>66+3</td>\n",
              "    </tr>\n",
              "  </tbody>\n",
              "</table>\n",
              "<p>5 rows × 104 columns</p>\n",
              "</div>\n",
              "    <div class=\"colab-df-buttons\">\n",
              "\n",
              "  <div class=\"colab-df-container\">\n",
              "    <button class=\"colab-df-convert\" onclick=\"convertToInteractive('df-a01a7b55-9aef-4828-9ee9-b212d10ee3d0')\"\n",
              "            title=\"Convert this dataframe to an interactive table.\"\n",
              "            style=\"display:none;\">\n",
              "\n",
              "  <svg xmlns=\"http://www.w3.org/2000/svg\" height=\"24px\" viewBox=\"0 -960 960 960\">\n",
              "    <path d=\"M120-120v-720h720v720H120Zm60-500h600v-160H180v160Zm220 220h160v-160H400v160Zm0 220h160v-160H400v160ZM180-400h160v-160H180v160Zm440 0h160v-160H620v160ZM180-180h160v-160H180v160Zm440 0h160v-160H620v160Z\"/>\n",
              "  </svg>\n",
              "    </button>\n",
              "\n",
              "  <style>\n",
              "    .colab-df-container {\n",
              "      display:flex;\n",
              "      gap: 12px;\n",
              "    }\n",
              "\n",
              "    .colab-df-convert {\n",
              "      background-color: #E8F0FE;\n",
              "      border: none;\n",
              "      border-radius: 50%;\n",
              "      cursor: pointer;\n",
              "      display: none;\n",
              "      fill: #1967D2;\n",
              "      height: 32px;\n",
              "      padding: 0 0 0 0;\n",
              "      width: 32px;\n",
              "    }\n",
              "\n",
              "    .colab-df-convert:hover {\n",
              "      background-color: #E2EBFA;\n",
              "      box-shadow: 0px 1px 2px rgba(60, 64, 67, 0.3), 0px 1px 3px 1px rgba(60, 64, 67, 0.15);\n",
              "      fill: #174EA6;\n",
              "    }\n",
              "\n",
              "    .colab-df-buttons div {\n",
              "      margin-bottom: 4px;\n",
              "    }\n",
              "\n",
              "    [theme=dark] .colab-df-convert {\n",
              "      background-color: #3B4455;\n",
              "      fill: #D2E3FC;\n",
              "    }\n",
              "\n",
              "    [theme=dark] .colab-df-convert:hover {\n",
              "      background-color: #434B5C;\n",
              "      box-shadow: 0px 1px 3px 1px rgba(0, 0, 0, 0.15);\n",
              "      filter: drop-shadow(0px 1px 2px rgba(0, 0, 0, 0.3));\n",
              "      fill: #FFFFFF;\n",
              "    }\n",
              "  </style>\n",
              "\n",
              "    <script>\n",
              "      const buttonEl =\n",
              "        document.querySelector('#df-a01a7b55-9aef-4828-9ee9-b212d10ee3d0 button.colab-df-convert');\n",
              "      buttonEl.style.display =\n",
              "        google.colab.kernel.accessAllowed ? 'block' : 'none';\n",
              "\n",
              "      async function convertToInteractive(key) {\n",
              "        const element = document.querySelector('#df-a01a7b55-9aef-4828-9ee9-b212d10ee3d0');\n",
              "        const dataTable =\n",
              "          await google.colab.kernel.invokeFunction('convertToInteractive',\n",
              "                                                    [key], {});\n",
              "        if (!dataTable) return;\n",
              "\n",
              "        const docLinkHtml = 'Like what you see? Visit the ' +\n",
              "          '<a target=\"_blank\" href=https://colab.research.google.com/notebooks/data_table.ipynb>data table notebook</a>'\n",
              "          + ' to learn more about interactive tables.';\n",
              "        element.innerHTML = '';\n",
              "        dataTable['output_type'] = 'display_data';\n",
              "        await google.colab.output.renderOutput(dataTable, element);\n",
              "        const docLink = document.createElement('div');\n",
              "        docLink.innerHTML = docLinkHtml;\n",
              "        element.appendChild(docLink);\n",
              "      }\n",
              "    </script>\n",
              "  </div>\n",
              "\n",
              "\n",
              "<div id=\"df-9b7f1ed1-24a8-4420-83c9-27732f2f46f6\">\n",
              "  <button class=\"colab-df-quickchart\" onclick=\"quickchart('df-9b7f1ed1-24a8-4420-83c9-27732f2f46f6')\"\n",
              "            title=\"Suggest charts\"\n",
              "            style=\"display:none;\">\n",
              "\n",
              "<svg xmlns=\"http://www.w3.org/2000/svg\" height=\"24px\"viewBox=\"0 0 24 24\"\n",
              "     width=\"24px\">\n",
              "    <g>\n",
              "        <path d=\"M19 3H5c-1.1 0-2 .9-2 2v14c0 1.1.9 2 2 2h14c1.1 0 2-.9 2-2V5c0-1.1-.9-2-2-2zM9 17H7v-7h2v7zm4 0h-2V7h2v10zm4 0h-2v-4h2v4z\"/>\n",
              "    </g>\n",
              "</svg>\n",
              "  </button>\n",
              "\n",
              "<style>\n",
              "  .colab-df-quickchart {\n",
              "      --bg-color: #E8F0FE;\n",
              "      --fill-color: #1967D2;\n",
              "      --hover-bg-color: #E2EBFA;\n",
              "      --hover-fill-color: #174EA6;\n",
              "      --disabled-fill-color: #AAA;\n",
              "      --disabled-bg-color: #DDD;\n",
              "  }\n",
              "\n",
              "  [theme=dark] .colab-df-quickchart {\n",
              "      --bg-color: #3B4455;\n",
              "      --fill-color: #D2E3FC;\n",
              "      --hover-bg-color: #434B5C;\n",
              "      --hover-fill-color: #FFFFFF;\n",
              "      --disabled-bg-color: #3B4455;\n",
              "      --disabled-fill-color: #666;\n",
              "  }\n",
              "\n",
              "  .colab-df-quickchart {\n",
              "    background-color: var(--bg-color);\n",
              "    border: none;\n",
              "    border-radius: 50%;\n",
              "    cursor: pointer;\n",
              "    display: none;\n",
              "    fill: var(--fill-color);\n",
              "    height: 32px;\n",
              "    padding: 0;\n",
              "    width: 32px;\n",
              "  }\n",
              "\n",
              "  .colab-df-quickchart:hover {\n",
              "    background-color: var(--hover-bg-color);\n",
              "    box-shadow: 0 1px 2px rgba(60, 64, 67, 0.3), 0 1px 3px 1px rgba(60, 64, 67, 0.15);\n",
              "    fill: var(--button-hover-fill-color);\n",
              "  }\n",
              "\n",
              "  .colab-df-quickchart-complete:disabled,\n",
              "  .colab-df-quickchart-complete:disabled:hover {\n",
              "    background-color: var(--disabled-bg-color);\n",
              "    fill: var(--disabled-fill-color);\n",
              "    box-shadow: none;\n",
              "  }\n",
              "\n",
              "  .colab-df-spinner {\n",
              "    border: 2px solid var(--fill-color);\n",
              "    border-color: transparent;\n",
              "    border-bottom-color: var(--fill-color);\n",
              "    animation:\n",
              "      spin 1s steps(1) infinite;\n",
              "  }\n",
              "\n",
              "  @keyframes spin {\n",
              "    0% {\n",
              "      border-color: transparent;\n",
              "      border-bottom-color: var(--fill-color);\n",
              "      border-left-color: var(--fill-color);\n",
              "    }\n",
              "    20% {\n",
              "      border-color: transparent;\n",
              "      border-left-color: var(--fill-color);\n",
              "      border-top-color: var(--fill-color);\n",
              "    }\n",
              "    30% {\n",
              "      border-color: transparent;\n",
              "      border-left-color: var(--fill-color);\n",
              "      border-top-color: var(--fill-color);\n",
              "      border-right-color: var(--fill-color);\n",
              "    }\n",
              "    40% {\n",
              "      border-color: transparent;\n",
              "      border-right-color: var(--fill-color);\n",
              "      border-top-color: var(--fill-color);\n",
              "    }\n",
              "    60% {\n",
              "      border-color: transparent;\n",
              "      border-right-color: var(--fill-color);\n",
              "    }\n",
              "    80% {\n",
              "      border-color: transparent;\n",
              "      border-right-color: var(--fill-color);\n",
              "      border-bottom-color: var(--fill-color);\n",
              "    }\n",
              "    90% {\n",
              "      border-color: transparent;\n",
              "      border-bottom-color: var(--fill-color);\n",
              "    }\n",
              "  }\n",
              "</style>\n",
              "\n",
              "  <script>\n",
              "    async function quickchart(key) {\n",
              "      const quickchartButtonEl =\n",
              "        document.querySelector('#' + key + ' button');\n",
              "      quickchartButtonEl.disabled = true;  // To prevent multiple clicks.\n",
              "      quickchartButtonEl.classList.add('colab-df-spinner');\n",
              "      try {\n",
              "        const charts = await google.colab.kernel.invokeFunction(\n",
              "            'suggestCharts', [key], {});\n",
              "      } catch (error) {\n",
              "        console.error('Error during call to suggestCharts:', error);\n",
              "      }\n",
              "      quickchartButtonEl.classList.remove('colab-df-spinner');\n",
              "      quickchartButtonEl.classList.add('colab-df-quickchart-complete');\n",
              "    }\n",
              "    (() => {\n",
              "      let quickchartButtonEl =\n",
              "        document.querySelector('#df-9b7f1ed1-24a8-4420-83c9-27732f2f46f6 button');\n",
              "      quickchartButtonEl.style.display =\n",
              "        google.colab.kernel.accessAllowed ? 'block' : 'none';\n",
              "    })();\n",
              "  </script>\n",
              "</div>\n",
              "\n",
              "    </div>\n",
              "  </div>\n"
            ],
            "application/vnd.google.colaboratory.intrinsic+json": {
              "type": "dataframe"
            }
          },
          "metadata": {},
          "execution_count": 21
        }
      ]
    },
    {
      "cell_type": "markdown",
      "source": [
        "Aunque para ayudar a la legibilidad del codigo es comun separar las lineas largas asi."
      ],
      "metadata": {
        "id": "KstZOzkuhu-y"
      }
    },
    {
      "cell_type": "code",
      "source": [
        "df_fifa.limit(10) \\\n",
        "  .toPandas() \\\n",
        "  .head(5)"
      ],
      "metadata": {
        "id": "yM2p8BpdhyBK",
        "colab": {
          "base_uri": "https://localhost:8080/",
          "height": 463
        },
        "outputId": "c849a7db-a5ca-4cb2-a28c-d6753ace959f"
      },
      "execution_count": null,
      "outputs": [
        {
          "output_type": "execute_result",
          "data": {
            "text/plain": [
              "   sofifa_id                                         player_url  \\\n",
              "0     158023  https://sofifa.com/player/158023/lionel-messi/...   \n",
              "1      20801  https://sofifa.com/player/20801/c-ronaldo-dos-...   \n",
              "2     190871  https://sofifa.com/player/190871/neymar-da-sil...   \n",
              "3     200389  https://sofifa.com/player/200389/jan-oblak/20/...   \n",
              "4     183277  https://sofifa.com/player/183277/eden-hazard/2...   \n",
              "\n",
              "          short_name                            long_name  age         dob  \\\n",
              "0           L. Messi       Lionel Andrés Messi Cuccittini   32  1987-06-24   \n",
              "1  Cristiano Ronaldo  Cristiano Ronaldo dos Santos Aveiro   34  1985-02-05   \n",
              "2          Neymar Jr        Neymar da Silva Santos Junior   27  1992-02-05   \n",
              "3           J. Oblak                            Jan Oblak   26  1993-01-07   \n",
              "4          E. Hazard                          Eden Hazard   28  1991-01-07   \n",
              "\n",
              "   height_cm  weight_kg nationality                 club  ...   lwb   ldm  \\\n",
              "0        170         72   Argentina         FC Barcelona  ...  68+2  66+2   \n",
              "1        187         83    Portugal             Juventus  ...  65+3  61+3   \n",
              "2        175         68      Brazil  Paris Saint-Germain  ...  66+3  61+3   \n",
              "3        188         87    Slovenia      Atlético Madrid  ...  None  None   \n",
              "4        175         74     Belgium          Real Madrid  ...  66+3  63+3   \n",
              "\n",
              "    cdm   rdm   rwb    lb   lcb    cb   rcb    rb  \n",
              "0  66+2  66+2  68+2  63+2  52+2  52+2  52+2  63+2  \n",
              "1  61+3  61+3  65+3  61+3  53+3  53+3  53+3  61+3  \n",
              "2  61+3  61+3  66+3  61+3  46+3  46+3  46+3  61+3  \n",
              "3  None  None  None  None  None  None  None  None  \n",
              "4  63+3  63+3  66+3  61+3  49+3  49+3  49+3  61+3  \n",
              "\n",
              "[5 rows x 104 columns]"
            ],
            "text/html": [
              "\n",
              "  <div id=\"df-f0b06e39-0e9b-4687-8545-465d8a15b798\" class=\"colab-df-container\">\n",
              "    <div>\n",
              "<style scoped>\n",
              "    .dataframe tbody tr th:only-of-type {\n",
              "        vertical-align: middle;\n",
              "    }\n",
              "\n",
              "    .dataframe tbody tr th {\n",
              "        vertical-align: top;\n",
              "    }\n",
              "\n",
              "    .dataframe thead th {\n",
              "        text-align: right;\n",
              "    }\n",
              "</style>\n",
              "<table border=\"1\" class=\"dataframe\">\n",
              "  <thead>\n",
              "    <tr style=\"text-align: right;\">\n",
              "      <th></th>\n",
              "      <th>sofifa_id</th>\n",
              "      <th>player_url</th>\n",
              "      <th>short_name</th>\n",
              "      <th>long_name</th>\n",
              "      <th>age</th>\n",
              "      <th>dob</th>\n",
              "      <th>height_cm</th>\n",
              "      <th>weight_kg</th>\n",
              "      <th>nationality</th>\n",
              "      <th>club</th>\n",
              "      <th>...</th>\n",
              "      <th>lwb</th>\n",
              "      <th>ldm</th>\n",
              "      <th>cdm</th>\n",
              "      <th>rdm</th>\n",
              "      <th>rwb</th>\n",
              "      <th>lb</th>\n",
              "      <th>lcb</th>\n",
              "      <th>cb</th>\n",
              "      <th>rcb</th>\n",
              "      <th>rb</th>\n",
              "    </tr>\n",
              "  </thead>\n",
              "  <tbody>\n",
              "    <tr>\n",
              "      <th>0</th>\n",
              "      <td>158023</td>\n",
              "      <td>https://sofifa.com/player/158023/lionel-messi/...</td>\n",
              "      <td>L. Messi</td>\n",
              "      <td>Lionel Andrés Messi Cuccittini</td>\n",
              "      <td>32</td>\n",
              "      <td>1987-06-24</td>\n",
              "      <td>170</td>\n",
              "      <td>72</td>\n",
              "      <td>Argentina</td>\n",
              "      <td>FC Barcelona</td>\n",
              "      <td>...</td>\n",
              "      <td>68+2</td>\n",
              "      <td>66+2</td>\n",
              "      <td>66+2</td>\n",
              "      <td>66+2</td>\n",
              "      <td>68+2</td>\n",
              "      <td>63+2</td>\n",
              "      <td>52+2</td>\n",
              "      <td>52+2</td>\n",
              "      <td>52+2</td>\n",
              "      <td>63+2</td>\n",
              "    </tr>\n",
              "    <tr>\n",
              "      <th>1</th>\n",
              "      <td>20801</td>\n",
              "      <td>https://sofifa.com/player/20801/c-ronaldo-dos-...</td>\n",
              "      <td>Cristiano Ronaldo</td>\n",
              "      <td>Cristiano Ronaldo dos Santos Aveiro</td>\n",
              "      <td>34</td>\n",
              "      <td>1985-02-05</td>\n",
              "      <td>187</td>\n",
              "      <td>83</td>\n",
              "      <td>Portugal</td>\n",
              "      <td>Juventus</td>\n",
              "      <td>...</td>\n",
              "      <td>65+3</td>\n",
              "      <td>61+3</td>\n",
              "      <td>61+3</td>\n",
              "      <td>61+3</td>\n",
              "      <td>65+3</td>\n",
              "      <td>61+3</td>\n",
              "      <td>53+3</td>\n",
              "      <td>53+3</td>\n",
              "      <td>53+3</td>\n",
              "      <td>61+3</td>\n",
              "    </tr>\n",
              "    <tr>\n",
              "      <th>2</th>\n",
              "      <td>190871</td>\n",
              "      <td>https://sofifa.com/player/190871/neymar-da-sil...</td>\n",
              "      <td>Neymar Jr</td>\n",
              "      <td>Neymar da Silva Santos Junior</td>\n",
              "      <td>27</td>\n",
              "      <td>1992-02-05</td>\n",
              "      <td>175</td>\n",
              "      <td>68</td>\n",
              "      <td>Brazil</td>\n",
              "      <td>Paris Saint-Germain</td>\n",
              "      <td>...</td>\n",
              "      <td>66+3</td>\n",
              "      <td>61+3</td>\n",
              "      <td>61+3</td>\n",
              "      <td>61+3</td>\n",
              "      <td>66+3</td>\n",
              "      <td>61+3</td>\n",
              "      <td>46+3</td>\n",
              "      <td>46+3</td>\n",
              "      <td>46+3</td>\n",
              "      <td>61+3</td>\n",
              "    </tr>\n",
              "    <tr>\n",
              "      <th>3</th>\n",
              "      <td>200389</td>\n",
              "      <td>https://sofifa.com/player/200389/jan-oblak/20/...</td>\n",
              "      <td>J. Oblak</td>\n",
              "      <td>Jan Oblak</td>\n",
              "      <td>26</td>\n",
              "      <td>1993-01-07</td>\n",
              "      <td>188</td>\n",
              "      <td>87</td>\n",
              "      <td>Slovenia</td>\n",
              "      <td>Atlético Madrid</td>\n",
              "      <td>...</td>\n",
              "      <td>None</td>\n",
              "      <td>None</td>\n",
              "      <td>None</td>\n",
              "      <td>None</td>\n",
              "      <td>None</td>\n",
              "      <td>None</td>\n",
              "      <td>None</td>\n",
              "      <td>None</td>\n",
              "      <td>None</td>\n",
              "      <td>None</td>\n",
              "    </tr>\n",
              "    <tr>\n",
              "      <th>4</th>\n",
              "      <td>183277</td>\n",
              "      <td>https://sofifa.com/player/183277/eden-hazard/2...</td>\n",
              "      <td>E. Hazard</td>\n",
              "      <td>Eden Hazard</td>\n",
              "      <td>28</td>\n",
              "      <td>1991-01-07</td>\n",
              "      <td>175</td>\n",
              "      <td>74</td>\n",
              "      <td>Belgium</td>\n",
              "      <td>Real Madrid</td>\n",
              "      <td>...</td>\n",
              "      <td>66+3</td>\n",
              "      <td>63+3</td>\n",
              "      <td>63+3</td>\n",
              "      <td>63+3</td>\n",
              "      <td>66+3</td>\n",
              "      <td>61+3</td>\n",
              "      <td>49+3</td>\n",
              "      <td>49+3</td>\n",
              "      <td>49+3</td>\n",
              "      <td>61+3</td>\n",
              "    </tr>\n",
              "  </tbody>\n",
              "</table>\n",
              "<p>5 rows × 104 columns</p>\n",
              "</div>\n",
              "    <div class=\"colab-df-buttons\">\n",
              "\n",
              "  <div class=\"colab-df-container\">\n",
              "    <button class=\"colab-df-convert\" onclick=\"convertToInteractive('df-f0b06e39-0e9b-4687-8545-465d8a15b798')\"\n",
              "            title=\"Convert this dataframe to an interactive table.\"\n",
              "            style=\"display:none;\">\n",
              "\n",
              "  <svg xmlns=\"http://www.w3.org/2000/svg\" height=\"24px\" viewBox=\"0 -960 960 960\">\n",
              "    <path d=\"M120-120v-720h720v720H120Zm60-500h600v-160H180v160Zm220 220h160v-160H400v160Zm0 220h160v-160H400v160ZM180-400h160v-160H180v160Zm440 0h160v-160H620v160ZM180-180h160v-160H180v160Zm440 0h160v-160H620v160Z\"/>\n",
              "  </svg>\n",
              "    </button>\n",
              "\n",
              "  <style>\n",
              "    .colab-df-container {\n",
              "      display:flex;\n",
              "      gap: 12px;\n",
              "    }\n",
              "\n",
              "    .colab-df-convert {\n",
              "      background-color: #E8F0FE;\n",
              "      border: none;\n",
              "      border-radius: 50%;\n",
              "      cursor: pointer;\n",
              "      display: none;\n",
              "      fill: #1967D2;\n",
              "      height: 32px;\n",
              "      padding: 0 0 0 0;\n",
              "      width: 32px;\n",
              "    }\n",
              "\n",
              "    .colab-df-convert:hover {\n",
              "      background-color: #E2EBFA;\n",
              "      box-shadow: 0px 1px 2px rgba(60, 64, 67, 0.3), 0px 1px 3px 1px rgba(60, 64, 67, 0.15);\n",
              "      fill: #174EA6;\n",
              "    }\n",
              "\n",
              "    .colab-df-buttons div {\n",
              "      margin-bottom: 4px;\n",
              "    }\n",
              "\n",
              "    [theme=dark] .colab-df-convert {\n",
              "      background-color: #3B4455;\n",
              "      fill: #D2E3FC;\n",
              "    }\n",
              "\n",
              "    [theme=dark] .colab-df-convert:hover {\n",
              "      background-color: #434B5C;\n",
              "      box-shadow: 0px 1px 3px 1px rgba(0, 0, 0, 0.15);\n",
              "      filter: drop-shadow(0px 1px 2px rgba(0, 0, 0, 0.3));\n",
              "      fill: #FFFFFF;\n",
              "    }\n",
              "  </style>\n",
              "\n",
              "    <script>\n",
              "      const buttonEl =\n",
              "        document.querySelector('#df-f0b06e39-0e9b-4687-8545-465d8a15b798 button.colab-df-convert');\n",
              "      buttonEl.style.display =\n",
              "        google.colab.kernel.accessAllowed ? 'block' : 'none';\n",
              "\n",
              "      async function convertToInteractive(key) {\n",
              "        const element = document.querySelector('#df-f0b06e39-0e9b-4687-8545-465d8a15b798');\n",
              "        const dataTable =\n",
              "          await google.colab.kernel.invokeFunction('convertToInteractive',\n",
              "                                                    [key], {});\n",
              "        if (!dataTable) return;\n",
              "\n",
              "        const docLinkHtml = 'Like what you see? Visit the ' +\n",
              "          '<a target=\"_blank\" href=https://colab.research.google.com/notebooks/data_table.ipynb>data table notebook</a>'\n",
              "          + ' to learn more about interactive tables.';\n",
              "        element.innerHTML = '';\n",
              "        dataTable['output_type'] = 'display_data';\n",
              "        await google.colab.output.renderOutput(dataTable, element);\n",
              "        const docLink = document.createElement('div');\n",
              "        docLink.innerHTML = docLinkHtml;\n",
              "        element.appendChild(docLink);\n",
              "      }\n",
              "    </script>\n",
              "  </div>\n",
              "\n",
              "\n",
              "<div id=\"df-477c4d80-a87d-4263-ab25-af348a578f9e\">\n",
              "  <button class=\"colab-df-quickchart\" onclick=\"quickchart('df-477c4d80-a87d-4263-ab25-af348a578f9e')\"\n",
              "            title=\"Suggest charts\"\n",
              "            style=\"display:none;\">\n",
              "\n",
              "<svg xmlns=\"http://www.w3.org/2000/svg\" height=\"24px\"viewBox=\"0 0 24 24\"\n",
              "     width=\"24px\">\n",
              "    <g>\n",
              "        <path d=\"M19 3H5c-1.1 0-2 .9-2 2v14c0 1.1.9 2 2 2h14c1.1 0 2-.9 2-2V5c0-1.1-.9-2-2-2zM9 17H7v-7h2v7zm4 0h-2V7h2v10zm4 0h-2v-4h2v4z\"/>\n",
              "    </g>\n",
              "</svg>\n",
              "  </button>\n",
              "\n",
              "<style>\n",
              "  .colab-df-quickchart {\n",
              "      --bg-color: #E8F0FE;\n",
              "      --fill-color: #1967D2;\n",
              "      --hover-bg-color: #E2EBFA;\n",
              "      --hover-fill-color: #174EA6;\n",
              "      --disabled-fill-color: #AAA;\n",
              "      --disabled-bg-color: #DDD;\n",
              "  }\n",
              "\n",
              "  [theme=dark] .colab-df-quickchart {\n",
              "      --bg-color: #3B4455;\n",
              "      --fill-color: #D2E3FC;\n",
              "      --hover-bg-color: #434B5C;\n",
              "      --hover-fill-color: #FFFFFF;\n",
              "      --disabled-bg-color: #3B4455;\n",
              "      --disabled-fill-color: #666;\n",
              "  }\n",
              "\n",
              "  .colab-df-quickchart {\n",
              "    background-color: var(--bg-color);\n",
              "    border: none;\n",
              "    border-radius: 50%;\n",
              "    cursor: pointer;\n",
              "    display: none;\n",
              "    fill: var(--fill-color);\n",
              "    height: 32px;\n",
              "    padding: 0;\n",
              "    width: 32px;\n",
              "  }\n",
              "\n",
              "  .colab-df-quickchart:hover {\n",
              "    background-color: var(--hover-bg-color);\n",
              "    box-shadow: 0 1px 2px rgba(60, 64, 67, 0.3), 0 1px 3px 1px rgba(60, 64, 67, 0.15);\n",
              "    fill: var(--button-hover-fill-color);\n",
              "  }\n",
              "\n",
              "  .colab-df-quickchart-complete:disabled,\n",
              "  .colab-df-quickchart-complete:disabled:hover {\n",
              "    background-color: var(--disabled-bg-color);\n",
              "    fill: var(--disabled-fill-color);\n",
              "    box-shadow: none;\n",
              "  }\n",
              "\n",
              "  .colab-df-spinner {\n",
              "    border: 2px solid var(--fill-color);\n",
              "    border-color: transparent;\n",
              "    border-bottom-color: var(--fill-color);\n",
              "    animation:\n",
              "      spin 1s steps(1) infinite;\n",
              "  }\n",
              "\n",
              "  @keyframes spin {\n",
              "    0% {\n",
              "      border-color: transparent;\n",
              "      border-bottom-color: var(--fill-color);\n",
              "      border-left-color: var(--fill-color);\n",
              "    }\n",
              "    20% {\n",
              "      border-color: transparent;\n",
              "      border-left-color: var(--fill-color);\n",
              "      border-top-color: var(--fill-color);\n",
              "    }\n",
              "    30% {\n",
              "      border-color: transparent;\n",
              "      border-left-color: var(--fill-color);\n",
              "      border-top-color: var(--fill-color);\n",
              "      border-right-color: var(--fill-color);\n",
              "    }\n",
              "    40% {\n",
              "      border-color: transparent;\n",
              "      border-right-color: var(--fill-color);\n",
              "      border-top-color: var(--fill-color);\n",
              "    }\n",
              "    60% {\n",
              "      border-color: transparent;\n",
              "      border-right-color: var(--fill-color);\n",
              "    }\n",
              "    80% {\n",
              "      border-color: transparent;\n",
              "      border-right-color: var(--fill-color);\n",
              "      border-bottom-color: var(--fill-color);\n",
              "    }\n",
              "    90% {\n",
              "      border-color: transparent;\n",
              "      border-bottom-color: var(--fill-color);\n",
              "    }\n",
              "  }\n",
              "</style>\n",
              "\n",
              "  <script>\n",
              "    async function quickchart(key) {\n",
              "      const quickchartButtonEl =\n",
              "        document.querySelector('#' + key + ' button');\n",
              "      quickchartButtonEl.disabled = true;  // To prevent multiple clicks.\n",
              "      quickchartButtonEl.classList.add('colab-df-spinner');\n",
              "      try {\n",
              "        const charts = await google.colab.kernel.invokeFunction(\n",
              "            'suggestCharts', [key], {});\n",
              "      } catch (error) {\n",
              "        console.error('Error during call to suggestCharts:', error);\n",
              "      }\n",
              "      quickchartButtonEl.classList.remove('colab-df-spinner');\n",
              "      quickchartButtonEl.classList.add('colab-df-quickchart-complete');\n",
              "    }\n",
              "    (() => {\n",
              "      let quickchartButtonEl =\n",
              "        document.querySelector('#df-477c4d80-a87d-4263-ab25-af348a578f9e button');\n",
              "      quickchartButtonEl.style.display =\n",
              "        google.colab.kernel.accessAllowed ? 'block' : 'none';\n",
              "    })();\n",
              "  </script>\n",
              "</div>\n",
              "\n",
              "    </div>\n",
              "  </div>\n"
            ],
            "application/vnd.google.colaboratory.intrinsic+json": {
              "type": "dataframe"
            }
          },
          "metadata": {},
          "execution_count": 22
        }
      ]
    },
    {
      "cell_type": "markdown",
      "source": [
        "Podemos ver el resumen de toda la base de datos a través del comando `summary()`, es importante que debe ser acompañado por `show()` para ser visible."
      ],
      "metadata": {
        "id": "iDdOFrrEF_H0"
      }
    },
    {
      "cell_type": "code",
      "source": [
        "df_fifa.summary().show()"
      ],
      "metadata": {
        "colab": {
          "base_uri": "https://localhost:8080/"
        },
        "id": "yLkheWp9GGdS",
        "outputId": "2d728647-7be1-40f5-b093-ae4ad2cb73a8"
      },
      "execution_count": null,
      "outputs": [
        {
          "output_type": "stream",
          "name": "stdout",
          "text": [
            "+-------+------------------+--------------------+-----------+--------------------+------------------+------------------+-----------------+-----------+--------------------+-----------------+-----------------+-----------------+-----------------+----------------+--------------+------------------------+------------------+------------------+-------------+---------+---------+--------------------+-----------+-------------+------------------+--------------------+--------------------+---------------+--------------------+-----------------+------------------+------------------+------------------+-----------------+-----------------+-----------------+------------------+------------------+-----------------+-----------------+-----------------+--------------------+------------------+-------------------+--------------------------+-----------------------+------------------+-----------------+------------------+------------------+------------------+------------------+---------------------+---------------------+------------------+------------------+------------------+------------------+------------------+------------------+------------------+------------------+--------------------+-----------------------+---------------------+------------------+-------------------+-------------------+-----------------+-------------------------+------------------------+------------------+--------------------+-------------------+-----------------------+--------------------+-----+-----+-----+-----+-----+-----+-----+-----+-----+-----+-----+-----+-----+-----+-----+-----+-----+-----+-----+-----+-----+-----+-----+-----+-----+-----+\n",
            "|summary|         sofifa_id|          player_url| short_name|           long_name|               age|         height_cm|        weight_kg|nationality|                club|          overall|        potential|        value_eur|         wage_eur|player_positions|preferred_foot|international_reputation|         weak_foot|       skill_moves|    work_rate|body_type|real_face|  release_clause_eur|player_tags|team_position|team_jersey_number|         loaned_from|contract_valid_until|nation_position|nation_jersey_number|             pace|          shooting|           passing|         dribbling|        defending|           physic|        gk_diving|       gk_handling|        gk_kicking|      gk_reflexes|         gk_speed|   gk_positioning|       player_traits|attacking_crossing|attacking_finishing|attacking_heading_accuracy|attacking_short_passing| attacking_volleys|  skill_dribbling|       skill_curve| skill_fk_accuracy|skill_long_passing|skill_ball_control|movement_acceleration|movement_sprint_speed|  movement_agility|movement_reactions|  movement_balance|  power_shot_power|     power_jumping|     power_stamina|    power_strength|  power_long_shots|mentality_aggression|mentality_interceptions|mentality_positioning|  mentality_vision|mentality_penalties|mentality_composure|defending_marking|defending_standing_tackle|defending_sliding_tackle|goalkeeping_diving|goalkeeping_handling|goalkeeping_kicking|goalkeeping_positioning|goalkeeping_reflexes|   ls|   st|   rs|   lw|   lf|   cf|   rf|   rw|  lam|  cam|  ram|   lm|  lcm|   cm|  rcm|   rm|  lwb|  ldm|  cdm|  rdm|  rwb|   lb|  lcb|   cb|  rcb|   rb|\n",
            "+-------+------------------+--------------------+-----------+--------------------+------------------+------------------+-----------------+-----------+--------------------+-----------------+-----------------+-----------------+-----------------+----------------+--------------+------------------------+------------------+------------------+-------------+---------+---------+--------------------+-----------+-------------+------------------+--------------------+--------------------+---------------+--------------------+-----------------+------------------+------------------+------------------+-----------------+-----------------+-----------------+------------------+------------------+-----------------+-----------------+-----------------+--------------------+------------------+-------------------+--------------------------+-----------------------+------------------+-----------------+------------------+------------------+------------------+------------------+---------------------+---------------------+------------------+------------------+------------------+------------------+------------------+------------------+------------------+------------------+--------------------+-----------------------+---------------------+------------------+-------------------+-------------------+-----------------+-------------------------+------------------------+------------------+--------------------+-------------------+-----------------------+--------------------+-----+-----+-----+-----+-----+-----+-----+-----+-----+-----+-----+-----+-----+-----+-----+-----+-----+-----+-----+-----+-----+-----+-----+-----+-----+-----+\n",
            "|  count|             18278|               18278|      18278|               18278|             18278|             18278|            18278|      18278|               18278|            18278|            18278|            18278|            18278|           18278|         18278|                   18278|             18278|             18278|        18278|    18278|    18278|               16980|       1499|        18038|             18038|                1048|               18038|           1126|                1126|            16242|             16242|             16242|             16242|            16242|            16242|             2036|              2036|              2036|             2036|             2036|             2036|                7566|             18278|              18278|                     18278|                  18278|             18278|            18278|             18278|             18278|             18278|             18278|                18278|                18278|             18278|             18278|             18278|             18278|             18278|             18278|             18278|             18278|               18278|                  18278|                18278|             18278|              18278|              18278|            18278|                    18278|                   18278|             18278|               18278|              18278|                  18278|               18278|16242|16242|16242|16242|16242|16242|16242|16242|16242|16242|16242|16242|16242|16242|16242|16242|16242|16242|16242|16242|16242|16242|16242|16242|16242|16242|\n",
            "|   mean| 219738.8644818908|                NULL|       NULL|                NULL|25.283291388554545|181.36218404639456| 75.2763431447642|       NULL|                NULL|66.24499398183609| 71.5468869679396|2484037.640879746|9456.942772732247|            NULL|          NULL|      1.1031841558157347|2.9442499179341284|2.3680380785643944|         NULL|     NULL|     NULL|   4740717.432273263|       NULL|         NULL| 20.10389178401153|                NULL|  2021.1145914181172|           NULL|    12.1145648312611|67.70089890407586|   52.298300701884| 57.23377662849403| 62.53158478019948|51.55350326314493|64.87667774904568|65.42239685658153|63.146365422396855|61.832514734774065|66.39047151277013|37.79862475442043|63.37475442043222|                NULL| 49.71840463945727|  45.59021774811249|         52.22146843199475|      58.74800306379254| 42.80938833570413|55.59650946493052| 47.32569208884998|42.708884998358684| 52.76884779516359| 58.46197614618667|    64.29992340518656|     64.4157457052194| 63.50492395229237|61.752544042017725|63.856439435386804|58.181693839588576| 64.92816500711237|62.889484626326734| 65.23476310318415| 46.81294452347084|  55.742149031622716|      46.38023853813328|   50.072163256373784|  53.6097494255389|  48.38335704125178|  58.52877776561987|46.84888937520517|        47.64033264033264|       45.60663092242039|16.572765072765073|  16.354852828537037| 16.212933581354633|     16.368038078564393|  16.709924499398184| NULL| NULL| NULL| NULL| NULL| NULL| NULL| NULL| NULL| NULL| NULL| NULL| NULL| NULL| NULL| NULL| NULL| NULL| NULL| NULL| NULL| NULL| NULL| NULL| NULL| NULL|\n",
            "| stddev|27960.200460596498|                NULL|       NULL|                NULL| 4.656964497822063| 6.756961363700425|7.047743570355314|       NULL|                NULL|6.949953254963632|6.139669074956072|5585481.061473887| 21351.7140952573|            NULL|          NULL|     0.37886052871812603|0.6646561758156149|0.7650375662223563|         NULL|     NULL|     NULL|1.1030016291501628E7|       NULL|         NULL|16.603639352941027|                NULL|  1.2898875612421334|           NULL|  6.7359216897511365| 11.2976558497778|14.029417783126291|10.407843962305517|10.284950375994594|16.41952761177001|9.760161828297697|7.736277816160426| 7.244022634781799| 7.510709389952552|8.154062467024774|10.63403825489362|8.447876385150085|                NULL|18.325403398899798| 19.594609428594243|        17.428429367898843|     14.679653260389342|17.701815314070153|18.92911774112276|18.422990665252456|17.433612384921062|15.246454093301036|16.741877982587592|   15.042231989413242|   14.847763420455426|14.808380221791442| 9.135612545027092|14.201558513633056|13.326082805668012|11.934059220265269|16.017954374315245|12.534811473979152|19.322342704161205|  17.318157304821316|      20.77581208768567|    19.59402176519641|13.955626029473066|  15.70809880855227| 11.880840325868654|20.09128730564524|        21.58564105366914|      21.217734228506867|  17.7380690628217|  16.996925180400197| 16.613664764184954|     17.136496981537473|  18.038125411441992| NULL| NULL| NULL| NULL| NULL| NULL| NULL| NULL| NULL| NULL| NULL| NULL| NULL| NULL| NULL| NULL| NULL| NULL| NULL| NULL| NULL| NULL| NULL| NULL| NULL| NULL|\n",
            "|    min|               768|https://sofifa.co...|A. Abdallah|A. Benjamin Chiam...|                16|               156|               50|Afghanistan| SSV Jahn Regensburg|               48|               49|                0|                0|             CAM|          Left|                       1|                 1|                 1|    High/High|Akinfenwa|       No|               13000|   #Acrobat|          CAM|                 1|1. FC Heidenheim ...|                2019|            CAM|                   1|               24|                15|                24|                23|               15|               27|               44|                42|                35|               45|               12|               41| Acrobatic Clearance|                 5|                  2|                         5|                      7|                 3|                4|                 6|                 4|                 8|                 5|                   12|                   11|                11|                21|                12|                14|                19|                12|                20|                 4|                   9|                      3|                    2|                 9|                  7|                 12|                1|                        5|                       3|                 1|                   1|                  1|                      1|                   1| 30+2| 30+2| 30+2| 25+2| 26+2| 26+2| 26+2| 25+2| 27+2| 27+2| 27+2| 27+2| 31+2| 31+2| 31+2| 27+2| 30+2| 28+2| 28+2| 28+2| 30+2| 30+2| 26+2| 26+2| 26+2| 30+2|\n",
            "|    25%|            204438|                NULL|       NULL|                NULL|                22|               177|               70|       NULL|                NULL|               62|               67|           325000|             1000|            NULL|          NULL|                       1|                 3|                 2|         NULL|     NULL|     NULL|              563000|       NULL|         NULL|                 9|                NULL|                2020|           NULL|                   6|               61|                42|                50|                57|               36|               59|               60|                58|                57|               60|               29|               58|                NULL|                38|                 30|                        44|                     54|                30|               50|                34|                31|                43|                54|                   56|                   57|                55|                56|                56|                48|                58|                56|                58|                32|                  44|                     25|                   39|                44|                 39|                 51|               29|                       27|                      24|                 8|                   8|                  8|                      8|                   8| NULL| NULL| NULL| NULL| NULL| NULL| NULL| NULL| NULL| NULL| NULL| NULL| NULL| NULL| NULL| NULL| NULL| NULL| NULL| NULL| NULL| NULL| NULL| NULL| NULL| NULL|\n",
            "|    50%|            226161|                NULL|       NULL|                NULL|                25|               181|               75|       NULL|                NULL|               66|               71|           700000|             3000|            NULL|          NULL|                       1|                 3|                 2|         NULL|     NULL|     NULL|             1200000|       NULL|         NULL|                17|                NULL|                2021|           NULL|                  12|               69|                54|                58|                64|               56|               66|               65|                63|                61|               66|               39|               64|                NULL|                54|                 49|                        56|                     62|                44|               61|                49|                41|                56|                63|                   67|                   67|                66|                62|                66|                59|                66|                66|                66|                51|                  58|                     52|                   55|                55|                 49|                 60|               52|                       55|                      52|                11|                  11|                 11|                     11|                  11| NULL| NULL| NULL| NULL| NULL| NULL| NULL| NULL| NULL| NULL| NULL| NULL| NULL| NULL| NULL| NULL| NULL| NULL| NULL| NULL| NULL| NULL| NULL| NULL| NULL| NULL|\n",
            "|    75%|            240787|                NULL|       NULL|                NULL|                29|               186|               80|       NULL|                NULL|               71|               75|          2100000|             8000|            NULL|          NULL|                       1|                 3|                 3|         NULL|     NULL|     NULL|             3700000|       NULL|         NULL|                27|                NULL|                2022|           NULL|                  18|               75|                63|                64|                69|               65|               72|               70|                68|                66|               72|               46|               69|                NULL|                64|                 62|                        64|                     68|                56|               68|                62|                56|                64|                69|                   75|                   75|                74|                68|                74|                68|                73|                74|                74|                62|                  69|                     64|                   64|                64|                 60|                 67|               64|                       66|                      64|                14|                  14|                 14|                     14|                  14| NULL| NULL| NULL| NULL| NULL| NULL| NULL| NULL| NULL| NULL| NULL| NULL| NULL| NULL| NULL| NULL| NULL| NULL| NULL| NULL| NULL| NULL| NULL| NULL| NULL| NULL|\n",
            "|    max|            252905|https://sofifa.co...| �. Vlădoiu|       황희찬 黄喜灿|                42|               205|              110|   Zimbabwe|       Śląsk Wrocław|               94|               95|        105500000|           565000|     ST, RWB, LM|         Right|                       5|                 5|                 5|Medium/Medium|   Stocky|      Yes|           195800000|#Tactician |          SUB|                99|       Östersunds FK|                2026|            SUB|                  30|               96|                93|                92|                96|               90|               90|               90|                92|                93|               92|               65|               91|Swerve Pass, Seco...|                93|                 95|                        93|                     92|                90|               97|                94|                94|                92|                96|                   97|                   96|                96|                96|                97|                95|                95|                97|                97|                94|                  95|                     92|                   95|                94|                 92|                 96|               94|                       92|                      90|                90|                  92|                 93|                     91|                  92| 91+3| 91+3| 91+3| 93+2| 93+2| 93+2| 93+2| 93+2| 93+2| 93+2| 93+2| 92+2| 87+3| 87+3| 87+3| 92+2| 85+3| 87+3| 87+3| 87+3| 85+3| 84+3| 87+3| 87+3| 87+3| 84+3|\n",
            "+-------+------------------+--------------------+-----------+--------------------+------------------+------------------+-----------------+-----------+--------------------+-----------------+-----------------+-----------------+-----------------+----------------+--------------+------------------------+------------------+------------------+-------------+---------+---------+--------------------+-----------+-------------+------------------+--------------------+--------------------+---------------+--------------------+-----------------+------------------+------------------+------------------+-----------------+-----------------+-----------------+------------------+------------------+-----------------+-----------------+-----------------+--------------------+------------------+-------------------+--------------------------+-----------------------+------------------+-----------------+------------------+------------------+------------------+------------------+---------------------+---------------------+------------------+------------------+------------------+------------------+------------------+------------------+------------------+------------------+--------------------+-----------------------+---------------------+------------------+-------------------+-------------------+-----------------+-------------------------+------------------------+------------------+--------------------+-------------------+-----------------------+--------------------+-----+-----+-----+-----+-----+-----+-----+-----+-----+-----+-----+-----+-----+-----+-----+-----+-----+-----+-----+-----+-----+-----+-----+-----+-----+-----+\n",
            "\n"
          ]
        }
      ]
    },
    {
      "cell_type": "markdown",
      "source": [
        "Para poder revisar la organización de nuestro DataFrame y el `data tpye` de cada campo podemos usar lo siguiente"
      ],
      "metadata": {
        "id": "xZL9Nh5Vh0Wz"
      }
    },
    {
      "cell_type": "code",
      "source": [
        "df_fifa.printSchema()"
      ],
      "metadata": {
        "id": "sSvmHoQ6h1ES",
        "colab": {
          "base_uri": "https://localhost:8080/"
        },
        "outputId": "3c96f618-f3ee-42ff-ddaa-40e7d66d487d"
      },
      "execution_count": null,
      "outputs": [
        {
          "output_type": "stream",
          "name": "stdout",
          "text": [
            "root\n",
            " |-- sofifa_id: integer (nullable = true)\n",
            " |-- player_url: string (nullable = true)\n",
            " |-- short_name: string (nullable = true)\n",
            " |-- long_name: string (nullable = true)\n",
            " |-- age: integer (nullable = true)\n",
            " |-- dob: date (nullable = true)\n",
            " |-- height_cm: integer (nullable = true)\n",
            " |-- weight_kg: integer (nullable = true)\n",
            " |-- nationality: string (nullable = true)\n",
            " |-- club: string (nullable = true)\n",
            " |-- overall: integer (nullable = true)\n",
            " |-- potential: integer (nullable = true)\n",
            " |-- value_eur: integer (nullable = true)\n",
            " |-- wage_eur: integer (nullable = true)\n",
            " |-- player_positions: string (nullable = true)\n",
            " |-- preferred_foot: string (nullable = true)\n",
            " |-- international_reputation: integer (nullable = true)\n",
            " |-- weak_foot: integer (nullable = true)\n",
            " |-- skill_moves: integer (nullable = true)\n",
            " |-- work_rate: string (nullable = true)\n",
            " |-- body_type: string (nullable = true)\n",
            " |-- real_face: string (nullable = true)\n",
            " |-- release_clause_eur: integer (nullable = true)\n",
            " |-- player_tags: string (nullable = true)\n",
            " |-- team_position: string (nullable = true)\n",
            " |-- team_jersey_number: integer (nullable = true)\n",
            " |-- loaned_from: string (nullable = true)\n",
            " |-- joined: date (nullable = true)\n",
            " |-- contract_valid_until: integer (nullable = true)\n",
            " |-- nation_position: string (nullable = true)\n",
            " |-- nation_jersey_number: integer (nullable = true)\n",
            " |-- pace: integer (nullable = true)\n",
            " |-- shooting: integer (nullable = true)\n",
            " |-- passing: integer (nullable = true)\n",
            " |-- dribbling: integer (nullable = true)\n",
            " |-- defending: integer (nullable = true)\n",
            " |-- physic: integer (nullable = true)\n",
            " |-- gk_diving: integer (nullable = true)\n",
            " |-- gk_handling: integer (nullable = true)\n",
            " |-- gk_kicking: integer (nullable = true)\n",
            " |-- gk_reflexes: integer (nullable = true)\n",
            " |-- gk_speed: integer (nullable = true)\n",
            " |-- gk_positioning: integer (nullable = true)\n",
            " |-- player_traits: string (nullable = true)\n",
            " |-- attacking_crossing: integer (nullable = true)\n",
            " |-- attacking_finishing: integer (nullable = true)\n",
            " |-- attacking_heading_accuracy: integer (nullable = true)\n",
            " |-- attacking_short_passing: integer (nullable = true)\n",
            " |-- attacking_volleys: integer (nullable = true)\n",
            " |-- skill_dribbling: integer (nullable = true)\n",
            " |-- skill_curve: integer (nullable = true)\n",
            " |-- skill_fk_accuracy: integer (nullable = true)\n",
            " |-- skill_long_passing: integer (nullable = true)\n",
            " |-- skill_ball_control: integer (nullable = true)\n",
            " |-- movement_acceleration: integer (nullable = true)\n",
            " |-- movement_sprint_speed: integer (nullable = true)\n",
            " |-- movement_agility: integer (nullable = true)\n",
            " |-- movement_reactions: integer (nullable = true)\n",
            " |-- movement_balance: integer (nullable = true)\n",
            " |-- power_shot_power: integer (nullable = true)\n",
            " |-- power_jumping: integer (nullable = true)\n",
            " |-- power_stamina: integer (nullable = true)\n",
            " |-- power_strength: integer (nullable = true)\n",
            " |-- power_long_shots: integer (nullable = true)\n",
            " |-- mentality_aggression: integer (nullable = true)\n",
            " |-- mentality_interceptions: integer (nullable = true)\n",
            " |-- mentality_positioning: integer (nullable = true)\n",
            " |-- mentality_vision: integer (nullable = true)\n",
            " |-- mentality_penalties: integer (nullable = true)\n",
            " |-- mentality_composure: integer (nullable = true)\n",
            " |-- defending_marking: integer (nullable = true)\n",
            " |-- defending_standing_tackle: integer (nullable = true)\n",
            " |-- defending_sliding_tackle: integer (nullable = true)\n",
            " |-- goalkeeping_diving: integer (nullable = true)\n",
            " |-- goalkeeping_handling: integer (nullable = true)\n",
            " |-- goalkeeping_kicking: integer (nullable = true)\n",
            " |-- goalkeeping_positioning: integer (nullable = true)\n",
            " |-- goalkeeping_reflexes: integer (nullable = true)\n",
            " |-- ls: string (nullable = true)\n",
            " |-- st: string (nullable = true)\n",
            " |-- rs: string (nullable = true)\n",
            " |-- lw: string (nullable = true)\n",
            " |-- lf: string (nullable = true)\n",
            " |-- cf: string (nullable = true)\n",
            " |-- rf: string (nullable = true)\n",
            " |-- rw: string (nullable = true)\n",
            " |-- lam: string (nullable = true)\n",
            " |-- cam: string (nullable = true)\n",
            " |-- ram: string (nullable = true)\n",
            " |-- lm: string (nullable = true)\n",
            " |-- lcm: string (nullable = true)\n",
            " |-- cm: string (nullable = true)\n",
            " |-- rcm: string (nullable = true)\n",
            " |-- rm: string (nullable = true)\n",
            " |-- lwb: string (nullable = true)\n",
            " |-- ldm: string (nullable = true)\n",
            " |-- cdm: string (nullable = true)\n",
            " |-- rdm: string (nullable = true)\n",
            " |-- rwb: string (nullable = true)\n",
            " |-- lb: string (nullable = true)\n",
            " |-- lcb: string (nullable = true)\n",
            " |-- cb: string (nullable = true)\n",
            " |-- rcb: string (nullable = true)\n",
            " |-- rb: string (nullable = true)\n",
            "\n"
          ]
        }
      ]
    },
    {
      "cell_type": "markdown",
      "source": [
        "### 1.3.2 Funciones\n",
        "\n",
        "#### **Renombar columnas**\n",
        "\n",
        "Podemos cambiar el nombre de alguna columna"
      ],
      "metadata": {
        "id": "ZyeaxS8JiEuB"
      }
    },
    {
      "cell_type": "code",
      "source": [
        "df_fifa.withColumnRenamed('value_eur','valor_euros').show(5)"
      ],
      "metadata": {
        "colab": {
          "base_uri": "https://localhost:8080/"
        },
        "id": "sC8bLuc2iG_C",
        "outputId": "242d1846-1a45-43a8-d9f1-39166eaec051"
      },
      "execution_count": null,
      "outputs": [
        {
          "output_type": "stream",
          "name": "stdout",
          "text": [
            "+---------+--------------------+-----------------+--------------------+---+----------+---------+---------+-----------+-------------------+-------+---------+-----------+--------+----------------+--------------+------------------------+---------+-----------+-------------+----------+---------+------------------+--------------------+-------------+------------------+-----------+----------+--------------------+---------------+--------------------+----+--------+-------+---------+---------+------+---------+-----------+----------+-----------+--------+--------------+--------------------+------------------+-------------------+--------------------------+-----------------------+-----------------+---------------+-----------+-----------------+------------------+------------------+---------------------+---------------------+----------------+------------------+----------------+----------------+-------------+-------------+--------------+----------------+--------------------+-----------------------+---------------------+----------------+-------------------+-------------------+-----------------+-------------------------+------------------------+------------------+--------------------+-------------------+-----------------------+--------------------+----+----+----+----+----+----+----+----+----+----+----+----+----+----+----+----+----+----+----+----+----+----+----+----+----+----+\n",
            "|sofifa_id|          player_url|       short_name|           long_name|age|       dob|height_cm|weight_kg|nationality|               club|overall|potential|valor_euros|wage_eur|player_positions|preferred_foot|international_reputation|weak_foot|skill_moves|    work_rate| body_type|real_face|release_clause_eur|         player_tags|team_position|team_jersey_number|loaned_from|    joined|contract_valid_until|nation_position|nation_jersey_number|pace|shooting|passing|dribbling|defending|physic|gk_diving|gk_handling|gk_kicking|gk_reflexes|gk_speed|gk_positioning|       player_traits|attacking_crossing|attacking_finishing|attacking_heading_accuracy|attacking_short_passing|attacking_volleys|skill_dribbling|skill_curve|skill_fk_accuracy|skill_long_passing|skill_ball_control|movement_acceleration|movement_sprint_speed|movement_agility|movement_reactions|movement_balance|power_shot_power|power_jumping|power_stamina|power_strength|power_long_shots|mentality_aggression|mentality_interceptions|mentality_positioning|mentality_vision|mentality_penalties|mentality_composure|defending_marking|defending_standing_tackle|defending_sliding_tackle|goalkeeping_diving|goalkeeping_handling|goalkeeping_kicking|goalkeeping_positioning|goalkeeping_reflexes|  ls|  st|  rs|  lw|  lf|  cf|  rf|  rw| lam| cam| ram|  lm| lcm|  cm| rcm|  rm| lwb| ldm| cdm| rdm| rwb|  lb| lcb|  cb| rcb|  rb|\n",
            "+---------+--------------------+-----------------+--------------------+---+----------+---------+---------+-----------+-------------------+-------+---------+-----------+--------+----------------+--------------+------------------------+---------+-----------+-------------+----------+---------+------------------+--------------------+-------------+------------------+-----------+----------+--------------------+---------------+--------------------+----+--------+-------+---------+---------+------+---------+-----------+----------+-----------+--------+--------------+--------------------+------------------+-------------------+--------------------------+-----------------------+-----------------+---------------+-----------+-----------------+------------------+------------------+---------------------+---------------------+----------------+------------------+----------------+----------------+-------------+-------------+--------------+----------------+--------------------+-----------------------+---------------------+----------------+-------------------+-------------------+-----------------+-------------------------+------------------------+------------------+--------------------+-------------------+-----------------------+--------------------+----+----+----+----+----+----+----+----+----+----+----+----+----+----+----+----+----+----+----+----+----+----+----+----+----+----+\n",
            "|   158023|https://sofifa.co...|         L. Messi|Lionel Andrés Mes...| 32|1987-06-24|      170|       72|  Argentina|       FC Barcelona|     94|       94|   95500000|  565000|      RW, CF, ST|          Left|                       5|        4|          4|   Medium/Low|     Messi|      Yes|         195800000|#Dribbler, #Dista...|           RW|                10|       NULL|2004-07-01|                2021|           NULL|                NULL|  87|      92|     92|       96|       39|    66|     NULL|       NULL|      NULL|       NULL|    NULL|          NULL|Beat Offside Trap...|                88|                 95|                        70|                     92|               88|             97|         93|               94|                92|                96|                   91|                   84|              93|                95|              95|              86|           68|           75|            68|              94|                  48|                     40|                   94|              94|                 75|                 96|               33|                       37|                      26|                 6|                  11|                 15|                     14|                   8|89+2|89+2|89+2|93+2|93+2|93+2|93+2|93+2|93+2|93+2|93+2|92+2|87+2|87+2|87+2|92+2|68+2|66+2|66+2|66+2|68+2|63+2|52+2|52+2|52+2|63+2|\n",
            "|    20801|https://sofifa.co...|Cristiano Ronaldo|Cristiano Ronaldo...| 34|1985-02-05|      187|       83|   Portugal|           Juventus|     93|       93|   58500000|  405000|          ST, LW|         Right|                       5|        4|          5|     High/Low|C. Ronaldo|      Yes|          96500000|#Speedster, #Drib...|           LW|                 7|       NULL|2018-07-10|                2022|             LS|                   7|  90|      93|     82|       89|       35|    78|     NULL|       NULL|      NULL|       NULL|    NULL|          NULL|Long Throw-in, Se...|                84|                 94|                        89|                     83|               87|             89|         81|               76|                77|                92|                   89|                   91|              87|                96|              71|              95|           95|           85|            78|              93|                  63|                     29|                   95|              82|                 85|                 95|               28|                       32|                      24|                 7|                  11|                 15|                     14|                  11|91+3|91+3|91+3|89+3|90+3|90+3|90+3|89+3|88+3|88+3|88+3|88+3|81+3|81+3|81+3|88+3|65+3|61+3|61+3|61+3|65+3|61+3|53+3|53+3|53+3|61+3|\n",
            "|   190871|https://sofifa.co...|        Neymar Jr|Neymar da Silva S...| 27|1992-02-05|      175|       68|     Brazil|Paris Saint-Germain|     92|       92|  105500000|  290000|         LW, CAM|         Right|                       5|        5|          5|  High/Medium|    Neymar|      Yes|         195200000|#Speedster, #Drib...|          CAM|                10|       NULL|2017-08-03|                2022|             LW|                  10|  91|      85|     87|       95|       32|    58|     NULL|       NULL|      NULL|       NULL|    NULL|          NULL|Power Free-Kick, ...|                87|                 87|                        62|                     87|               87|             96|         88|               87|                81|                95|                   94|                   89|              96|                92|              84|              80|           61|           81|            49|              84|                  51|                     36|                   87|              90|                 90|                 94|               27|                       26|                      29|                 9|                   9|                 15|                     15|                  11|84+3|84+3|84+3|90+3|89+3|89+3|89+3|90+3|90+3|90+3|90+3|89+3|82+3|82+3|82+3|89+3|66+3|61+3|61+3|61+3|66+3|61+3|46+3|46+3|46+3|61+3|\n",
            "|   200389|https://sofifa.co...|         J. Oblak|           Jan Oblak| 26|1993-01-07|      188|       87|   Slovenia|    Atlético Madrid|     91|       93|   77500000|  125000|              GK|         Right|                       3|        3|          1|Medium/Medium|    Normal|      Yes|         164700000|                NULL|           GK|                13|       NULL|2014-07-16|                2023|             GK|                   1|NULL|    NULL|   NULL|     NULL|     NULL|  NULL|       87|         92|        78|         89|      52|            90|Flair, Acrobatic ...|                13|                 11|                        15|                     43|               13|             12|         13|               14|                40|                30|                   43|                   60|              67|                88|              49|              59|           78|           41|            78|              12|                  34|                     19|                   11|              65|                 11|                 68|               27|                       12|                      18|                87|                  92|                 78|                     90|                  89|NULL|NULL|NULL|NULL|NULL|NULL|NULL|NULL|NULL|NULL|NULL|NULL|NULL|NULL|NULL|NULL|NULL|NULL|NULL|NULL|NULL|NULL|NULL|NULL|NULL|NULL|\n",
            "|   183277|https://sofifa.co...|        E. Hazard|         Eden Hazard| 28|1991-01-07|      175|       74|    Belgium|        Real Madrid|     91|       91|   90000000|  470000|          LW, CF|         Right|                       4|        4|          4|  High/Medium|    Normal|      Yes|         184500000|#Speedster, #Drib...|           LW|                 7|       NULL|2019-07-01|                2024|             LF|                  10|  91|      83|     86|       94|       35|    66|     NULL|       NULL|      NULL|       NULL|    NULL|          NULL|Beat Offside Trap...|                81|                 84|                        61|                     89|               83|             95|         83|               79|                83|                94|                   94|                   88|              95|                90|              94|              82|           56|           84|            63|              80|                  54|                     41|                   87|              89|                 88|                 91|               34|                       27|                      22|                11|                  12|                  6|                      8|                   8|83+3|83+3|83+3|89+3|88+3|88+3|88+3|89+3|89+3|89+3|89+3|89+3|83+3|83+3|83+3|89+3|66+3|63+3|63+3|63+3|66+3|61+3|49+3|49+3|49+3|61+3|\n",
            "+---------+--------------------+-----------------+--------------------+---+----------+---------+---------+-----------+-------------------+-------+---------+-----------+--------+----------------+--------------+------------------------+---------+-----------+-------------+----------+---------+------------------+--------------------+-------------+------------------+-----------+----------+--------------------+---------------+--------------------+----+--------+-------+---------+---------+------+---------+-----------+----------+-----------+--------+--------------+--------------------+------------------+-------------------+--------------------------+-----------------------+-----------------+---------------+-----------+-----------------+------------------+------------------+---------------------+---------------------+----------------+------------------+----------------+----------------+-------------+-------------+--------------+----------------+--------------------+-----------------------+---------------------+----------------+-------------------+-------------------+-----------------+-------------------------+------------------------+------------------+--------------------+-------------------+-----------------------+--------------------+----+----+----+----+----+----+----+----+----+----+----+----+----+----+----+----+----+----+----+----+----+----+----+----+----+----+\n",
            "only showing top 5 rows\n",
            "\n"
          ]
        }
      ]
    },
    {
      "cell_type": "code",
      "source": [
        "df_fifa.show(5)"
      ],
      "metadata": {
        "colab": {
          "base_uri": "https://localhost:8080/"
        },
        "id": "Gm2yQ6UR-UOM",
        "outputId": "9b20b0de-129c-42ce-b426-76fc4f6684a3"
      },
      "execution_count": null,
      "outputs": [
        {
          "output_type": "stream",
          "name": "stdout",
          "text": [
            "+---------+--------------------+-----------------+--------------------+---+----------+---------+---------+-----------+-------------------+-------+---------+---------+--------+----------------+--------------+------------------------+---------+-----------+-------------+----------+---------+------------------+--------------------+-------------+------------------+-----------+----------+--------------------+---------------+--------------------+----+--------+-------+---------+---------+------+---------+-----------+----------+-----------+--------+--------------+--------------------+------------------+-------------------+--------------------------+-----------------------+-----------------+---------------+-----------+-----------------+------------------+------------------+---------------------+---------------------+----------------+------------------+----------------+----------------+-------------+-------------+--------------+----------------+--------------------+-----------------------+---------------------+----------------+-------------------+-------------------+-----------------+-------------------------+------------------------+------------------+--------------------+-------------------+-----------------------+--------------------+----+----+----+----+----+----+----+----+----+----+----+----+----+----+----+----+----+----+----+----+----+----+----+----+----+----+\n",
            "|sofifa_id|          player_url|       short_name|           long_name|age|       dob|height_cm|weight_kg|nationality|               club|overall|potential|value_eur|wage_eur|player_positions|preferred_foot|international_reputation|weak_foot|skill_moves|    work_rate| body_type|real_face|release_clause_eur|         player_tags|team_position|team_jersey_number|loaned_from|    joined|contract_valid_until|nation_position|nation_jersey_number|pace|shooting|passing|dribbling|defending|physic|gk_diving|gk_handling|gk_kicking|gk_reflexes|gk_speed|gk_positioning|       player_traits|attacking_crossing|attacking_finishing|attacking_heading_accuracy|attacking_short_passing|attacking_volleys|skill_dribbling|skill_curve|skill_fk_accuracy|skill_long_passing|skill_ball_control|movement_acceleration|movement_sprint_speed|movement_agility|movement_reactions|movement_balance|power_shot_power|power_jumping|power_stamina|power_strength|power_long_shots|mentality_aggression|mentality_interceptions|mentality_positioning|mentality_vision|mentality_penalties|mentality_composure|defending_marking|defending_standing_tackle|defending_sliding_tackle|goalkeeping_diving|goalkeeping_handling|goalkeeping_kicking|goalkeeping_positioning|goalkeeping_reflexes|  ls|  st|  rs|  lw|  lf|  cf|  rf|  rw| lam| cam| ram|  lm| lcm|  cm| rcm|  rm| lwb| ldm| cdm| rdm| rwb|  lb| lcb|  cb| rcb|  rb|\n",
            "+---------+--------------------+-----------------+--------------------+---+----------+---------+---------+-----------+-------------------+-------+---------+---------+--------+----------------+--------------+------------------------+---------+-----------+-------------+----------+---------+------------------+--------------------+-------------+------------------+-----------+----------+--------------------+---------------+--------------------+----+--------+-------+---------+---------+------+---------+-----------+----------+-----------+--------+--------------+--------------------+------------------+-------------------+--------------------------+-----------------------+-----------------+---------------+-----------+-----------------+------------------+------------------+---------------------+---------------------+----------------+------------------+----------------+----------------+-------------+-------------+--------------+----------------+--------------------+-----------------------+---------------------+----------------+-------------------+-------------------+-----------------+-------------------------+------------------------+------------------+--------------------+-------------------+-----------------------+--------------------+----+----+----+----+----+----+----+----+----+----+----+----+----+----+----+----+----+----+----+----+----+----+----+----+----+----+\n",
            "|   158023|https://sofifa.co...|         L. Messi|Lionel Andrés Mes...| 32|1987-06-24|      170|       72|  Argentina|       FC Barcelona|     94|       94| 95500000|  565000|      RW, CF, ST|          Left|                       5|        4|          4|   Medium/Low|     Messi|      Yes|         195800000|#Dribbler, #Dista...|           RW|                10|       NULL|2004-07-01|                2021|           NULL|                NULL|  87|      92|     92|       96|       39|    66|     NULL|       NULL|      NULL|       NULL|    NULL|          NULL|Beat Offside Trap...|                88|                 95|                        70|                     92|               88|             97|         93|               94|                92|                96|                   91|                   84|              93|                95|              95|              86|           68|           75|            68|              94|                  48|                     40|                   94|              94|                 75|                 96|               33|                       37|                      26|                 6|                  11|                 15|                     14|                   8|89+2|89+2|89+2|93+2|93+2|93+2|93+2|93+2|93+2|93+2|93+2|92+2|87+2|87+2|87+2|92+2|68+2|66+2|66+2|66+2|68+2|63+2|52+2|52+2|52+2|63+2|\n",
            "|    20801|https://sofifa.co...|Cristiano Ronaldo|Cristiano Ronaldo...| 34|1985-02-05|      187|       83|   Portugal|           Juventus|     93|       93| 58500000|  405000|          ST, LW|         Right|                       5|        4|          5|     High/Low|C. Ronaldo|      Yes|          96500000|#Speedster, #Drib...|           LW|                 7|       NULL|2018-07-10|                2022|             LS|                   7|  90|      93|     82|       89|       35|    78|     NULL|       NULL|      NULL|       NULL|    NULL|          NULL|Long Throw-in, Se...|                84|                 94|                        89|                     83|               87|             89|         81|               76|                77|                92|                   89|                   91|              87|                96|              71|              95|           95|           85|            78|              93|                  63|                     29|                   95|              82|                 85|                 95|               28|                       32|                      24|                 7|                  11|                 15|                     14|                  11|91+3|91+3|91+3|89+3|90+3|90+3|90+3|89+3|88+3|88+3|88+3|88+3|81+3|81+3|81+3|88+3|65+3|61+3|61+3|61+3|65+3|61+3|53+3|53+3|53+3|61+3|\n",
            "|   190871|https://sofifa.co...|        Neymar Jr|Neymar da Silva S...| 27|1992-02-05|      175|       68|     Brazil|Paris Saint-Germain|     92|       92|105500000|  290000|         LW, CAM|         Right|                       5|        5|          5|  High/Medium|    Neymar|      Yes|         195200000|#Speedster, #Drib...|          CAM|                10|       NULL|2017-08-03|                2022|             LW|                  10|  91|      85|     87|       95|       32|    58|     NULL|       NULL|      NULL|       NULL|    NULL|          NULL|Power Free-Kick, ...|                87|                 87|                        62|                     87|               87|             96|         88|               87|                81|                95|                   94|                   89|              96|                92|              84|              80|           61|           81|            49|              84|                  51|                     36|                   87|              90|                 90|                 94|               27|                       26|                      29|                 9|                   9|                 15|                     15|                  11|84+3|84+3|84+3|90+3|89+3|89+3|89+3|90+3|90+3|90+3|90+3|89+3|82+3|82+3|82+3|89+3|66+3|61+3|61+3|61+3|66+3|61+3|46+3|46+3|46+3|61+3|\n",
            "|   200389|https://sofifa.co...|         J. Oblak|           Jan Oblak| 26|1993-01-07|      188|       87|   Slovenia|    Atlético Madrid|     91|       93| 77500000|  125000|              GK|         Right|                       3|        3|          1|Medium/Medium|    Normal|      Yes|         164700000|                NULL|           GK|                13|       NULL|2014-07-16|                2023|             GK|                   1|NULL|    NULL|   NULL|     NULL|     NULL|  NULL|       87|         92|        78|         89|      52|            90|Flair, Acrobatic ...|                13|                 11|                        15|                     43|               13|             12|         13|               14|                40|                30|                   43|                   60|              67|                88|              49|              59|           78|           41|            78|              12|                  34|                     19|                   11|              65|                 11|                 68|               27|                       12|                      18|                87|                  92|                 78|                     90|                  89|NULL|NULL|NULL|NULL|NULL|NULL|NULL|NULL|NULL|NULL|NULL|NULL|NULL|NULL|NULL|NULL|NULL|NULL|NULL|NULL|NULL|NULL|NULL|NULL|NULL|NULL|\n",
            "|   183277|https://sofifa.co...|        E. Hazard|         Eden Hazard| 28|1991-01-07|      175|       74|    Belgium|        Real Madrid|     91|       91| 90000000|  470000|          LW, CF|         Right|                       4|        4|          4|  High/Medium|    Normal|      Yes|         184500000|#Speedster, #Drib...|           LW|                 7|       NULL|2019-07-01|                2024|             LF|                  10|  91|      83|     86|       94|       35|    66|     NULL|       NULL|      NULL|       NULL|    NULL|          NULL|Beat Offside Trap...|                81|                 84|                        61|                     89|               83|             95|         83|               79|                83|                94|                   94|                   88|              95|                90|              94|              82|           56|           84|            63|              80|                  54|                     41|                   87|              89|                 88|                 91|               34|                       27|                      22|                11|                  12|                  6|                      8|                   8|83+3|83+3|83+3|89+3|88+3|88+3|88+3|89+3|89+3|89+3|89+3|89+3|83+3|83+3|83+3|89+3|66+3|63+3|63+3|63+3|66+3|61+3|49+3|49+3|49+3|61+3|\n",
            "+---------+--------------------+-----------------+--------------------+---+----------+---------+---------+-----------+-------------------+-------+---------+---------+--------+----------------+--------------+------------------------+---------+-----------+-------------+----------+---------+------------------+--------------------+-------------+------------------+-----------+----------+--------------------+---------------+--------------------+----+--------+-------+---------+---------+------+---------+-----------+----------+-----------+--------+--------------+--------------------+------------------+-------------------+--------------------------+-----------------------+-----------------+---------------+-----------+-----------------+------------------+------------------+---------------------+---------------------+----------------+------------------+----------------+----------------+-------------+-------------+--------------+----------------+--------------------+-----------------------+---------------------+----------------+-------------------+-------------------+-----------------+-------------------------+------------------------+------------------+--------------------+-------------------+-----------------------+--------------------+----+----+----+----+----+----+----+----+----+----+----+----+----+----+----+----+----+----+----+----+----+----+----+----+----+----+\n",
            "only showing top 5 rows\n",
            "\n"
          ]
        }
      ]
    },
    {
      "cell_type": "markdown",
      "source": [
        "Notemos que la llamada a la función no afectara al DataFrame `df_fifa`, para conservar los cambios efectuados debemos guardar la salida de la función en otro DataFrame"
      ],
      "metadata": {
        "id": "pVxbLfFbiPIz"
      }
    },
    {
      "cell_type": "code",
      "source": [
        "df_ejemplo = df_fifa.withColumnRenamed('value_eur','valor_euros')\n",
        "df_ejemplo.show(5)"
      ],
      "metadata": {
        "colab": {
          "base_uri": "https://localhost:8080/"
        },
        "id": "dhBPA2tEiLey",
        "outputId": "59b12213-c893-4fe0-dc81-5775cc3f9835"
      },
      "execution_count": null,
      "outputs": [
        {
          "output_type": "stream",
          "name": "stdout",
          "text": [
            "+---------+--------------------+-----------------+--------------------+---+----------+---------+---------+-----------+-------------------+-------+---------+-----------+--------+----------------+--------------+------------------------+---------+-----------+-------------+----------+---------+------------------+--------------------+-------------+------------------+-----------+----------+--------------------+---------------+--------------------+----+--------+-------+---------+---------+------+---------+-----------+----------+-----------+--------+--------------+--------------------+------------------+-------------------+--------------------------+-----------------------+-----------------+---------------+-----------+-----------------+------------------+------------------+---------------------+---------------------+----------------+------------------+----------------+----------------+-------------+-------------+--------------+----------------+--------------------+-----------------------+---------------------+----------------+-------------------+-------------------+-----------------+-------------------------+------------------------+------------------+--------------------+-------------------+-----------------------+--------------------+----+----+----+----+----+----+----+----+----+----+----+----+----+----+----+----+----+----+----+----+----+----+----+----+----+----+\n",
            "|sofifa_id|          player_url|       short_name|           long_name|age|       dob|height_cm|weight_kg|nationality|               club|overall|potential|valor_euros|wage_eur|player_positions|preferred_foot|international_reputation|weak_foot|skill_moves|    work_rate| body_type|real_face|release_clause_eur|         player_tags|team_position|team_jersey_number|loaned_from|    joined|contract_valid_until|nation_position|nation_jersey_number|pace|shooting|passing|dribbling|defending|physic|gk_diving|gk_handling|gk_kicking|gk_reflexes|gk_speed|gk_positioning|       player_traits|attacking_crossing|attacking_finishing|attacking_heading_accuracy|attacking_short_passing|attacking_volleys|skill_dribbling|skill_curve|skill_fk_accuracy|skill_long_passing|skill_ball_control|movement_acceleration|movement_sprint_speed|movement_agility|movement_reactions|movement_balance|power_shot_power|power_jumping|power_stamina|power_strength|power_long_shots|mentality_aggression|mentality_interceptions|mentality_positioning|mentality_vision|mentality_penalties|mentality_composure|defending_marking|defending_standing_tackle|defending_sliding_tackle|goalkeeping_diving|goalkeeping_handling|goalkeeping_kicking|goalkeeping_positioning|goalkeeping_reflexes|  ls|  st|  rs|  lw|  lf|  cf|  rf|  rw| lam| cam| ram|  lm| lcm|  cm| rcm|  rm| lwb| ldm| cdm| rdm| rwb|  lb| lcb|  cb| rcb|  rb|\n",
            "+---------+--------------------+-----------------+--------------------+---+----------+---------+---------+-----------+-------------------+-------+---------+-----------+--------+----------------+--------------+------------------------+---------+-----------+-------------+----------+---------+------------------+--------------------+-------------+------------------+-----------+----------+--------------------+---------------+--------------------+----+--------+-------+---------+---------+------+---------+-----------+----------+-----------+--------+--------------+--------------------+------------------+-------------------+--------------------------+-----------------------+-----------------+---------------+-----------+-----------------+------------------+------------------+---------------------+---------------------+----------------+------------------+----------------+----------------+-------------+-------------+--------------+----------------+--------------------+-----------------------+---------------------+----------------+-------------------+-------------------+-----------------+-------------------------+------------------------+------------------+--------------------+-------------------+-----------------------+--------------------+----+----+----+----+----+----+----+----+----+----+----+----+----+----+----+----+----+----+----+----+----+----+----+----+----+----+\n",
            "|   158023|https://sofifa.co...|         L. Messi|Lionel Andrés Mes...| 32|1987-06-24|      170|       72|  Argentina|       FC Barcelona|     94|       94|   95500000|  565000|      RW, CF, ST|          Left|                       5|        4|          4|   Medium/Low|     Messi|      Yes|         195800000|#Dribbler, #Dista...|           RW|                10|       NULL|2004-07-01|                2021|           NULL|                NULL|  87|      92|     92|       96|       39|    66|     NULL|       NULL|      NULL|       NULL|    NULL|          NULL|Beat Offside Trap...|                88|                 95|                        70|                     92|               88|             97|         93|               94|                92|                96|                   91|                   84|              93|                95|              95|              86|           68|           75|            68|              94|                  48|                     40|                   94|              94|                 75|                 96|               33|                       37|                      26|                 6|                  11|                 15|                     14|                   8|89+2|89+2|89+2|93+2|93+2|93+2|93+2|93+2|93+2|93+2|93+2|92+2|87+2|87+2|87+2|92+2|68+2|66+2|66+2|66+2|68+2|63+2|52+2|52+2|52+2|63+2|\n",
            "|    20801|https://sofifa.co...|Cristiano Ronaldo|Cristiano Ronaldo...| 34|1985-02-05|      187|       83|   Portugal|           Juventus|     93|       93|   58500000|  405000|          ST, LW|         Right|                       5|        4|          5|     High/Low|C. Ronaldo|      Yes|          96500000|#Speedster, #Drib...|           LW|                 7|       NULL|2018-07-10|                2022|             LS|                   7|  90|      93|     82|       89|       35|    78|     NULL|       NULL|      NULL|       NULL|    NULL|          NULL|Long Throw-in, Se...|                84|                 94|                        89|                     83|               87|             89|         81|               76|                77|                92|                   89|                   91|              87|                96|              71|              95|           95|           85|            78|              93|                  63|                     29|                   95|              82|                 85|                 95|               28|                       32|                      24|                 7|                  11|                 15|                     14|                  11|91+3|91+3|91+3|89+3|90+3|90+3|90+3|89+3|88+3|88+3|88+3|88+3|81+3|81+3|81+3|88+3|65+3|61+3|61+3|61+3|65+3|61+3|53+3|53+3|53+3|61+3|\n",
            "|   190871|https://sofifa.co...|        Neymar Jr|Neymar da Silva S...| 27|1992-02-05|      175|       68|     Brazil|Paris Saint-Germain|     92|       92|  105500000|  290000|         LW, CAM|         Right|                       5|        5|          5|  High/Medium|    Neymar|      Yes|         195200000|#Speedster, #Drib...|          CAM|                10|       NULL|2017-08-03|                2022|             LW|                  10|  91|      85|     87|       95|       32|    58|     NULL|       NULL|      NULL|       NULL|    NULL|          NULL|Power Free-Kick, ...|                87|                 87|                        62|                     87|               87|             96|         88|               87|                81|                95|                   94|                   89|              96|                92|              84|              80|           61|           81|            49|              84|                  51|                     36|                   87|              90|                 90|                 94|               27|                       26|                      29|                 9|                   9|                 15|                     15|                  11|84+3|84+3|84+3|90+3|89+3|89+3|89+3|90+3|90+3|90+3|90+3|89+3|82+3|82+3|82+3|89+3|66+3|61+3|61+3|61+3|66+3|61+3|46+3|46+3|46+3|61+3|\n",
            "|   200389|https://sofifa.co...|         J. Oblak|           Jan Oblak| 26|1993-01-07|      188|       87|   Slovenia|    Atlético Madrid|     91|       93|   77500000|  125000|              GK|         Right|                       3|        3|          1|Medium/Medium|    Normal|      Yes|         164700000|                NULL|           GK|                13|       NULL|2014-07-16|                2023|             GK|                   1|NULL|    NULL|   NULL|     NULL|     NULL|  NULL|       87|         92|        78|         89|      52|            90|Flair, Acrobatic ...|                13|                 11|                        15|                     43|               13|             12|         13|               14|                40|                30|                   43|                   60|              67|                88|              49|              59|           78|           41|            78|              12|                  34|                     19|                   11|              65|                 11|                 68|               27|                       12|                      18|                87|                  92|                 78|                     90|                  89|NULL|NULL|NULL|NULL|NULL|NULL|NULL|NULL|NULL|NULL|NULL|NULL|NULL|NULL|NULL|NULL|NULL|NULL|NULL|NULL|NULL|NULL|NULL|NULL|NULL|NULL|\n",
            "|   183277|https://sofifa.co...|        E. Hazard|         Eden Hazard| 28|1991-01-07|      175|       74|    Belgium|        Real Madrid|     91|       91|   90000000|  470000|          LW, CF|         Right|                       4|        4|          4|  High/Medium|    Normal|      Yes|         184500000|#Speedster, #Drib...|           LW|                 7|       NULL|2019-07-01|                2024|             LF|                  10|  91|      83|     86|       94|       35|    66|     NULL|       NULL|      NULL|       NULL|    NULL|          NULL|Beat Offside Trap...|                81|                 84|                        61|                     89|               83|             95|         83|               79|                83|                94|                   94|                   88|              95|                90|              94|              82|           56|           84|            63|              80|                  54|                     41|                   87|              89|                 88|                 91|               34|                       27|                      22|                11|                  12|                  6|                      8|                   8|83+3|83+3|83+3|89+3|88+3|88+3|88+3|89+3|89+3|89+3|89+3|89+3|83+3|83+3|83+3|89+3|66+3|63+3|63+3|63+3|66+3|61+3|49+3|49+3|49+3|61+3|\n",
            "+---------+--------------------+-----------------+--------------------+---+----------+---------+---------+-----------+-------------------+-------+---------+-----------+--------+----------------+--------------+------------------------+---------+-----------+-------------+----------+---------+------------------+--------------------+-------------+------------------+-----------+----------+--------------------+---------------+--------------------+----+--------+-------+---------+---------+------+---------+-----------+----------+-----------+--------+--------------+--------------------+------------------+-------------------+--------------------------+-----------------------+-----------------+---------------+-----------+-----------------+------------------+------------------+---------------------+---------------------+----------------+------------------+----------------+----------------+-------------+-------------+--------------+----------------+--------------------+-----------------------+---------------------+----------------+-------------------+-------------------+-----------------+-------------------------+------------------------+------------------+--------------------+-------------------+-----------------------+--------------------+----+----+----+----+----+----+----+----+----+----+----+----+----+----+----+----+----+----+----+----+----+----+----+----+----+----+\n",
            "only showing top 5 rows\n",
            "\n"
          ]
        }
      ]
    },
    {
      "cell_type": "markdown",
      "source": [
        "#### **Descartar columnas**\n",
        "\n",
        "Tambien podemos descartar columnas\n"
      ],
      "metadata": {
        "id": "VOMhIAaviWBZ"
      }
    },
    {
      "cell_type": "code",
      "source": [
        "df_fifa.drop('weight_kg').show(5)"
      ],
      "metadata": {
        "colab": {
          "base_uri": "https://localhost:8080/"
        },
        "id": "WGQ_eOGLiYp6",
        "outputId": "61cee6cd-6c59-43c9-caf4-9de3cb48f180"
      },
      "execution_count": null,
      "outputs": [
        {
          "output_type": "stream",
          "name": "stdout",
          "text": [
            "+---------+--------------------+-----------------+--------------------+---+----------+---------+-----------+-------------------+-------+---------+---------+--------+----------------+--------------+------------------------+---------+-----------+-------------+----------+---------+------------------+--------------------+-------------+------------------+-----------+----------+--------------------+---------------+--------------------+----+--------+-------+---------+---------+------+---------+-----------+----------+-----------+--------+--------------+--------------------+------------------+-------------------+--------------------------+-----------------------+-----------------+---------------+-----------+-----------------+------------------+------------------+---------------------+---------------------+----------------+------------------+----------------+----------------+-------------+-------------+--------------+----------------+--------------------+-----------------------+---------------------+----------------+-------------------+-------------------+-----------------+-------------------------+------------------------+------------------+--------------------+-------------------+-----------------------+--------------------+----+----+----+----+----+----+----+----+----+----+----+----+----+----+----+----+----+----+----+----+----+----+----+----+----+----+\n",
            "|sofifa_id|          player_url|       short_name|           long_name|age|       dob|height_cm|nationality|               club|overall|potential|value_eur|wage_eur|player_positions|preferred_foot|international_reputation|weak_foot|skill_moves|    work_rate| body_type|real_face|release_clause_eur|         player_tags|team_position|team_jersey_number|loaned_from|    joined|contract_valid_until|nation_position|nation_jersey_number|pace|shooting|passing|dribbling|defending|physic|gk_diving|gk_handling|gk_kicking|gk_reflexes|gk_speed|gk_positioning|       player_traits|attacking_crossing|attacking_finishing|attacking_heading_accuracy|attacking_short_passing|attacking_volleys|skill_dribbling|skill_curve|skill_fk_accuracy|skill_long_passing|skill_ball_control|movement_acceleration|movement_sprint_speed|movement_agility|movement_reactions|movement_balance|power_shot_power|power_jumping|power_stamina|power_strength|power_long_shots|mentality_aggression|mentality_interceptions|mentality_positioning|mentality_vision|mentality_penalties|mentality_composure|defending_marking|defending_standing_tackle|defending_sliding_tackle|goalkeeping_diving|goalkeeping_handling|goalkeeping_kicking|goalkeeping_positioning|goalkeeping_reflexes|  ls|  st|  rs|  lw|  lf|  cf|  rf|  rw| lam| cam| ram|  lm| lcm|  cm| rcm|  rm| lwb| ldm| cdm| rdm| rwb|  lb| lcb|  cb| rcb|  rb|\n",
            "+---------+--------------------+-----------------+--------------------+---+----------+---------+-----------+-------------------+-------+---------+---------+--------+----------------+--------------+------------------------+---------+-----------+-------------+----------+---------+------------------+--------------------+-------------+------------------+-----------+----------+--------------------+---------------+--------------------+----+--------+-------+---------+---------+------+---------+-----------+----------+-----------+--------+--------------+--------------------+------------------+-------------------+--------------------------+-----------------------+-----------------+---------------+-----------+-----------------+------------------+------------------+---------------------+---------------------+----------------+------------------+----------------+----------------+-------------+-------------+--------------+----------------+--------------------+-----------------------+---------------------+----------------+-------------------+-------------------+-----------------+-------------------------+------------------------+------------------+--------------------+-------------------+-----------------------+--------------------+----+----+----+----+----+----+----+----+----+----+----+----+----+----+----+----+----+----+----+----+----+----+----+----+----+----+\n",
            "|   158023|https://sofifa.co...|         L. Messi|Lionel Andrés Mes...| 32|1987-06-24|      170|  Argentina|       FC Barcelona|     94|       94| 95500000|  565000|      RW, CF, ST|          Left|                       5|        4|          4|   Medium/Low|     Messi|      Yes|         195800000|#Dribbler, #Dista...|           RW|                10|       NULL|2004-07-01|                2021|           NULL|                NULL|  87|      92|     92|       96|       39|    66|     NULL|       NULL|      NULL|       NULL|    NULL|          NULL|Beat Offside Trap...|                88|                 95|                        70|                     92|               88|             97|         93|               94|                92|                96|                   91|                   84|              93|                95|              95|              86|           68|           75|            68|              94|                  48|                     40|                   94|              94|                 75|                 96|               33|                       37|                      26|                 6|                  11|                 15|                     14|                   8|89+2|89+2|89+2|93+2|93+2|93+2|93+2|93+2|93+2|93+2|93+2|92+2|87+2|87+2|87+2|92+2|68+2|66+2|66+2|66+2|68+2|63+2|52+2|52+2|52+2|63+2|\n",
            "|    20801|https://sofifa.co...|Cristiano Ronaldo|Cristiano Ronaldo...| 34|1985-02-05|      187|   Portugal|           Juventus|     93|       93| 58500000|  405000|          ST, LW|         Right|                       5|        4|          5|     High/Low|C. Ronaldo|      Yes|          96500000|#Speedster, #Drib...|           LW|                 7|       NULL|2018-07-10|                2022|             LS|                   7|  90|      93|     82|       89|       35|    78|     NULL|       NULL|      NULL|       NULL|    NULL|          NULL|Long Throw-in, Se...|                84|                 94|                        89|                     83|               87|             89|         81|               76|                77|                92|                   89|                   91|              87|                96|              71|              95|           95|           85|            78|              93|                  63|                     29|                   95|              82|                 85|                 95|               28|                       32|                      24|                 7|                  11|                 15|                     14|                  11|91+3|91+3|91+3|89+3|90+3|90+3|90+3|89+3|88+3|88+3|88+3|88+3|81+3|81+3|81+3|88+3|65+3|61+3|61+3|61+3|65+3|61+3|53+3|53+3|53+3|61+3|\n",
            "|   190871|https://sofifa.co...|        Neymar Jr|Neymar da Silva S...| 27|1992-02-05|      175|     Brazil|Paris Saint-Germain|     92|       92|105500000|  290000|         LW, CAM|         Right|                       5|        5|          5|  High/Medium|    Neymar|      Yes|         195200000|#Speedster, #Drib...|          CAM|                10|       NULL|2017-08-03|                2022|             LW|                  10|  91|      85|     87|       95|       32|    58|     NULL|       NULL|      NULL|       NULL|    NULL|          NULL|Power Free-Kick, ...|                87|                 87|                        62|                     87|               87|             96|         88|               87|                81|                95|                   94|                   89|              96|                92|              84|              80|           61|           81|            49|              84|                  51|                     36|                   87|              90|                 90|                 94|               27|                       26|                      29|                 9|                   9|                 15|                     15|                  11|84+3|84+3|84+3|90+3|89+3|89+3|89+3|90+3|90+3|90+3|90+3|89+3|82+3|82+3|82+3|89+3|66+3|61+3|61+3|61+3|66+3|61+3|46+3|46+3|46+3|61+3|\n",
            "|   200389|https://sofifa.co...|         J. Oblak|           Jan Oblak| 26|1993-01-07|      188|   Slovenia|    Atlético Madrid|     91|       93| 77500000|  125000|              GK|         Right|                       3|        3|          1|Medium/Medium|    Normal|      Yes|         164700000|                NULL|           GK|                13|       NULL|2014-07-16|                2023|             GK|                   1|NULL|    NULL|   NULL|     NULL|     NULL|  NULL|       87|         92|        78|         89|      52|            90|Flair, Acrobatic ...|                13|                 11|                        15|                     43|               13|             12|         13|               14|                40|                30|                   43|                   60|              67|                88|              49|              59|           78|           41|            78|              12|                  34|                     19|                   11|              65|                 11|                 68|               27|                       12|                      18|                87|                  92|                 78|                     90|                  89|NULL|NULL|NULL|NULL|NULL|NULL|NULL|NULL|NULL|NULL|NULL|NULL|NULL|NULL|NULL|NULL|NULL|NULL|NULL|NULL|NULL|NULL|NULL|NULL|NULL|NULL|\n",
            "|   183277|https://sofifa.co...|        E. Hazard|         Eden Hazard| 28|1991-01-07|      175|    Belgium|        Real Madrid|     91|       91| 90000000|  470000|          LW, CF|         Right|                       4|        4|          4|  High/Medium|    Normal|      Yes|         184500000|#Speedster, #Drib...|           LW|                 7|       NULL|2019-07-01|                2024|             LF|                  10|  91|      83|     86|       94|       35|    66|     NULL|       NULL|      NULL|       NULL|    NULL|          NULL|Beat Offside Trap...|                81|                 84|                        61|                     89|               83|             95|         83|               79|                83|                94|                   94|                   88|              95|                90|              94|              82|           56|           84|            63|              80|                  54|                     41|                   87|              89|                 88|                 91|               34|                       27|                      22|                11|                  12|                  6|                      8|                   8|83+3|83+3|83+3|89+3|88+3|88+3|88+3|89+3|89+3|89+3|89+3|89+3|83+3|83+3|83+3|89+3|66+3|63+3|63+3|63+3|66+3|61+3|49+3|49+3|49+3|61+3|\n",
            "+---------+--------------------+-----------------+--------------------+---+----------+---------+-----------+-------------------+-------+---------+---------+--------+----------------+--------------+------------------------+---------+-----------+-------------+----------+---------+------------------+--------------------+-------------+------------------+-----------+----------+--------------------+---------------+--------------------+----+--------+-------+---------+---------+------+---------+-----------+----------+-----------+--------+--------------+--------------------+------------------+-------------------+--------------------------+-----------------------+-----------------+---------------+-----------+-----------------+------------------+------------------+---------------------+---------------------+----------------+------------------+----------------+----------------+-------------+-------------+--------------+----------------+--------------------+-----------------------+---------------------+----------------+-------------------+-------------------+-----------------+-------------------------+------------------------+------------------+--------------------+-------------------+-----------------------+--------------------+----+----+----+----+----+----+----+----+----+----+----+----+----+----+----+----+----+----+----+----+----+----+----+----+----+----+\n",
            "only showing top 5 rows\n",
            "\n"
          ]
        }
      ]
    },
    {
      "cell_type": "markdown",
      "source": [
        "#### **Ordenar**\n",
        "\n",
        "Podemos ordenar a los jugadores por su valor en euros"
      ],
      "metadata": {
        "id": "6jZnmqfOic7L"
      }
    },
    {
      "cell_type": "code",
      "source": [
        "df_fifa.orderBy('value_eur', ascending = False).show(5)"
      ],
      "metadata": {
        "colab": {
          "base_uri": "https://localhost:8080/"
        },
        "id": "uYSki_DvifL6",
        "outputId": "d48b95bc-5ef6-4776-abc4-9b3a07f77e72"
      },
      "execution_count": null,
      "outputs": [
        {
          "output_type": "stream",
          "name": "stdout",
          "text": [
            "+---------+--------------------+------------+--------------------+---+----------+---------+---------+-----------+-------------------+-------+---------+---------+--------+----------------+--------------+------------------------+---------+-----------+-----------+---------+---------+------------------+--------------------+-------------+------------------+-----------+----------+--------------------+---------------+--------------------+----+--------+-------+---------+---------+------+---------+-----------+----------+-----------+--------+--------------+--------------------+------------------+-------------------+--------------------------+-----------------------+-----------------+---------------+-----------+-----------------+------------------+------------------+---------------------+---------------------+----------------+------------------+----------------+----------------+-------------+-------------+--------------+----------------+--------------------+-----------------------+---------------------+----------------+-------------------+-------------------+-----------------+-------------------------+------------------------+------------------+--------------------+-------------------+-----------------------+--------------------+----+----+----+----+----+----+----+----+----+----+----+----+----+----+----+----+----+----+----+----+----+----+----+----+----+----+\n",
            "|sofifa_id|          player_url|  short_name|           long_name|age|       dob|height_cm|weight_kg|nationality|               club|overall|potential|value_eur|wage_eur|player_positions|preferred_foot|international_reputation|weak_foot|skill_moves|  work_rate|body_type|real_face|release_clause_eur|         player_tags|team_position|team_jersey_number|loaned_from|    joined|contract_valid_until|nation_position|nation_jersey_number|pace|shooting|passing|dribbling|defending|physic|gk_diving|gk_handling|gk_kicking|gk_reflexes|gk_speed|gk_positioning|       player_traits|attacking_crossing|attacking_finishing|attacking_heading_accuracy|attacking_short_passing|attacking_volleys|skill_dribbling|skill_curve|skill_fk_accuracy|skill_long_passing|skill_ball_control|movement_acceleration|movement_sprint_speed|movement_agility|movement_reactions|movement_balance|power_shot_power|power_jumping|power_stamina|power_strength|power_long_shots|mentality_aggression|mentality_interceptions|mentality_positioning|mentality_vision|mentality_penalties|mentality_composure|defending_marking|defending_standing_tackle|defending_sliding_tackle|goalkeeping_diving|goalkeeping_handling|goalkeeping_kicking|goalkeeping_positioning|goalkeeping_reflexes|  ls|  st|  rs|  lw|  lf|  cf|  rf|  rw| lam| cam| ram|  lm| lcm|  cm| rcm|  rm| lwb| ldm| cdm| rdm| rwb|  lb| lcb|  cb| rcb|  rb|\n",
            "+---------+--------------------+------------+--------------------+---+----------+---------+---------+-----------+-------------------+-------+---------+---------+--------+----------------+--------------+------------------------+---------+-----------+-----------+---------+---------+------------------+--------------------+-------------+------------------+-----------+----------+--------------------+---------------+--------------------+----+--------+-------+---------+---------+------+---------+-----------+----------+-----------+--------+--------------+--------------------+------------------+-------------------+--------------------------+-----------------------+-----------------+---------------+-----------+-----------------+------------------+------------------+---------------------+---------------------+----------------+------------------+----------------+----------------+-------------+-------------+--------------+----------------+--------------------+-----------------------+---------------------+----------------+-------------------+-------------------+-----------------+-------------------------+------------------------+------------------+--------------------+-------------------+-----------------------+--------------------+----+----+----+----+----+----+----+----+----+----+----+----+----+----+----+----+----+----+----+----+----+----+----+----+----+----+\n",
            "|   190871|https://sofifa.co...|   Neymar Jr|Neymar da Silva S...| 27|1992-02-05|      175|       68|     Brazil|Paris Saint-Germain|     92|       92|105500000|  290000|         LW, CAM|         Right|                       5|        5|          5|High/Medium|   Neymar|      Yes|         195200000|#Speedster, #Drib...|          CAM|                10|       NULL|2017-08-03|                2022|             LW|                  10|  91|      85|     87|       95|       32|    58|     NULL|       NULL|      NULL|       NULL|    NULL|          NULL|Power Free-Kick, ...|                87|                 87|                        62|                     87|               87|             96|         88|               87|                81|                95|                   94|                   89|              96|                92|              84|              80|           61|           81|            49|              84|                  51|                     36|                   87|              90|                 90|                 94|               27|                       26|                      29|                 9|                   9|                 15|                     15|                  11|84+3|84+3|84+3|90+3|89+3|89+3|89+3|90+3|90+3|90+3|90+3|89+3|82+3|82+3|82+3|89+3|66+3|61+3|61+3|61+3|66+3|61+3|46+3|46+3|46+3|61+3|\n",
            "|   158023|https://sofifa.co...|    L. Messi|Lionel Andrés Mes...| 32|1987-06-24|      170|       72|  Argentina|       FC Barcelona|     94|       94| 95500000|  565000|      RW, CF, ST|          Left|                       5|        4|          4| Medium/Low|    Messi|      Yes|         195800000|#Dribbler, #Dista...|           RW|                10|       NULL|2004-07-01|                2021|           NULL|                NULL|  87|      92|     92|       96|       39|    66|     NULL|       NULL|      NULL|       NULL|    NULL|          NULL|Beat Offside Trap...|                88|                 95|                        70|                     92|               88|             97|         93|               94|                92|                96|                   91|                   84|              93|                95|              95|              86|           68|           75|            68|              94|                  48|                     40|                   94|              94|                 75|                 96|               33|                       37|                      26|                 6|                  11|                 15|                     14|                   8|89+2|89+2|89+2|93+2|93+2|93+2|93+2|93+2|93+2|93+2|93+2|92+2|87+2|87+2|87+2|92+2|68+2|66+2|66+2|66+2|68+2|63+2|52+2|52+2|52+2|63+2|\n",
            "|   231747|https://sofifa.co...|   K. Mbappé|       Kylian Mbappé| 20|1998-12-20|      178|       73|     France|Paris Saint-Germain|     89|       95| 93500000|  155000|          ST, RW|         Right|                       3|        4|          5|   High/Low|   Normal|      Yes|         191700000|#Speedster, #Drib...|           RW|                 7|       NULL|2018-07-01|                2022|             RM|                  10|  96|      84|     78|       90|       39|    75|     NULL|       NULL|      NULL|       NULL|    NULL|          NULL|Beat Offside Trap...|                78|                 89|                        77|                     82|               79|             91|         79|               63|                70|                90|                   96|                   96|              92|                89|              83|              83|           76|           84|            76|              79|                  62|                     38|                   89|              80|                 70|                 84|               34|                       34|                      32|                13|                   5|                  7|                     11|                   6|86+3|86+3|86+3|87+3|87+3|87+3|87+3|87+3|86+3|86+3|86+3|86+3|78+3|78+3|78+3|86+3|66+3|62+3|62+3|62+3|66+3|63+3|54+3|54+3|54+3|63+3|\n",
            "|   183277|https://sofifa.co...|   E. Hazard|         Eden Hazard| 28|1991-01-07|      175|       74|    Belgium|        Real Madrid|     91|       91| 90000000|  470000|          LW, CF|         Right|                       4|        4|          4|High/Medium|   Normal|      Yes|         184500000|#Speedster, #Drib...|           LW|                 7|       NULL|2019-07-01|                2024|             LF|                  10|  91|      83|     86|       94|       35|    66|     NULL|       NULL|      NULL|       NULL|    NULL|          NULL|Beat Offside Trap...|                81|                 84|                        61|                     89|               83|             95|         83|               79|                83|                94|                   94|                   88|              95|                90|              94|              82|           56|           84|            63|              80|                  54|                     41|                   87|              89|                 88|                 91|               34|                       27|                      22|                11|                  12|                  6|                      8|                   8|83+3|83+3|83+3|89+3|88+3|88+3|88+3|89+3|89+3|89+3|89+3|89+3|83+3|83+3|83+3|89+3|66+3|63+3|63+3|63+3|66+3|61+3|49+3|49+3|49+3|61+3|\n",
            "|   192985|https://sofifa.co...|K. De Bruyne|     Kevin De Bruyne| 28|1991-06-28|      181|       70|    Belgium|    Manchester City|     91|       91| 90000000|  370000|         CAM, CM|         Right|                       4|        5|          4|  High/High|   Normal|      Yes|         166500000|#Dribbler, #Playm...|          RCM|                17|       NULL|2015-08-30|                2023|            RCM|                   7|  76|      86|     92|       86|       61|    78|     NULL|       NULL|      NULL|       NULL|    NULL|          NULL|Power Free-Kick, ...|                93|                 82|                        55|                     92|               82|             86|         85|               83|                91|                91|                   77|                   76|              78|                91|              76|              91|           63|           89|            74|              90|                  76|                     61|                   88|              94|                 79|                 91|               68|                       58|                      51|                15|                  13|                  5|                     10|                  13|82+3|82+3|82+3|87+3|87+3|87+3|87+3|87+3|88+3|88+3|88+3|88+3|87+3|87+3|87+3|88+3|77+3|77+3|77+3|77+3|77+3|73+3|66+3|66+3|66+3|73+3|\n",
            "+---------+--------------------+------------+--------------------+---+----------+---------+---------+-----------+-------------------+-------+---------+---------+--------+----------------+--------------+------------------------+---------+-----------+-----------+---------+---------+------------------+--------------------+-------------+------------------+-----------+----------+--------------------+---------------+--------------------+----+--------+-------+---------+---------+------+---------+-----------+----------+-----------+--------+--------------+--------------------+------------------+-------------------+--------------------------+-----------------------+-----------------+---------------+-----------+-----------------+------------------+------------------+---------------------+---------------------+----------------+------------------+----------------+----------------+-------------+-------------+--------------+----------------+--------------------+-----------------------+---------------------+----------------+-------------------+-------------------+-----------------+-------------------------+------------------------+------------------+--------------------+-------------------+-----------------------+--------------------+----+----+----+----+----+----+----+----+----+----+----+----+----+----+----+----+----+----+----+----+----+----+----+----+----+----+\n",
            "only showing top 5 rows\n",
            "\n"
          ]
        }
      ]
    },
    {
      "cell_type": "markdown",
      "source": [
        "#### **Filtrado con `where()`**\n",
        "\n",
        "con la funcion `where()` podemos hacer un filtrado de nuestros datos. Por ejemplo, podemos querer tener solo la informacion de los jugadores mayores a 30 años."
      ],
      "metadata": {
        "id": "zARb2ijSiibK"
      }
    },
    {
      "cell_type": "code",
      "source": [
        "df_fifa.where(df_ejemplo.age > 30).show(5)"
      ],
      "metadata": {
        "colab": {
          "base_uri": "https://localhost:8080/"
        },
        "id": "AV68dnxFik56",
        "outputId": "6e5b3795-ef92-4859-cfa0-37aafadaa208"
      },
      "execution_count": null,
      "outputs": [
        {
          "output_type": "stream",
          "name": "stdout",
          "text": [
            "+---------+--------------------+-----------------+--------------------+---+----------+---------+---------+-----------+---------------+-------+---------+---------+--------+----------------+--------------+------------------------+---------+-----------+-----------+----------+---------+------------------+--------------------+-------------+------------------+-----------+----------+--------------------+---------------+--------------------+----+--------+-------+---------+---------+------+---------+-----------+----------+-----------+--------+--------------+--------------------+------------------+-------------------+--------------------------+-----------------------+-----------------+---------------+-----------+-----------------+------------------+------------------+---------------------+---------------------+----------------+------------------+----------------+----------------+-------------+-------------+--------------+----------------+--------------------+-----------------------+---------------------+----------------+-------------------+-------------------+-----------------+-------------------------+------------------------+------------------+--------------------+-------------------+-----------------------+--------------------+----+----+----+----+----+----+----+----+----+----+----+----+----+----+----+----+----+----+----+----+----+----+----+----+----+----+\n",
            "|sofifa_id|          player_url|       short_name|           long_name|age|       dob|height_cm|weight_kg|nationality|           club|overall|potential|value_eur|wage_eur|player_positions|preferred_foot|international_reputation|weak_foot|skill_moves|  work_rate| body_type|real_face|release_clause_eur|         player_tags|team_position|team_jersey_number|loaned_from|    joined|contract_valid_until|nation_position|nation_jersey_number|pace|shooting|passing|dribbling|defending|physic|gk_diving|gk_handling|gk_kicking|gk_reflexes|gk_speed|gk_positioning|       player_traits|attacking_crossing|attacking_finishing|attacking_heading_accuracy|attacking_short_passing|attacking_volleys|skill_dribbling|skill_curve|skill_fk_accuracy|skill_long_passing|skill_ball_control|movement_acceleration|movement_sprint_speed|movement_agility|movement_reactions|movement_balance|power_shot_power|power_jumping|power_stamina|power_strength|power_long_shots|mentality_aggression|mentality_interceptions|mentality_positioning|mentality_vision|mentality_penalties|mentality_composure|defending_marking|defending_standing_tackle|defending_sliding_tackle|goalkeeping_diving|goalkeeping_handling|goalkeeping_kicking|goalkeeping_positioning|goalkeeping_reflexes|  ls|  st|  rs|  lw|  lf|  cf|  rf|  rw| lam| cam| ram|  lm| lcm|  cm| rcm|  rm| lwb| ldm| cdm| rdm| rwb|  lb| lcb|  cb| rcb|  rb|\n",
            "+---------+--------------------+-----------------+--------------------+---+----------+---------+---------+-----------+---------------+-------+---------+---------+--------+----------------+--------------+------------------------+---------+-----------+-----------+----------+---------+------------------+--------------------+-------------+------------------+-----------+----------+--------------------+---------------+--------------------+----+--------+-------+---------+---------+------+---------+-----------+----------+-----------+--------+--------------+--------------------+------------------+-------------------+--------------------------+-----------------------+-----------------+---------------+-----------+-----------------+------------------+------------------+---------------------+---------------------+----------------+------------------+----------------+----------------+-------------+-------------+--------------+----------------+--------------------+-----------------------+---------------------+----------------+-------------------+-------------------+-----------------+-------------------------+------------------------+------------------+--------------------+-------------------+-----------------------+--------------------+----+----+----+----+----+----+----+----+----+----+----+----+----+----+----+----+----+----+----+----+----+----+----+----+----+----+\n",
            "|   158023|https://sofifa.co...|         L. Messi|Lionel Andrés Mes...| 32|1987-06-24|      170|       72|  Argentina|   FC Barcelona|     94|       94| 95500000|  565000|      RW, CF, ST|          Left|                       5|        4|          4| Medium/Low|     Messi|      Yes|         195800000|#Dribbler, #Dista...|           RW|                10|       NULL|2004-07-01|                2021|           NULL|                NULL|  87|      92|     92|       96|       39|    66|     NULL|       NULL|      NULL|       NULL|    NULL|          NULL|Beat Offside Trap...|                88|                 95|                        70|                     92|               88|             97|         93|               94|                92|                96|                   91|                   84|              93|                95|              95|              86|           68|           75|            68|              94|                  48|                     40|                   94|              94|                 75|                 96|               33|                       37|                      26|                 6|                  11|                 15|                     14|                   8|89+2|89+2|89+2|93+2|93+2|93+2|93+2|93+2|93+2|93+2|93+2|92+2|87+2|87+2|87+2|92+2|68+2|66+2|66+2|66+2|68+2|63+2|52+2|52+2|52+2|63+2|\n",
            "|    20801|https://sofifa.co...|Cristiano Ronaldo|Cristiano Ronaldo...| 34|1985-02-05|      187|       83|   Portugal|       Juventus|     93|       93| 58500000|  405000|          ST, LW|         Right|                       5|        4|          5|   High/Low|C. Ronaldo|      Yes|          96500000|#Speedster, #Drib...|           LW|                 7|       NULL|2018-07-10|                2022|             LS|                   7|  90|      93|     82|       89|       35|    78|     NULL|       NULL|      NULL|       NULL|    NULL|          NULL|Long Throw-in, Se...|                84|                 94|                        89|                     83|               87|             89|         81|               76|                77|                92|                   89|                   91|              87|                96|              71|              95|           95|           85|            78|              93|                  63|                     29|                   95|              82|                 85|                 95|               28|                       32|                      24|                 7|                  11|                 15|                     14|                  11|91+3|91+3|91+3|89+3|90+3|90+3|90+3|89+3|88+3|88+3|88+3|88+3|81+3|81+3|81+3|88+3|65+3|61+3|61+3|61+3|65+3|61+3|53+3|53+3|53+3|61+3|\n",
            "|   177003|https://sofifa.co...|        L. Modrić|         Luka Modrić| 33|1985-09-09|      172|       66|    Croatia|    Real Madrid|     90|       90| 45000000|  340000|              CM|         Right|                       4|        4|          4|  High/High|      Lean|      Yes|          92300000|#Dribbler, #Playm...|          RCM|                10|       NULL|2012-08-01|                2020|           NULL|                NULL|  74|      76|     89|       89|       72|    66|     NULL|       NULL|      NULL|       NULL|    NULL|          NULL|Argues with Offic...|                86|                 72|                        55|                     92|               76|             87|         85|               78|                88|                92|                   77|                   71|              92|                89|              93|              79|           68|           85|            58|              82|                  62|                     82|                   79|              91|                 82|                 92|               68|                       76|                      71|                13|                   9|                  7|                     14|                   9|77+3|77+3|77+3|84+3|83+3|83+3|83+3|84+3|86+3|86+3|86+3|85+3|87+3|87+3|87+3|85+3|81+3|81+3|81+3|81+3|81+3|79+3|72+3|72+3|72+3|79+3|\n",
            "|   138956|https://sofifa.co...|     G. Chiellini|   Giorgio Chiellini| 34|1984-08-14|      187|       85|      Italy|       Juventus|     89|       89| 24500000|  215000|              CB|          Left|                       4|        3|          2|Medium/High|    Normal|      Yes|          40400000|#Tackling , #Tact...|          LCB|                 3|       NULL|2005-07-01|                2020|            LCB|                   3|  68|      46|     58|       60|       90|    82|     NULL|       NULL|      NULL|       NULL|    NULL|          NULL|Inflexible, Power...|                54|                 33|                        83|                     65|               45|             59|         60|               31|                65|                61|                   61|                   73|              57|                82|              57|              78|           89|           59|            89|              49|                  91|                     88|                   28|              50|                 50|                 84|               94|                       91|                      89|                 3|                   3|                  2|                      4|                   3|58+3|58+3|58+3|55+3|56+3|56+3|56+3|55+3|56+3|56+3|56+3|57+3|62+3|62+3|62+3|57+3|73+3|77+3|77+3|77+3|73+3|76+3|86+3|86+3|86+3|76+3|\n",
            "|   153079|https://sofifa.co...|        S. Agüero|Sergio Leonel Agü...| 31|1988-06-02|      173|       70|  Argentina|Manchester City|     89|       89| 60000000|  300000|              ST|         Right|                       4|        4|          4|High/Medium|    Stocky|      Yes|         111000000|#Dribbler, #Clini...|           ST|                10|       NULL|2011-07-28|                2021|             ST|                   9|  80|      90|     77|       88|       33|    74|     NULL|       NULL|      NULL|       NULL|    NULL|          NULL|Avoids Using Weak...|                70|                 93|                        78|                     83|               85|             88|         83|               73|                64|                89|                   82|                   78|              84|                92|              91|              89|           81|           79|            74|              84|                  65|                     24|                   93|              83|                 83|                 90|               30|                       29|                      24|                13|                  15|                  6|                     11|                  14|87+3|87+3|87+3|85+3|87+3|87+3|87+3|85+3|85+3|85+3|85+3|83+3|77+3|77+3|77+3|83+3|60+3|58+3|58+3|58+3|60+3|56+3|50+3|50+3|50+3|56+3|\n",
            "+---------+--------------------+-----------------+--------------------+---+----------+---------+---------+-----------+---------------+-------+---------+---------+--------+----------------+--------------+------------------------+---------+-----------+-----------+----------+---------+------------------+--------------------+-------------+------------------+-----------+----------+--------------------+---------------+--------------------+----+--------+-------+---------+---------+------+---------+-----------+----------+-----------+--------+--------------+--------------------+------------------+-------------------+--------------------------+-----------------------+-----------------+---------------+-----------+-----------------+------------------+------------------+---------------------+---------------------+----------------+------------------+----------------+----------------+-------------+-------------+--------------+----------------+--------------------+-----------------------+---------------------+----------------+-------------------+-------------------+-----------------+-------------------------+------------------------+------------------+--------------------+-------------------+-----------------------+--------------------+----+----+----+----+----+----+----+----+----+----+----+----+----+----+----+----+----+----+----+----+----+----+----+----+----+----+\n",
            "only showing top 5 rows\n",
            "\n"
          ]
        }
      ]
    },
    {
      "cell_type": "markdown",
      "source": [
        "tal vez quisieramos solo ver la informacion de los jugadores del Liverpool que tuviera mas de 30 años de edad."
      ],
      "metadata": {
        "id": "9VnwBi7JiqN6"
      }
    },
    {
      "cell_type": "code",
      "source": [
        "df_fifa.where((df_ejemplo.age > 30) & (df_ejemplo.club == 'Liverpool')).show(10)"
      ],
      "metadata": {
        "colab": {
          "base_uri": "https://localhost:8080/"
        },
        "id": "DO8t3wNWipJD",
        "outputId": "7b513169-7e97-41a4-e57f-b019c11a3a89"
      },
      "execution_count": null,
      "outputs": [
        {
          "output_type": "stream",
          "name": "stdout",
          "text": [
            "+---------+--------------------+-----------+--------------------+---+----------+---------+---------+-----------+---------+-------+---------+---------+--------+----------------+--------------+------------------------+---------+-----------+-------------+---------+---------+------------------+-----------------+-------------+------------------+-----------+----------+--------------------+---------------+--------------------+----+--------+-------+---------+---------+------+---------+-----------+----------+-----------+--------+--------------+--------------------+------------------+-------------------+--------------------------+-----------------------+-----------------+---------------+-----------+-----------------+------------------+------------------+---------------------+---------------------+----------------+------------------+----------------+----------------+-------------+-------------+--------------+----------------+--------------------+-----------------------+---------------------+----------------+-------------------+-------------------+-----------------+-------------------------+------------------------+------------------+--------------------+-------------------+-----------------------+--------------------+----+----+----+----+----+----+----+----+----+----+----+----+----+----+----+----+----+----+----+----+----+----+----+----+----+----+\n",
            "|sofifa_id|          player_url| short_name|           long_name|age|       dob|height_cm|weight_kg|nationality|     club|overall|potential|value_eur|wage_eur|player_positions|preferred_foot|international_reputation|weak_foot|skill_moves|    work_rate|body_type|real_face|release_clause_eur|      player_tags|team_position|team_jersey_number|loaned_from|    joined|contract_valid_until|nation_position|nation_jersey_number|pace|shooting|passing|dribbling|defending|physic|gk_diving|gk_handling|gk_kicking|gk_reflexes|gk_speed|gk_positioning|       player_traits|attacking_crossing|attacking_finishing|attacking_heading_accuracy|attacking_short_passing|attacking_volleys|skill_dribbling|skill_curve|skill_fk_accuracy|skill_long_passing|skill_ball_control|movement_acceleration|movement_sprint_speed|movement_agility|movement_reactions|movement_balance|power_shot_power|power_jumping|power_stamina|power_strength|power_long_shots|mentality_aggression|mentality_interceptions|mentality_positioning|mentality_vision|mentality_penalties|mentality_composure|defending_marking|defending_standing_tackle|defending_sliding_tackle|goalkeeping_diving|goalkeeping_handling|goalkeeping_kicking|goalkeeping_positioning|goalkeeping_reflexes|  ls|  st|  rs|  lw|  lf|  cf|  rf|  rw| lam| cam| ram|  lm| lcm|  cm| rcm|  rm| lwb| ldm| cdm| rdm| rwb|  lb| lcb|  cb| rcb|  rb|\n",
            "+---------+--------------------+-----------+--------------------+---+----------+---------+---------+-----------+---------+-------+---------+---------+--------+----------------+--------------+------------------------+---------+-----------+-------------+---------+---------+------------------+-----------------+-------------+------------------+-----------+----------+--------------------+---------------+--------------------+----+--------+-------+---------+---------+------+---------+-----------+----------+-----------+--------+--------------+--------------------+------------------+-------------------+--------------------------+-----------------------+-----------------+---------------+-----------+-----------------+------------------+------------------+---------------------+---------------------+----------------+------------------+----------------+----------------+-------------+-------------+--------------+----------------+--------------------+-----------------------+---------------------+----------------+-------------------+-------------------+-----------------+-------------------------+------------------------+------------------+--------------------+-------------------+-----------------------+--------------------+----+----+----+----+----+----+----+----+----+----+----+----+----+----+----+----+----+----+----+----+----+----+----+----+----+----+\n",
            "|   138412|https://sofifa.co...|  J. Milner| James Philip Milner| 33|1986-01-04|      175|       70|    England|Liverpool|     81|       81| 10500000|  105000|          CM, LB|         Right|                       2|        4|          3|    High/High|   Stocky|      Yes|          19400000|#Engine, #Crosser|          SUB|                 7|       NULL|2015-07-01|                2020|           NULL|                NULL|  61|      70|     82|       77|       77|    78|     NULL|       NULL|      NULL|       NULL|    NULL|          NULL|Diver, Giant Thro...|                86|                 62|                        66|                     84|               76|             77|         81|               75|                81|                80|                   63|                   59|              69|                84|              73|              82|           62|           90|            70|              70|                  85|                     79|                   72|              79|                 88|                 86|               77|                       80|                      79|                12|                   9|                 10|                      8|                   6|72+2|72+2|72+2|74+2|74+2|74+2|74+2|74+2|76+2|76+2|76+2|77+2|80+2|80+2|80+2|77+2|79+2|80+2|80+2|80+2|79+2|78+2|76+2|76+2|76+2|78+2|\n",
            "|   180819|https://sofifa.co...| A. Lallana|  Adam David Lallana| 31|1988-05-10|      178|       73|    England|Liverpool|     79|       79| 11000000|   89000|              CM|         Right|                       3|        5|          4|    High/High|     Lean|      Yes|          20400000|             NULL|          SUB|                20|       NULL|2014-07-01|                2021|           NULL|                NULL|  67|      71|     79|       82|       62|    65|     NULL|       NULL|      NULL|       NULL|    NULL|          NULL|Power Free-Kick, ...|                74|                 70|                        67|                     83|               72|             83|         77|               66|                75|                84|                   69|                   65|              78|                74|              75|              72|           70|           67|            60|              71|                  76|                     63|                   74|              82|                 70|                 80|               61|                       62|                      62|                 6|                  15|                 14|                      8|                  11|72+3|72+3|72+3|76+3|76+3|76+3|76+3|76+3|78+3|78+3|78+3|76+3|76+3|76+3|76+3|76+3|70+3|71+3|71+3|71+3|70+3|68+3|66+3|66+3|66+3|68+3|\n",
            "|   194911|https://sofifa.co...|     Adrián|Adrián San Miguel...| 32|1987-01-03|      190|       80|      Spain|Liverpool|     76|       76|  4700000|   52000|              GK|         Right|                       2|        2|          1|Medium/Medium|   Normal|      Yes|           8700000|             NULL|          SUB|                13|       NULL|2019-08-05|                2021|           NULL|                NULL|NULL|    NULL|   NULL|     NULL|     NULL|  NULL|       79|         72|        68|         80|      45|            72|        Flair Passes|                12|                 16|                        15|                     21|               12|             15|         12|               17|                32|                23|                   46|                   44|              53|                71|              48|              51|           69|           38|            63|              20|                  38|                     25|                   12|              32|                 44|                 59|               18|                       19|                      14|                79|                  72|                 68|                     72|                  80|NULL|NULL|NULL|NULL|NULL|NULL|NULL|NULL|NULL|NULL|NULL|NULL|NULL|NULL|NULL|NULL|NULL|NULL|NULL|NULL|NULL|NULL|NULL|NULL|NULL|NULL|\n",
            "|   118794|https://sofifa.co...|A. Lonergan|     Andrew Lonergan| 35|1983-10-19|      192|       87|    England|Liverpool|     65|       65|   150000|    8000|              GK|          Left|                       1|        1|          1|Medium/Medium|   Normal|       No|            278000|             NULL|          RES|                22|       NULL|2019-08-12|                2024|           NULL|                NULL|NULL|    NULL|   NULL|     NULL|     NULL|  NULL|       65|         62|        52|         67|      41|            65|                NULL|                12|                 14|                        15|                     29|               15|             11|         12|               14|                27|                24|                   40|                   41|              50|                65|              42|              39|           66|           28|            56|              13|                  28|                     12|                    8|              32|                 16|                 30|               14|                       15|                      14|                65|                  62|                 52|                     65|                  67|NULL|NULL|NULL|NULL|NULL|NULL|NULL|NULL|NULL|NULL|NULL|NULL|NULL|NULL|NULL|NULL|NULL|NULL|NULL|NULL|NULL|NULL|NULL|NULL|NULL|NULL|\n",
            "+---------+--------------------+-----------+--------------------+---+----------+---------+---------+-----------+---------+-------+---------+---------+--------+----------------+--------------+------------------------+---------+-----------+-------------+---------+---------+------------------+-----------------+-------------+------------------+-----------+----------+--------------------+---------------+--------------------+----+--------+-------+---------+---------+------+---------+-----------+----------+-----------+--------+--------------+--------------------+------------------+-------------------+--------------------------+-----------------------+-----------------+---------------+-----------+-----------------+------------------+------------------+---------------------+---------------------+----------------+------------------+----------------+----------------+-------------+-------------+--------------+----------------+--------------------+-----------------------+---------------------+----------------+-------------------+-------------------+-----------------+-------------------------+------------------------+------------------+--------------------+-------------------+-----------------------+--------------------+----+----+----+----+----+----+----+----+----+----+----+----+----+----+----+----+----+----+----+----+----+----+----+----+----+----+\n",
            "\n"
          ]
        }
      ]
    },
    {
      "cell_type": "markdown",
      "source": [
        "Si quisieramos usar más de una función de agregación tendriamos que hacer lo siguiente."
      ],
      "metadata": {
        "id": "mAdxCo7Yi13z"
      }
    },
    {
      "cell_type": "code",
      "source": [
        "df_fifa.groupBy('club') \\\n",
        "  .agg(sum('value_eur').alias('valor_total'), \\\n",
        "       mean('age').alias('edad_promedio'))\\\n",
        "  .orderBy('valor_total', ascending = False) \\\n",
        "  .show(5)"
      ],
      "metadata": {
        "colab": {
          "base_uri": "https://localhost:8080/"
        },
        "id": "w4F3WVK1i4IS",
        "outputId": "cf6a21b9-8cae-4996-a500-12b5aaed1e0c"
      },
      "execution_count": null,
      "outputs": [
        {
          "output_type": "stream",
          "name": "stdout",
          "text": [
            "+---------------+-----------+------------------+\n",
            "|           club|valor_total|     edad_promedio|\n",
            "+---------------+-----------+------------------+\n",
            "|    Real Madrid|  897850000| 24.90909090909091|\n",
            "|   FC Barcelona|  869300000|24.060606060606062|\n",
            "|Manchester City|  845745000|24.333333333333332|\n",
            "|       Juventus|  735475000|              27.0|\n",
            "|      Liverpool|  693265000|24.484848484848484|\n",
            "+---------------+-----------+------------------+\n",
            "only showing top 5 rows\n",
            "\n"
          ]
        }
      ]
    },
    {
      "cell_type": "markdown",
      "source": [
        "#### **Crear nuevas columnas**\n",
        "\n",
        "Podemos crear columnas a partir de los valores de otras, por ejemplo, podríamos querer obtener el valor de los jugadores en pesos colombianos (1 EUR = 4390 COP)."
      ],
      "metadata": {
        "id": "yBKqnTldi887"
      }
    },
    {
      "cell_type": "code",
      "source": [
        "#df_fifa.withColumn('valor_pesos', df_fifa.value_eur * 4390).show(5)\n",
        "df_fifa.withColumn('valor_pesos', df_fifa.value_eur.cast('float')*43900).show(5)"
      ],
      "metadata": {
        "colab": {
          "base_uri": "https://localhost:8080/"
        },
        "id": "8Bp6CTZ1i-ey",
        "outputId": "619da0dd-21dc-4fa4-b27e-cd4bf3818fe5"
      },
      "execution_count": null,
      "outputs": [
        {
          "output_type": "stream",
          "name": "stdout",
          "text": [
            "+---------+--------------------+-----------------+--------------------+---+----------+---------+---------+-----------+-------------------+-------+---------+---------+--------+----------------+--------------+------------------------+---------+-----------+-------------+----------+---------+------------------+--------------------+-------------+------------------+-----------+----------+--------------------+---------------+--------------------+----+--------+-------+---------+---------+------+---------+-----------+----------+-----------+--------+--------------+--------------------+------------------+-------------------+--------------------------+-----------------------+-----------------+---------------+-----------+-----------------+------------------+------------------+---------------------+---------------------+----------------+------------------+----------------+----------------+-------------+-------------+--------------+----------------+--------------------+-----------------------+---------------------+----------------+-------------------+-------------------+-----------------+-------------------------+------------------------+------------------+--------------------+-------------------+-----------------------+--------------------+----+----+----+----+----+----+----+----+----+----+----+----+----+----+----+----+----+----+----+----+----+----+----+----+----+----+-------------+\n",
            "|sofifa_id|          player_url|       short_name|           long_name|age|       dob|height_cm|weight_kg|nationality|               club|overall|potential|value_eur|wage_eur|player_positions|preferred_foot|international_reputation|weak_foot|skill_moves|    work_rate| body_type|real_face|release_clause_eur|         player_tags|team_position|team_jersey_number|loaned_from|    joined|contract_valid_until|nation_position|nation_jersey_number|pace|shooting|passing|dribbling|defending|physic|gk_diving|gk_handling|gk_kicking|gk_reflexes|gk_speed|gk_positioning|       player_traits|attacking_crossing|attacking_finishing|attacking_heading_accuracy|attacking_short_passing|attacking_volleys|skill_dribbling|skill_curve|skill_fk_accuracy|skill_long_passing|skill_ball_control|movement_acceleration|movement_sprint_speed|movement_agility|movement_reactions|movement_balance|power_shot_power|power_jumping|power_stamina|power_strength|power_long_shots|mentality_aggression|mentality_interceptions|mentality_positioning|mentality_vision|mentality_penalties|mentality_composure|defending_marking|defending_standing_tackle|defending_sliding_tackle|goalkeeping_diving|goalkeeping_handling|goalkeeping_kicking|goalkeeping_positioning|goalkeeping_reflexes|  ls|  st|  rs|  lw|  lf|  cf|  rf|  rw| lam| cam| ram|  lm| lcm|  cm| rcm|  rm| lwb| ldm| cdm| rdm| rwb|  lb| lcb|  cb| rcb|  rb|  valor_pesos|\n",
            "+---------+--------------------+-----------------+--------------------+---+----------+---------+---------+-----------+-------------------+-------+---------+---------+--------+----------------+--------------+------------------------+---------+-----------+-------------+----------+---------+------------------+--------------------+-------------+------------------+-----------+----------+--------------------+---------------+--------------------+----+--------+-------+---------+---------+------+---------+-----------+----------+-----------+--------+--------------+--------------------+------------------+-------------------+--------------------------+-----------------------+-----------------+---------------+-----------+-----------------+------------------+------------------+---------------------+---------------------+----------------+------------------+----------------+----------------+-------------+-------------+--------------+----------------+--------------------+-----------------------+---------------------+----------------+-------------------+-------------------+-----------------+-------------------------+------------------------+------------------+--------------------+-------------------+-----------------------+--------------------+----+----+----+----+----+----+----+----+----+----+----+----+----+----+----+----+----+----+----+----+----+----+----+----+----+----+-------------+\n",
            "|   158023|https://sofifa.co...|         L. Messi|Lionel Andrés Mes...| 32|1987-06-24|      170|       72|  Argentina|       FC Barcelona|     94|       94| 95500000|  565000|      RW, CF, ST|          Left|                       5|        4|          4|   Medium/Low|     Messi|      Yes|         195800000|#Dribbler, #Dista...|           RW|                10|       NULL|2004-07-01|                2021|           NULL|                NULL|  87|      92|     92|       96|       39|    66|     NULL|       NULL|      NULL|       NULL|    NULL|          NULL|Beat Offside Trap...|                88|                 95|                        70|                     92|               88|             97|         93|               94|                92|                96|                   91|                   84|              93|                95|              95|              86|           68|           75|            68|              94|                  48|                     40|                   94|              94|                 75|                 96|               33|                       37|                      26|                 6|                  11|                 15|                     14|                   8|89+2|89+2|89+2|93+2|93+2|93+2|93+2|93+2|93+2|93+2|93+2|92+2|87+2|87+2|87+2|92+2|68+2|66+2|66+2|66+2|68+2|63+2|52+2|52+2|52+2|63+2|4.19245012E12|\n",
            "|    20801|https://sofifa.co...|Cristiano Ronaldo|Cristiano Ronaldo...| 34|1985-02-05|      187|       83|   Portugal|           Juventus|     93|       93| 58500000|  405000|          ST, LW|         Right|                       5|        4|          5|     High/Low|C. Ronaldo|      Yes|          96500000|#Speedster, #Drib...|           LW|                 7|       NULL|2018-07-10|                2022|             LS|                   7|  90|      93|     82|       89|       35|    78|     NULL|       NULL|      NULL|       NULL|    NULL|          NULL|Long Throw-in, Se...|                84|                 94|                        89|                     83|               87|             89|         81|               76|                77|                92|                   89|                   91|              87|                96|              71|              95|           95|           85|            78|              93|                  63|                     29|                   95|              82|                 85|                 95|               28|                       32|                      24|                 7|                  11|                 15|                     14|                  11|91+3|91+3|91+3|89+3|90+3|90+3|90+3|89+3|88+3|88+3|88+3|88+3|81+3|81+3|81+3|88+3|65+3|61+3|61+3|61+3|65+3|61+3|53+3|53+3|53+3|61+3|2.56815006E12|\n",
            "|   190871|https://sofifa.co...|        Neymar Jr|Neymar da Silva S...| 27|1992-02-05|      175|       68|     Brazil|Paris Saint-Germain|     92|       92|105500000|  290000|         LW, CAM|         Right|                       5|        5|          5|  High/Medium|    Neymar|      Yes|         195200000|#Speedster, #Drib...|          CAM|                10|       NULL|2017-08-03|                2022|             LW|                  10|  91|      85|     87|       95|       32|    58|     NULL|       NULL|      NULL|       NULL|    NULL|          NULL|Power Free-Kick, ...|                87|                 87|                        62|                     87|               87|             96|         88|               87|                81|                95|                   94|                   89|              96|                92|              84|              80|           61|           81|            49|              84|                  51|                     36|                   87|              90|                 90|                 94|               27|                       26|                      29|                 9|                   9|                 15|                     15|                  11|84+3|84+3|84+3|90+3|89+3|89+3|89+3|90+3|90+3|90+3|90+3|89+3|82+3|82+3|82+3|89+3|66+3|61+3|61+3|61+3|66+3|61+3|46+3|46+3|46+3|61+3| 4.6314501E12|\n",
            "|   200389|https://sofifa.co...|         J. Oblak|           Jan Oblak| 26|1993-01-07|      188|       87|   Slovenia|    Atlético Madrid|     91|       93| 77500000|  125000|              GK|         Right|                       3|        3|          1|Medium/Medium|    Normal|      Yes|         164700000|                NULL|           GK|                13|       NULL|2014-07-16|                2023|             GK|                   1|NULL|    NULL|   NULL|     NULL|     NULL|  NULL|       87|         92|        78|         89|      52|            90|Flair, Acrobatic ...|                13|                 11|                        15|                     43|               13|             12|         13|               14|                40|                30|                   43|                   60|              67|                88|              49|              59|           78|           41|            78|              12|                  34|                     19|                   11|              65|                 11|                 68|               27|                       12|                      18|                87|                  92|                 78|                     90|                  89|NULL|NULL|NULL|NULL|NULL|NULL|NULL|NULL|NULL|NULL|NULL|NULL|NULL|NULL|NULL|NULL|NULL|NULL|NULL|NULL|NULL|NULL|NULL|NULL|NULL|NULL|3.40225006E12|\n",
            "|   183277|https://sofifa.co...|        E. Hazard|         Eden Hazard| 28|1991-01-07|      175|       74|    Belgium|        Real Madrid|     91|       91| 90000000|  470000|          LW, CF|         Right|                       4|        4|          4|  High/Medium|    Normal|      Yes|         184500000|#Speedster, #Drib...|           LW|                 7|       NULL|2019-07-01|                2024|             LF|                  10|  91|      83|     86|       94|       35|    66|     NULL|       NULL|      NULL|       NULL|    NULL|          NULL|Beat Offside Trap...|                81|                 84|                        61|                     89|               83|             95|         83|               79|                83|                94|                   94|                   88|              95|                90|              94|              82|           56|           84|            63|              80|                  54|                     41|                   87|              89|                 88|                 91|               34|                       27|                      22|                11|                  12|                  6|                      8|                   8|83+3|83+3|83+3|89+3|88+3|88+3|88+3|89+3|89+3|89+3|89+3|89+3|83+3|83+3|83+3|89+3|66+3|63+3|63+3|63+3|66+3|61+3|49+3|49+3|49+3|61+3|3.95100003E12|\n",
            "+---------+--------------------+-----------------+--------------------+---+----------+---------+---------+-----------+-------------------+-------+---------+---------+--------+----------------+--------------+------------------------+---------+-----------+-------------+----------+---------+------------------+--------------------+-------------+------------------+-----------+----------+--------------------+---------------+--------------------+----+--------+-------+---------+---------+------+---------+-----------+----------+-----------+--------+--------------+--------------------+------------------+-------------------+--------------------------+-----------------------+-----------------+---------------+-----------+-----------------+------------------+------------------+---------------------+---------------------+----------------+------------------+----------------+----------------+-------------+-------------+--------------+----------------+--------------------+-----------------------+---------------------+----------------+-------------------+-------------------+-----------------+-------------------------+------------------------+------------------+--------------------+-------------------+-----------------------+--------------------+----+----+----+----+----+----+----+----+----+----+----+----+----+----+----+----+----+----+----+----+----+----+----+----+----+----+-------------+\n",
            "only showing top 5 rows\n",
            "\n"
          ]
        }
      ]
    },
    {
      "cell_type": "markdown",
      "source": [
        "## 1.3. Introducción a consultas SQL\n",
        "\n",
        "El lector que esté familiarizado con SQL habrá notado que existe cierta similaridad entre las funciones de los DataFrames de PySpark con algunas sentencias de SQL. Este paralelismo llega a tal grado que podemos reemplazar la concatenación de varias funciones con una simple consulta SQL. Por ejemplo, si quisieramos consultar de nuevo cuales son los 5 equipos más caros, solo que esta vez haciendo una consulta SQL, haríamos los siguiente."
      ],
      "metadata": {
        "id": "OsSVaiLLjDji"
      }
    },
    {
      "cell_type": "code",
      "source": [
        "# Le dice a spark que guarde este DataFrame como una tabla SQL\n",
        "df_fifa.createOrReplaceTempView('FIFA20')\n",
        "\n",
        "consulta = '''\n",
        "  SELECT club, SUM(value_eur) AS valor_total\n",
        "  FROM FIFA20\n",
        "  GROUP BY club\n",
        "  ORDER BY valor_total DESC\n",
        "  '''\n",
        "\n",
        "spark.sql(consulta).show(5)"
      ],
      "metadata": {
        "colab": {
          "base_uri": "https://localhost:8080/"
        },
        "id": "qtcV84GsjJha",
        "outputId": "de75638b-82f6-4d0e-9c15-7b94fbe3a18f"
      },
      "execution_count": null,
      "outputs": [
        {
          "output_type": "stream",
          "name": "stdout",
          "text": [
            "+---------------+-----------+\n",
            "|           club|valor_total|\n",
            "+---------------+-----------+\n",
            "|    Real Madrid|  897850000|\n",
            "|   FC Barcelona|  869300000|\n",
            "|Manchester City|  845745000|\n",
            "|       Juventus|  735475000|\n",
            "|      Liverpool|  693265000|\n",
            "+---------------+-----------+\n",
            "only showing top 5 rows\n",
            "\n"
          ]
        }
      ]
    }
  ]
}